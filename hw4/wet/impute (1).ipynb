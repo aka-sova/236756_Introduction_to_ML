{
  "nbformat": 4,
  "nbformat_minor": 0,
  "metadata": {
    "colab": {
      "name": "impute.ipynb",
      "provenance": [],
      "collapsed_sections": []
    },
    "kernelspec": {
      "name": "python3",
      "display_name": "Python 3"
    }
  },
  "cells": [
    {
      "cell_type": "code",
      "metadata": {
        "id": "Cu0RcPS3MSgM"
      },
      "source": [
        "import numpy as np\r\n",
        "import pandas as pd\r\n",
        "from sklearn.datasets import load_iris\r\n",
        "from sklearn.impute import SimpleImputer, MissingIndicator\r\n",
        "from sklearn.model_selection import train_test_split\r\n",
        "from sklearn.pipeline import FeatureUnion, make_pipeline\r\n",
        "from sklearn.tree import DecisionTreeClassifier\r\n",
        "from sklearn.impute import KNNImputer\r\n",
        "\r\n",
        "X = pd.read_csv( 'protein.csv' ) \r\n",
        "X = X.drop(['ID'], axis=1)\r\n",
        "imputer = KNNImputer(n_neighbors=3)\r\n",
        "X = imputer.fit_transform(X)"
      ],
      "execution_count": 62,
      "outputs": []
    },
    {
      "cell_type": "code",
      "metadata": {
        "colab": {
          "base_uri": "https://localhost:8080/",
          "height": 402
        },
        "id": "WejSEfLLMo_7",
        "outputId": "39209d0c-48a7-41fb-d67a-c4212e9285ff"
      },
      "source": [
        "X=pd.DataFrame(X)\r\n",
        "#from sklearn.preprocessing import StandardScaler\r\n",
        "#scaler = StandardScaler()\r\n",
        "#X= scaler.fit_transform(X)\r\n",
        "#X=pd.DataFrame(X)\r\n",
        "X"
      ],
      "execution_count": 86,
      "outputs": [
        {
          "output_type": "execute_result",
          "data": {
            "text/html": [
              "<div>\n",
              "<style scoped>\n",
              "    .dataframe tbody tr th:only-of-type {\n",
              "        vertical-align: middle;\n",
              "    }\n",
              "\n",
              "    .dataframe tbody tr th {\n",
              "        vertical-align: top;\n",
              "    }\n",
              "\n",
              "    .dataframe thead th {\n",
              "        text-align: right;\n",
              "    }\n",
              "</style>\n",
              "<table border=\"1\" class=\"dataframe\">\n",
              "  <thead>\n",
              "    <tr style=\"text-align: right;\">\n",
              "      <th></th>\n",
              "      <th>0</th>\n",
              "      <th>1</th>\n",
              "      <th>2</th>\n",
              "      <th>3</th>\n",
              "      <th>4</th>\n",
              "      <th>5</th>\n",
              "      <th>6</th>\n",
              "      <th>7</th>\n",
              "      <th>8</th>\n",
              "      <th>9</th>\n",
              "    </tr>\n",
              "  </thead>\n",
              "  <tbody>\n",
              "    <tr>\n",
              "      <th>1</th>\n",
              "      <td>0.772735</td>\n",
              "      <td>-0.961301</td>\n",
              "      <td>1.639747</td>\n",
              "      <td>-2.108846</td>\n",
              "      <td>0.199883</td>\n",
              "      <td>0.568140</td>\n",
              "      <td>1.321528</td>\n",
              "      <td>-0.006901</td>\n",
              "      <td>-2.473787</td>\n",
              "      <td>-0.646808</td>\n",
              "    </tr>\n",
              "    <tr>\n",
              "      <th>3</th>\n",
              "      <td>-1.528830</td>\n",
              "      <td>2.176346</td>\n",
              "      <td>-0.214969</td>\n",
              "      <td>-2.021768</td>\n",
              "      <td>-2.962145</td>\n",
              "      <td>-3.295177</td>\n",
              "      <td>2.116420</td>\n",
              "      <td>-1.467550</td>\n",
              "      <td>0.579121</td>\n",
              "      <td>-1.434760</td>\n",
              "    </tr>\n",
              "    <tr>\n",
              "      <th>4</th>\n",
              "      <td>-1.407823</td>\n",
              "      <td>-1.028772</td>\n",
              "      <td>0.810723</td>\n",
              "      <td>4.052628</td>\n",
              "      <td>-1.700813</td>\n",
              "      <td>1.399962</td>\n",
              "      <td>2.256554</td>\n",
              "      <td>-0.818456</td>\n",
              "      <td>-1.529480</td>\n",
              "      <td>0.754909</td>\n",
              "    </tr>\n",
              "    <tr>\n",
              "      <th>5</th>\n",
              "      <td>-1.296844</td>\n",
              "      <td>-0.196513</td>\n",
              "      <td>0.744772</td>\n",
              "      <td>2.031446</td>\n",
              "      <td>2.638639</td>\n",
              "      <td>-1.803137</td>\n",
              "      <td>-0.783545</td>\n",
              "      <td>-1.434261</td>\n",
              "      <td>1.042819</td>\n",
              "      <td>0.277629</td>\n",
              "    </tr>\n",
              "    <tr>\n",
              "      <th>6</th>\n",
              "      <td>-1.066044</td>\n",
              "      <td>-0.295787</td>\n",
              "      <td>-0.039613</td>\n",
              "      <td>2.486801</td>\n",
              "      <td>3.054413</td>\n",
              "      <td>-0.431335</td>\n",
              "      <td>-1.230214</td>\n",
              "      <td>-1.250842</td>\n",
              "      <td>0.810319</td>\n",
              "      <td>-0.838451</td>\n",
              "    </tr>\n",
              "    <tr>\n",
              "      <th>...</th>\n",
              "      <td>...</td>\n",
              "      <td>...</td>\n",
              "      <td>...</td>\n",
              "      <td>...</td>\n",
              "      <td>...</td>\n",
              "      <td>...</td>\n",
              "      <td>...</td>\n",
              "      <td>...</td>\n",
              "      <td>...</td>\n",
              "      <td>...</td>\n",
              "    </tr>\n",
              "    <tr>\n",
              "      <th>470</th>\n",
              "      <td>-0.678148</td>\n",
              "      <td>1.778802</td>\n",
              "      <td>-1.258955</td>\n",
              "      <td>-2.678311</td>\n",
              "      <td>-0.040818</td>\n",
              "      <td>-0.718702</td>\n",
              "      <td>-0.886245</td>\n",
              "      <td>1.070218</td>\n",
              "      <td>-0.546501</td>\n",
              "      <td>-0.119334</td>\n",
              "    </tr>\n",
              "    <tr>\n",
              "      <th>473</th>\n",
              "      <td>0.811216</td>\n",
              "      <td>0.367455</td>\n",
              "      <td>-1.165994</td>\n",
              "      <td>1.569535</td>\n",
              "      <td>2.543085</td>\n",
              "      <td>-0.795273</td>\n",
              "      <td>-1.684104</td>\n",
              "      <td>0.670535</td>\n",
              "      <td>-1.073589</td>\n",
              "      <td>-0.005435</td>\n",
              "    </tr>\n",
              "    <tr>\n",
              "      <th>474</th>\n",
              "      <td>0.737130</td>\n",
              "      <td>0.040366</td>\n",
              "      <td>0.675858</td>\n",
              "      <td>-2.953505</td>\n",
              "      <td>-1.438371</td>\n",
              "      <td>-3.816273</td>\n",
              "      <td>-0.227802</td>\n",
              "      <td>-1.668164</td>\n",
              "      <td>0.372593</td>\n",
              "      <td>-0.263180</td>\n",
              "    </tr>\n",
              "    <tr>\n",
              "      <th>478</th>\n",
              "      <td>-2.763997</td>\n",
              "      <td>4.457392</td>\n",
              "      <td>-1.115640</td>\n",
              "      <td>-3.507782</td>\n",
              "      <td>-3.701657</td>\n",
              "      <td>-1.655353</td>\n",
              "      <td>4.066961</td>\n",
              "      <td>-0.507851</td>\n",
              "      <td>-0.924245</td>\n",
              "      <td>-1.357475</td>\n",
              "    </tr>\n",
              "    <tr>\n",
              "      <th>489</th>\n",
              "      <td>-0.851538</td>\n",
              "      <td>-0.479357</td>\n",
              "      <td>2.271710</td>\n",
              "      <td>-1.820070</td>\n",
              "      <td>0.818096</td>\n",
              "      <td>0.141208</td>\n",
              "      <td>1.537069</td>\n",
              "      <td>0.314096</td>\n",
              "      <td>-0.341870</td>\n",
              "      <td>-1.010343</td>\n",
              "    </tr>\n",
              "  </tbody>\n",
              "</table>\n",
              "<p>214 rows × 10 columns</p>\n",
              "</div>"
            ],
            "text/plain": [
              "            0         1         2  ...         7         8         9\n",
              "1    0.772735 -0.961301  1.639747  ... -0.006901 -2.473787 -0.646808\n",
              "3   -1.528830  2.176346 -0.214969  ... -1.467550  0.579121 -1.434760\n",
              "4   -1.407823 -1.028772  0.810723  ... -0.818456 -1.529480  0.754909\n",
              "5   -1.296844 -0.196513  0.744772  ... -1.434261  1.042819  0.277629\n",
              "6   -1.066044 -0.295787 -0.039613  ... -1.250842  0.810319 -0.838451\n",
              "..        ...       ...       ...  ...       ...       ...       ...\n",
              "470 -0.678148  1.778802 -1.258955  ...  1.070218 -0.546501 -0.119334\n",
              "473  0.811216  0.367455 -1.165994  ...  0.670535 -1.073589 -0.005435\n",
              "474  0.737130  0.040366  0.675858  ... -1.668164  0.372593 -0.263180\n",
              "478 -2.763997  4.457392 -1.115640  ... -0.507851 -0.924245 -1.357475\n",
              "489 -0.851538 -0.479357  2.271710  ...  0.314096 -0.341870 -1.010343\n",
              "\n",
              "[214 rows x 10 columns]"
            ]
          },
          "metadata": {
            "tags": []
          },
          "execution_count": 86
        }
      ]
    },
    {
      "cell_type": "code",
      "metadata": {
        "colab": {
          "base_uri": "https://localhost:8080/"
        },
        "id": "8K_pn8k_YLAS",
        "outputId": "7a8df257-5c07-41ec-a8fd-43c2e2eff189"
      },
      "source": [
        "from scipy import stats\r\n",
        "z = pd.DataFrame(stats.zscore(X, axis=1, ddof=1))\r\n",
        "indexNames = z[  (np.abs(z[0])>2) | (np.abs(z[1])>2) | (np.abs(z[2])>2) | (np.abs(z[3])>2) | (np.abs(z[4]) >2) | (np.abs(z[5])>2) | (np.abs(z[6])>2) | (np.abs(z[7])>2) | (np.abs(z[8])>2) | (np.abs(z[9])>2) ].index #, z[1]>2, z[2]>2, z[3]>2 , z[4] >2 , z[5]>2 , z[6]>2 , z[7]>2 , z[8]>2 , z[9]>2\r\n",
        "indexNames"
      ],
      "execution_count": 87,
      "outputs": [
        {
          "output_type": "execute_result",
          "data": {
            "text/plain": [
              "Int64Index([], dtype='int64')"
            ]
          },
          "metadata": {
            "tags": []
          },
          "execution_count": 87
        }
      ]
    },
    {
      "cell_type": "code",
      "metadata": {
        "id": "ZYIllgXyoHH1"
      },
      "source": [
        "X = X.drop(indexNames )"
      ],
      "execution_count": 88,
      "outputs": []
    },
    {
      "cell_type": "code",
      "metadata": {
        "id": "75tPDWaHOjDH"
      },
      "source": [
        "import numpy as np\r\n",
        "import matplotlib.pyplot as plt\r\n",
        "\r\n",
        "# Fixing random state for reproducibility\r\n",
        "np.random.seed(19680801)\r\n",
        "\r\n",
        "x = np.array(X[8])\r\n",
        "y = np.array(X[4])\r\n",
        "\r\n",
        "\r\n",
        "def scatter_hist(x, y, ax, ax_histx, ax_histy):\r\n",
        "    # no labels\r\n",
        "    ax_histx.tick_params(axis=\"x\", labelbottom=False)\r\n",
        "    ax_histy.tick_params(axis=\"y\", labelleft=False)\r\n",
        "\r\n",
        "    # the scatter plot:\r\n",
        "    ax.scatter(x, y)\r\n",
        "\r\n",
        "    # now determine nice limits by hand:\r\n",
        "    binwidth = 0.25\r\n",
        "    xymax = max(np.max(np.abs(x)), np.max(np.abs(y)))\r\n",
        "    lim = (int(xymax/binwidth) + 1) * binwidth\r\n",
        "\r\n",
        "    bins = np.arange(-lim, lim + binwidth, binwidth)\r\n",
        "    ax_histx.hist(x, bins=bins)\r\n",
        "    ax_histy.hist(y, bins=bins, orientation='horizontal')"
      ],
      "execution_count": 95,
      "outputs": []
    },
    {
      "cell_type": "code",
      "metadata": {
        "colab": {
          "base_uri": "https://localhost:8080/",
          "height": 540
        },
        "id": "Hu-i1eMmRC1U",
        "outputId": "b91ec728-9bdb-49c4-d05e-4bc063d3ab3e"
      },
      "source": [
        "# definitions for the axes\r\n",
        "left, width = 0.1, 0.65\r\n",
        "bottom, height = 0.1, 0.65\r\n",
        "spacing = 0.005\r\n",
        "\r\n",
        "\r\n",
        "rect_scatter = [left, bottom, width, height]\r\n",
        "rect_histx = [left, bottom + height + spacing, width, 0.2]\r\n",
        "rect_histy = [left + width + spacing, bottom, 0.2, height]\r\n",
        "\r\n",
        "# start with a square Figure\r\n",
        "fig = plt.figure(figsize=(8, 8))\r\n",
        "\r\n",
        "ax = fig.add_axes(rect_scatter)\r\n",
        "ax_histx = fig.add_axes(rect_histx, sharex=ax)\r\n",
        "ax_histy = fig.add_axes(rect_histy, sharey=ax)\r\n",
        "\r\n",
        "# use the previously defined function\r\n",
        "scatter_hist(x, y, ax, ax_histx, ax_histy)\r\n",
        "\r\n",
        "plt.show()"
      ],
      "execution_count": 96,
      "outputs": [
        {
          "output_type": "display_data",
          "data": {
            "image/png": "[encoded data removed]",
            "text/plain": [
              "<Figure size 576x576 with 3 Axes>"
            ]
          },
          "metadata": {
            "tags": [],
            "needs_background": "light"
          }
        }
      ]
    },
    {
      "cell_type": "code",
      "metadata": {
        "id": "WIAG2nmgokpI"
      },
      "source": [
        ""
      ],
      "execution_count": null,
      "outputs": []
    }
  ]
}