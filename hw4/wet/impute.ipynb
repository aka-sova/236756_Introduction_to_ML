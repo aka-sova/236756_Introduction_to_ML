{
  "nbformat": 4,
  "nbformat_minor": 0,
  "metadata": {
    "colab": {
      "name": "impute.ipynb",
      "provenance": [],
      "collapsed_sections": []
    },
    "kernelspec": {
      "name": "python3",
      "display_name": "Python 3"
    }
  },
  "cells": [
    {
      "cell_type": "code",
      "metadata": {
        "colab": {
          "base_uri": "https://localhost:8080/"
        },
        "id": "Cu0RcPS3MSgM",
        "outputId": "62abc996-6515-43d0-8caa-802be24624be"
      },
      "source": [
        "import numpy as np\r\n",
        "import pandas as pd\r\n",
        "from sklearn.datasets import load_iris\r\n",
        "from sklearn.impute import SimpleImputer, MissingIndicator\r\n",
        "from sklearn.model_selection import train_test_split\r\n",
        "from sklearn.pipeline import FeatureUnion, make_pipeline\r\n",
        "from sklearn.tree import DecisionTreeClassifier\r\n",
        "from sklearn.impute import KNNImputer\r\n",
        "\r\n",
        "X = pd.read_csv( 'protein.csv' ) \r\n",
        "\r\n",
        "imputer = KNNImputer(n_neighbors=3)\r\n",
        "imputer.fit_transform(X)"
      ],
      "execution_count": 2,
      "outputs": [
        {
          "output_type": "execute_result",
          "data": {
            "text/plain": [
              "array([[ 0.00000000e+00, -1.00641673e+00,  8.82124704e-01, ...,\n",
              "         1.13521341e+00,  7.50321492e-01,  6.27582342e-01],\n",
              "       [ 1.00000000e+00,  7.72735406e-01, -9.61301448e-01, ...,\n",
              "        -6.90066617e-03, -2.47378716e+00, -6.46808392e-01],\n",
              "       [ 2.00000000e+00, -1.05257668e+00, -1.04959559e-01, ...,\n",
              "         9.59434710e-01, -2.63591183e-01,  5.35905855e-01],\n",
              "       ...,\n",
              "       [ 4.91000000e+02,  5.48784012e-01, -1.22659556e+00, ...,\n",
              "         1.01865285e+00, -1.41011120e+00, -6.62078761e-01],\n",
              "       [ 4.92000000e+02,  1.52008038e-01, -1.68687885e+00, ...,\n",
              "        -1.29883359e-01,  4.96630320e-01, -1.55010560e+00],\n",
              "       [ 4.93000000e+02,  2.27901205e-01, -3.61459085e+01, ...,\n",
              "         1.23976838e+00,  1.66592167e-01, -1.77684658e+00]])"
            ]
          },
          "metadata": {
            "tags": []
          },
          "execution_count": 2
        }
      ]
    },
    {
      "cell_type": "code",
      "metadata": {
        "id": "WejSEfLLMo_7"
      },
      "source": [
        ""
      ],
      "execution_count": null,
      "outputs": []
    },
    {
      "cell_type": "code",
      "metadata": {
        "id": "75tPDWaHOjDH"
      },
      "source": [
        ""
      ],
      "execution_count": null,
      "outputs": []
    }
  ]
}