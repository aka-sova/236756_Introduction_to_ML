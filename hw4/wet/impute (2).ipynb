{
  "nbformat": 4,
  "nbformat_minor": 0,
  "metadata": {
    "colab": {
      "name": "impute.ipynb",
      "provenance": [],
      "collapsed_sections": []
    },
    "kernelspec": {
      "name": "python3",
      "display_name": "Python 3"
    }
  },
  "cells": [
    {
      "cell_type": "code",
      "metadata": {
        "id": "Cu0RcPS3MSgM"
      },
      "source": [
        "import numpy as np\r\n",
        "import pandas as pd\r\n",
        "from sklearn.datasets import load_iris\r\n",
        "from sklearn.impute import SimpleImputer, MissingIndicator\r\n",
        "from sklearn.model_selection import train_test_split\r\n",
        "from sklearn.pipeline import FeatureUnion, make_pipeline\r\n",
        "from sklearn.tree import DecisionTreeClassifier\r\n",
        "from sklearn.impute import KNNImputer\r\n",
        "\r\n",
        "X = pd.read_csv( 'protein.csv' ) \r\n",
        "X = X.drop(['ID'], axis=1)\r\n",
        "imputer = KNNImputer(n_neighbors=3)\r\n",
        "X = imputer.fit_transform(X)"
      ],
      "execution_count": 3,
      "outputs": []
    },
    {
      "cell_type": "code",
      "metadata": {
        "colab": {
          "base_uri": "https://localhost:8080/",
          "height": 402
        },
        "id": "WejSEfLLMo_7",
        "outputId": "48ebdfe3-861c-4c9a-c37b-6c8b4af22762"
      },
      "source": [
        "X=pd.DataFrame(X)\r\n",
        "#from sklearn.preprocessing import StandardScaler\r\n",
        "#scaler = StandardScaler()\r\n",
        "#X= scaler.fit_transform(X)\r\n",
        "#X=pd.DataFrame(X)\r\n",
        "X"
      ],
      "execution_count": 4,
      "outputs": [
        {
          "output_type": "execute_result",
          "data": {
            "text/html": [
              "<div>\n",
              "<style scoped>\n",
              "    .dataframe tbody tr th:only-of-type {\n",
              "        vertical-align: middle;\n",
              "    }\n",
              "\n",
              "    .dataframe tbody tr th {\n",
              "        vertical-align: top;\n",
              "    }\n",
              "\n",
              "    .dataframe thead th {\n",
              "        text-align: right;\n",
              "    }\n",
              "</style>\n",
              "<table border=\"1\" class=\"dataframe\">\n",
              "  <thead>\n",
              "    <tr style=\"text-align: right;\">\n",
              "      <th></th>\n",
              "      <th>0</th>\n",
              "      <th>1</th>\n",
              "      <th>2</th>\n",
              "      <th>3</th>\n",
              "      <th>4</th>\n",
              "      <th>5</th>\n",
              "      <th>6</th>\n",
              "      <th>7</th>\n",
              "      <th>8</th>\n",
              "      <th>9</th>\n",
              "    </tr>\n",
              "  </thead>\n",
              "  <tbody>\n",
              "    <tr>\n",
              "      <th>0</th>\n",
              "      <td>-1.006417</td>\n",
              "      <td>0.882125</td>\n",
              "      <td>1.714778</td>\n",
              "      <td>-2.587934</td>\n",
              "      <td>1.715879</td>\n",
              "      <td>1.720692</td>\n",
              "      <td>-0.465769</td>\n",
              "      <td>1.135213</td>\n",
              "      <td>0.750321</td>\n",
              "      <td>0.627582</td>\n",
              "    </tr>\n",
              "    <tr>\n",
              "      <th>1</th>\n",
              "      <td>0.772735</td>\n",
              "      <td>-0.961301</td>\n",
              "      <td>1.639747</td>\n",
              "      <td>-2.108846</td>\n",
              "      <td>0.199883</td>\n",
              "      <td>0.568140</td>\n",
              "      <td>1.321528</td>\n",
              "      <td>-0.006901</td>\n",
              "      <td>-2.473787</td>\n",
              "      <td>-0.646808</td>\n",
              "    </tr>\n",
              "    <tr>\n",
              "      <th>2</th>\n",
              "      <td>-1.052577</td>\n",
              "      <td>-0.104960</td>\n",
              "      <td>1.550213</td>\n",
              "      <td>-2.576606</td>\n",
              "      <td>2.083175</td>\n",
              "      <td>2.015090</td>\n",
              "      <td>0.093019</td>\n",
              "      <td>0.959435</td>\n",
              "      <td>-0.263591</td>\n",
              "      <td>0.535906</td>\n",
              "    </tr>\n",
              "    <tr>\n",
              "      <th>3</th>\n",
              "      <td>-1.528830</td>\n",
              "      <td>2.176346</td>\n",
              "      <td>-0.214969</td>\n",
              "      <td>-2.021768</td>\n",
              "      <td>-2.962145</td>\n",
              "      <td>-3.295177</td>\n",
              "      <td>2.116420</td>\n",
              "      <td>-1.467550</td>\n",
              "      <td>0.579121</td>\n",
              "      <td>-1.434760</td>\n",
              "    </tr>\n",
              "    <tr>\n",
              "      <th>4</th>\n",
              "      <td>-1.407823</td>\n",
              "      <td>-1.028772</td>\n",
              "      <td>0.810723</td>\n",
              "      <td>4.052628</td>\n",
              "      <td>-1.700813</td>\n",
              "      <td>1.399962</td>\n",
              "      <td>2.256554</td>\n",
              "      <td>-0.818456</td>\n",
              "      <td>-1.529480</td>\n",
              "      <td>0.754909</td>\n",
              "    </tr>\n",
              "    <tr>\n",
              "      <th>...</th>\n",
              "      <td>...</td>\n",
              "      <td>...</td>\n",
              "      <td>...</td>\n",
              "      <td>...</td>\n",
              "      <td>...</td>\n",
              "      <td>...</td>\n",
              "      <td>...</td>\n",
              "      <td>...</td>\n",
              "      <td>...</td>\n",
              "      <td>...</td>\n",
              "    </tr>\n",
              "    <tr>\n",
              "      <th>489</th>\n",
              "      <td>-0.851538</td>\n",
              "      <td>-0.479357</td>\n",
              "      <td>2.271710</td>\n",
              "      <td>-1.820070</td>\n",
              "      <td>0.818096</td>\n",
              "      <td>0.141208</td>\n",
              "      <td>1.537069</td>\n",
              "      <td>0.314096</td>\n",
              "      <td>-0.341870</td>\n",
              "      <td>-1.010343</td>\n",
              "    </tr>\n",
              "    <tr>\n",
              "      <th>490</th>\n",
              "      <td>-1.610268</td>\n",
              "      <td>-0.184169</td>\n",
              "      <td>-0.100731</td>\n",
              "      <td>1.991430</td>\n",
              "      <td>-3.139705</td>\n",
              "      <td>4.407357</td>\n",
              "      <td>-0.010682</td>\n",
              "      <td>-1.208989</td>\n",
              "      <td>0.655864</td>\n",
              "      <td>1.034267</td>\n",
              "    </tr>\n",
              "    <tr>\n",
              "      <th>491</th>\n",
              "      <td>0.548784</td>\n",
              "      <td>-1.226596</td>\n",
              "      <td>1.755970</td>\n",
              "      <td>-3.334780</td>\n",
              "      <td>0.163496</td>\n",
              "      <td>1.993281</td>\n",
              "      <td>0.039038</td>\n",
              "      <td>1.018653</td>\n",
              "      <td>-1.410111</td>\n",
              "      <td>-0.662079</td>\n",
              "    </tr>\n",
              "    <tr>\n",
              "      <th>492</th>\n",
              "      <td>0.152008</td>\n",
              "      <td>-1.686879</td>\n",
              "      <td>1.489334</td>\n",
              "      <td>0.834950</td>\n",
              "      <td>-4.749197</td>\n",
              "      <td>-2.084045</td>\n",
              "      <td>-0.782886</td>\n",
              "      <td>-0.129883</td>\n",
              "      <td>0.496630</td>\n",
              "      <td>-1.550106</td>\n",
              "    </tr>\n",
              "    <tr>\n",
              "      <th>493</th>\n",
              "      <td>0.227901</td>\n",
              "      <td>-36.145908</td>\n",
              "      <td>0.435937</td>\n",
              "      <td>-0.696611</td>\n",
              "      <td>-4.252352</td>\n",
              "      <td>-13.350077</td>\n",
              "      <td>-1.247429</td>\n",
              "      <td>1.239768</td>\n",
              "      <td>0.166592</td>\n",
              "      <td>-1.776847</td>\n",
              "    </tr>\n",
              "  </tbody>\n",
              "</table>\n",
              "<p>494 rows × 10 columns</p>\n",
              "</div>"
            ],
            "text/plain": [
              "            0          1         2  ...         7         8         9\n",
              "0   -1.006417   0.882125  1.714778  ...  1.135213  0.750321  0.627582\n",
              "1    0.772735  -0.961301  1.639747  ... -0.006901 -2.473787 -0.646808\n",
              "2   -1.052577  -0.104960  1.550213  ...  0.959435 -0.263591  0.535906\n",
              "3   -1.528830   2.176346 -0.214969  ... -1.467550  0.579121 -1.434760\n",
              "4   -1.407823  -1.028772  0.810723  ... -0.818456 -1.529480  0.754909\n",
              "..        ...        ...       ...  ...       ...       ...       ...\n",
              "489 -0.851538  -0.479357  2.271710  ...  0.314096 -0.341870 -1.010343\n",
              "490 -1.610268  -0.184169 -0.100731  ... -1.208989  0.655864  1.034267\n",
              "491  0.548784  -1.226596  1.755970  ...  1.018653 -1.410111 -0.662079\n",
              "492  0.152008  -1.686879  1.489334  ... -0.129883  0.496630 -1.550106\n",
              "493  0.227901 -36.145908  0.435937  ...  1.239768  0.166592 -1.776847\n",
              "\n",
              "[494 rows x 10 columns]"
            ]
          },
          "metadata": {
            "tags": []
          },
          "execution_count": 4
        }
      ]
    },
    {
      "cell_type": "markdown",
      "metadata": {
        "id": "TD9QPKGH4j_K"
      },
      "source": [
        "Drop all rows with z-wcore over 2"
      ]
    },
    {
      "cell_type": "code",
      "metadata": {
        "colab": {
          "base_uri": "https://localhost:8080/"
        },
        "id": "8K_pn8k_YLAS",
        "outputId": "3201ef8f-02d3-4333-c3d4-e09094ea3ac3"
      },
      "source": [
        "from scipy import stats\r\n",
        "z = pd.DataFrame(stats.zscore(X, axis=1, ddof=1))\r\n",
        "indexNames = z[  (np.abs(z[0])>2) | (np.abs(z[1])>2) | (np.abs(z[2])>2) | (np.abs(z[3])>2) | (np.abs(z[4]) >2) | (np.abs(z[5])>2) | (np.abs(z[6])>2) | (np.abs(z[7])>2) | (np.abs(z[8])>2) | (np.abs(z[9])>2) ].index #, z[1]>2, z[2]>2, z[3]>2 , z[4] >2 , z[5]>2 , z[6]>2 , z[7]>2 , z[8]>2 , z[9]>2\r\n",
        "indexNames"
      ],
      "execution_count": 5,
      "outputs": [
        {
          "output_type": "execute_result",
          "data": {
            "text/plain": [
              "Int64Index([  0,   2,   7,   8,   9,  10,  15,  17,  18,  19,\n",
              "            ...\n",
              "            483, 484, 485, 486, 487, 488, 490, 491, 492, 493],\n",
              "           dtype='int64', length=280)"
            ]
          },
          "metadata": {
            "tags": []
          },
          "execution_count": 5
        }
      ]
    },
    {
      "cell_type": "code",
      "metadata": {
        "id": "ZYIllgXyoHH1"
      },
      "source": [
        "X = X.drop(indexNames )"
      ],
      "execution_count": 6,
      "outputs": []
    },
    {
      "cell_type": "code",
      "metadata": {
        "id": "75tPDWaHOjDH"
      },
      "source": [
        "import numpy as np\r\n",
        "import matplotlib.pyplot as plt\r\n",
        "\r\n",
        "# Fixing random state for reproducibility\r\n",
        "np.random.seed(19680801)\r\n",
        "\r\n",
        "x = np.array(X[3])\r\n",
        "y = np.array(X[2])\r\n",
        "\r\n",
        "\r\n",
        "def scatter_hist(x, y, ax, ax_histx, ax_histy):\r\n",
        "    # no labels\r\n",
        "    ax_histx.tick_params(axis=\"x\", labelbottom=False)\r\n",
        "    ax_histy.tick_params(axis=\"y\", labelleft=False)\r\n",
        "\r\n",
        "    # the scatter plot:\r\n",
        "    ax.scatter(x, y)\r\n",
        "\r\n",
        "    # now determine nice limits by hand:\r\n",
        "    binwidth = 0.25\r\n",
        "    xymax = max(np.max(np.abs(x)), np.max(np.abs(y)))\r\n",
        "    lim = (int(xymax/binwidth) + 1) * binwidth\r\n",
        "\r\n",
        "    bins = np.arange(-lim, lim + binwidth, binwidth)\r\n",
        "    ax_histx.hist(x, bins=bins)\r\n",
        "    ax_histy.hist(y, bins=bins, orientation='horizontal')"
      ],
      "execution_count": 9,
      "outputs": []
    },
    {
      "cell_type": "code",
      "metadata": {
        "colab": {
          "base_uri": "https://localhost:8080/",
          "height": 540
        },
        "id": "Hu-i1eMmRC1U",
        "outputId": "8a591665-8f6d-4f98-cbdc-1c89a3386c3b"
      },
      "source": [
        "# definitions for the axes\r\n",
        "left, width = 0.1, 0.65\r\n",
        "bottom, height = 0.1, 0.65\r\n",
        "spacing = 0.005\r\n",
        "\r\n",
        "\r\n",
        "rect_scatter = [left, bottom, width, height]\r\n",
        "rect_histx = [left, bottom + height + spacing, width, 0.2]\r\n",
        "rect_histy = [left + width + spacing, bottom, 0.2, height]\r\n",
        "\r\n",
        "# start with a square Figure\r\n",
        "fig = plt.figure(figsize=(8, 8))\r\n",
        "\r\n",
        "ax = fig.add_axes(rect_scatter)\r\n",
        "ax_histx = fig.add_axes(rect_histx, sharex=ax)\r\n",
        "ax_histy = fig.add_axes(rect_histy, sharey=ax)\r\n",
        "\r\n",
        "# use the previously defined function\r\n",
        "scatter_hist(x, y, ax, ax_histx, ax_histy)\r\n",
        "\r\n",
        "plt.show()"
      ],
      "execution_count": 10,
      "outputs": [
        {
          "output_type": "display_data",
          "data": {
            "image/png": "[encoded data removed]",
            "text/plain": [
              "<Figure size 576x576 with 3 Axes>"
            ]
          },
          "metadata": {
            "tags": [],
            "needs_background": "light"
          }
        }
      ]
    },
    {
      "cell_type": "code",
      "metadata": {
        "id": "WIAG2nmgokpI",
        "colab": {
          "base_uri": "https://localhost:8080/"
        },
        "outputId": "8b2d94fc-9154-4c8a-fe0e-98571252a298"
      },
      "source": [
        "from sklearn.mixture import GaussianMixture\r\n",
        "\r\n",
        "gm = GaussianMixture(n_components=5,  covariance_type='full', tol=0.001, reg_covar=1e-06, max_iter=100, n_init=1, init_params='kmeans', weights_init=None, means_init=None, precisions_init=None, random_state=None, warm_start=False, verbose=0, verbose_interval=10)\r\n",
        "\r\n",
        "gm = gm.fit(X)\r\n",
        "\r\n",
        "gm.means_"
      ],
      "execution_count": 21,
      "outputs": [
        {
          "output_type": "execute_result",
          "data": {
            "text/plain": [
              "array([[ 5.68909051e-02,  2.86383155e-01, -1.62912011e-01,\n",
              "         2.71815349e+00,  1.84440731e+00, -1.42387770e+00,\n",
              "        -9.51621021e-01, -3.33680364e-01, -1.04726319e-02,\n",
              "        -2.97477862e-01],\n",
              "       [-3.81763268e-01, -1.78596685e+00, -3.90406299e-01,\n",
              "         2.96752598e+00, -2.27808751e+00,  6.84647226e-01,\n",
              "         1.52992404e+00,  2.84622429e-01,  2.03722444e-01,\n",
              "         6.39660431e-01],\n",
              "       [ 3.49988345e-01, -1.43396066e-01, -4.28317979e-02,\n",
              "        -2.21044345e+00,  1.18213241e+00,  2.07043919e+00,\n",
              "        -3.89176086e-01,  7.94162022e-01, -5.14345669e-01,\n",
              "        -3.62197011e-01],\n",
              "       [ 1.04743428e+01,  7.01454254e+00,  3.60224477e+00,\n",
              "         6.33738119e+00, -1.05889993e+00,  1.76864830e+00,\n",
              "         3.75821142e+00,  1.15910140e+00,  3.86455992e+00,\n",
              "        -8.67548333e-01],\n",
              "       [-6.33574993e-01,  1.04039155e+00,  1.44675230e-01,\n",
              "        -2.96650110e+00, -1.75705008e+00, -2.22353080e+00,\n",
              "         5.28124479e-01, -5.68810761e-01,  5.22792107e-01,\n",
              "        -5.69463378e-02]])"
            ]
          },
          "metadata": {
            "tags": []
          },
          "execution_count": 21
        }
      ]
    },
    {
      "cell_type": "markdown",
      "metadata": {
        "id": "6TkPPn6N1KtQ"
      },
      "source": [
        "Check best number of components is actually 5 as required and figure out best covariance_type argument using BIC score"
      ]
    },
    {
      "cell_type": "code",
      "metadata": {
        "id": "5jvDeghtt5kk"
      },
      "source": [
        "lowest_bic = np.infty\r\n",
        "bic = []\r\n",
        "n_components_range = range(4, 7)\r\n",
        "cv_types = ['spherical', 'tied', 'diag', 'full']\r\n",
        "for cv_type in cv_types:\r\n",
        "    for n_components in n_components_range:\r\n",
        "        # Fit a Gaussian mixture with EM\r\n",
        "        gmm = GaussianMixture(n_components=n_components,\r\n",
        "                                      covariance_type=cv_type)\r\n",
        "        gmm.fit(X)\r\n",
        "        bic.append(gmm.bic(X))\r\n",
        "        if bic[-1] < lowest_bic:\r\n",
        "            lowest_bic = bic[-1]\r\n",
        "            best_gmm = gmm\r\n"
      ],
      "execution_count": 14,
      "outputs": []
    },
    {
      "cell_type": "code",
      "metadata": {
        "colab": {
          "base_uri": "https://localhost:8080/"
        },
        "id": "do7wxfvk0xEF",
        "outputId": "3a447b95-233f-4914-9406-481f2a14acd4"
      },
      "source": [
        "best_gmm.get_params"
      ],
      "execution_count": 17,
      "outputs": [
        {
          "output_type": "execute_result",
          "data": {
            "text/plain": [
              "<bound method BaseEstimator.get_params of GaussianMixture(covariance_type='full', init_params='kmeans', max_iter=100,\n",
              "                means_init=None, n_components=5, n_init=1, precisions_init=None,\n",
              "                random_state=None, reg_covar=1e-06, tol=0.001, verbose=0,\n",
              "                verbose_interval=10, warm_start=False, weights_init=None)>"
            ]
          },
          "metadata": {
            "tags": []
          },
          "execution_count": 17
        }
      ]
    },
    {
      "cell_type": "markdown",
      "metadata": {
        "id": "CKsJDiv94aGo"
      },
      "source": [
        "Spectral Clustering\r\n",
        "Apply clustering to a projection of the normalized Laplacian.\r\n",
        "\r\n",
        "In practice Spectral Clustering is very useful when the structure of the individual clusters is highly non-convex or more generally when a measure of the center and spread of the cluster is not a suitable description of the complete cluster. For instance when clusters are nested circles on the 2D plane."
      ]
    },
    {
      "cell_type": "code",
      "metadata": {
        "colab": {
          "base_uri": "https://localhost:8080/"
        },
        "id": "eJ1MrQjT4cbL",
        "outputId": "2a69c9ae-291b-47c2-c3d7-b0ccbf0bd630"
      },
      "source": [
        "from sklearn.cluster import SpectralClustering\r\n",
        "import numpy as np\r\n",
        "\r\n",
        "clustering = SpectralClustering(n_clusters=5,\r\n",
        "        assign_labels=\"discretize\",\r\n",
        "        random_state=0).fit(X)\r\n",
        "\r\n",
        "clustering"
      ],
      "execution_count": 20,
      "outputs": [
        {
          "output_type": "execute_result",
          "data": {
            "text/plain": [
              "array([0, 0, 4, 0, 0, 0, 0, 0, 0, 0, 0, 2, 0, 0, 0, 0, 1, 0, 4, 0, 4, 0,\n",
              "       0, 0, 0, 0, 0, 4, 0, 0, 0, 0, 0, 4, 0, 0, 4, 4, 4, 4, 0, 0, 0, 0,\n",
              "       4, 2, 4, 4, 0, 0, 0, 0, 4, 0, 0, 0, 0, 2, 0, 0, 0, 4, 0, 0, 0, 0,\n",
              "       4, 4, 4, 0, 0, 0, 0, 0, 1, 0, 0, 0, 0, 4, 4, 4, 0, 4, 0, 0, 0, 0,\n",
              "       4, 0, 2, 0, 4, 0, 0, 0, 4, 4, 0, 0, 0, 0, 0, 0, 0, 0, 4, 4, 0, 0,\n",
              "       0, 4, 4, 0, 0, 4, 0, 0, 4, 2, 4, 0, 0, 0, 0, 4, 0, 4, 0, 0, 0, 0,\n",
              "       0, 0, 4, 4, 0, 0, 0, 4, 0, 4, 0, 0, 1, 4, 4, 2, 0, 0, 0, 4, 2, 0,\n",
              "       0, 4, 0, 4, 0, 2, 4, 0, 2, 4, 4, 4, 1, 0, 2, 0, 0, 0, 0, 0, 0, 4,\n",
              "       0, 2, 4, 0, 0, 0, 0, 4, 0, 4, 0, 0, 4, 4, 3, 0, 2, 0, 0, 0, 0, 0,\n",
              "       0, 0, 0, 4, 0, 0, 0, 4, 4, 0, 0, 0, 0, 0, 0, 0])"
            ]
          },
          "metadata": {
            "tags": []
          },
          "execution_count": 20
        }
      ]
    }
  ]
}