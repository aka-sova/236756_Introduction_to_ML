{
 "cells": [
  {
   "cell_type": "code",
   "execution_count": 1,
   "metadata": {},
   "outputs": [],
   "source": [
    "import pandas as pd # data analysis and manipulation tool\n",
    "import numpy as np # Numerical computing tools\n",
    "import seaborn as sns  # visualization library\n",
    "import matplotlib.pyplot as plt  # another visualization library"
   ]
  },
  {
   "cell_type": "markdown",
   "metadata": {},
   "source": [
    "# Start with reading the db, filtering outliers and filling the missing data"
   ]
  },
  {
   "cell_type": "code",
   "execution_count": 2,
   "metadata": {},
   "outputs": [],
   "source": [
    "df = pd.read_csv('protein.csv', sep=',', header=0)"
   ]
  },
  {
   "cell_type": "code",
   "execution_count": 3,
   "metadata": {},
   "outputs": [
    {
     "data": {
      "text/html": [
       "<div>\n",
       "<style scoped>\n",
       "    .dataframe tbody tr th:only-of-type {\n",
       "        vertical-align: middle;\n",
       "    }\n",
       "\n",
       "    .dataframe tbody tr th {\n",
       "        vertical-align: top;\n",
       "    }\n",
       "\n",
       "    .dataframe thead th {\n",
       "        text-align: right;\n",
       "    }\n",
       "</style>\n",
       "<table border=\"1\" class=\"dataframe\">\n",
       "  <thead>\n",
       "    <tr style=\"text-align: right;\">\n",
       "      <th></th>\n",
       "      <th>ID</th>\n",
       "      <th>protein_1</th>\n",
       "      <th>protein_2</th>\n",
       "      <th>protein_3</th>\n",
       "      <th>protein_4</th>\n",
       "      <th>protein_5</th>\n",
       "      <th>protein_6</th>\n",
       "      <th>protein_7</th>\n",
       "      <th>protein_8</th>\n",
       "      <th>protein_9</th>\n",
       "      <th>protein_10</th>\n",
       "    </tr>\n",
       "  </thead>\n",
       "  <tbody>\n",
       "    <tr>\n",
       "      <th>0</th>\n",
       "      <td>0</td>\n",
       "      <td>-1.006417</td>\n",
       "      <td>0.882125</td>\n",
       "      <td>NaN</td>\n",
       "      <td>-2.587934</td>\n",
       "      <td>1.715879</td>\n",
       "      <td>1.720692</td>\n",
       "      <td>-0.465769</td>\n",
       "      <td>1.135213</td>\n",
       "      <td>0.750321</td>\n",
       "      <td>0.627582</td>\n",
       "    </tr>\n",
       "    <tr>\n",
       "      <th>1</th>\n",
       "      <td>1</td>\n",
       "      <td>0.772735</td>\n",
       "      <td>-0.961301</td>\n",
       "      <td>1.639747</td>\n",
       "      <td>-2.108846</td>\n",
       "      <td>0.199883</td>\n",
       "      <td>0.568140</td>\n",
       "      <td>1.321528</td>\n",
       "      <td>-0.006901</td>\n",
       "      <td>-2.473787</td>\n",
       "      <td>-0.646808</td>\n",
       "    </tr>\n",
       "    <tr>\n",
       "      <th>2</th>\n",
       "      <td>2</td>\n",
       "      <td>-1.052577</td>\n",
       "      <td>-0.104960</td>\n",
       "      <td>1.550213</td>\n",
       "      <td>-2.576606</td>\n",
       "      <td>2.083175</td>\n",
       "      <td>2.015090</td>\n",
       "      <td>0.093019</td>\n",
       "      <td>0.959435</td>\n",
       "      <td>-0.263591</td>\n",
       "      <td>0.535906</td>\n",
       "    </tr>\n",
       "    <tr>\n",
       "      <th>3</th>\n",
       "      <td>3</td>\n",
       "      <td>-1.528830</td>\n",
       "      <td>2.176346</td>\n",
       "      <td>-0.214969</td>\n",
       "      <td>-2.021768</td>\n",
       "      <td>-2.962145</td>\n",
       "      <td>-3.295177</td>\n",
       "      <td>2.116420</td>\n",
       "      <td>-1.467550</td>\n",
       "      <td>0.579121</td>\n",
       "      <td>-1.434760</td>\n",
       "    </tr>\n",
       "    <tr>\n",
       "      <th>4</th>\n",
       "      <td>4</td>\n",
       "      <td>-1.407823</td>\n",
       "      <td>-1.028772</td>\n",
       "      <td>0.810723</td>\n",
       "      <td>4.052628</td>\n",
       "      <td>-1.700813</td>\n",
       "      <td>1.399962</td>\n",
       "      <td>2.256554</td>\n",
       "      <td>-0.818456</td>\n",
       "      <td>-1.529480</td>\n",
       "      <td>0.754909</td>\n",
       "    </tr>\n",
       "  </tbody>\n",
       "</table>\n",
       "</div>"
      ],
      "text/plain": [
       "   ID  protein_1  protein_2  protein_3  protein_4  protein_5  protein_6  \\\n",
       "0   0  -1.006417   0.882125        NaN  -2.587934   1.715879   1.720692   \n",
       "1   1   0.772735  -0.961301   1.639747  -2.108846   0.199883   0.568140   \n",
       "2   2  -1.052577  -0.104960   1.550213  -2.576606   2.083175   2.015090   \n",
       "3   3  -1.528830   2.176346  -0.214969  -2.021768  -2.962145  -3.295177   \n",
       "4   4  -1.407823  -1.028772   0.810723   4.052628  -1.700813   1.399962   \n",
       "\n",
       "   protein_7  protein_8  protein_9  protein_10  \n",
       "0  -0.465769   1.135213   0.750321    0.627582  \n",
       "1   1.321528  -0.006901  -2.473787   -0.646808  \n",
       "2   0.093019   0.959435  -0.263591    0.535906  \n",
       "3   2.116420  -1.467550   0.579121   -1.434760  \n",
       "4   2.256554  -0.818456  -1.529480    0.754909  "
      ]
     },
     "execution_count": 3,
     "metadata": {},
     "output_type": "execute_result"
    }
   ],
   "source": [
    "df.head(5)"
   ]
  },
  {
   "cell_type": "code",
   "execution_count": 4,
   "metadata": {},
   "outputs": [
    {
     "data": {
      "text/plain": [
       "(494, 11)"
      ]
     },
     "execution_count": 4,
     "metadata": {},
     "output_type": "execute_result"
    }
   ],
   "source": [
    "df.shape"
   ]
  },
  {
   "cell_type": "code",
   "execution_count": 5,
   "metadata": {},
   "outputs": [
    {
     "data": {
      "text/html": [
       "<div>\n",
       "<style scoped>\n",
       "    .dataframe tbody tr th:only-of-type {\n",
       "        vertical-align: middle;\n",
       "    }\n",
       "\n",
       "    .dataframe tbody tr th {\n",
       "        vertical-align: top;\n",
       "    }\n",
       "\n",
       "    .dataframe thead th {\n",
       "        text-align: right;\n",
       "    }\n",
       "</style>\n",
       "<table border=\"1\" class=\"dataframe\">\n",
       "  <thead>\n",
       "    <tr style=\"text-align: right;\">\n",
       "      <th></th>\n",
       "      <th>ID</th>\n",
       "      <th>protein_1</th>\n",
       "      <th>protein_2</th>\n",
       "      <th>protein_3</th>\n",
       "      <th>protein_4</th>\n",
       "      <th>protein_5</th>\n",
       "      <th>protein_6</th>\n",
       "      <th>protein_7</th>\n",
       "      <th>protein_8</th>\n",
       "      <th>protein_9</th>\n",
       "      <th>protein_10</th>\n",
       "    </tr>\n",
       "  </thead>\n",
       "  <tbody>\n",
       "    <tr>\n",
       "      <th>count</th>\n",
       "      <td>494.000000</td>\n",
       "      <td>489.000000</td>\n",
       "      <td>476.000000</td>\n",
       "      <td>478.000000</td>\n",
       "      <td>476.000000</td>\n",
       "      <td>480.000000</td>\n",
       "      <td>477.000000</td>\n",
       "      <td>487.000000</td>\n",
       "      <td>485.000000</td>\n",
       "      <td>479.000000</td>\n",
       "      <td>477.000000</td>\n",
       "    </tr>\n",
       "    <tr>\n",
       "      <th>mean</th>\n",
       "      <td>246.500000</td>\n",
       "      <td>-0.462127</td>\n",
       "      <td>-1.173895</td>\n",
       "      <td>-0.227398</td>\n",
       "      <td>1.465577</td>\n",
       "      <td>0.124944</td>\n",
       "      <td>-0.742783</td>\n",
       "      <td>0.362071</td>\n",
       "      <td>-0.200106</td>\n",
       "      <td>-0.923517</td>\n",
       "      <td>0.146468</td>\n",
       "    </tr>\n",
       "    <tr>\n",
       "      <th>std</th>\n",
       "      <td>142.749781</td>\n",
       "      <td>6.533040</td>\n",
       "      <td>19.906275</td>\n",
       "      <td>8.062840</td>\n",
       "      <td>17.277465</td>\n",
       "      <td>3.568627</td>\n",
       "      <td>10.348845</td>\n",
       "      <td>5.693674</td>\n",
       "      <td>4.410810</td>\n",
       "      <td>13.786652</td>\n",
       "      <td>1.662280</td>\n",
       "    </tr>\n",
       "    <tr>\n",
       "      <th>min</th>\n",
       "      <td>0.000000</td>\n",
       "      <td>-96.469898</td>\n",
       "      <td>-407.526638</td>\n",
       "      <td>-123.628501</td>\n",
       "      <td>-241.013809</td>\n",
       "      <td>-27.873525</td>\n",
       "      <td>-150.310102</td>\n",
       "      <td>-39.718672</td>\n",
       "      <td>-92.917408</td>\n",
       "      <td>-246.757608</td>\n",
       "      <td>-2.431825</td>\n",
       "    </tr>\n",
       "    <tr>\n",
       "      <th>25%</th>\n",
       "      <td>123.250000</td>\n",
       "      <td>-1.018382</td>\n",
       "      <td>-0.948167</td>\n",
       "      <td>-0.666352</td>\n",
       "      <td>-2.263689</td>\n",
       "      <td>-1.710851</td>\n",
       "      <td>-1.741266</td>\n",
       "      <td>-0.788513</td>\n",
       "      <td>-0.818456</td>\n",
       "      <td>-1.048256</td>\n",
       "      <td>-0.637084</td>\n",
       "    </tr>\n",
       "    <tr>\n",
       "      <th>50%</th>\n",
       "      <td>246.500000</td>\n",
       "      <td>-0.313710</td>\n",
       "      <td>-0.225694</td>\n",
       "      <td>0.104332</td>\n",
       "      <td>1.745072</td>\n",
       "      <td>-0.347418</td>\n",
       "      <td>-0.696808</td>\n",
       "      <td>-0.100930</td>\n",
       "      <td>-0.082172</td>\n",
       "      <td>0.039068</td>\n",
       "      <td>0.043498</td>\n",
       "    </tr>\n",
       "    <tr>\n",
       "      <th>75%</th>\n",
       "      <td>369.750000</td>\n",
       "      <td>0.548909</td>\n",
       "      <td>0.496533</td>\n",
       "      <td>0.817167</td>\n",
       "      <td>3.499794</td>\n",
       "      <td>2.251205</td>\n",
       "      <td>1.240977</td>\n",
       "      <td>0.749700</td>\n",
       "      <td>0.670535</td>\n",
       "      <td>0.872264</td>\n",
       "      <td>0.643888</td>\n",
       "    </tr>\n",
       "    <tr>\n",
       "      <th>max</th>\n",
       "      <td>493.000000</td>\n",
       "      <td>15.321833</td>\n",
       "      <td>69.568058</td>\n",
       "      <td>61.466833</td>\n",
       "      <td>208.838313</td>\n",
       "      <td>40.658268</td>\n",
       "      <td>64.340135</td>\n",
       "      <td>87.208302</td>\n",
       "      <td>11.370135</td>\n",
       "      <td>54.358368</td>\n",
       "      <td>23.258043</td>\n",
       "    </tr>\n",
       "  </tbody>\n",
       "</table>\n",
       "</div>"
      ],
      "text/plain": [
       "               ID   protein_1   protein_2   protein_3   protein_4   protein_5  \\\n",
       "count  494.000000  489.000000  476.000000  478.000000  476.000000  480.000000   \n",
       "mean   246.500000   -0.462127   -1.173895   -0.227398    1.465577    0.124944   \n",
       "std    142.749781    6.533040   19.906275    8.062840   17.277465    3.568627   \n",
       "min      0.000000  -96.469898 -407.526638 -123.628501 -241.013809  -27.873525   \n",
       "25%    123.250000   -1.018382   -0.948167   -0.666352   -2.263689   -1.710851   \n",
       "50%    246.500000   -0.313710   -0.225694    0.104332    1.745072   -0.347418   \n",
       "75%    369.750000    0.548909    0.496533    0.817167    3.499794    2.251205   \n",
       "max    493.000000   15.321833   69.568058   61.466833  208.838313   40.658268   \n",
       "\n",
       "        protein_6   protein_7   protein_8   protein_9  protein_10  \n",
       "count  477.000000  487.000000  485.000000  479.000000  477.000000  \n",
       "mean    -0.742783    0.362071   -0.200106   -0.923517    0.146468  \n",
       "std     10.348845    5.693674    4.410810   13.786652    1.662280  \n",
       "min   -150.310102  -39.718672  -92.917408 -246.757608   -2.431825  \n",
       "25%     -1.741266   -0.788513   -0.818456   -1.048256   -0.637084  \n",
       "50%     -0.696808   -0.100930   -0.082172    0.039068    0.043498  \n",
       "75%      1.240977    0.749700    0.670535    0.872264    0.643888  \n",
       "max     64.340135   87.208302   11.370135   54.358368   23.258043  "
      ]
     },
     "execution_count": 5,
     "metadata": {},
     "output_type": "execute_result"
    }
   ],
   "source": [
    "df.describe()"
   ]
  },
  {
   "cell_type": "markdown",
   "metadata": {},
   "source": [
    "### for now, fill the NaN with the mean values. And replace the outliers with the mean values\n",
    "\n",
    "Using the box plot to discover the outliers for some protein:"
   ]
  },
  {
   "cell_type": "code",
   "execution_count": 6,
   "metadata": {},
   "outputs": [
    {
     "data": {
      "text/plain": [
       "<AxesSubplot:xlabel='protein_3'>"
      ]
     },
     "execution_count": 6,
     "metadata": {},
     "output_type": "execute_result"
    },
    {
     "data": {
      "image/png": "[encoded data removed]",
      "text/plain": [
       "<Figure size 432x288 with 1 Axes>"
      ]
     },
     "metadata": {
      "needs_background": "light"
     },
     "output_type": "display_data"
    }
   ],
   "source": [
    "sns.boxplot(x=df['protein_3'])"
   ]
  },
  {
   "cell_type": "markdown",
   "metadata": {},
   "source": [
    "I will use the z-value to filter outliers:\n",
    "The Z-score is the signed number of standard deviations\n",
    "by which the value of an observation or data point is \n",
    "above the mean value of what is being observed or measured.\n",
    "\n",
    "To use the Z-value, i drop all the NaN rows."
   ]
  },
  {
   "cell_type": "code",
   "execution_count": 7,
   "metadata": {},
   "outputs": [],
   "source": [
    "df_nonan = df.dropna()"
   ]
  },
  {
   "cell_type": "code",
   "execution_count": 8,
   "metadata": {},
   "outputs": [
    {
     "data": {
      "text/plain": [
       "(373, 11)"
      ]
     },
     "execution_count": 8,
     "metadata": {},
     "output_type": "execute_result"
    }
   ],
   "source": [
    "df_nonan.shape"
   ]
  },
  {
   "cell_type": "code",
   "execution_count": 9,
   "metadata": {},
   "outputs": [],
   "source": [
    "from scipy import stats\n",
    "z = np.abs(stats.zscore(df_nonan))"
   ]
  },
  {
   "cell_type": "code",
   "execution_count": 10,
   "metadata": {},
   "outputs": [
    {
     "name": "stdout",
     "output_type": "stream",
     "text": [
      "(array([ 43,  52,  66,  98, 114, 128, 150, 156, 173, 196, 209, 215, 219,\n",
      "       223, 236, 241, 265, 269, 276, 276, 286, 287, 289, 298, 304, 305,\n",
      "       323, 340, 349, 349, 363], dtype=int64), array([ 9,  6,  1,  9,  5,  8,  9,  1,  4,  1,  7,  6,  8, 10,  2,  5,  9,\n",
      "        3,  3,  7,  3,  7,  3,  2,  6, 10,  8, 10,  4,  5,  4],\n",
      "      dtype=int64))\n"
     ]
    }
   ],
   "source": [
    "threshold = 3\n",
    "outliers_arr = np.where(z > 3)\n",
    "print(outliers_arr)"
   ]
  },
  {
   "cell_type": "code",
   "execution_count": 11,
   "metadata": {},
   "outputs": [],
   "source": [
    "# outliers_arr[0] - the rows numbers\n",
    "# outliers_arr[1] - the columns numbers"
   ]
  },
  {
   "cell_type": "code",
   "execution_count": 12,
   "metadata": {},
   "outputs": [
    {
     "name": "stdout",
     "output_type": "stream",
     "text": [
      "new_mean = 0.017955286086639738 for key protein_1\n",
      "Replacing for ID 92 at key protein_1\n",
      "Replacing for ID 211 at key protein_1\n",
      "Replacing for ID 265 at key protein_1\n",
      "new_mean = -0.245733383043987 for key protein_2\n",
      "Replacing for ID 315 at key protein_2\n",
      "Replacing for ID 345 at key protein_2\n",
      "Replacing for ID 399 at key protein_2\n",
      "new_mean = 0.05614968836723383 for key protein_3\n",
      "Replacing for ID 357 at key protein_3\n",
      "Replacing for ID 364 at key protein_3\n",
      "Replacing for ID 383 at key protein_3\n",
      "Replacing for ID 387 at key protein_3\n",
      "new_mean = 0.9839146673330059 for key protein_4\n",
      "Replacing for ID 207 at key protein_4\n",
      "Replacing for ID 233 at key protein_4\n",
      "Replacing for ID 465 at key protein_4\n",
      "Replacing for ID 482 at key protein_4\n",
      "new_mean = 0.1428618867472816 for key protein_5\n",
      "Replacing for ID 158 at key protein_5\n",
      "Replacing for ID 322 at key protein_5\n",
      "Replacing for ID 465 at key protein_5\n",
      "new_mean = -0.15778544624947682 for key protein_6\n",
      "Replacing for ID 71 at key protein_6\n",
      "Replacing for ID 98 at key protein_6\n",
      "Replacing for ID 286 at key protein_6\n",
      "Replacing for ID 407 at key protein_6\n",
      "new_mean = 0.05545375922834694 for key protein_7\n",
      "Replacing for ID 279 at key protein_7\n",
      "Replacing for ID 364 at key protein_7\n",
      "Replacing for ID 384 at key protein_7\n",
      "Replacing for ID 477 at key protein_7\n",
      "new_mean = -0.008541615344844882 for key protein_8\n",
      "Replacing for ID 68 at key protein_8\n",
      "new_mean = -0.07747381635825709 for key protein_9\n",
      "Replacing for ID 61 at key protein_9\n",
      "Replacing for ID 136 at key protein_9\n",
      "Replacing for ID 204 at key protein_9\n",
      "Replacing for ID 352 at key protein_9\n",
      "new_mean = 0.03271889023286816 for key protein_10\n",
      "Replacing for ID 294 at key protein_10\n",
      "Replacing for ID 355 at key protein_10\n",
      "Replacing for ID 408 at key protein_10\n",
      "Replacing for ID 452 at key protein_10\n"
     ]
    }
   ],
   "source": [
    "\n",
    "from copy import copy\n",
    "protein_keys = ['protein_1', 'protein_2', 'protein_3', 'protein_4', 'protein_5',\n",
    "       'protein_6', 'protein_7', 'protein_8', 'protein_9', 'protein_10']\n",
    "\n",
    "# threshold sets the limit = std*threshold, beyond which the outliers are detected\n",
    "threshold = 3\n",
    "\n",
    "for key in protein_keys:\n",
    "    \n",
    "    new_df = df[['ID',key]].copy()\n",
    "    \n",
    "    # remove nans\n",
    "    new_df = new_df.dropna()\n",
    "    \n",
    "    IDs_list = list(new_df.ID)\n",
    "    \n",
    "    z = np.abs(stats.zscore(new_df[key]))\n",
    "    outliers_arr = np.where(z > threshold)\n",
    "    \n",
    "    if len(outliers_arr[0]) != 0:\n",
    "        \n",
    "        \n",
    "#         print(\"\\n\")\n",
    "#         print(outliers_arr)\n",
    "\n",
    "        # printing those outlier values\n",
    "        for outlier_idx in outliers_arr[0]:\n",
    "#             print(new_df[key][IDs_list[outlier_idx]])\n",
    "\n",
    "            # dropping those rows from the new_df\n",
    "            new_df = new_df.drop(IDs_list[outlier_idx])\n",
    "            \n",
    "    else:\n",
    "        pass # no outliers were detected\n",
    "        \n",
    "    \n",
    "    # find the mean WITHOUT the outliers\n",
    "    new_mean = new_df[key].mean()\n",
    "    print(f\"new_mean = {new_mean} for key {key}\")\n",
    "    \n",
    "    # fill the outliers in the original df with mean\n",
    "#     print(\"\\n\\nOriginal dataset\")\n",
    "    for outlier_idx in outliers_arr[0]:\n",
    "        \n",
    "        # dropping those rows from the new_df\n",
    "        print(f\"Replacing for ID {IDs_list[outlier_idx]} at key {key}\")\n",
    "        # df.loc[:, ('ID', key)].at[IDs_list[outlier_idx], key] = new_mean\n",
    "        df.at[IDs_list[outlier_idx], key] = new_mean\n",
    "    \n",
    "    \n",
    "        \n",
    "    \n",
    "    \n",
    "    \n",
    "    "
   ]
  },
  {
   "cell_type": "markdown",
   "metadata": {},
   "source": [
    "## Box plot looks much better"
   ]
  },
  {
   "cell_type": "code",
   "execution_count": 13,
   "metadata": {},
   "outputs": [
    {
     "data": {
      "text/plain": [
       "<AxesSubplot:xlabel='protein_3'>"
      ]
     },
     "execution_count": 13,
     "metadata": {},
     "output_type": "execute_result"
    },
    {
     "data": {
      "image/png": "[encoded data removed]",
      "text/plain": [
       "<Figure size 432x288 with 1 Axes>"
      ]
     },
     "metadata": {
      "needs_background": "light"
     },
     "output_type": "display_data"
    }
   ],
   "source": [
    "sns.boxplot(x=df['protein_3'])"
   ]
  },
  {
   "cell_type": "markdown",
   "metadata": {},
   "source": [
    "## Filling the NaN values with the correct mean values"
   ]
  },
  {
   "cell_type": "code",
   "execution_count": 14,
   "metadata": {},
   "outputs": [],
   "source": [
    "df = df.fillna(df.mean())"
   ]
  },
  {
   "cell_type": "code",
   "execution_count": 16,
   "metadata": {},
   "outputs": [],
   "source": [
    "df.to_csv('protein_fixed.csv', sep=',', header=True, index=False)"
   ]
  },
  {
   "cell_type": "markdown",
   "metadata": {},
   "source": [
    "# CLUSTERING"
   ]
  },
  {
   "cell_type": "code",
   "execution_count": 17,
   "metadata": {},
   "outputs": [],
   "source": [
    "from sklearn.cluster import KMeans\n",
    "import numpy as np\n",
    "X = df.drop(['ID'], axis=1).values\n",
    "kmeans = KMeans(n_clusters=5, random_state=0).fit(X)"
   ]
  },
  {
   "cell_type": "code",
   "execution_count": 19,
   "metadata": {},
   "outputs": [],
   "source": [
    "from sklearn.decomposition import PCA\n",
    "\n",
    "reduced_data = PCA(n_components=2).fit_transform(X)"
   ]
  },
  {
   "cell_type": "markdown",
   "metadata": {},
   "source": [
    "### user the scaller on the same plot for each class"
   ]
  },
  {
   "cell_type": "code",
   "execution_count": 21,
   "metadata": {},
   "outputs": [],
   "source": [
    "labels = kmeans.labels_"
   ]
  },
  {
   "cell_type": "code",
   "execution_count": 97,
   "metadata": {},
   "outputs": [
    {
     "data": {
      "image/png": "[encoded data removed]",
      "text/plain": [
       "<Figure size 432x288 with 1 Axes>"
      ]
     },
     "metadata": {
      "needs_background": "light"
     },
     "output_type": "display_data"
    }
   ],
   "source": [
    "# plot scatter for each class\n",
    "import matplotlib.pyplot as plt\n",
    "\n",
    "colors = ('b', 'g', 'r', 'c', 'm')\n",
    "\n",
    "\n",
    "fig, ax = plt.subplots()\n",
    "\n",
    "for idx in range(5):\n",
    "    color = colors[idx]\n",
    "    \n",
    "    class_idx = [index for index, val in enumerate(labels) if val == idx]\n",
    "\n",
    "    \n",
    "    x = reduced_data[class_idx,0]\n",
    "    y = reduced_data[class_idx,1]\n",
    "    \n",
    "\n",
    "    ax.scatter(x, y, c=color, s=10, label=f\"mut_{idx}\",\n",
    "               alpha=0.8, edgecolors='none')\n",
    "\n",
    "\n",
    "ax.legend()\n",
    "ax.grid(True)\n",
    "\n",
    "plt.show()\n"
   ]
  },
  {
   "cell_type": "code",
   "execution_count": null,
   "metadata": {},
   "outputs": [],
   "source": []
  }
 ],
 "metadata": {
  "kernelspec": {
   "display_name": "Python 3",
   "language": "python",
   "name": "python3"
  },
  "language_info": {
   "codemirror_mode": {
    "name": "ipython",
    "version": 3
   },
   "file_extension": ".py",
   "mimetype": "text/x-python",
   "name": "python",
   "nbconvert_exporter": "python",
   "pygments_lexer": "ipython3",
   "version": "3.8.6"
  }
 },
 "nbformat": 4,
 "nbformat_minor": 4
}
