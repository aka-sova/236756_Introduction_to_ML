{
 "cells": [
  {
   "cell_type": "code",
   "execution_count": 1,
   "metadata": {},
   "outputs": [],
   "source": [
    "import pandas as pd # data analysis and manipulation tool\n",
    "import numpy as np # Numerical computing tools\n",
    "import seaborn as sns  # visualization library\n",
    "import matplotlib.pyplot as plt  # another visualization library"
   ]
  },
  {
   "cell_type": "markdown",
   "metadata": {},
   "source": [
    "# Start with reading the db, filtering outliers and filling the missing data"
   ]
  },
  {
   "cell_type": "code",
   "execution_count": 2,
   "metadata": {},
   "outputs": [],
   "source": [
    "df = pd.read_csv('protein.csv', sep=',', header=0)"
   ]
  },
  {
   "cell_type": "code",
   "execution_count": 3,
   "metadata": {},
   "outputs": [
    {
     "data": {
      "text/html": [
       "<div>\n",
       "<style scoped>\n",
       "    .dataframe tbody tr th:only-of-type {\n",
       "        vertical-align: middle;\n",
       "    }\n",
       "\n",
       "    .dataframe tbody tr th {\n",
       "        vertical-align: top;\n",
       "    }\n",
       "\n",
       "    .dataframe thead th {\n",
       "        text-align: right;\n",
       "    }\n",
       "</style>\n",
       "<table border=\"1\" class=\"dataframe\">\n",
       "  <thead>\n",
       "    <tr style=\"text-align: right;\">\n",
       "      <th></th>\n",
       "      <th>ID</th>\n",
       "      <th>protein_1</th>\n",
       "      <th>protein_2</th>\n",
       "      <th>protein_3</th>\n",
       "      <th>protein_4</th>\n",
       "      <th>protein_5</th>\n",
       "      <th>protein_6</th>\n",
       "      <th>protein_7</th>\n",
       "      <th>protein_8</th>\n",
       "      <th>protein_9</th>\n",
       "      <th>protein_10</th>\n",
       "    </tr>\n",
       "  </thead>\n",
       "  <tbody>\n",
       "    <tr>\n",
       "      <th>0</th>\n",
       "      <td>0</td>\n",
       "      <td>-1.006417</td>\n",
       "      <td>0.882125</td>\n",
       "      <td>NaN</td>\n",
       "      <td>-2.587934</td>\n",
       "      <td>1.715879</td>\n",
       "      <td>1.720692</td>\n",
       "      <td>-0.465769</td>\n",
       "      <td>1.135213</td>\n",
       "      <td>0.750321</td>\n",
       "      <td>0.627582</td>\n",
       "    </tr>\n",
       "    <tr>\n",
       "      <th>1</th>\n",
       "      <td>1</td>\n",
       "      <td>0.772735</td>\n",
       "      <td>-0.961301</td>\n",
       "      <td>1.639747</td>\n",
       "      <td>-2.108846</td>\n",
       "      <td>0.199883</td>\n",
       "      <td>0.568140</td>\n",
       "      <td>1.321528</td>\n",
       "      <td>-0.006901</td>\n",
       "      <td>-2.473787</td>\n",
       "      <td>-0.646808</td>\n",
       "    </tr>\n",
       "    <tr>\n",
       "      <th>2</th>\n",
       "      <td>2</td>\n",
       "      <td>-1.052577</td>\n",
       "      <td>-0.104960</td>\n",
       "      <td>1.550213</td>\n",
       "      <td>-2.576606</td>\n",
       "      <td>2.083175</td>\n",
       "      <td>2.015090</td>\n",
       "      <td>0.093019</td>\n",
       "      <td>0.959435</td>\n",
       "      <td>-0.263591</td>\n",
       "      <td>0.535906</td>\n",
       "    </tr>\n",
       "    <tr>\n",
       "      <th>3</th>\n",
       "      <td>3</td>\n",
       "      <td>-1.528830</td>\n",
       "      <td>2.176346</td>\n",
       "      <td>-0.214969</td>\n",
       "      <td>-2.021768</td>\n",
       "      <td>-2.962145</td>\n",
       "      <td>-3.295177</td>\n",
       "      <td>2.116420</td>\n",
       "      <td>-1.467550</td>\n",
       "      <td>0.579121</td>\n",
       "      <td>-1.434760</td>\n",
       "    </tr>\n",
       "    <tr>\n",
       "      <th>4</th>\n",
       "      <td>4</td>\n",
       "      <td>-1.407823</td>\n",
       "      <td>-1.028772</td>\n",
       "      <td>0.810723</td>\n",
       "      <td>4.052628</td>\n",
       "      <td>-1.700813</td>\n",
       "      <td>1.399962</td>\n",
       "      <td>2.256554</td>\n",
       "      <td>-0.818456</td>\n",
       "      <td>-1.529480</td>\n",
       "      <td>0.754909</td>\n",
       "    </tr>\n",
       "  </tbody>\n",
       "</table>\n",
       "</div>"
      ],
      "text/plain": [
       "   ID  protein_1  protein_2  protein_3  protein_4  protein_5  protein_6  \\\n",
       "0   0  -1.006417   0.882125        NaN  -2.587934   1.715879   1.720692   \n",
       "1   1   0.772735  -0.961301   1.639747  -2.108846   0.199883   0.568140   \n",
       "2   2  -1.052577  -0.104960   1.550213  -2.576606   2.083175   2.015090   \n",
       "3   3  -1.528830   2.176346  -0.214969  -2.021768  -2.962145  -3.295177   \n",
       "4   4  -1.407823  -1.028772   0.810723   4.052628  -1.700813   1.399962   \n",
       "\n",
       "   protein_7  protein_8  protein_9  protein_10  \n",
       "0  -0.465769   1.135213   0.750321    0.627582  \n",
       "1   1.321528  -0.006901  -2.473787   -0.646808  \n",
       "2   0.093019   0.959435  -0.263591    0.535906  \n",
       "3   2.116420  -1.467550   0.579121   -1.434760  \n",
       "4   2.256554  -0.818456  -1.529480    0.754909  "
      ]
     },
     "execution_count": 3,
     "metadata": {},
     "output_type": "execute_result"
    }
   ],
   "source": [
    "df.head(5)"
   ]
  },
  {
   "cell_type": "code",
   "execution_count": 4,
   "metadata": {},
   "outputs": [
    {
     "data": {
      "text/plain": [
       "(494, 11)"
      ]
     },
     "execution_count": 4,
     "metadata": {},
     "output_type": "execute_result"
    }
   ],
   "source": [
    "df.shape"
   ]
  },
  {
   "cell_type": "code",
   "execution_count": 5,
   "metadata": {},
   "outputs": [
    {
     "data": {
      "text/html": [
       "<div>\n",
       "<style scoped>\n",
       "    .dataframe tbody tr th:only-of-type {\n",
       "        vertical-align: middle;\n",
       "    }\n",
       "\n",
       "    .dataframe tbody tr th {\n",
       "        vertical-align: top;\n",
       "    }\n",
       "\n",
       "    .dataframe thead th {\n",
       "        text-align: right;\n",
       "    }\n",
       "</style>\n",
       "<table border=\"1\" class=\"dataframe\">\n",
       "  <thead>\n",
       "    <tr style=\"text-align: right;\">\n",
       "      <th></th>\n",
       "      <th>ID</th>\n",
       "      <th>protein_1</th>\n",
       "      <th>protein_2</th>\n",
       "      <th>protein_3</th>\n",
       "      <th>protein_4</th>\n",
       "      <th>protein_5</th>\n",
       "      <th>protein_6</th>\n",
       "      <th>protein_7</th>\n",
       "      <th>protein_8</th>\n",
       "      <th>protein_9</th>\n",
       "      <th>protein_10</th>\n",
       "    </tr>\n",
       "  </thead>\n",
       "  <tbody>\n",
       "    <tr>\n",
       "      <th>count</th>\n",
       "      <td>494.000000</td>\n",
       "      <td>489.000000</td>\n",
       "      <td>476.000000</td>\n",
       "      <td>478.000000</td>\n",
       "      <td>476.000000</td>\n",
       "      <td>480.000000</td>\n",
       "      <td>477.000000</td>\n",
       "      <td>487.000000</td>\n",
       "      <td>485.000000</td>\n",
       "      <td>479.000000</td>\n",
       "      <td>477.000000</td>\n",
       "    </tr>\n",
       "    <tr>\n",
       "      <th>mean</th>\n",
       "      <td>246.500000</td>\n",
       "      <td>-0.462127</td>\n",
       "      <td>-1.173895</td>\n",
       "      <td>-0.227398</td>\n",
       "      <td>1.465577</td>\n",
       "      <td>0.124944</td>\n",
       "      <td>-0.742783</td>\n",
       "      <td>0.362071</td>\n",
       "      <td>-0.200106</td>\n",
       "      <td>-0.923517</td>\n",
       "      <td>0.146468</td>\n",
       "    </tr>\n",
       "    <tr>\n",
       "      <th>std</th>\n",
       "      <td>142.749781</td>\n",
       "      <td>6.533040</td>\n",
       "      <td>19.906275</td>\n",
       "      <td>8.062840</td>\n",
       "      <td>17.277465</td>\n",
       "      <td>3.568627</td>\n",
       "      <td>10.348845</td>\n",
       "      <td>5.693674</td>\n",
       "      <td>4.410810</td>\n",
       "      <td>13.786652</td>\n",
       "      <td>1.662280</td>\n",
       "    </tr>\n",
       "    <tr>\n",
       "      <th>min</th>\n",
       "      <td>0.000000</td>\n",
       "      <td>-96.469898</td>\n",
       "      <td>-407.526638</td>\n",
       "      <td>-123.628501</td>\n",
       "      <td>-241.013809</td>\n",
       "      <td>-27.873525</td>\n",
       "      <td>-150.310102</td>\n",
       "      <td>-39.718672</td>\n",
       "      <td>-92.917408</td>\n",
       "      <td>-246.757608</td>\n",
       "      <td>-2.431825</td>\n",
       "    </tr>\n",
       "    <tr>\n",
       "      <th>25%</th>\n",
       "      <td>123.250000</td>\n",
       "      <td>-1.018382</td>\n",
       "      <td>-0.948167</td>\n",
       "      <td>-0.666352</td>\n",
       "      <td>-2.263689</td>\n",
       "      <td>-1.710851</td>\n",
       "      <td>-1.741266</td>\n",
       "      <td>-0.788513</td>\n",
       "      <td>-0.818456</td>\n",
       "      <td>-1.048256</td>\n",
       "      <td>-0.637084</td>\n",
       "    </tr>\n",
       "    <tr>\n",
       "      <th>50%</th>\n",
       "      <td>246.500000</td>\n",
       "      <td>-0.313710</td>\n",
       "      <td>-0.225694</td>\n",
       "      <td>0.104332</td>\n",
       "      <td>1.745072</td>\n",
       "      <td>-0.347418</td>\n",
       "      <td>-0.696808</td>\n",
       "      <td>-0.100930</td>\n",
       "      <td>-0.082172</td>\n",
       "      <td>0.039068</td>\n",
       "      <td>0.043498</td>\n",
       "    </tr>\n",
       "    <tr>\n",
       "      <th>75%</th>\n",
       "      <td>369.750000</td>\n",
       "      <td>0.548909</td>\n",
       "      <td>0.496533</td>\n",
       "      <td>0.817167</td>\n",
       "      <td>3.499794</td>\n",
       "      <td>2.251205</td>\n",
       "      <td>1.240977</td>\n",
       "      <td>0.749700</td>\n",
       "      <td>0.670535</td>\n",
       "      <td>0.872264</td>\n",
       "      <td>0.643888</td>\n",
       "    </tr>\n",
       "    <tr>\n",
       "      <th>max</th>\n",
       "      <td>493.000000</td>\n",
       "      <td>15.321833</td>\n",
       "      <td>69.568058</td>\n",
       "      <td>61.466833</td>\n",
       "      <td>208.838313</td>\n",
       "      <td>40.658268</td>\n",
       "      <td>64.340135</td>\n",
       "      <td>87.208302</td>\n",
       "      <td>11.370135</td>\n",
       "      <td>54.358368</td>\n",
       "      <td>23.258043</td>\n",
       "    </tr>\n",
       "  </tbody>\n",
       "</table>\n",
       "</div>"
      ],
      "text/plain": [
       "               ID   protein_1   protein_2   protein_3   protein_4   protein_5  \\\n",
       "count  494.000000  489.000000  476.000000  478.000000  476.000000  480.000000   \n",
       "mean   246.500000   -0.462127   -1.173895   -0.227398    1.465577    0.124944   \n",
       "std    142.749781    6.533040   19.906275    8.062840   17.277465    3.568627   \n",
       "min      0.000000  -96.469898 -407.526638 -123.628501 -241.013809  -27.873525   \n",
       "25%    123.250000   -1.018382   -0.948167   -0.666352   -2.263689   -1.710851   \n",
       "50%    246.500000   -0.313710   -0.225694    0.104332    1.745072   -0.347418   \n",
       "75%    369.750000    0.548909    0.496533    0.817167    3.499794    2.251205   \n",
       "max    493.000000   15.321833   69.568058   61.466833  208.838313   40.658268   \n",
       "\n",
       "        protein_6   protein_7   protein_8   protein_9  protein_10  \n",
       "count  477.000000  487.000000  485.000000  479.000000  477.000000  \n",
       "mean    -0.742783    0.362071   -0.200106   -0.923517    0.146468  \n",
       "std     10.348845    5.693674    4.410810   13.786652    1.662280  \n",
       "min   -150.310102  -39.718672  -92.917408 -246.757608   -2.431825  \n",
       "25%     -1.741266   -0.788513   -0.818456   -1.048256   -0.637084  \n",
       "50%     -0.696808   -0.100930   -0.082172    0.039068    0.043498  \n",
       "75%      1.240977    0.749700    0.670535    0.872264    0.643888  \n",
       "max     64.340135   87.208302   11.370135   54.358368   23.258043  "
      ]
     },
     "execution_count": 5,
     "metadata": {},
     "output_type": "execute_result"
    }
   ],
   "source": [
    "df.describe()"
   ]
  },
  {
   "cell_type": "markdown",
   "metadata": {},
   "source": [
    "### for now, fill the NaN with the mean values. And replace the outliers with the mean values\n",
    "\n",
    "Using the box plot to discover the outliers for some protein:"
   ]
  },
  {
   "cell_type": "code",
   "execution_count": 6,
   "metadata": {},
   "outputs": [
    {
     "data": {
      "text/plain": [
       "<AxesSubplot:xlabel='protein_3'>"
      ]
     },
     "execution_count": 6,
     "metadata": {},
     "output_type": "execute_result"
    },
    {
     "data": {
      "image/png": "[encoded data removed]",
      "text/plain": [
       "<Figure size 432x288 with 1 Axes>"
      ]
     },
     "metadata": {
      "needs_background": "light"
     },
     "output_type": "display_data"
    }
   ],
   "source": [
    "sns.boxplot(x=df['protein_3'])"
   ]
  },
  {
   "cell_type": "markdown",
   "metadata": {},
   "source": [
    "I will use the z-value to filter outliers:\n",
    "The Z-score is the signed number of standard deviations\n",
    "by which the value of an observation or data point is \n",
    "above the mean value of what is being observed or measured.\n",
    "\n",
    "To use the Z-value, i drop all the NaN rows."
   ]
  },
  {
   "cell_type": "code",
   "execution_count": 7,
   "metadata": {},
   "outputs": [],
   "source": [
    "df_nonan = df.dropna()"
   ]
  },
  {
   "cell_type": "code",
   "execution_count": 8,
   "metadata": {},
   "outputs": [
    {
     "data": {
      "text/plain": [
       "(373, 11)"
      ]
     },
     "execution_count": 8,
     "metadata": {},
     "output_type": "execute_result"
    }
   ],
   "source": [
    "df_nonan.shape"
   ]
  },
  {
   "cell_type": "code",
   "execution_count": 9,
   "metadata": {},
   "outputs": [],
   "source": [
    "from scipy import stats\n",
    "z = np.abs(stats.zscore(df_nonan))"
   ]
  },
  {
   "cell_type": "code",
   "execution_count": 10,
   "metadata": {},
   "outputs": [
    {
     "name": "stdout",
     "output_type": "stream",
     "text": [
      "(array([ 43,  52,  66,  98, 114, 128, 150, 156, 173, 196, 209, 215, 219,\n",
      "       223, 236, 241, 265, 269, 276, 276, 286, 287, 289, 298, 304, 305,\n",
      "       323, 340, 349, 349, 363], dtype=int64), array([ 9,  6,  1,  9,  5,  8,  9,  1,  4,  1,  7,  6,  8, 10,  2,  5,  9,\n",
      "        3,  3,  7,  3,  7,  3,  2,  6, 10,  8, 10,  4,  5,  4],\n",
      "      dtype=int64))\n"
     ]
    }
   ],
   "source": [
    "threshold = 3\n",
    "outliers_arr = np.where(z > 3)\n",
    "print(outliers_arr)"
   ]
  },
  {
   "cell_type": "code",
   "execution_count": 11,
   "metadata": {},
   "outputs": [],
   "source": [
    "# outliers_arr[0] - the rows numbers\n",
    "# outliers_arr[1] - the columns numbers"
   ]
  },
  {
   "cell_type": "code",
   "execution_count": 12,
   "metadata": {},
   "outputs": [
    {
     "name": "stdout",
     "output_type": "stream",
     "text": [
      "new_mean = 0.017955286086639738 for key protein_1\n",
      "Replacing for ID 92 at key protein_1\n",
      "Replacing for ID 211 at key protein_1\n",
      "Replacing for ID 265 at key protein_1\n",
      "new_mean = -0.245733383043987 for key protein_2\n",
      "Replacing for ID 315 at key protein_2\n",
      "Replacing for ID 345 at key protein_2\n",
      "Replacing for ID 399 at key protein_2\n",
      "new_mean = 0.05614968836723383 for key protein_3\n",
      "Replacing for ID 357 at key protein_3\n",
      "Replacing for ID 364 at key protein_3\n",
      "Replacing for ID 383 at key protein_3\n",
      "Replacing for ID 387 at key protein_3\n",
      "new_mean = 0.9839146673330059 for key protein_4\n",
      "Replacing for ID 207 at key protein_4\n",
      "Replacing for ID 233 at key protein_4\n",
      "Replacing for ID 465 at key protein_4\n",
      "Replacing for ID 482 at key protein_4\n",
      "new_mean = 0.1428618867472816 for key protein_5\n",
      "Replacing for ID 158 at key protein_5\n",
      "Replacing for ID 322 at key protein_5\n",
      "Replacing for ID 465 at key protein_5\n",
      "new_mean = -0.15778544624947682 for key protein_6\n",
      "Replacing for ID 71 at key protein_6\n",
      "Replacing for ID 98 at key protein_6\n",
      "Replacing for ID 286 at key protein_6\n",
      "Replacing for ID 407 at key protein_6\n",
      "new_mean = 0.05545375922834694 for key protein_7\n",
      "Replacing for ID 279 at key protein_7\n",
      "Replacing for ID 364 at key protein_7\n",
      "Replacing for ID 384 at key protein_7\n",
      "Replacing for ID 477 at key protein_7\n",
      "new_mean = -0.008541615344844882 for key protein_8\n",
      "Replacing for ID 68 at key protein_8\n",
      "new_mean = -0.07747381635825709 for key protein_9\n",
      "Replacing for ID 61 at key protein_9\n",
      "Replacing for ID 136 at key protein_9\n",
      "Replacing for ID 204 at key protein_9\n",
      "Replacing for ID 352 at key protein_9\n",
      "new_mean = 0.03271889023286816 for key protein_10\n",
      "Replacing for ID 294 at key protein_10\n",
      "Replacing for ID 355 at key protein_10\n",
      "Replacing for ID 408 at key protein_10\n",
      "Replacing for ID 452 at key protein_10\n"
     ]
    }
   ],
   "source": [
    "\n",
    "from copy import copy\n",
    "protein_keys = ['protein_1', 'protein_2', 'protein_3', 'protein_4', 'protein_5',\n",
    "       'protein_6', 'protein_7', 'protein_8', 'protein_9', 'protein_10']\n",
    "\n",
    "# threshold sets the limit = std*threshold, beyond which the outliers are detected\n",
    "threshold = 3\n",
    "\n",
    "for key in protein_keys:\n",
    "    \n",
    "    new_df = df[['ID',key]].copy()\n",
    "    \n",
    "    # remove nans\n",
    "    new_df = new_df.dropna()\n",
    "    \n",
    "    IDs_list = list(new_df.ID)\n",
    "    \n",
    "    z = np.abs(stats.zscore(new_df[key]))\n",
    "    outliers_arr = np.where(z > threshold)\n",
    "    \n",
    "    if len(outliers_arr[0]) != 0:\n",
    "        \n",
    "        \n",
    "#         print(\"\\n\")\n",
    "#         print(outliers_arr)\n",
    "\n",
    "        # printing those outlier values\n",
    "        for outlier_idx in outliers_arr[0]:\n",
    "#             print(new_df[key][IDs_list[outlier_idx]])\n",
    "\n",
    "            # dropping those rows from the new_df\n",
    "            new_df = new_df.drop(IDs_list[outlier_idx])\n",
    "            \n",
    "    else:\n",
    "        pass # no outliers were detected\n",
    "        \n",
    "    \n",
    "    # find the mean WITHOUT the outliers\n",
    "    new_mean = new_df[key].mean()\n",
    "    print(f\"new_mean = {new_mean} for key {key}\")\n",
    "    \n",
    "    # fill the outliers in the original df with mean\n",
    "#     print(\"\\n\\nOriginal dataset\")\n",
    "    for outlier_idx in outliers_arr[0]:\n",
    "        \n",
    "        # dropping those rows from the new_df\n",
    "        print(f\"Replacing for ID {IDs_list[outlier_idx]} at key {key}\")\n",
    "        # df.loc[:, ('ID', key)].at[IDs_list[outlier_idx], key] = new_mean\n",
    "        df.at[IDs_list[outlier_idx], key] = new_mean\n",
    "    \n",
    "    \n",
    "        \n",
    "    \n",
    "    \n",
    "    \n",
    "    "
   ]
  },
  {
   "cell_type": "markdown",
   "metadata": {},
   "source": [
    "## Box plot looks much better"
   ]
  },
  {
   "cell_type": "code",
   "execution_count": 13,
   "metadata": {},
   "outputs": [
    {
     "data": {
      "text/plain": [
       "<AxesSubplot:xlabel='protein_3'>"
      ]
     },
     "execution_count": 13,
     "metadata": {},
     "output_type": "execute_result"
    },
    {
     "data": {
      "image/png": "[encoded data removed]",
      "text/plain": [
       "<Figure size 432x288 with 1 Axes>"
      ]
     },
     "metadata": {
      "needs_background": "light"
     },
     "output_type": "display_data"
    }
   ],
   "source": [
    "sns.boxplot(x=df['protein_3'])"
   ]
  },
  {
   "cell_type": "markdown",
   "metadata": {},
   "source": [
    "## Filling the NaN values with the correct mean values"
   ]
  },
  {
   "cell_type": "code",
   "execution_count": 14,
   "metadata": {},
   "outputs": [],
   "source": [
    "df = df.fillna(df.mean())"
   ]
  },
  {
   "cell_type": "code",
   "execution_count": 15,
   "metadata": {},
   "outputs": [],
   "source": [
    "df.to_csv('protein_fixed.csv', sep=',', header=True, index=False)"
   ]
  },
  {
   "cell_type": "markdown",
   "metadata": {},
   "source": [
    "# CLUSTERING"
   ]
  },
  {
   "cell_type": "code",
   "execution_count": 121,
   "metadata": {},
   "outputs": [],
   "source": [
    "from sklearn.cluster import KMeans\n",
    "import numpy as np\n",
    "X = df.drop(['ID'], axis=1).values\n",
    "kmeans = KMeans(n_clusters=5, random_state=0).fit(X)"
   ]
  },
  {
   "cell_type": "code",
   "execution_count": 122,
   "metadata": {},
   "outputs": [],
   "source": [
    "from sklearn.decomposition import PCA\n",
    "\n",
    "reduced_data = PCA(n_components=2).fit_transform(X)"
   ]
  },
  {
   "cell_type": "markdown",
   "metadata": {},
   "source": [
    "### user the scaller on the same plot for each class"
   ]
  },
  {
   "cell_type": "code",
   "execution_count": 123,
   "metadata": {},
   "outputs": [],
   "source": [
    "labels_kmeans = kmeans.labels_"
   ]
  },
  {
   "cell_type": "code",
   "execution_count": 124,
   "metadata": {},
   "outputs": [
    {
     "data": {
      "image/png": "[encoded data removed]",
      "text/plain": [
       "<Figure size 432x288 with 1 Axes>"
      ]
     },
     "metadata": {
      "needs_background": "light"
     },
     "output_type": "display_data"
    }
   ],
   "source": [
    "# plot scatter for each class\n",
    "import matplotlib.pyplot as plt\n",
    "\n",
    "colors = ('b', 'g', 'r', 'c', 'm')\n",
    "\n",
    "\n",
    "fig, ax = plt.subplots()\n",
    "\n",
    "for idx in range(5):\n",
    "    color = colors[idx]\n",
    "    \n",
    "    class_idx = [index for index, val in enumerate(labels_kmeans) if val == idx]\n",
    "\n",
    "    \n",
    "    x = reduced_data[class_idx,0]\n",
    "    y = reduced_data[class_idx,1]\n",
    "    \n",
    "\n",
    "    ax.scatter(x, y, c=color, s=10, label=f\"mut_{idx}\",\n",
    "               alpha=0.8, edgecolors='none')\n",
    "\n",
    "\n",
    "ax.legend()\n",
    "ax.grid(True)\n",
    "\n",
    "plt.show()\n"
   ]
  },
  {
   "cell_type": "code",
   "execution_count": 125,
   "metadata": {},
   "outputs": [
    {
     "data": {
      "image/png": "[encoded data removed]",
      "text/plain": [
       "<Figure size 432x288 with 1 Axes>"
      ]
     },
     "metadata": {
      "needs_background": "light"
     },
     "output_type": "display_data"
    }
   ],
   "source": [
    "\n",
    "reduced_data_3d = PCA(n_components=3).fit_transform(X)\n",
    "\n",
    "fig = plt.figure()\n",
    "ax = fig.add_subplot(111, projection='3d')\n",
    "\n",
    "\n",
    "for idx in range(5):\n",
    "    color = colors[idx]\n",
    "    \n",
    "    class_idx = [index for index, val in enumerate(labels_kmeans) if val == idx]\n",
    "\n",
    "    \n",
    "    x = reduced_data_3d[class_idx,0]\n",
    "    y = reduced_data_3d[class_idx,1]\n",
    "    z = reduced_data_3d[class_idx,2]\n",
    "    \n",
    "\n",
    "    ax.scatter(x, y, z, c=color, label=f\"mut_{idx}\", s=3)\n",
    "\n",
    "\n",
    "ax.legend()\n",
    "ax.grid(True)\n",
    "\n",
    "plt.show()"
   ]
  },
  {
   "cell_type": "markdown",
   "metadata": {},
   "source": [
    "# Spectral Clustering"
   ]
  },
  {
   "cell_type": "markdown",
   "metadata": {},
   "source": [
    "some example from the internet:\n",
    "https://numpy.org/doc/stable/reference/generated/numpy.argsort.html"
   ]
  },
  {
   "cell_type": "code",
   "execution_count": 126,
   "metadata": {},
   "outputs": [
    {
     "name": "stdout",
     "output_type": "stream",
     "text": [
      "[[0. 0. 0. ... 0. 0. 0.]\n",
      " [0. 0. 0. ... 0. 0. 0.]\n",
      " [0. 0. 0. ... 0. 0. 0.]\n",
      " ...\n",
      " [0. 0. 0. ... 0. 0. 0.]\n",
      " [0. 0. 0. ... 0. 0. 0.]\n",
      " [0. 0. 0. ... 0. 0. 0.]]\n"
     ]
    }
   ],
   "source": [
    "from sklearn.datasets import make_circles\n",
    "from sklearn.neighbors import kneighbors_graph\n",
    "import numpy as np\n",
    "\n",
    "# create the data\n",
    "X, labels = make_circles(n_samples=500, noise=0.1, factor=.2)\n",
    "\n",
    "# use the nearest neighbor graph as our adjacency matrix\n",
    "A = kneighbors_graph(X, n_neighbors=5).toarray()\n",
    "print(A)\n",
    "\n",
    "# [[0. 0. 0. ... 0. 0. 0.]\n",
    "#  [0. 0. 0. ... 0. 0. 0.]\n",
    "#  [0. 0. 0. ... 0. 0. 0.]\n",
    "#  ...\n",
    "#  [0. 0. 0. ... 0. 1. 0.]\n",
    "#  [0. 0. 0. ... 0. 0. 0.]\n",
    "#  [0. 0. 0. ... 0. 0. 0.]]\n",
    " \n",
    "# create the graph laplacian\n",
    "D = np.diag(A.sum(axis=1))\n",
    "L = D-A\n",
    "\n",
    "# find the eigenvalues and eigenvectors\n",
    "vals, vecs = np.linalg.eig(L)\n",
    "\n",
    "# sort\n",
    "vecs = vecs[:,np.argsort(vals)]\n",
    "vals = vals[np.argsort(vals)]\n",
    "\n",
    "# use Fiedler value to find best cut to separate data\n",
    "clusters = vecs[:,1] > 0"
   ]
  },
  {
   "cell_type": "markdown",
   "metadata": {},
   "source": [
    "Example from sklearn:\n",
    "https://scikit-learn.org/stable/modules/generated/sklearn.cluster.SpectralClustering.html#sklearn.cluster.SpectralClustering"
   ]
  },
  {
   "cell_type": "code",
   "execution_count": 127,
   "metadata": {},
   "outputs": [
    {
     "name": "stdout",
     "output_type": "stream",
     "text": [
      "[1 1 1 0 0 0]\n"
     ]
    },
    {
     "data": {
      "text/plain": [
       "SpectralClustering(n_clusters=2, random_state=0)"
      ]
     },
     "execution_count": 127,
     "metadata": {},
     "output_type": "execute_result"
    }
   ],
   "source": [
    "from sklearn.cluster import SpectralClustering\n",
    "import numpy as np\n",
    "\n",
    "# X is an array 6X2 of locations in 2D \n",
    "\n",
    "X = np.array([[1, 1], [2, 1], [1, 0],\n",
    "              [4, 7], [3, 5], [3, 6]])\n",
    "clustering = SpectralClustering(n_clusters=2,\n",
    "        assign_labels=\"kmeans\",\n",
    "        random_state=0).fit(X)\n",
    "print(clustering.labels_)\n",
    "\n",
    "clustering"
   ]
  },
  {
   "cell_type": "markdown",
   "metadata": {},
   "source": [
    "### Now trying on our dataset"
   ]
  },
  {
   "cell_type": "code",
   "execution_count": 128,
   "metadata": {},
   "outputs": [
    {
     "data": {
      "image/png": "[encoded data removed]",
      "text/plain": [
       "<Figure size 432x288 with 1 Axes>"
      ]
     },
     "metadata": {
      "needs_background": "light"
     },
     "output_type": "display_data"
    }
   ],
   "source": [
    "X = df.drop(['ID'], axis=1).values\n",
    "\n",
    "clustering_virus = SpectralClustering(n_clusters=5,\n",
    "        affinity='nearest_neighbors',\n",
    "        assign_labels=\"discretize\",\n",
    "        random_state=0).fit(X)\n",
    "\n",
    "labels_spectral = clustering_virus.labels_\n",
    "\n",
    "\n",
    "### Using PCA again to vizualize the clusters\n",
    "\n",
    "# plot scatter for each class\n",
    "import matplotlib.pyplot as plt\n",
    "\n",
    "colors = ('b', 'g', 'r', 'c', 'm')\n",
    "\n",
    "fig, ax = plt.subplots()\n",
    "\n",
    "for idx in range(5):\n",
    "    color = colors[idx]\n",
    "    \n",
    "    class_idx = [index for index, val in enumerate(labels_spectral) if val == idx]\n",
    "\n",
    "    \n",
    "    x = reduced_data[class_idx,0]\n",
    "    y = reduced_data[class_idx,1]\n",
    "    \n",
    "\n",
    "    ax.scatter(x, y, c=color, s=10, label=f\"mut_{idx}\",\n",
    "               alpha=0.8, edgecolors='none')\n",
    "\n",
    "\n",
    "ax.legend()\n",
    "ax.grid(True)\n",
    "\n",
    "plt.show()\n",
    "\n"
   ]
  },
  {
   "cell_type": "code",
   "execution_count": 129,
   "metadata": {},
   "outputs": [
    {
     "data": {
      "image/png": "[encoded data removed]",
      "text/plain": [
       "<Figure size 432x288 with 1 Axes>"
      ]
     },
     "metadata": {
      "needs_background": "light"
     },
     "output_type": "display_data"
    }
   ],
   "source": [
    "\n",
    "fig = plt.figure()\n",
    "ax = fig.add_subplot(111, projection='3d')\n",
    "\n",
    "\n",
    "for idx in range(5):\n",
    "    color = colors[idx]\n",
    "    \n",
    "    class_idx = [index for index, val in enumerate(labels_spectral) if val == idx]\n",
    "\n",
    "    \n",
    "    x = reduced_data_3d[class_idx,0]\n",
    "    y = reduced_data_3d[class_idx,1]\n",
    "    z = reduced_data_3d[class_idx,2]\n",
    "    \n",
    "\n",
    "    ax.scatter(x, y, z, c=color, label=f\"mut_{idx}\", s=3)\n",
    "\n",
    "\n",
    "ax.legend()\n",
    "ax.grid(True)\n",
    "\n",
    "plt.show()"
   ]
  },
  {
   "cell_type": "markdown",
   "metadata": {},
   "source": [
    "In fact those results look better than the ones with K-means. To validate we use the silhouette score."
   ]
  },
  {
   "cell_type": "code",
   "execution_count": 130,
   "metadata": {},
   "outputs": [
    {
     "name": "stdout",
     "output_type": "stream",
     "text": [
      "Metric: l1\n",
      "\tkmeans_score = 0.222\n",
      "\tspectral_score = 0.238\n",
      "Metric: l2\n",
      "\tkmeans_score = 0.261\n",
      "\tspectral_score = 0.244\n",
      "Metric: cosine\n",
      "\tkmeans_score = 0.322\n",
      "\tspectral_score = 0.456\n"
     ]
    }
   ],
   "source": [
    "from sklearn import metrics\n",
    "\n",
    "metrics_list = ['l1', 'l2', 'cosine']\n",
    "\n",
    "for metric in metrics_list:\n",
    "\n",
    "    kmeans_score = metrics.silhouette_score(X, labels_kmeans, metric=metric)\n",
    "    spectral_score = metrics.silhouette_score(X, labels_spectral, metric=metric)\n",
    "\n",
    "    print(f\"Metric: {metric}\")\n",
    "    print(f\"\\tkmeans_score = {round(kmeans_score,3)}\")\n",
    "    print(f\"\\tspectral_score = {round(spectral_score,3)}\")"
   ]
  },
  {
   "cell_type": "markdown",
   "metadata": {},
   "source": [
    "The cosine score seems to be much higher for the spectral. Other metrics seem to be similar"
   ]
  },
  {
   "cell_type": "markdown",
   "metadata": {},
   "source": [
    "Now we find the most dominant features. There are 2 ways we test:\n",
    "\n",
    "- muticlass classification\n",
    "\n",
    "\n",
    "Using labels of clusters, we train classifier, and reveal the most dominant features used for the classification\n",
    "- intra-class feature similarity: \n",
    "\n",
    "\n",
    "For each feature, we calculate similarity (with some function) of each sample to the centroid in this class\n",
    "If the similarity for a spefic feature is high (distances are low), the feature is highly relevant for the class separation"
   ]
  },
  {
   "cell_type": "code",
   "execution_count": 131,
   "metadata": {},
   "outputs": [],
   "source": [
    "# Start with intra-class feature similarity\n",
    "import math \n",
    "\n",
    "# euclidean distance for instance\n",
    "def calc_similarity(feature_val, centroid_val):\n",
    "    sigma = 1\n",
    "    distance = np.linalg.norm(feature_val-centroid_val)\n",
    "    return np.exp(-distance/(sigma**2))\n",
    "\n",
    "results = np.zeros((5,10))\n",
    "\n",
    "for class_idx in range(5):\n",
    "    \n",
    "    # get the indexes of this specific class\n",
    "    class_labels = [relevant_class for relevant_class in range(len(labels_spectral)) if labels_spectral[relevant_class] == class_idx]    \n",
    "    \n",
    "    for feature_idx in range(10):  \n",
    "        \n",
    "        # list of all the feature values for this specific class\n",
    "        feature_class_mx = X[class_labels, feature_idx]\n",
    "        \n",
    "        # find the mean \n",
    "        class_feature_mean = np.mean(feature_class_mx)\n",
    "        \n",
    "        similarity = 0\n",
    "        \n",
    "        for feature in range(len(class_labels)):\n",
    "            similarity += calc_similarity(feature_class_mx[feature], class_feature_mean)\n",
    "            \n",
    "        \n",
    "        results[class_idx, feature_idx] = similarity\n",
    "        \n",
    "\n"
   ]
  },
  {
   "cell_type": "code",
   "execution_count": 132,
   "metadata": {},
   "outputs": [
    {
     "name": "stdout",
     "output_type": "stream",
     "text": [
      "RESULTS\n",
      "\n",
      "      feature_0    feature_1    feature_2    feature_3    feature_4    feature_5    feature_6    feature_7    feature_8    feature_9\n",
      "--  -----------  -----------  -----------  -----------  -----------  -----------  -----------  -----------  -----------  -----------\n",
      " 0      68.5702      91.1412      75.2108      70.3830      60.5650      74.7109      81.7262      80.5767      78.9396      80.5396\n",
      " 1      31.5218      21.3665      42.9162      38.8519      34.1256      38.2737      33.8812      40.1261      41.9812      36.1326\n",
      " 2      34.4962      31.0683      28.8471      32.0706      27.3605      13.2361      36.8326      34.3448      34.6677      31.0114\n",
      " 3      32.6632      42.2488      28.6560      39.8108      43.9711      31.0128      43.7586      45.8346      33.4942      47.5409\n",
      " 4      56.6507      54.0160      73.4163      68.0460      70.7771      55.7836      50.0169      75.9679      74.6233      97.4699\n"
     ]
    }
   ],
   "source": [
    "print(\"RESULTS\\n\")\n",
    "from tabulate import tabulate\n",
    "\n",
    "headers = [f\"feature_{idx}\" for idx in range(10)]\n",
    "rowIDs = range(5)\n",
    "\n",
    "\n",
    "table = tabulate(results, headers, floatfmt=\".4f\", showindex=rowIDs)\n",
    "print(table)\n"
   ]
  },
  {
   "cell_type": "code",
   "execution_count": 133,
   "metadata": {},
   "outputs": [],
   "source": [
    "indexes_sort = np.argsort(results, kind='quicksort', axis=1)\n",
    "\n",
    "results_sorted = np.zeros((5,10))\n",
    "\n",
    "for class_idx in range(5):\n",
    "    for order_idx in range(10):\n",
    "        \n",
    "        feature_in_order = indexes_sort[class_idx, order_idx]\n",
    "        \n",
    "        results_sorted[class_idx, feature_in_order] = order_idx"
   ]
  },
  {
   "cell_type": "code",
   "execution_count": 134,
   "metadata": {},
   "outputs": [
    {
     "name": "stdout",
     "output_type": "stream",
     "text": [
      "      feature_0    feature_1    feature_2    feature_3    feature_4    feature_5    feature_6    feature_7    feature_8    feature_9\n",
      "--  -----------  -----------  -----------  -----------  -----------  -----------  -----------  -----------  -----------  -----------\n",
      " 0            1            9            4            2            0            3            8            7            5            6\n",
      " 1            1            0            9            6            3            5            2            7            8            4\n",
      " 2            7            4            2            5            1            0            9            6            8            3\n",
      " 3            2            5            0            4            7            1            6            8            3            9\n",
      " 4            3            1            6            4            5            2            0            8            7            9\n"
     ]
    }
   ],
   "source": [
    "table = tabulate(results_sorted, headers, floatfmt=\".0f\", showindex=rowIDs)\n",
    "print(table)"
   ]
  },
  {
   "cell_type": "markdown",
   "metadata": {},
   "source": [
    "### we are looking for features with highest similarity score. The score of 9 means this feature is very dominant at specific class classification"
   ]
  },
  {
   "cell_type": "markdown",
   "metadata": {},
   "source": [
    "- Feature 9:  dominant for class 3,4 -> take\n",
    "- Feature 6:  dominant for Class 2, important for class 0 -> take\n",
    "- Feature 2:  dominant for class 1 -> take \n",
    "- Feature 1:  dominant for class 0 -> take\n",
    "- Feature 7:  important for many classes -> take"
   ]
  },
  {
   "cell_type": "markdown",
   "metadata": {},
   "source": [
    "To validate the results, let's take only those features and try to make a classification again"
   ]
  },
  {
   "cell_type": "code",
   "execution_count": 146,
   "metadata": {},
   "outputs": [
    {
     "data": {
      "image/png": "[encoded data removed]",
      "text/plain": [
       "<Figure size 432x288 with 1 Axes>"
      ]
     },
     "metadata": {
      "needs_background": "light"
     },
     "output_type": "display_data"
    }
   ],
   "source": [
    "X = df.drop(['ID'], axis=1).values\n",
    "features_rows = [1, 2, 3, 6, 7, 8, 9]\n",
    "# features_rows = [2, 6, 7, 8, 9]\n",
    "X_new = X[:, features_rows]\n",
    "\n",
    "clustering_virus_truncated = SpectralClustering(n_clusters=5,\n",
    "        affinity='nearest_neighbors',\n",
    "        assign_labels=\"discretize\",\n",
    "        random_state=0).fit(X_new)\n",
    "\n",
    "labels_spectral_truncated = clustering_virus_truncated.labels_\n",
    "\n",
    "\n",
    "### Using PCA again to vizualize the clusters\n",
    "\n",
    "# plot scatter for each class\n",
    "import matplotlib.pyplot as plt\n",
    "\n",
    "colors = ('b', 'g', 'r', 'c', 'm')\n",
    "\n",
    "fig, ax = plt.subplots()\n",
    "\n",
    "for idx in range(5):\n",
    "    color = colors[idx]\n",
    "    \n",
    "    class_idx = [index for index, val in enumerate(labels_spectral_truncated) if val == idx]\n",
    "\n",
    "    \n",
    "    x = reduced_data[class_idx,0]\n",
    "    y = reduced_data[class_idx,1]\n",
    "    \n",
    "\n",
    "    ax.scatter(x, y, c=color, s=10, label=f\"mut_{idx}\",\n",
    "               alpha=0.8, edgecolors='none')\n",
    "\n",
    "\n",
    "ax.legend()\n",
    "ax.grid(True)\n",
    "\n",
    "plt.show()\n",
    "\n"
   ]
  },
  {
   "cell_type": "code",
   "execution_count": 147,
   "metadata": {},
   "outputs": [
    {
     "data": {
      "image/png": "[encoded data removed]",
      "text/plain": [
       "<Figure size 432x288 with 1 Axes>"
      ]
     },
     "metadata": {
      "needs_background": "light"
     },
     "output_type": "display_data"
    }
   ],
   "source": [
    "fig = plt.figure()\n",
    "ax = fig.add_subplot(111, projection='3d')\n",
    "\n",
    "\n",
    "for idx in range(5):\n",
    "    color = colors[idx]\n",
    "    \n",
    "    class_idx = [index for index, val in enumerate(labels_spectral_truncated) if val == idx]\n",
    "    \n",
    "    x = reduced_data_3d[class_idx,0]\n",
    "    y = reduced_data_3d[class_idx,1]\n",
    "    z = reduced_data_3d[class_idx,2]\n",
    "    \n",
    "\n",
    "    ax.scatter(x, y, z, c=color, label=f\"mut_{idx}\", s=3)\n",
    "\n",
    "\n",
    "ax.legend()\n",
    "ax.grid(True)\n",
    "\n",
    "plt.show()"
   ]
  },
  {
   "cell_type": "code",
   "execution_count": 148,
   "metadata": {},
   "outputs": [
    {
     "name": "stdout",
     "output_type": "stream",
     "text": [
      "Metric: l1\n",
      "\tkmeans_score = 0.222\n",
      "\tspectral_score_1 = 0.238\n",
      "\tspectral_score_2 = 0.22\n",
      "Metric: l2\n",
      "\tkmeans_score = 0.261\n",
      "\tspectral_score_1 = 0.244\n",
      "\tspectral_score_2 = 0.193\n",
      "Metric: cosine\n",
      "\tkmeans_score = 0.322\n",
      "\tspectral_score_1 = 0.456\n",
      "\tspectral_score_2 = 0.209\n"
     ]
    }
   ],
   "source": [
    "from sklearn import metrics\n",
    "\n",
    "metrics_list = ['l1', 'l2', 'cosine']\n",
    "\n",
    "for metric in metrics_list:\n",
    "\n",
    "    kmeans_score = metrics.silhouette_score(X, labels_kmeans, metric=metric)\n",
    "    spectral_score = metrics.silhouette_score(X, labels_spectral, metric=metric)\n",
    "    spectral_score_truncated = metrics.silhouette_score(X, labels_spectral_truncated, metric=metric)\n",
    "\n",
    "    print(f\"Metric: {metric}\")\n",
    "    print(f\"\\tkmeans_score = {round(kmeans_score,3)}\")\n",
    "    print(f\"\\tspectral_score_1 = {round(spectral_score,3)}\")\n",
    "    print(f\"\\tspectral_score_2 = {round(spectral_score_truncated,3)}\")"
   ]
  },
  {
   "cell_type": "code",
   "execution_count": null,
   "metadata": {},
   "outputs": [],
   "source": []
  },
  {
   "cell_type": "code",
   "execution_count": null,
   "metadata": {},
   "outputs": [],
   "source": []
  },
  {
   "cell_type": "code",
   "execution_count": null,
   "metadata": {},
   "outputs": [],
   "source": []
  }
 ],
 "metadata": {
  "kernelspec": {
   "display_name": "Python 3",
   "language": "python",
   "name": "python3"
  },
  "language_info": {
   "codemirror_mode": {
    "name": "ipython",
    "version": 3
   },
   "file_extension": ".py",
   "mimetype": "text/x-python",
   "name": "python",
   "nbconvert_exporter": "python",
   "pygments_lexer": "ipython3",
   "version": "3.8.6"
  }
 },
 "nbformat": 4,
 "nbformat_minor": 4
}
