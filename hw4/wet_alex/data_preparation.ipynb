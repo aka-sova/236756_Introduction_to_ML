{
 "cells": [
  {
   "cell_type": "code",
   "execution_count": 1,
   "metadata": {
    "id": "s4LCDuCTJR-G"
   },
   "outputs": [],
   "source": [
    "import pandas as pd # data analysis and manipulation tool\n",
    "import numpy as np # Numerical computing tools\n",
    "import seaborn as sns  # visualization library\n",
    "import matplotlib.pyplot as plt  # another visualization library"
   ]
  },
  {
   "cell_type": "markdown",
   "metadata": {
    "id": "jt3U6z84JR-Q"
   },
   "source": [
    "# Start with reading the db, filtering outliers and filling the missing data"
   ]
  },
  {
   "cell_type": "code",
   "execution_count": 2,
   "metadata": {
    "id": "qoVBbMAxJR-R"
   },
   "outputs": [],
   "source": [
    "df = pd.read_csv('protein.csv', sep=',', header=0)"
   ]
  },
  {
   "cell_type": "code",
   "execution_count": 3,
   "metadata": {
    "colab": {
     "base_uri": "https://localhost:8080/",
     "height": 195
    },
    "id": "_jIExcrKJR-R",
    "outputId": "e3d523c7-100c-421c-b842-b51c3e11788f"
   },
   "outputs": [
    {
     "data": {
      "text/html": [
       "<div>\n",
       "<style scoped>\n",
       "    .dataframe tbody tr th:only-of-type {\n",
       "        vertical-align: middle;\n",
       "    }\n",
       "\n",
       "    .dataframe tbody tr th {\n",
       "        vertical-align: top;\n",
       "    }\n",
       "\n",
       "    .dataframe thead th {\n",
       "        text-align: right;\n",
       "    }\n",
       "</style>\n",
       "<table border=\"1\" class=\"dataframe\">\n",
       "  <thead>\n",
       "    <tr style=\"text-align: right;\">\n",
       "      <th></th>\n",
       "      <th>ID</th>\n",
       "      <th>protein_1</th>\n",
       "      <th>protein_2</th>\n",
       "      <th>protein_3</th>\n",
       "      <th>protein_4</th>\n",
       "      <th>protein_5</th>\n",
       "      <th>protein_6</th>\n",
       "      <th>protein_7</th>\n",
       "      <th>protein_8</th>\n",
       "      <th>protein_9</th>\n",
       "      <th>protein_10</th>\n",
       "    </tr>\n",
       "  </thead>\n",
       "  <tbody>\n",
       "    <tr>\n",
       "      <th>0</th>\n",
       "      <td>0</td>\n",
       "      <td>-1.006417</td>\n",
       "      <td>0.882125</td>\n",
       "      <td>NaN</td>\n",
       "      <td>-2.587934</td>\n",
       "      <td>1.715879</td>\n",
       "      <td>1.720692</td>\n",
       "      <td>-0.465769</td>\n",
       "      <td>1.135213</td>\n",
       "      <td>0.750321</td>\n",
       "      <td>0.627582</td>\n",
       "    </tr>\n",
       "    <tr>\n",
       "      <th>1</th>\n",
       "      <td>1</td>\n",
       "      <td>0.772735</td>\n",
       "      <td>-0.961301</td>\n",
       "      <td>1.639747</td>\n",
       "      <td>-2.108846</td>\n",
       "      <td>0.199883</td>\n",
       "      <td>0.568140</td>\n",
       "      <td>1.321528</td>\n",
       "      <td>-0.006901</td>\n",
       "      <td>-2.473787</td>\n",
       "      <td>-0.646808</td>\n",
       "    </tr>\n",
       "    <tr>\n",
       "      <th>2</th>\n",
       "      <td>2</td>\n",
       "      <td>-1.052577</td>\n",
       "      <td>-0.104960</td>\n",
       "      <td>1.550213</td>\n",
       "      <td>-2.576606</td>\n",
       "      <td>2.083175</td>\n",
       "      <td>2.015090</td>\n",
       "      <td>0.093019</td>\n",
       "      <td>0.959435</td>\n",
       "      <td>-0.263591</td>\n",
       "      <td>0.535906</td>\n",
       "    </tr>\n",
       "    <tr>\n",
       "      <th>3</th>\n",
       "      <td>3</td>\n",
       "      <td>-1.528830</td>\n",
       "      <td>2.176346</td>\n",
       "      <td>-0.214969</td>\n",
       "      <td>-2.021768</td>\n",
       "      <td>-2.962145</td>\n",
       "      <td>-3.295177</td>\n",
       "      <td>2.116420</td>\n",
       "      <td>-1.467550</td>\n",
       "      <td>0.579121</td>\n",
       "      <td>-1.434760</td>\n",
       "    </tr>\n",
       "    <tr>\n",
       "      <th>4</th>\n",
       "      <td>4</td>\n",
       "      <td>-1.407823</td>\n",
       "      <td>-1.028772</td>\n",
       "      <td>0.810723</td>\n",
       "      <td>4.052628</td>\n",
       "      <td>-1.700813</td>\n",
       "      <td>1.399962</td>\n",
       "      <td>2.256554</td>\n",
       "      <td>-0.818456</td>\n",
       "      <td>-1.529480</td>\n",
       "      <td>0.754909</td>\n",
       "    </tr>\n",
       "  </tbody>\n",
       "</table>\n",
       "</div>"
      ],
      "text/plain": [
       "   ID  protein_1  protein_2  protein_3  protein_4  protein_5  protein_6  \\\n",
       "0   0  -1.006417   0.882125        NaN  -2.587934   1.715879   1.720692   \n",
       "1   1   0.772735  -0.961301   1.639747  -2.108846   0.199883   0.568140   \n",
       "2   2  -1.052577  -0.104960   1.550213  -2.576606   2.083175   2.015090   \n",
       "3   3  -1.528830   2.176346  -0.214969  -2.021768  -2.962145  -3.295177   \n",
       "4   4  -1.407823  -1.028772   0.810723   4.052628  -1.700813   1.399962   \n",
       "\n",
       "   protein_7  protein_8  protein_9  protein_10  \n",
       "0  -0.465769   1.135213   0.750321    0.627582  \n",
       "1   1.321528  -0.006901  -2.473787   -0.646808  \n",
       "2   0.093019   0.959435  -0.263591    0.535906  \n",
       "3   2.116420  -1.467550   0.579121   -1.434760  \n",
       "4   2.256554  -0.818456  -1.529480    0.754909  "
      ]
     },
     "execution_count": 3,
     "metadata": {},
     "output_type": "execute_result"
    }
   ],
   "source": [
    "df.head(5)"
   ]
  },
  {
   "cell_type": "code",
   "execution_count": 4,
   "metadata": {
    "colab": {
     "base_uri": "https://localhost:8080/"
    },
    "id": "qpDZbeI_JR-T",
    "outputId": "d600907a-0615-4037-b79c-4a518b41e340"
   },
   "outputs": [
    {
     "data": {
      "text/plain": [
       "(494, 11)"
      ]
     },
     "execution_count": 4,
     "metadata": {},
     "output_type": "execute_result"
    }
   ],
   "source": [
    "df.shape"
   ]
  },
  {
   "cell_type": "code",
   "execution_count": 5,
   "metadata": {
    "colab": {
     "base_uri": "https://localhost:8080/",
     "height": 284
    },
    "id": "JylDY2N2JR-T",
    "outputId": "687e5273-09d1-44a7-d372-579ea7e7a68e"
   },
   "outputs": [
    {
     "data": {
      "text/html": [
       "<div>\n",
       "<style scoped>\n",
       "    .dataframe tbody tr th:only-of-type {\n",
       "        vertical-align: middle;\n",
       "    }\n",
       "\n",
       "    .dataframe tbody tr th {\n",
       "        vertical-align: top;\n",
       "    }\n",
       "\n",
       "    .dataframe thead th {\n",
       "        text-align: right;\n",
       "    }\n",
       "</style>\n",
       "<table border=\"1\" class=\"dataframe\">\n",
       "  <thead>\n",
       "    <tr style=\"text-align: right;\">\n",
       "      <th></th>\n",
       "      <th>ID</th>\n",
       "      <th>protein_1</th>\n",
       "      <th>protein_2</th>\n",
       "      <th>protein_3</th>\n",
       "      <th>protein_4</th>\n",
       "      <th>protein_5</th>\n",
       "      <th>protein_6</th>\n",
       "      <th>protein_7</th>\n",
       "      <th>protein_8</th>\n",
       "      <th>protein_9</th>\n",
       "      <th>protein_10</th>\n",
       "    </tr>\n",
       "  </thead>\n",
       "  <tbody>\n",
       "    <tr>\n",
       "      <th>count</th>\n",
       "      <td>494.000000</td>\n",
       "      <td>489.000000</td>\n",
       "      <td>476.000000</td>\n",
       "      <td>478.000000</td>\n",
       "      <td>476.000000</td>\n",
       "      <td>480.000000</td>\n",
       "      <td>477.000000</td>\n",
       "      <td>487.000000</td>\n",
       "      <td>485.000000</td>\n",
       "      <td>479.000000</td>\n",
       "      <td>477.000000</td>\n",
       "    </tr>\n",
       "    <tr>\n",
       "      <th>mean</th>\n",
       "      <td>246.500000</td>\n",
       "      <td>-0.462127</td>\n",
       "      <td>-1.173895</td>\n",
       "      <td>-0.227398</td>\n",
       "      <td>1.465577</td>\n",
       "      <td>0.124944</td>\n",
       "      <td>-0.742783</td>\n",
       "      <td>0.362071</td>\n",
       "      <td>-0.200106</td>\n",
       "      <td>-0.923517</td>\n",
       "      <td>0.146468</td>\n",
       "    </tr>\n",
       "    <tr>\n",
       "      <th>std</th>\n",
       "      <td>142.749781</td>\n",
       "      <td>6.533040</td>\n",
       "      <td>19.906275</td>\n",
       "      <td>8.062840</td>\n",
       "      <td>17.277465</td>\n",
       "      <td>3.568627</td>\n",
       "      <td>10.348845</td>\n",
       "      <td>5.693674</td>\n",
       "      <td>4.410810</td>\n",
       "      <td>13.786652</td>\n",
       "      <td>1.662280</td>\n",
       "    </tr>\n",
       "    <tr>\n",
       "      <th>min</th>\n",
       "      <td>0.000000</td>\n",
       "      <td>-96.469898</td>\n",
       "      <td>-407.526638</td>\n",
       "      <td>-123.628501</td>\n",
       "      <td>-241.013809</td>\n",
       "      <td>-27.873525</td>\n",
       "      <td>-150.310102</td>\n",
       "      <td>-39.718672</td>\n",
       "      <td>-92.917408</td>\n",
       "      <td>-246.757608</td>\n",
       "      <td>-2.431825</td>\n",
       "    </tr>\n",
       "    <tr>\n",
       "      <th>25%</th>\n",
       "      <td>123.250000</td>\n",
       "      <td>-1.018382</td>\n",
       "      <td>-0.948167</td>\n",
       "      <td>-0.666352</td>\n",
       "      <td>-2.263689</td>\n",
       "      <td>-1.710851</td>\n",
       "      <td>-1.741266</td>\n",
       "      <td>-0.788513</td>\n",
       "      <td>-0.818456</td>\n",
       "      <td>-1.048256</td>\n",
       "      <td>-0.637084</td>\n",
       "    </tr>\n",
       "    <tr>\n",
       "      <th>50%</th>\n",
       "      <td>246.500000</td>\n",
       "      <td>-0.313710</td>\n",
       "      <td>-0.225694</td>\n",
       "      <td>0.104332</td>\n",
       "      <td>1.745072</td>\n",
       "      <td>-0.347418</td>\n",
       "      <td>-0.696808</td>\n",
       "      <td>-0.100930</td>\n",
       "      <td>-0.082172</td>\n",
       "      <td>0.039068</td>\n",
       "      <td>0.043498</td>\n",
       "    </tr>\n",
       "    <tr>\n",
       "      <th>75%</th>\n",
       "      <td>369.750000</td>\n",
       "      <td>0.548909</td>\n",
       "      <td>0.496533</td>\n",
       "      <td>0.817167</td>\n",
       "      <td>3.499794</td>\n",
       "      <td>2.251205</td>\n",
       "      <td>1.240977</td>\n",
       "      <td>0.749700</td>\n",
       "      <td>0.670535</td>\n",
       "      <td>0.872264</td>\n",
       "      <td>0.643888</td>\n",
       "    </tr>\n",
       "    <tr>\n",
       "      <th>max</th>\n",
       "      <td>493.000000</td>\n",
       "      <td>15.321833</td>\n",
       "      <td>69.568058</td>\n",
       "      <td>61.466833</td>\n",
       "      <td>208.838313</td>\n",
       "      <td>40.658268</td>\n",
       "      <td>64.340135</td>\n",
       "      <td>87.208302</td>\n",
       "      <td>11.370135</td>\n",
       "      <td>54.358368</td>\n",
       "      <td>23.258043</td>\n",
       "    </tr>\n",
       "  </tbody>\n",
       "</table>\n",
       "</div>"
      ],
      "text/plain": [
       "               ID   protein_1   protein_2   protein_3   protein_4   protein_5  \\\n",
       "count  494.000000  489.000000  476.000000  478.000000  476.000000  480.000000   \n",
       "mean   246.500000   -0.462127   -1.173895   -0.227398    1.465577    0.124944   \n",
       "std    142.749781    6.533040   19.906275    8.062840   17.277465    3.568627   \n",
       "min      0.000000  -96.469898 -407.526638 -123.628501 -241.013809  -27.873525   \n",
       "25%    123.250000   -1.018382   -0.948167   -0.666352   -2.263689   -1.710851   \n",
       "50%    246.500000   -0.313710   -0.225694    0.104332    1.745072   -0.347418   \n",
       "75%    369.750000    0.548909    0.496533    0.817167    3.499794    2.251205   \n",
       "max    493.000000   15.321833   69.568058   61.466833  208.838313   40.658268   \n",
       "\n",
       "        protein_6   protein_7   protein_8   protein_9  protein_10  \n",
       "count  477.000000  487.000000  485.000000  479.000000  477.000000  \n",
       "mean    -0.742783    0.362071   -0.200106   -0.923517    0.146468  \n",
       "std     10.348845    5.693674    4.410810   13.786652    1.662280  \n",
       "min   -150.310102  -39.718672  -92.917408 -246.757608   -2.431825  \n",
       "25%     -1.741266   -0.788513   -0.818456   -1.048256   -0.637084  \n",
       "50%     -0.696808   -0.100930   -0.082172    0.039068    0.043498  \n",
       "75%      1.240977    0.749700    0.670535    0.872264    0.643888  \n",
       "max     64.340135   87.208302   11.370135   54.358368   23.258043  "
      ]
     },
     "execution_count": 5,
     "metadata": {},
     "output_type": "execute_result"
    }
   ],
   "source": [
    "df.describe()"
   ]
  },
  {
   "cell_type": "markdown",
   "metadata": {
    "id": "30gMsQgYJR-U"
   },
   "source": [
    "### for now, fill the NaN with the mean values. And replace the outliers with the mean values\n",
    "\n",
    "Using the box plot to discover the outliers for some protein:"
   ]
  },
  {
   "cell_type": "code",
   "execution_count": 6,
   "metadata": {
    "colab": {
     "base_uri": "https://localhost:8080/",
     "height": 298
    },
    "id": "kNZNM4NvJR-U",
    "outputId": "abb7c7dd-b1d6-47c6-fad5-808e1457a363"
   },
   "outputs": [
    {
     "data": {
      "text/plain": [
       "<AxesSubplot:xlabel='protein_3'>"
      ]
     },
     "execution_count": 6,
     "metadata": {},
     "output_type": "execute_result"
    },
    {
     "data": {
      "image/png": "[encoded data removed]",
      "text/plain": [
       "<Figure size 432x288 with 1 Axes>"
      ]
     },
     "metadata": {
      "needs_background": "light"
     },
     "output_type": "display_data"
    }
   ],
   "source": [
    "sns.boxplot(x=df['protein_3'])"
   ]
  },
  {
   "cell_type": "markdown",
   "metadata": {
    "id": "49DYepd6JR-V"
   },
   "source": [
    "I will use the z-value to filter outliers:\n",
    "The Z-score is the signed number of standard deviations\n",
    "by which the value of an observation or data point is \n",
    "above the mean value of what is being observed or measured.\n",
    "\n",
    "To use the Z-value, i drop all the NaN rows."
   ]
  },
  {
   "cell_type": "code",
   "execution_count": 9,
   "metadata": {
    "id": "Sob9MRztJR-V"
   },
   "outputs": [],
   "source": [
    "df_nonan = df.dropna()"
   ]
  },
  {
   "cell_type": "code",
   "execution_count": 10,
   "metadata": {
    "colab": {
     "base_uri": "https://localhost:8080/"
    },
    "id": "YxB5vMgnJR-V",
    "outputId": "641f42d3-6a04-4453-b11d-ecfb3cdd1c8a"
   },
   "outputs": [
    {
     "data": {
      "text/plain": [
       "(373, 11)"
      ]
     },
     "execution_count": 10,
     "metadata": {},
     "output_type": "execute_result"
    }
   ],
   "source": [
    "df_nonan.shape"
   ]
  },
  {
   "cell_type": "code",
   "execution_count": 11,
   "metadata": {
    "id": "800Irf5NJR-W"
   },
   "outputs": [],
   "source": [
    "from scipy import stats\n",
    "z = np.abs(stats.zscore(df_nonan))"
   ]
  },
  {
   "cell_type": "code",
   "execution_count": 12,
   "metadata": {
    "colab": {
     "base_uri": "https://localhost:8080/"
    },
    "id": "IPtqGQOFJR-W",
    "outputId": "abd76645-2732-4677-aab0-e1b03d4012e0"
   },
   "outputs": [
    {
     "name": "stdout",
     "output_type": "stream",
     "text": [
      "(array([ 43,  52,  66,  98, 114, 128, 150, 156, 173, 196, 209, 215, 219,\n",
      "       223, 236, 241, 265, 269, 276, 276, 286, 287, 289, 298, 304, 305,\n",
      "       323, 340, 349, 349, 363], dtype=int64), array([ 9,  6,  1,  9,  5,  8,  9,  1,  4,  1,  7,  6,  8, 10,  2,  5,  9,\n",
      "        3,  3,  7,  3,  7,  3,  2,  6, 10,  8, 10,  4,  5,  4],\n",
      "      dtype=int64))\n"
     ]
    }
   ],
   "source": [
    "threshold = 3\n",
    "outliers_arr = np.where(z > 3)\n",
    "print(outliers_arr)"
   ]
  },
  {
   "cell_type": "code",
   "execution_count": 13,
   "metadata": {
    "id": "EzgMu0DTJR-W"
   },
   "outputs": [],
   "source": [
    "# outliers_arr[0] - the rows numbers\n",
    "# outliers_arr[1] - the columns numbers"
   ]
  },
  {
   "cell_type": "code",
   "execution_count": 14,
   "metadata": {
    "id": "qU9vp4pSJR-X"
   },
   "outputs": [],
   "source": [
    "\n",
    "from copy import copy\n",
    "protein_keys = ['protein_1', 'protein_2', 'protein_3', 'protein_4', 'protein_5',\n",
    "       'protein_6', 'protein_7', 'protein_8', 'protein_9', 'protein_10']\n",
    "\n",
    "# threshold sets the limit = std*threshold, beyond which the outliers are detected\n",
    "threshold = 2\n",
    "\n",
    "for key in protein_keys:\n",
    "    \n",
    "    new_df = df[['ID',key]].copy()\n",
    "    \n",
    "    # remove nans\n",
    "    new_df = new_df.dropna()\n",
    "    \n",
    "    IDs_list = list(new_df.ID)\n",
    "    \n",
    "    z = np.abs(stats.zscore(new_df[key]))\n",
    "    outliers_arr = np.where(z > threshold)\n",
    "    \n",
    "    if len(outliers_arr[0]) != 0:\n",
    "        \n",
    "        \n",
    "#         print(\"\\n\")\n",
    "#         print(outliers_arr)\n",
    "\n",
    "        # printing those outlier values\n",
    "        for outlier_idx in outliers_arr[0]:\n",
    "#             print(new_df[key][IDs_list[outlier_idx]])\n",
    "\n",
    "            # dropping those rows from the new_df\n",
    "            new_df = new_df.drop(IDs_list[outlier_idx])\n",
    "            \n",
    "    else:\n",
    "        pass # no outliers were detected\n",
    "        \n",
    "    \n",
    "    # find the mean WITHOUT the outliers\n",
    "    new_mean = new_df[key].mean()\n",
    "    # print(f\"new_mean = {new_mean} for key {key}\")\n",
    "    \n",
    "    # fill the outliers in the original df with mean\n",
    "#     print(\"\\n\\nOriginal dataset\")\n",
    "    for outlier_idx in outliers_arr[0]:\n",
    "        \n",
    "        # dropping those rows from the new_df\n",
    "        # print(f\"Replacing for ID {IDs_list[outlier_idx]} at key {key}\")\n",
    "        # df.loc[:, ('ID', key)].at[IDs_list[outlier_idx], key] = new_mean\n",
    "        df.at[IDs_list[outlier_idx], key] = new_mean\n",
    "    \n",
    "    \n",
    "        \n",
    "    \n",
    "    \n",
    "    \n",
    "    "
   ]
  },
  {
   "cell_type": "markdown",
   "metadata": {
    "id": "IiiwnZ7eJR-X"
   },
   "source": [
    "## Box plot looks much better"
   ]
  },
  {
   "cell_type": "code",
   "execution_count": 15,
   "metadata": {
    "colab": {
     "base_uri": "https://localhost:8080/",
     "height": 298
    },
    "id": "YwVlOyquJR-X",
    "outputId": "93acacad-31fd-438c-ac40-ed99ff4afff0"
   },
   "outputs": [
    {
     "data": {
      "text/plain": [
       "<AxesSubplot:xlabel='protein_3'>"
      ]
     },
     "execution_count": 15,
     "metadata": {},
     "output_type": "execute_result"
    },
    {
     "data": {
      "image/png": "[encoded data removed]",
      "text/plain": [
       "<Figure size 432x288 with 1 Axes>"
      ]
     },
     "metadata": {
      "needs_background": "light"
     },
     "output_type": "display_data"
    }
   ],
   "source": [
    "sns.boxplot(x=df['protein_3'])"
   ]
  },
  {
   "cell_type": "code",
   "execution_count": 16,
   "metadata": {
    "colab": {
     "base_uri": "https://localhost:8080/",
     "height": 266
    },
    "id": "8L5H7LVSJR-Y",
    "outputId": "ec1ae86e-504e-4ee6-ab5c-bd5ca4441d52"
   },
   "outputs": [
    {
     "data": {
      "image/png": "[encoded data removed]",
      "text/plain": [
       "<Figure size 432x288 with 1 Axes>"
      ]
     },
     "metadata": {
      "needs_background": "light"
     },
     "output_type": "display_data"
    }
   ],
   "source": [
    "ax = sns.boxplot(data=df.drop(columns=\"ID\"))"
   ]
  },
  {
   "cell_type": "markdown",
   "metadata": {
    "id": "xb-5VQwpJR-Y"
   },
   "source": [
    "## Filling the NaN values with the correct mean values"
   ]
  },
  {
   "cell_type": "code",
   "execution_count": 17,
   "metadata": {
    "id": "pIbz-VqgJR-Y"
   },
   "outputs": [],
   "source": [
    "df = df.fillna(df.mean())"
   ]
  },
  {
   "cell_type": "code",
   "execution_count": 18,
   "metadata": {
    "id": "B76OjMVlJR-Z"
   },
   "outputs": [],
   "source": [
    "df.to_csv('protein_fixed.csv', sep=',', header=True, index=False)"
   ]
  },
  {
   "cell_type": "markdown",
   "metadata": {
    "id": "iEnG8bHAJR-Z"
   },
   "source": [
    "# CLUSTERING"
   ]
  },
  {
   "cell_type": "code",
   "execution_count": 27,
   "metadata": {
    "id": "mr3G0K_OJR-Z"
   },
   "outputs": [],
   "source": [
    "from sklearn.cluster import KMeans\n",
    "import numpy as np\n",
    "X = df.drop(['ID'], axis=1).values\n",
    "kmeans = KMeans(n_clusters=5, random_state=0).fit(X)"
   ]
  },
  {
   "cell_type": "code",
   "execution_count": 28,
   "metadata": {
    "id": "_U07Rc1jJR-Z"
   },
   "outputs": [],
   "source": [
    "from sklearn.decomposition import PCA\n",
    "\n",
    "reduced_data = PCA(n_components=2).fit_transform(X)"
   ]
  },
  {
   "cell_type": "markdown",
   "metadata": {
    "id": "f6PSPDZ0JR-a"
   },
   "source": [
    "### user the scaller on the same plot for each class"
   ]
  },
  {
   "cell_type": "code",
   "execution_count": 29,
   "metadata": {
    "id": "DzLlyLuYJR-a"
   },
   "outputs": [],
   "source": [
    "labels_kmeans = kmeans.labels_"
   ]
  },
  {
   "cell_type": "code",
   "execution_count": 30,
   "metadata": {
    "colab": {
     "base_uri": "https://localhost:8080/",
     "height": 0
    },
    "id": "jfUSC5HhJR-a",
    "outputId": "cc4b32e8-f09a-4e98-f3c1-4871f66040d1"
   },
   "outputs": [
    {
     "data": {
      "image/png": "[encoded data removed]",
      "text/plain": [
       "<Figure size 432x288 with 1 Axes>"
      ]
     },
     "metadata": {
      "needs_background": "light"
     },
     "output_type": "display_data"
    }
   ],
   "source": [
    "# plot scatter for each class\n",
    "import matplotlib.pyplot as plt\n",
    "\n",
    "colors = ('b', 'g', 'r', 'c', 'm')\n",
    "\n",
    "\n",
    "fig, ax = plt.subplots()\n",
    "\n",
    "for idx in range(5):\n",
    "    color = colors[idx]\n",
    "    \n",
    "    class_idx = [index for index, val in enumerate(labels_kmeans) if val == idx]\n",
    "\n",
    "    \n",
    "    x = reduced_data[class_idx,0]\n",
    "    y = reduced_data[class_idx,1]\n",
    "    \n",
    "\n",
    "    ax.scatter(x, y, c=color, s=10, label=f\"mut_{idx}\",\n",
    "               alpha=0.8, edgecolors='none')\n",
    "\n",
    "\n",
    "ax.legend()\n",
    "ax.grid(True)\n",
    "\n",
    "plt.show()\n"
   ]
  },
  {
   "cell_type": "code",
   "execution_count": 31,
   "metadata": {
    "colab": {
     "base_uri": "https://localhost:8080/",
     "height": 0
    },
    "id": "FPCLZcCbJR-b",
    "outputId": "b4949fbe-b67c-4efe-dff9-e9b30a99e023"
   },
   "outputs": [
    {
     "data": {
      "image/png": "[encoded data removed]",
      "text/plain": [
       "<Figure size 432x288 with 1 Axes>"
      ]
     },
     "metadata": {
      "needs_background": "light"
     },
     "output_type": "display_data"
    }
   ],
   "source": [
    "\n",
    "reduced_data_3d = PCA(n_components=3).fit_transform(X)\n",
    "\n",
    "fig = plt.figure()\n",
    "ax = fig.add_subplot(111, projection='3d')\n",
    "\n",
    "\n",
    "for idx in range(5):\n",
    "    color = colors[idx]\n",
    "    \n",
    "    class_idx = [index for index, val in enumerate(labels_kmeans) if val == idx]\n",
    "\n",
    "    \n",
    "    x = reduced_data_3d[class_idx,0]\n",
    "    y = reduced_data_3d[class_idx,1]\n",
    "    z = reduced_data_3d[class_idx,2]\n",
    "    \n",
    "\n",
    "    ax.scatter(x, y, z, c=color, label=f\"mut_{idx}\", s=3)\n",
    "\n",
    "\n",
    "ax.legend()\n",
    "ax.grid(True)\n",
    "\n",
    "plt.show()"
   ]
  },
  {
   "cell_type": "markdown",
   "metadata": {
    "id": "cZ9n2-XyJR-c"
   },
   "source": [
    "# Spectral Clustering"
   ]
  },
  {
   "cell_type": "markdown",
   "metadata": {
    "id": "4yHZJWLfJR-d"
   },
   "source": [
    "some example from the internet:\n",
    "https://numpy.org/doc/stable/reference/generated/numpy.argsort.html"
   ]
  },
  {
   "cell_type": "markdown",
   "metadata": {
    "id": "AJzQvQe2JR-d"
   },
   "source": [
    "Example from sklearn:\n",
    "https://scikit-learn.org/stable/modules/generated/sklearn.cluster.SpectralClustering.html#sklearn.cluster.SpectralClustering"
   ]
  },
  {
   "cell_type": "markdown",
   "metadata": {
    "id": "uarRXqTjJR-e"
   },
   "source": [
    "### Now trying on our dataset"
   ]
  },
  {
   "cell_type": "code",
   "execution_count": 32,
   "metadata": {
    "colab": {
     "base_uri": "https://localhost:8080/",
     "height": 0
    },
    "id": "CQ7jCi9lJR-e",
    "outputId": "e434d4fa-48b9-40bc-8cbe-9bc45166be19"
   },
   "outputs": [
    {
     "data": {
      "image/png": "[encoded data removed]",
      "text/plain": [
       "<Figure size 432x288 with 1 Axes>"
      ]
     },
     "metadata": {
      "needs_background": "light"
     },
     "output_type": "display_data"
    }
   ],
   "source": [
    "from sklearn.cluster import SpectralClustering\n",
    "\n",
    "X = df.drop(['ID'], axis=1).values\n",
    "\n",
    "clustering_virus = SpectralClustering(n_clusters=5,\n",
    "        affinity='nearest_neighbors',\n",
    "        assign_labels=\"discretize\",\n",
    "        random_state=0).fit(X)\n",
    "\n",
    "labels_spectral = clustering_virus.labels_\n",
    "\n",
    "\n",
    "### Using PCA again to vizualize the clusters\n",
    "\n",
    "# plot scatter for each class\n",
    "import matplotlib.pyplot as plt\n",
    "\n",
    "colors = ('b', 'g', 'r', 'c', 'm')\n",
    "\n",
    "fig, ax = plt.subplots()\n",
    "\n",
    "for idx in range(5):\n",
    "    color = colors[idx]\n",
    "    \n",
    "    class_idx = [index for index, val in enumerate(labels_spectral) if val == idx]\n",
    "\n",
    "    \n",
    "    x = reduced_data[class_idx,0]\n",
    "    y = reduced_data[class_idx,1]\n",
    "    \n",
    "\n",
    "    ax.scatter(x, y, c=color, s=10, label=f\"mut_{idx}\",\n",
    "               alpha=0.8, edgecolors='none')\n",
    "\n",
    "\n",
    "ax.legend()\n",
    "ax.grid(True)\n",
    "\n",
    "plt.show()\n",
    "\n"
   ]
  },
  {
   "cell_type": "code",
   "execution_count": 33,
   "metadata": {
    "colab": {
     "base_uri": "https://localhost:8080/",
     "height": 0
    },
    "id": "trFklKznJR-e",
    "outputId": "822a5c32-f6c2-42ec-d6d5-65082aeb1ccf"
   },
   "outputs": [
    {
     "data": {
      "image/png": "[encoded data removed]",
      "text/plain": [
       "<Figure size 432x288 with 1 Axes>"
      ]
     },
     "metadata": {
      "needs_background": "light"
     },
     "output_type": "display_data"
    }
   ],
   "source": [
    "\n",
    "fig = plt.figure()\n",
    "ax = fig.add_subplot(111, projection='3d')\n",
    "\n",
    "\n",
    "for idx in range(5):\n",
    "    color = colors[idx]\n",
    "    \n",
    "    class_idx = [index for index, val in enumerate(labels_spectral) if val == idx]\n",
    "\n",
    "    \n",
    "    x = reduced_data_3d[class_idx,0]\n",
    "    y = reduced_data_3d[class_idx,1]\n",
    "    z = reduced_data_3d[class_idx,2]\n",
    "    \n",
    "\n",
    "    ax.scatter(x, y, z, c=color, label=f\"mut_{idx}\", s=3)\n",
    "\n",
    "\n",
    "ax.legend()\n",
    "ax.grid(True)\n",
    "\n",
    "plt.show()"
   ]
  },
  {
   "cell_type": "markdown",
   "metadata": {
    "id": "lommiooxJR-f"
   },
   "source": [
    "In fact those results look better than the ones with K-means. To validate we use the silhouette score."
   ]
  },
  {
   "cell_type": "code",
   "execution_count": 34,
   "metadata": {
    "colab": {
     "base_uri": "https://localhost:8080/"
    },
    "id": "8iteYrFLJR-g",
    "outputId": "abcf735d-af9d-42ee-b01a-9cddd1743674"
   },
   "outputs": [
    {
     "name": "stdout",
     "output_type": "stream",
     "text": [
      "Metric: l1\n",
      "\tkmeans_score = 0.244\n",
      "\tspectral_score = 0.264\n",
      "Metric: l2\n",
      "\tkmeans_score = 0.274\n",
      "\tspectral_score = 0.274\n",
      "Metric: cosine\n",
      "\tkmeans_score = 0.383\n",
      "\tspectral_score = 0.465\n"
     ]
    }
   ],
   "source": [
    "from sklearn import metrics\n",
    "\n",
    "metrics_list = ['l1', 'l2', 'cosine']\n",
    "\n",
    "for metric in metrics_list:\n",
    "\n",
    "    kmeans_score = metrics.silhouette_score(X, labels_kmeans, metric=metric)\n",
    "    spectral_score = metrics.silhouette_score(X, labels_spectral, metric=metric)\n",
    "\n",
    "    print(f\"Metric: {metric}\")\n",
    "    print(f\"\\tkmeans_score = {round(kmeans_score,3)}\")\n",
    "    print(f\"\\tspectral_score = {round(spectral_score,3)}\")"
   ]
  },
  {
   "cell_type": "markdown",
   "metadata": {
    "id": "n0qDkk2AJR-g"
   },
   "source": [
    "The cosine score seems to be much higher for the spectral. Other metrics seem to be similar"
   ]
  },
  {
   "cell_type": "markdown",
   "metadata": {
    "id": "cBe_Ya90JR-g"
   },
   "source": [
    "# CHOOSING MOST DOMINANT FEATURES"
   ]
  },
  {
   "cell_type": "markdown",
   "metadata": {
    "id": "Ux_fkGAPJR-h"
   },
   "source": [
    "Now we find the most dominant features. There are 2 ways we test:\n",
    "\n",
    "- muticlass classification\n",
    "\n",
    "\n",
    "Using labels of clusters, we train classifier, and reveal the most dominant features used for the classification\n",
    "- intra-class feature similarity: \n",
    "\n",
    "\n",
    "For each feature, we calculate similarity (with some function) of each sample to the centroid in this class\n",
    "If the similarity for a spefic feature is high (distances are low), the feature is highly relevant for the class separation"
   ]
  },
  {
   "cell_type": "markdown",
   "metadata": {
    "id": "dOokZBUBJR-h"
   },
   "source": [
    "## intra-class feature similarity"
   ]
  },
  {
   "cell_type": "code",
   "execution_count": 35,
   "metadata": {
    "id": "n8A3Cv-wJR-h"
   },
   "outputs": [],
   "source": [
    "# Start with intra-class feature similarity\n",
    "import math \n",
    "\n",
    "# euclidean distance for instance\n",
    "def calc_similarity(feature_val, centroid_val):\n",
    "    sigma = 0.5\n",
    "    distance = np.linalg.norm(feature_val-centroid_val)\n",
    "    return np.exp(-distance/(sigma**2))\n",
    "\n",
    "results = np.zeros((5,10))\n",
    "\n",
    "for class_idx in range(5):\n",
    "    \n",
    "    # get the indexes of this specific class\n",
    "    class_labels = [relevant_class for relevant_class in range(len(labels_spectral)) if labels_spectral[relevant_class] == class_idx]    \n",
    "    \n",
    "    for feature_idx in range(10):  \n",
    "        \n",
    "        # list of all the feature values for this specific class\n",
    "        feature_class_mx = X[class_labels, feature_idx]\n",
    "        \n",
    "        # find the mean \n",
    "        class_feature_mean = np.mean(feature_class_mx)\n",
    "        \n",
    "        similarity = 0\n",
    "        \n",
    "        for feature in range(len(class_labels)):\n",
    "            similarity += calc_similarity(feature_class_mx[feature], class_feature_mean)\n",
    "            \n",
    "        \n",
    "        results[class_idx, feature_idx] = similarity\n",
    "        \n",
    "\n"
   ]
  },
  {
   "cell_type": "code",
   "execution_count": 36,
   "metadata": {
    "colab": {
     "base_uri": "https://localhost:8080/"
    },
    "id": "zDGSRC1mJR-i",
    "outputId": "f325800a-2ff7-4b7c-d4f5-c669f7e35107"
   },
   "outputs": [
    {
     "name": "stdout",
     "output_type": "stream",
     "text": [
      "RESULTS\n",
      "\n",
      "      feature_0    feature_1    feature_2    feature_3    feature_4    feature_5    feature_6    feature_7    feature_8    feature_9\n",
      "--  -----------  -----------  -----------  -----------  -----------  -----------  -----------  -----------  -----------  -----------\n",
      " 0      23.8137      48.1040      30.6037      26.7614      18.6588      30.1430      38.3912      34.4244      31.5488      34.5134\n",
      " 1      10.4001       4.6729      17.1727      13.6686      10.9773      15.8478      13.7608      16.3426      15.0797      11.0455\n",
      " 2      18.5702      13.3773      28.8274      20.8975      21.3384      14.4191      13.9943      31.2614      30.7570      46.0173\n",
      " 3      10.2249      16.7257       7.6672      13.1696      16.9422       9.4987      19.6781      16.2120      13.1462      18.4031\n",
      " 4      10.7968       9.6070       8.9518      12.5893       9.7714       4.0149      15.7515      15.6602      10.1348      11.5545\n"
     ]
    }
   ],
   "source": [
    "print(\"RESULTS\\n\")\n",
    "from tabulate import tabulate\n",
    "\n",
    "headers = [f\"feature_{idx}\" for idx in range(10)]\n",
    "rowIDs = range(5)\n",
    "\n",
    "\n",
    "table = tabulate(results, headers, floatfmt=\".4f\", showindex=rowIDs)\n",
    "print(table)\n"
   ]
  },
  {
   "cell_type": "code",
   "execution_count": 27,
   "metadata": {
    "colab": {
     "base_uri": "https://localhost:8080/",
     "height": 295
    },
    "id": "EX1tqERDJR-j",
    "outputId": "3b480585-ef36-4dfe-f7f9-c8e9ef564fef"
   },
   "outputs": [
    {
     "data": {
      "image/png": "[encoded data removed]",
      "text/plain": [
       "<Figure size 432x288 with 1 Axes>"
      ]
     },
     "metadata": {
      "needs_background": "light",
      "tags": []
     },
     "output_type": "display_data"
    }
   ],
   "source": [
    "import matplotlib. pyplot as plt\n",
    "\n",
    "\n",
    "features_idx = range(10)\n",
    "for i in range(5):\n",
    "     plt.plot(features_idx, results[i,:], label = f\"class {i}\")\n",
    "\n",
    "plt.xlabel('Feature idx')\n",
    "plt.ylabel('Class idx')\n",
    "plt.title('Intra-class similarity')\n",
    "plt.legend()\n",
    "plt.grid(True)\n",
    "plt.show()\n"
   ]
  },
  {
   "cell_type": "code",
   "execution_count": 28,
   "metadata": {
    "id": "mtQUqbivJR-j"
   },
   "outputs": [],
   "source": [
    "indexes_sort = np.argsort(results, kind='quicksort', axis=1)\n",
    "\n",
    "results_sorted = np.zeros((5,10))\n",
    "\n",
    "for class_idx in range(5):\n",
    "    for order_idx in range(10):\n",
    "        \n",
    "        feature_in_order = indexes_sort[class_idx, order_idx]\n",
    "        \n",
    "        results_sorted[class_idx, feature_in_order] = order_idx"
   ]
  },
  {
   "cell_type": "code",
   "execution_count": 29,
   "metadata": {
    "colab": {
     "base_uri": "https://localhost:8080/"
    },
    "id": "Wm3ueVUCJR-j",
    "outputId": "1aad8591-81c1-4033-83f3-05503bd7c8c5"
   },
   "outputs": [
    {
     "name": "stdout",
     "output_type": "stream",
     "text": [
      "      feature_0    feature_1    feature_2    feature_3    feature_4    feature_5    feature_6    feature_7    feature_8    feature_9\n",
      "--  -----------  -----------  -----------  -----------  -----------  -----------  -----------  -----------  -----------  -----------\n",
      " 0            1            9            4            2            0            3            8            6            5            7\n",
      " 1            1            0            9            4            2            7            5            8            6            3\n",
      " 2            3            0            6            4            5            2            1            8            7            9\n",
      " 3            2            6            0            4            7            1            9            5            3            8\n",
      " 4            5            2            1            7            3            0            9            8            4            6\n"
     ]
    }
   ],
   "source": [
    "table = tabulate(results_sorted, headers, floatfmt=\".0f\", showindex=rowIDs)\n",
    "print(table)"
   ]
  },
  {
   "cell_type": "markdown",
   "metadata": {
    "id": "dL85trXDJR-k"
   },
   "source": [
    "### we are looking for features with highest similarity score. The score of 9 means this feature is very dominant at specific class classification"
   ]
  },
  {
   "cell_type": "markdown",
   "metadata": {
    "id": "vwiTZ6gBJR-k"
   },
   "source": [
    "\n",
    "- Feature 1:  dominant for class 0 -> take\n",
    "- Feature 2:  dominant for class 1 -> take \n",
    "- Feature 6:  dominant for class 1,3 -> take\n",
    "- Feature 7:  important -> take\n",
    "- Feature 9:  dominant for class 2 -> take\n",
    "\n"
   ]
  },
  {
   "cell_type": "markdown",
   "metadata": {
    "id": "m3XdEVpAJR-k"
   },
   "source": [
    "To validate the results, let's take only those features and try to make a classification again"
   ]
  },
  {
   "cell_type": "code",
   "execution_count": 41,
   "metadata": {
    "colab": {
     "base_uri": "https://localhost:8080/",
     "height": 0
    },
    "id": "xhl-jgaNJR-l",
    "outputId": "d1d06f5e-657a-46b0-d980-f44f2e6da65f"
   },
   "outputs": [
    {
     "data": {
      "image/png": "[encoded data removed]",
      "text/plain": [
       "<Figure size 432x288 with 1 Axes>"
      ]
     },
     "metadata": {
      "needs_background": "light"
     },
     "output_type": "display_data"
    }
   ],
   "source": [
    "X = df.drop(['ID'], axis=1).values\n",
    "features_rows = [3, 4, 5, 7, 8]\n",
    "# features_rows = [1,2,6,7,9]\n",
    "X_new = X[:, features_rows]\n",
    "\n",
    "clustering_virus_truncated = SpectralClustering(n_clusters=5,\n",
    "        affinity='nearest_neighbors',\n",
    "        assign_labels=\"discretize\",\n",
    "        random_state=0).fit(X_new)\n",
    "\n",
    "labels_spectral_truncated = clustering_virus_truncated.labels_\n",
    "\n",
    "\n",
    "### Using PCA again to vizualize the clusters\n",
    "\n",
    "# plot scatter for each class\n",
    "import matplotlib.pyplot as plt\n",
    "\n",
    "colors = ('b', 'g', 'r', 'c', 'm')\n",
    "\n",
    "fig, ax = plt.subplots()\n",
    "\n",
    "for idx in range(5):\n",
    "    color = colors[idx]\n",
    "    \n",
    "    class_idx = [index for index, val in enumerate(labels_spectral_truncated) if val == idx]\n",
    "\n",
    "    \n",
    "    x = reduced_data[class_idx,0]\n",
    "    y = reduced_data[class_idx,1]\n",
    "    \n",
    "\n",
    "    ax.scatter(x, y, c=color, s=10, label=f\"mut_{idx}\",\n",
    "               alpha=0.8, edgecolors='none')\n",
    "\n",
    "\n",
    "ax.legend()\n",
    "ax.grid(True)\n",
    "\n",
    "plt.show()\n",
    "\n"
   ]
  },
  {
   "cell_type": "code",
   "execution_count": 43,
   "metadata": {
    "colab": {
     "base_uri": "https://localhost:8080/",
     "height": 0
    },
    "id": "sVoc_lwIJR-l",
    "outputId": "bd34487d-4203-4f2b-e767-e94e91ae556b"
   },
   "outputs": [
    {
     "data": {
      "image/png": "[encoded data removed]",
      "text/plain": [
       "<Figure size 432x288 with 1 Axes>"
      ]
     },
     "metadata": {
      "needs_background": "light"
     },
     "output_type": "display_data"
    }
   ],
   "source": [
    "fig = plt.figure()\n",
    "ax = fig.add_subplot(111, projection='3d')\n",
    "\n",
    "\n",
    "for idx in range(5):\n",
    "    color = colors[idx]\n",
    "    \n",
    "    class_idx = [index for index, val in enumerate(labels_spectral_truncated) if val == idx]\n",
    "    \n",
    "    x = reduced_data_3d[class_idx,0]\n",
    "    y = reduced_data_3d[class_idx,1]\n",
    "    z = reduced_data_3d[class_idx,2] \n",
    "\n",
    "    ax.scatter(x, y, z, c=color, label=f\"mut_{idx}\", s=3)\n",
    "\n",
    "\n",
    "ax.legend()\n",
    "ax.grid(True)\n",
    "\n",
    "plt.show()"
   ]
  },
  {
   "cell_type": "code",
   "execution_count": 44,
   "metadata": {
    "colab": {
     "base_uri": "https://localhost:8080/"
    },
    "id": "hyJRUeMGJR-l",
    "outputId": "fc14b03a-c837-42b4-e628-faf46d65be8e"
   },
   "outputs": [
    {
     "name": "stdout",
     "output_type": "stream",
     "text": [
      "Metric: l1\n",
      "\tkmeans_score = 0.244\n",
      "\tspectral_score_1 = 0.264\n",
      "\tspectral_score_2 = 0.268\n",
      "Metric: l2\n",
      "\tkmeans_score = 0.274\n",
      "\tspectral_score_1 = 0.274\n",
      "\tspectral_score_2 = 0.281\n",
      "Metric: cosine\n",
      "\tkmeans_score = 0.383\n",
      "\tspectral_score_1 = 0.465\n",
      "\tspectral_score_2 = 0.464\n"
     ]
    }
   ],
   "source": [
    "from sklearn import metrics\n",
    "\n",
    "metrics_list = ['l1', 'l2', 'cosine']\n",
    "\n",
    "for metric in metrics_list:\n",
    "\n",
    "    kmeans_score = metrics.silhouette_score(X, labels_kmeans, metric=metric)\n",
    "    spectral_score = metrics.silhouette_score(X, labels_spectral, metric=metric)\n",
    "    spectral_score_truncated = metrics.silhouette_score(X, labels_spectral_truncated, metric=metric)\n",
    "\n",
    "    print(f\"Metric: {metric}\")\n",
    "    print(f\"\\tkmeans_score = {round(kmeans_score,3)}\")\n",
    "    print(f\"\\tspectral_score_1 = {round(spectral_score,3)}\")\n",
    "    print(f\"\\tspectral_score_2 = {round(spectral_score_truncated,3)}\")"
   ]
  },
  {
   "cell_type": "markdown",
   "metadata": {
    "id": "DNS8cXVfJR-m"
   },
   "source": [
    "#### We can see that using only 5 features out of 10 will not give the same scores as using all of them"
   ]
  },
  {
   "cell_type": "markdown",
   "metadata": {
    "id": "HqYxQ090JR-m"
   },
   "source": [
    "## muticlass classification\n",
    "\n",
    "We will train some classifier and detect the most dominant features it used for the classification. I will use the labels from the Spectral Clustering with 10 features"
   ]
  },
  {
   "cell_type": "markdown",
   "metadata": {
    "id": "2db54BcgJR-m"
   },
   "source": [
    "source : https://machinelearningmastery.com/feature-selection-in-python-with-scikit-learn/"
   ]
  },
  {
   "cell_type": "markdown",
   "metadata": {
    "id": "d2BQITuyJR-m"
   },
   "source": [
    "First we use the RFE - Recursive Feature Elimination. It works by recursively removing attributes and building a model on those attributes that remain. It uses the model accuracy to identify which attributes (and combination of attributes) contribute the most to predicting the target attribute."
   ]
  },
  {
   "cell_type": "code",
   "execution_count": 45,
   "metadata": {
    "colab": {
     "base_uri": "https://localhost:8080/"
    },
    "id": "wjOIAZmKJR-m",
    "outputId": "81edf44f-17c0-4380-daee-969c71b88227"
   },
   "outputs": [
    {
     "name": "stdout",
     "output_type": "stream",
     "text": [
      "\n",
      "\n",
      "SUPPORT MATRIX. 1 = Take this feature\n",
      "\n",
      "       feature_0    feature_1    feature_2    feature_3    feature_4    feature_5    feature_6    feature_7    feature_8    feature_9\n",
      "---  -----------  -----------  -----------  -----------  -----------  -----------  -----------  -----------  -----------  -----------\n",
      "LR             0            0            1            1            1            1            0            0            1            0\n",
      "DTC            0            0            0            1            1            1            1            0            1            0\n",
      "ETC            0            0            0            1            1            1            0            1            1            0\n",
      "\n",
      "\n",
      "RANKING MATRIX. 1 = Good feature!\n",
      "\n",
      "       feature_0    feature_1    feature_2    feature_3    feature_4    feature_5    feature_6    feature_7    feature_8    feature_9\n",
      "---  -----------  -----------  -----------  -----------  -----------  -----------  -----------  -----------  -----------  -----------\n",
      "LR             5            2            1            1            1            1            4            3            1            6\n",
      "DTC            5            3            4            1            1            1            1            6            1            2\n",
      "ETC            5            3            6            1            1            1            2            1            1            4\n",
      "\n",
      "\n",
      "Accuracy on test set\n",
      "\n",
      "       Accuracy\n",
      "---  ----------\n",
      "LR     0.973333\n",
      "DTC    0.933333\n",
      "ETC    0.96\n"
     ]
    }
   ],
   "source": [
    "from sklearn.feature_selection import RFE\n",
    "from sklearn.linear_model import LogisticRegression\n",
    "from sklearn.tree import DecisionTreeClassifier\n",
    "from sklearn.ensemble import ExtraTreesClassifier\n",
    "from sklearn.model_selection import train_test_split\n",
    "from sklearn.metrics import accuracy_score\n",
    "\n",
    "X_train, X_test, y_train, y_test = train_test_split(X, labels_spectral, test_size=0.15, random_state=42)\n",
    "\n",
    "models_to_test = [LogisticRegression(), DecisionTreeClassifier(), ExtraTreesClassifier()]\n",
    "\n",
    "support_mx = np.zeros((3, 10)) \n",
    "ranking_mx = np.zeros((3, 10))\n",
    "acc_mx = np.zeros((3,1))\n",
    "\n",
    "for idx, model in enumerate(models_to_test):\n",
    "\n",
    "\n",
    "    # create the RFE model and select 5 attributes\n",
    "    rfe = RFE(model, n_features_to_select=5)\n",
    "    rfe = rfe.fit(X_train, y_train)\n",
    "\n",
    "    support_mx[idx, :] = rfe.support_\n",
    "    ranking_mx[idx, :] = rfe.ranking_\n",
    "\n",
    "    y_pred = rfe.predict(X_test)\n",
    "\n",
    "    acc = accuracy_score(y_test, y_pred)\n",
    "    acc_mx[idx] = acc\n",
    "\n",
    "\n",
    "rowIDs = [\"LR\", \"DTC\", \"ETC\"]\n",
    "table = tabulate(support_mx, headers, showindex=rowIDs)\n",
    "print(\"\\n\\nSUPPORT MATRIX. 1 = Take this feature\\n\")\n",
    "print(table)\n",
    "\n",
    "table = tabulate(ranking_mx, headers, showindex=rowIDs)\n",
    "print(\"\\n\\nRANKING MATRIX. 1 = Good feature!\\n\")\n",
    "print(table)\n",
    "\n",
    "table = tabulate(acc_mx, ['Accuracy'], showindex=rowIDs)\n",
    "print(\"\\n\\nAccuracy on test set\\n\")\n",
    "print(table)"
   ]
  },
  {
   "cell_type": "markdown",
   "metadata": {
    "id": "Nm9RaXcrJR-n"
   },
   "source": [
    "## Conclusions\n",
    "Features 3,4,5,7 agreed on all classifiers to be best features. Feature 6 is good feature for LR, which has highest accuracy score.\n",
    "\n",
    "So from this analysis, best features are 3, 4, 5, 6, 7\n",
    "\n",
    "From the first analysis of intra-class variation, the best features are 0, 1, 2, 7, 9\n",
    "\n",
    "seems to be highly not correlated."
   ]
  },
  {
   "cell_type": "markdown",
   "metadata": {
    "id": "RvSF9SlPJR-n"
   },
   "source": [
    "### Clustering on the Selected features from the RFE"
   ]
  },
  {
   "cell_type": "code",
   "execution_count": 51,
   "metadata": {
    "colab": {
     "base_uri": "https://localhost:8080/",
     "height": 0
    },
    "id": "qlgle1zvJR-n",
    "outputId": "f399c1ce-0ca9-4ab0-9eff-7a05332a00c3"
   },
   "outputs": [
    {
     "data": {
      "image/png": "[encoded data removed]",
      "text/plain": [
       "<Figure size 432x288 with 1 Axes>"
      ]
     },
     "metadata": {
      "needs_background": "light"
     },
     "output_type": "display_data"
    }
   ],
   "source": [
    "X = df.drop(['ID'], axis=1).values\n",
    "# features_rows = [3, 4, 5, 7, 8] # classifiers\n",
    "features_rows = [1, 5, 8, 4, 3] # MI\n",
    "X_new = X[:, features_rows]\n",
    "\n",
    "clustering_virus_truncated = SpectralClustering(n_clusters=5,\n",
    "        affinity='nearest_neighbors',\n",
    "        assign_labels=\"discretize\",\n",
    "        random_state=0).fit(X_new)\n",
    "\n",
    "labels_spectral_truncated = clustering_virus_truncated.labels_\n",
    "\n",
    "\n",
    "### Using PCA again to vizualize the clusters\n",
    "\n",
    "# plot scatter for each class\n",
    "import matplotlib.pyplot as plt\n",
    "\n",
    "colors = ('b', 'g', 'r', 'c', 'm')\n",
    "\n",
    "fig, ax = plt.subplots()\n",
    "\n",
    "for idx in range(5):\n",
    "    color = colors[idx]\n",
    "    \n",
    "    class_idx = [index for index, val in enumerate(labels_spectral_truncated) if val == idx]\n",
    "\n",
    "    \n",
    "    x = reduced_data[class_idx,0]\n",
    "    y = reduced_data[class_idx,1]\n",
    "    \n",
    "\n",
    "    ax.scatter(x, y, c=color, s=10, label=f\"mut_{idx}\",\n",
    "               alpha=0.8, edgecolors='none')\n",
    "\n",
    "\n",
    "ax.legend()\n",
    "ax.grid(True)\n",
    "\n",
    "plt.show()\n"
   ]
  },
  {
   "cell_type": "markdown",
   "metadata": {
    "id": "onFGYdChJR-n"
   },
   "source": [
    "### gives really good results"
   ]
  },
  {
   "cell_type": "markdown",
   "metadata": {
    "id": "UJXrOoIjJR-o"
   },
   "source": [
    "Trying to use the Mutual Information"
   ]
  },
  {
   "cell_type": "code",
   "execution_count": 48,
   "metadata": {
    "colab": {
     "base_uri": "https://localhost:8080/"
    },
    "id": "3AZLiA0MJR-o",
    "outputId": "9caa82f5-8086-41d3-c25b-dc2e7ad46ad8"
   },
   "outputs": [
    {
     "name": "stdout",
     "output_type": "stream",
     "text": [
      "\n",
      "\n",
      "Mutual Information\n",
      "\n",
      "  feature_0    feature_1    feature_2    feature_3    feature_4    feature_5    feature_6    feature_7    feature_8    feature_9\n",
      "-----------  -----------  -----------  -----------  -----------  -----------  -----------  -----------  -----------  -----------\n",
      "     0.1518       0.2878       0.1048       0.8371       0.8003       0.3733       0.1309       0.2091       0.3735       0.1512\n",
      "\n",
      "\n",
      "Mutual Information sorted by value\n",
      "\n",
      "  feature_0    feature_1    feature_2    feature_3    feature_4    feature_5    feature_6    feature_7    feature_8    feature_9\n",
      "-----------  -----------  -----------  -----------  -----------  -----------  -----------  -----------  -----------  -----------\n",
      "          3            5            0            9            8            6            1            4            7            2\n",
      "\n",
      "best_features_list:\n",
      "[1, 5, 8, 4, 3]\n"
     ]
    }
   ],
   "source": [
    "from sklearn.feature_selection import mutual_info_classif\n",
    "\n",
    "X = df.drop(['ID'], axis=1).values\n",
    "MI_scores = mutual_info_classif(X,labels_spectral)\n",
    "\n",
    "MI_scores_mx = np.zeros((1,10))\n",
    "MI_scores_srt_mx = np.zeros((1,10))\n",
    "\n",
    "MI_scores_mx[0, :] = MI_scores\n",
    "sorted_idx_list = np.argsort(MI_scores)\n",
    "\n",
    "for srt_idx in range(10):\n",
    "    MI_scores_srt_mx[0, sorted_idx_list[srt_idx]] = srt_idx\n",
    "\n",
    "table = tabulate(MI_scores_mx,headers, floatfmt=\".4f\")\n",
    "print(\"\\n\\nMutual Information\\n\")\n",
    "print(table)\n",
    "\n",
    "table = tabulate(MI_scores_srt_mx, headers, floatfmt=\".0f\")\n",
    "print(\"\\n\\nMutual Information sorted by value\\n\")\n",
    "print(table)\n",
    "\n",
    "# all give same\n",
    "# sorted_features_list = sorted(range(10),key=MI_scores.__getitem__)\n",
    "sorted_features_list = [i[0] for i in sorted(enumerate(MI_scores), key=lambda x:x[1])]\n",
    "\n",
    "# print(\"\\nHighest MI features:\")\n",
    "# print(sorted_features_list)\n",
    "\n",
    "print(\"\\nbest_features_list:\")\n",
    "print(sorted_features_list[5:10])"
   ]
  },
  {
   "cell_type": "markdown",
   "metadata": {
    "id": "vFzSztqcJR-o"
   },
   "source": [
    "Which is similar to the Features found by the RFE (3, 4, 5, 7, 8)"
   ]
  },
  {
   "cell_type": "code",
   "execution_count": 35,
   "metadata": {
    "id": "MPo8bP7kJR-o"
   },
   "outputs": [],
   "source": []
  },
  {
   "cell_type": "code",
   "execution_count": 35,
   "metadata": {
    "id": "jXWO-NClJR-o"
   },
   "outputs": [],
   "source": []
  },
  {
   "cell_type": "code",
   "execution_count": 35,
   "metadata": {
    "id": "fTpJ38A7JR-p"
   },
   "outputs": [],
   "source": []
  },
  {
   "cell_type": "markdown",
   "metadata": {
    "id": "35bnnM-0JR-p"
   },
   "source": [
    "# Choosing the 3 mutations to treat\n",
    "\n",
    "The best way will be to treat the 3 mutations which are the most prevalent in the dataset"
   ]
  },
  {
   "cell_type": "code",
   "execution_count": 36,
   "metadata": {
    "colab": {
     "base_uri": "https://localhost:8080/"
    },
    "id": "iIfLwPV6JR-p",
    "outputId": "26588273-c29d-43fe-a25a-327c11a636dc"
   },
   "outputs": [
    {
     "name": "stdout",
     "output_type": "stream",
     "text": [
      "\n",
      "\n",
      "Number of cases for each mutation\n",
      "\n",
      "              Num cases\n",
      "----------  -----------\n",
      "Mutation 0          126\n",
      "Mutation 1           78\n",
      "Mutation 2          146\n",
      "Mutation 3           80\n",
      "Mutation 4           64\n"
     ]
    }
   ],
   "source": [
    "\n",
    "np.unique(labels_spectral)\n",
    "num_samples = labels_spectral.shape[0]\n",
    "class_mx = np.zeros((5,1))\n",
    "\n",
    "for class_test in range(5):\n",
    "    class_sum = len([i for i in range(num_samples) if labels_spectral[i] == class_test])\n",
    "    class_mx[class_test, 0] = class_sum\n",
    "\n",
    "muts_list = [f\"Mutation {idx}\" for idx in range(5)]    \n",
    "table = tabulate(class_mx, floatfmt=\".0f\", headers = [\"Num cases\"], showindex=muts_list)\n",
    "print(\"\\n\\nNumber of cases for each mutation\\n\")\n",
    "print(table)"
   ]
  },
  {
   "cell_type": "markdown",
   "metadata": {
    "id": "zW-4qlNYJR-p"
   },
   "source": [
    "## conclusion\n",
    "\n",
    "We will choose to treat mutation 0, 1 and 3"
   ]
  },
  {
   "cell_type": "code",
   "execution_count": 36,
   "metadata": {
    "id": "RBEa9WCeJR-q"
   },
   "outputs": [],
   "source": []
  },
  {
   "cell_type": "markdown",
   "metadata": {
    "id": "YVv4xYfhYIQL"
   },
   "source": [
    "#Silhouette Score\r\n",
    "\r\n",
    "\r\n",
    "\r\n",
    "> \r\n",
    "\r\n",
    "\r\n",
    "1.   evaluates separation betwen clusters and cohesion within each cluster\r\n",
    "2. score -1 to 1 where 1 is best score\r\n",
    "\r\n",
    "\r\n",
    "> \r\n",
    "\r\n",
    "\r\n",
    "\r\n",
    "https://en.wikipedia.org/wiki/Silhouette_(clustering)"
   ]
  },
  {
   "cell_type": "code",
   "execution_count": 52,
   "metadata": {
    "id": "s9IfHLezYaVv"
   },
   "outputs": [],
   "source": [
    "from sklearn.metrics import silhouette_score\r\n",
    "\r\n",
    "sil_score = silhouette_score(X,labels_spectral)"
   ]
  },
  {
   "cell_type": "code",
   "execution_count": 53,
   "metadata": {
    "colab": {
     "base_uri": "https://localhost:8080/"
    },
    "id": "-uy1yHi2aFWB",
    "outputId": "dbed7072-22e4-4050-f373-cf6056d2d313"
   },
   "outputs": [
    {
     "data": {
      "text/plain": [
       "0.27360768183407685"
      ]
     },
     "execution_count": 53,
     "metadata": {},
     "output_type": "execute_result"
    }
   ],
   "source": [
    "sil_score"
   ]
  },
  {
   "cell_type": "markdown",
   "metadata": {
    "id": "6pzLRZQJtdxh"
   },
   "source": [
    "Plot silhouette  score for each cluster and silhouette score for entire dataset"
   ]
  },
  {
   "cell_type": "code",
   "execution_count": 54,
   "metadata": {
    "colab": {
     "base_uri": "https://localhost:8080/",
     "height": 466
    },
    "id": "9UjjskrcaHC4",
    "outputId": "3bfb6b0d-c79b-4ac1-9bd0-a309507768bd"
   },
   "outputs": [
    {
     "data": {
      "image/png": "[encoded data removed]",
      "text/plain": [
       "<Figure size 1296x504 with 1 Axes>"
      ]
     },
     "metadata": {
      "needs_background": "light"
     },
     "output_type": "display_data"
    }
   ],
   "source": [
    "from sklearn.metrics import silhouette_samples\r\n",
    "  \r\n",
    "fig, ax1 = plt.subplots(1, 1)\r\n",
    "fig.set_size_inches(18, 7)\r\n",
    "# Get silhouette samples\r\n",
    "silhouette_vals = silhouette_samples(X, labels_spectral)\r\n",
    "\r\n",
    "# Silhouette plot\r\n",
    "y_ticks = []\r\n",
    "y_lower, y_upper = 0, 0\r\n",
    "for i, cluster in enumerate(np.unique(labels_spectral)):\r\n",
    "    cluster_silhouette_vals = silhouette_vals[labels_spectral == cluster]\r\n",
    "    cluster_silhouette_vals.sort()\r\n",
    "    y_upper += len(cluster_silhouette_vals)\r\n",
    "    ax1.barh(range(y_lower, y_upper), cluster_silhouette_vals, edgecolor='none', height=1)\r\n",
    "    ax1.text(-0.03, (y_lower + y_upper) / 2, str(i + 1))\r\n",
    "    y_lower += len(cluster_silhouette_vals)\r\n",
    "\r\n",
    "# Get the average silhouette score and plot it\r\n",
    "avg_score = np.mean(silhouette_vals)\r\n",
    "ax1.axvline(avg_score, linestyle='--', linewidth=2, color='green')\r\n",
    "ax1.set_yticks([])\r\n",
    "ax1.set_xlim([-0.1, 1])\r\n",
    "ax1.set_xlabel('Silhouette coefficient values')\r\n",
    "ax1.set_ylabel('Cluster labels')\r\n",
    "ax1.set_title('Silhouette plot for the various clusters', y=1.02);\r\n",
    "    "
   ]
  },
  {
   "cell_type": "markdown",
   "metadata": {
    "id": "OBgWmpqa1bb0"
   },
   "source": [
    "Some more evaluation criteria : https://en.wikipedia.org/wiki/Cluster_analysis#Internal_evaluation"
   ]
  },
  {
   "cell_type": "markdown",
   "metadata": {
    "id": "Y8tteR3x1jDn"
   },
   "source": [
    "Computes the Davies-Bouldin score.\r\n",
    "\r\n",
    "The score is defined as the average similarity measure of each cluster with its most similar cluster, where similarity is the ratio of within-cluster distances to between-cluster distances. Thus, clusters which are farther apart and less dispersed will result in a better score.\r\n",
    "\r\n",
    "The minimum score is zero, with lower values indicating better clustering."
   ]
  },
  {
   "cell_type": "code",
   "execution_count": 41,
   "metadata": {
    "colab": {
     "base_uri": "https://localhost:8080/"
    },
    "id": "9nz071e_1ftn",
    "outputId": "4ae80dc5-70b7-4d55-cce6-ea64b3ec1d18"
   },
   "outputs": [
    {
     "name": "stdout",
     "output_type": "stream",
     "text": [
      "The DB score is 1.54\n"
     ]
    }
   ],
   "source": [
    "from sklearn.metrics import davies_bouldin_score\r\n",
    "\r\n",
    "db_score = davies_bouldin_score(X,labels_spectral)\r\n",
    "print(\"The DB score is {0:.2f}\".format(db_score)) #lower the better\r\n"
   ]
  },
  {
   "cell_type": "code",
   "execution_count": null,
   "metadata": {
    "id": "h7gN2T2KJ9Ls"
   },
   "outputs": [],
   "source": []
  }
 ],
 "metadata": {
  "colab": {
   "collapsed_sections": [
    "f6PSPDZ0JR-a",
    "uarRXqTjJR-e",
    "dL85trXDJR-k",
    "DNS8cXVfJR-m",
    "RvSF9SlPJR-n",
    "onFGYdChJR-n"
   ],
   "name": "data_preparation.ipynb",
   "provenance": [],
   "toc_visible": true
  },
  "kernelspec": {
   "display_name": "Python 3",
   "language": "python",
   "name": "python3"
  },
  "language_info": {
   "codemirror_mode": {
    "name": "ipython",
    "version": 3
   },
   "file_extension": ".py",
   "mimetype": "text/x-python",
   "name": "python",
   "nbconvert_exporter": "python",
   "pygments_lexer": "ipython3",
   "version": "3.8.6"
  }
 },
 "nbformat": 4,
 "nbformat_minor": 4
}
