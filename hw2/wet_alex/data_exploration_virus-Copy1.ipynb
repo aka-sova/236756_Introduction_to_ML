{
 "cells": [
  {
   "cell_type": "code",
   "execution_count": 15,
   "metadata": {
    "collapsed": true
   },
   "outputs": [],
   "source": [
    "#add versions to libraries\n",
    "import pandas as pd # data analysis and manipulation tool\n",
    "import numpy as np # Numerical computing tools\n",
    "import seaborn as sns  # visualization library\n",
    "import matplotlib.pyplot as plt  # another visualization library\n",
    "import scipy as sp\n",
    "\n",
    "import re\n",
    "import typing"
   ]
  },
  {
   "cell_type": "code",
   "execution_count": 16,
   "metadata": {
    "collapsed": true
   },
   "outputs": [],
   "source": [
    "df = pd.read_csv('virus_hw2.csv')"
   ]
  },
  {
   "cell_type": "code",
   "execution_count": 17,
   "metadata": {
    "collapsed": false
   },
   "outputs": [
    {
     "data": {
      "text/plain": [
       "750"
      ]
     },
     "execution_count": 17,
     "metadata": {},
     "output_type": "execute_result"
    }
   ],
   "source": [
    "soc = [ item for item in df.AvgTimeOnStuding if item>0]\n",
    "len(soc)"
   ]
  },
  {
   "cell_type": "markdown",
   "metadata": {},
   "source": [
    "# Change TestResultsCode to three labels, disease, contagious, risk"
   ]
  },
  {
   "cell_type": "code",
   "execution_count": 18,
   "metadata": {
    "collapsed": false
   },
   "outputs": [],
   "source": [
    "#test result classified by labels\n",
    "li = df.TestResultsCode.tolist()\n",
    "labels =  [ item.split('_') for item in li ] \n",
    "for item in labels:\n",
    "    if len(item)==4:\n",
    "        add =  item[0]+item[1]     \n",
    "        item = item.insert( 0, add  )\n",
    "for item in labels:\n",
    "    if 'not' in item:\n",
    "        item.remove('not')\n",
    "    if 'detected' in item:\n",
    "        item.remove('detected')\n"
   ]
  },
  {
   "cell_type": "code",
   "execution_count": 19,
   "metadata": {
    "collapsed": false,
    "scrolled": true
   },
   "outputs": [],
   "source": [
    "#one-hot encode the test results\n",
    "disease = [ la[0] for la in labels ]\n",
    "spread = [  la[1] for la in labels  ]\n",
    "risk = [  la[2] for la in labels  ]\n",
    "\n",
    "disease_encode = pd.Series( disease  ).str.get_dummies()\n",
    "spread_encode = pd.Series( spread  ).str.get_dummies()\n",
    "risk_encode = pd.Series( risk  ).str.get_dummies()\n",
    "\n",
    "disease_encode = pd.DataFrame( disease_encode )\n",
    "spread_encode = pd.DataFrame( spread_encode )\n",
    "risk_encode = pd.DataFrame( risk_encode)\n"
   ]
  },
  {
   "cell_type": "code",
   "execution_count": 20,
   "metadata": {
    "collapsed": false
   },
   "outputs": [],
   "source": [
    "#one-hot encode Sex column\n",
    "#sex_encode = pd.Series( df.loc[:,'Sex'] ).str.get_dummies()\n",
    "#sex_encode = pd.DataFrame( sex_encode ).drop('F',axis=1) #classify male/not male\n",
    "#sex_encode = sex_encode.rename(columns={\"M\": \"Sex\"})\n",
    "#\n",
    "#df = df.drop( 'Sex' , axis=1)\n",
    "#df = pd.concat( [df, sex_encode], axis=1 )\n"
   ]
  },
  {
   "cell_type": "code",
   "execution_count": 21,
   "metadata": {
    "collapsed": false,
    "scrolled": true
   },
   "outputs": [],
   "source": [
    "#interate one hot encoding of test results back to df\n",
    "df=df.drop(['PatientID', 'Address', 'CurrentLocation'],axis=1)\n",
    "df2 = df\n",
    "df2 = df2.drop(columns = 'TestResultsCode')\n"
   ]
  },
  {
   "cell_type": "code",
   "execution_count": 22,
   "metadata": {
    "collapsed": false
   },
   "outputs": [],
   "source": [
    "results = pd.concat( [risk_encode, spread_encode, disease_encode], axis=1 )\n",
    "results = results.drop(['NotSpreader', 'NotatRisk'], axis=1)\n"
   ]
  },
  {
   "cell_type": "markdown",
   "metadata": {},
   "source": [
    "# test, train split"
   ]
  },
  {
   "cell_type": "code",
   "execution_count": 23,
   "metadata": {
    "collapsed": true
   },
   "outputs": [],
   "source": [
    "from sklearn.model_selection import train_test_split\n",
    "\n",
    "X_train,  X_val, y_train, y_val = train_test_split( df2, results, test_size=0.33, random_state=33 ) #tr is test results numerically coded\n",
    "X_val, X_test, y_val, y_test = train_test_split( X_val, y_val , test_size=0.4, random_state=33)"
   ]
  },
  {
   "cell_type": "markdown",
   "metadata": {},
   "source": [
    "# Data Imputation Linear Regression"
   ]
  },
  {
   "cell_type": "code",
   "execution_count": 24,
   "metadata": {
    "collapsed": false,
    "scrolled": true
   },
   "outputs": [],
   "source": [
    "from sklearn.linear_model import LinearRegression\n",
    "from sklearn.model_selection import KFold\n",
    "from sklearn.metrics import r2_score\n",
    "\n",
    "#one-hot encode Sex column\n",
    "sex_encode = pd.Series( X_train[X_train['Sex'].notnull()].loc[:,'Sex'] ).str.get_dummies()\n",
    "sex_encode = pd.DataFrame( sex_encode ).drop('F',axis=1) #classify male/not male\n",
    "\n",
    "c = ['AvgMinSportsPerDay', 'DisciplineScore', 'HappinessScore']\n",
    "X = X_train[X_train['Sex'].notnull()].loc[:, c]\n",
    "X = X.fillna(X.mean()) # fill non-Sex  columns with mean value\n",
    "X = X.values\n",
    "y = sex_encode.values\n",
    "\n",
    "\n",
    "np.random.seed(42)\n",
    "kf = KFold(n_splits=4)\n",
    "scores = []\n",
    "for train_index, test_index in kf.split(X):\n",
    "    X_train_, X_test_ = X[train_index], X[test_index]\n",
    "    y_train_, y_test_ = y[train_index], y[test_index]\n",
    "    \n",
    "    clf = LinearRegression()\n",
    "    clf.fit(X_train_, y_train_)\n",
    "    y_test_pred = clf.predict(X_test_)\n",
    "    \n",
    "    scores.append(r2_score(y_test_, y_test_pred))\n",
    "\n"
   ]
  },
  {
   "cell_type": "markdown",
   "metadata": {},
   "source": [
    "# fill nan values in Sex column\n",
    "## The  R2  score measures how much better than baseline linear regression performs, where baseline is flat regression against the mean. In this case that baseline performance (an  R2  of 0) is the performance of replacing the missing values with the mean of the observed values."
   ]
  },
  {
   "cell_type": "markdown",
   "metadata": {},
   "source": [
    " "
   ]
  },
  {
   "cell_type": "code",
   "execution_count": 25,
   "metadata": {
    "collapsed": false
   },
   "outputs": [],
   "source": [
    "#one-hot encode Sex column\n",
    "sex_encode = pd.Series( X_train[X_train['Sex'].notnull()].loc[:,'Sex'] ).str.get_dummies()\n",
    "sex_encode = pd.DataFrame( sex_encode ).drop('F',axis=1) #classify male/not male\n",
    "y_train_ = sex_encode.values\n",
    "\n",
    "\n",
    "#predict nan values in Sex Column\n",
    "\n",
    "c = ['AvgMinSportsPerDay', 'DisciplineScore', 'HappinessScore']\n",
    "X_train_mod = X_train.loc[:, c]\n",
    "X_train_mod = X_train_mod.fillna(X_train_mod.mean())\n",
    "X_train_mod_fit = X_train_mod[X_train['Sex'].notnull()] # x_train values of c columns where sex is not null\n",
    "\n",
    "X_train_mod_pred = X_train_mod[X_train['Sex'].isnull()].loc[:, c]\n",
    "\n",
    "clf = LinearRegression()\n",
    "clf.fit(X_train_mod_fit, y_train_) #train model on non -Nan values#y_test_pred = clf.predict(X_pred) #predict on Nan values\n",
    "pred = clf.predict(X_train_mod_pred)\n"
   ]
  },
  {
   "cell_type": "markdown",
   "metadata": {},
   "source": [
    "# Sequential Forward Selector"
   ]
  },
  {
   "cell_type": "code",
   "execution_count": 14,
   "metadata": {
    "collapsed": false
   },
   "outputs": [
    {
     "ename": "ModuleNotFoundError",
     "evalue": "No module named 'mlxtend'",
     "output_type": "error",
     "traceback": [
      "\u001b[0;31m---------------------------------------------------------------------------\u001b[0m",
      "\u001b[0;31mModuleNotFoundError\u001b[0m                       Traceback (most recent call last)",
      "\u001b[0;32m<ipython-input-14-defae1bb4817>\u001b[0m in \u001b[0;36m<module>\u001b[0;34m()\u001b[0m\n\u001b[1;32m      9\u001b[0m \u001b[1;33m\u001b[0m\u001b[0m\n\u001b[1;32m     10\u001b[0m \u001b[1;32mfrom\u001b[0m \u001b[0msklearn\u001b[0m\u001b[1;33m.\u001b[0m\u001b[0mneighbors\u001b[0m \u001b[1;32mimport\u001b[0m \u001b[0mKNeighborsClassifier\u001b[0m\u001b[1;33m\u001b[0m\u001b[0m\n\u001b[0;32m---> 11\u001b[0;31m \u001b[1;32mfrom\u001b[0m \u001b[0mmlxtend\u001b[0m\u001b[1;33m.\u001b[0m\u001b[0mfeature_selection\u001b[0m \u001b[1;32mimport\u001b[0m \u001b[0mSequentialFeatureSelector\u001b[0m \u001b[1;32mas\u001b[0m \u001b[0mSFS\u001b[0m \u001b[1;31m#import from mlxtend library\u001b[0m\u001b[1;33m\u001b[0m\u001b[0m\n\u001b[0m\u001b[1;32m     12\u001b[0m \u001b[0mknn\u001b[0m \u001b[1;33m=\u001b[0m \u001b[0mKNeighborsClassifier\u001b[0m\u001b[1;33m(\u001b[0m\u001b[0mn_neighbors\u001b[0m\u001b[1;33m=\u001b[0m\u001b[1;36m2\u001b[0m\u001b[1;33m)\u001b[0m \u001b[1;31m# ml_algo used = knn\u001b[0m\u001b[1;33m\u001b[0m\u001b[0m\n\u001b[1;32m     13\u001b[0m sfs = SFS(knn, \n",
      "\u001b[0;31mModuleNotFoundError\u001b[0m: No module named 'mlxtend'"
     ]
    }
   ],
   "source": [
    "#REMOVED LOCATION FROM FEATURES\n",
    "\n",
    "cols =['AgeGroup','AvgHouseholdExpenseOnPresents','AvgHouseholdExpenseOnSocialGames',\n",
    "        'AvgHouseholdExpenseParkingTicketsPerYear','AvgMinSportsPerDay','AvgTimeOnSocialMedia','AvgTimeOnStuding','BMI',\n",
    "        'DisciplineScore','HappinessScore','Job','NrCousins','StepsPerYear','SyndromeClass','TimeOnSocialActivities']\n",
    "\n",
    "X_train_sfs = X_train[cols]\n",
    "X_train_sfs = X_train_sfs.fillna(X_train_sfs.mean())\n",
    "\n",
    "from sklearn.neighbors import KNeighborsClassifier\n",
    "from mlxtend.feature_selection import SequentialFeatureSelector as SFS #import from mlxtend library\n",
    "knn = KNeighborsClassifier(n_neighbors=2) # ml_algo used = knn\n",
    "sfs = SFS(knn, \n",
    "           k_features=10,  \n",
    "           forward=True, # if forward = True then SFS otherwise SBS\n",
    "           floating=False, \n",
    "           verbose=2,\n",
    "           scoring='accuracy'\n",
    "           )\n",
    "\n",
    "\n",
    "#after applying sfs fit the data:\n",
    "sfs.fit(X_train_sfs, y_train)\n",
    "sfs.k_feature_names_  \n",
    "\n"
   ]
  },
  {
   "cell_type": "code",
   "execution_count": null,
   "metadata": {
    "collapsed": true
   },
   "outputs": [],
   "source": []
  }
 ],
 "metadata": {
  "kernelspec": {
   "display_name": "Python 3",
   "language": "python",
   "name": "python3"
  },
  "language_info": {
   "codemirror_mode": {
    "name": "ipython",
    "version": 3
   },
   "file_extension": ".py",
   "mimetype": "text/x-python",
   "name": "python",
   "nbconvert_exporter": "python",
   "pygments_lexer": "ipython3",
   "version": "3.6.6"
  }
 },
 "nbformat": 4,
 "nbformat_minor": 2
}
