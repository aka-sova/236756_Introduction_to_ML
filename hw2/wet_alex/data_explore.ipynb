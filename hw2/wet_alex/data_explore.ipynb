{
 "cells": [
  {
   "cell_type": "code",
   "execution_count": 1,
   "metadata": {},
   "outputs": [],
   "source": [
    "import pandas as pd # data analysis and manipulation tool\n",
    "import numpy as np # Numerical computing tools\n",
    "import seaborn as sns  # visualization library\n",
    "import matplotlib.pyplot as plt  # another visualization library\n",
    "\n",
    "import typing"
   ]
  },
  {
   "cell_type": "code",
   "execution_count": 437,
   "metadata": {},
   "outputs": [],
   "source": [
    "virus_df = pd.read_csv(\"virus_hw2.csv\")"
   ]
  },
  {
   "cell_type": "code",
   "execution_count": 438,
   "metadata": {},
   "outputs": [
    {
     "data": {
      "text/html": [
       "<div>\n",
       "<style scoped>\n",
       "    .dataframe tbody tr th:only-of-type {\n",
       "        vertical-align: middle;\n",
       "    }\n",
       "\n",
       "    .dataframe tbody tr th {\n",
       "        vertical-align: top;\n",
       "    }\n",
       "\n",
       "    .dataframe thead th {\n",
       "        text-align: right;\n",
       "    }\n",
       "</style>\n",
       "<table border=\"1\" class=\"dataframe\">\n",
       "  <thead>\n",
       "    <tr style=\"text-align: right;\">\n",
       "      <th></th>\n",
       "      <th>PatientID</th>\n",
       "      <th>Address</th>\n",
       "      <th>AgeGroup</th>\n",
       "      <th>AvgHouseholdExpenseOnPresents</th>\n",
       "      <th>AvgHouseholdExpenseOnSocialGames</th>\n",
       "      <th>AvgHouseholdExpenseParkingTicketsPerYear</th>\n",
       "      <th>AvgMinSportsPerDay</th>\n",
       "      <th>AvgTimeOnSocialMedia</th>\n",
       "      <th>AvgTimeOnStuding</th>\n",
       "      <th>BMI</th>\n",
       "      <th>...</th>\n",
       "      <th>pcrResult16</th>\n",
       "      <th>pcrResult2</th>\n",
       "      <th>pcrResult3</th>\n",
       "      <th>pcrResult4</th>\n",
       "      <th>pcrResult5</th>\n",
       "      <th>pcrResult6</th>\n",
       "      <th>pcrResult7</th>\n",
       "      <th>pcrResult8</th>\n",
       "      <th>pcrResult9</th>\n",
       "      <th>TestResultsCode</th>\n",
       "    </tr>\n",
       "  </thead>\n",
       "  <tbody>\n",
       "    <tr>\n",
       "      <th>0</th>\n",
       "      <td>0</td>\n",
       "      <td>8520 Dougherty Common Apt. 318\\nLake Annamouth...</td>\n",
       "      <td>3.0</td>\n",
       "      <td>719.607334</td>\n",
       "      <td>NaN</td>\n",
       "      <td>NaN</td>\n",
       "      <td>NaN</td>\n",
       "      <td>NaN</td>\n",
       "      <td>NaN</td>\n",
       "      <td>34.357918</td>\n",
       "      <td>...</td>\n",
       "      <td>0.561232</td>\n",
       "      <td>-0.679339</td>\n",
       "      <td>0.100034</td>\n",
       "      <td>0.727264</td>\n",
       "      <td>NaN</td>\n",
       "      <td>-0.471150</td>\n",
       "      <td>-1.353009</td>\n",
       "      <td>-0.535733</td>\n",
       "      <td>-1.572741</td>\n",
       "      <td>flue_Spreader_NotatRisk</td>\n",
       "    </tr>\n",
       "    <tr>\n",
       "      <th>1</th>\n",
       "      <td>1</td>\n",
       "      <td>9338 Griffin Route\\nThorntonshire, WY 36917</td>\n",
       "      <td>NaN</td>\n",
       "      <td>NaN</td>\n",
       "      <td>NaN</td>\n",
       "      <td>NaN</td>\n",
       "      <td>103.402401</td>\n",
       "      <td>NaN</td>\n",
       "      <td>NaN</td>\n",
       "      <td>NaN</td>\n",
       "      <td>...</td>\n",
       "      <td>NaN</td>\n",
       "      <td>-1.586196</td>\n",
       "      <td>NaN</td>\n",
       "      <td>-0.355124</td>\n",
       "      <td>-0.347716</td>\n",
       "      <td>-0.382849</td>\n",
       "      <td>-0.794809</td>\n",
       "      <td>-0.531691</td>\n",
       "      <td>-6.764451</td>\n",
       "      <td>measles_NotSpreader_NotatRisk</td>\n",
       "    </tr>\n",
       "    <tr>\n",
       "      <th>2</th>\n",
       "      <td>2</td>\n",
       "      <td>8350 Adam Streets\\nLake Angelaberg, MS 13029</td>\n",
       "      <td>NaN</td>\n",
       "      <td>270.970619</td>\n",
       "      <td>562.33635</td>\n",
       "      <td>1151.389973</td>\n",
       "      <td>NaN</td>\n",
       "      <td>NaN</td>\n",
       "      <td>NaN</td>\n",
       "      <td>NaN</td>\n",
       "      <td>...</td>\n",
       "      <td>0.743885</td>\n",
       "      <td>0.351076</td>\n",
       "      <td>-1.977511</td>\n",
       "      <td>-1.234402</td>\n",
       "      <td>0.258255</td>\n",
       "      <td>1.271829</td>\n",
       "      <td>-0.595020</td>\n",
       "      <td>2.789755</td>\n",
       "      <td>1.646610</td>\n",
       "      <td>not_detected_NotSpreader_atRisk</td>\n",
       "    </tr>\n",
       "  </tbody>\n",
       "</table>\n",
       "<p>3 rows × 39 columns</p>\n",
       "</div>"
      ],
      "text/plain": [
       "   PatientID                                            Address  AgeGroup  \\\n",
       "0          0  8520 Dougherty Common Apt. 318\\nLake Annamouth...       3.0   \n",
       "1          1        9338 Griffin Route\\nThorntonshire, WY 36917       NaN   \n",
       "2          2       8350 Adam Streets\\nLake Angelaberg, MS 13029       NaN   \n",
       "\n",
       "   AvgHouseholdExpenseOnPresents  AvgHouseholdExpenseOnSocialGames  \\\n",
       "0                     719.607334                               NaN   \n",
       "1                            NaN                               NaN   \n",
       "2                     270.970619                         562.33635   \n",
       "\n",
       "   AvgHouseholdExpenseParkingTicketsPerYear  AvgMinSportsPerDay  \\\n",
       "0                                       NaN                 NaN   \n",
       "1                                       NaN          103.402401   \n",
       "2                               1151.389973                 NaN   \n",
       "\n",
       "   AvgTimeOnSocialMedia  AvgTimeOnStuding        BMI  ... pcrResult16  \\\n",
       "0                   NaN               NaN  34.357918  ...    0.561232   \n",
       "1                   NaN               NaN        NaN  ...         NaN   \n",
       "2                   NaN               NaN        NaN  ...    0.743885   \n",
       "\n",
       "  pcrResult2 pcrResult3  pcrResult4  pcrResult5 pcrResult6  pcrResult7  \\\n",
       "0  -0.679339   0.100034    0.727264         NaN  -0.471150   -1.353009   \n",
       "1  -1.586196        NaN   -0.355124   -0.347716  -0.382849   -0.794809   \n",
       "2   0.351076  -1.977511   -1.234402    0.258255   1.271829   -0.595020   \n",
       "\n",
       "  pcrResult8 pcrResult9                  TestResultsCode  \n",
       "0  -0.535733  -1.572741          flue_Spreader_NotatRisk  \n",
       "1  -0.531691  -6.764451    measles_NotSpreader_NotatRisk  \n",
       "2   2.789755   1.646610  not_detected_NotSpreader_atRisk  \n",
       "\n",
       "[3 rows x 39 columns]"
      ]
     },
     "execution_count": 438,
     "metadata": {},
     "output_type": "execute_result"
    }
   ],
   "source": [
    "virus_df.head(3)"
   ]
  },
  {
   "cell_type": "markdown",
   "metadata": {},
   "source": [
    "**Splitting the data**"
   ]
  },
  {
   "cell_type": "code",
   "execution_count": 439,
   "metadata": {},
   "outputs": [
    {
     "name": "stdout",
     "output_type": "stream",
     "text": [
      "Total size: 5000\n",
      "Train df: 3750\n",
      "Valid df: 750\n",
      "Test df: 500\n"
     ]
    }
   ],
   "source": [
    "train_ds_part = 0.75\n",
    "valid_ds_part = 0.15\n",
    "test_ds_part = 0.10\n",
    "\n",
    "total_ds_rows_n = virus_df.shape[0]\n",
    "\n",
    "train_ds_part_int = round(total_ds_rows_n * train_ds_part)\n",
    "valid_ds_part_int = round(total_ds_rows_n * valid_ds_part)\n",
    "test_ds_part_int = total_ds_rows_n - valid_ds_part_int - train_ds_part_int\n",
    "\n",
    "\n",
    "train_end_idx = train_ds_part_int\n",
    "valid_end_idx = train_ds_part_int+valid_ds_part_int\n",
    "\n",
    "split_data = np.split(virus_df, [train_end_idx, valid_end_idx], axis=0)\n",
    "\n",
    "print(f\"Total size: {total_ds_rows_n}\\n\\\n",
    "Train df: {split_data[0].shape[0]}\\n\\\n",
    "Valid df: {split_data[1].shape[0]}\\n\\\n",
    "Test df: {split_data[2].shape[0]}\")\n",
    "\n",
    "ds_obj = {}\n",
    "\n",
    "ds_obj[\"train\"] = split_data[0]\n",
    "ds_obj[\"train_original\"] = split_data[0]\n",
    "\n",
    "ds_obj[\"valid\"] = split_data[1]\n",
    "ds_obj[\"valid_original\"] = split_data[1]\n",
    "\n",
    "ds_obj[\"test\"] = split_data[2]\n",
    "ds_obj[\"test_original\"] = split_data[2]\n"
   ]
  },
  {
   "cell_type": "markdown",
   "metadata": {},
   "source": [
    "**Analyzing the correct type for each attribute**"
   ]
  },
  {
   "cell_type": "code",
   "execution_count": 440,
   "metadata": {},
   "outputs": [
    {
     "data": {
      "text/html": [
       "<div>\n",
       "<style scoped>\n",
       "    .dataframe tbody tr th:only-of-type {\n",
       "        vertical-align: middle;\n",
       "    }\n",
       "\n",
       "    .dataframe tbody tr th {\n",
       "        vertical-align: top;\n",
       "    }\n",
       "\n",
       "    .dataframe thead th {\n",
       "        text-align: right;\n",
       "    }\n",
       "</style>\n",
       "<table border=\"1\" class=\"dataframe\">\n",
       "  <thead>\n",
       "    <tr style=\"text-align: right;\">\n",
       "      <th></th>\n",
       "      <th>PatientID</th>\n",
       "      <th>AgeGroup</th>\n",
       "      <th>AvgHouseholdExpenseOnPresents</th>\n",
       "      <th>AvgHouseholdExpenseOnSocialGames</th>\n",
       "      <th>AvgHouseholdExpenseParkingTicketsPerYear</th>\n",
       "      <th>AvgMinSportsPerDay</th>\n",
       "      <th>AvgTimeOnSocialMedia</th>\n",
       "      <th>AvgTimeOnStuding</th>\n",
       "      <th>BMI</th>\n",
       "      <th>DisciplineScore</th>\n",
       "      <th>...</th>\n",
       "      <th>pcrResult15</th>\n",
       "      <th>pcrResult16</th>\n",
       "      <th>pcrResult2</th>\n",
       "      <th>pcrResult3</th>\n",
       "      <th>pcrResult4</th>\n",
       "      <th>pcrResult5</th>\n",
       "      <th>pcrResult6</th>\n",
       "      <th>pcrResult7</th>\n",
       "      <th>pcrResult8</th>\n",
       "      <th>pcrResult9</th>\n",
       "    </tr>\n",
       "  </thead>\n",
       "  <tbody>\n",
       "    <tr>\n",
       "      <th>count</th>\n",
       "      <td>5000.000000</td>\n",
       "      <td>3987.000000</td>\n",
       "      <td>3970.000000</td>\n",
       "      <td>3989.000000</td>\n",
       "      <td>3968.000000</td>\n",
       "      <td>4036.000000</td>\n",
       "      <td>756.000000</td>\n",
       "      <td>750.000000</td>\n",
       "      <td>3983.000000</td>\n",
       "      <td>3975.000000</td>\n",
       "      <td>...</td>\n",
       "      <td>3976.000000</td>\n",
       "      <td>4033.000000</td>\n",
       "      <td>4017.000000</td>\n",
       "      <td>3994.000000</td>\n",
       "      <td>3971.000000</td>\n",
       "      <td>3967.000000</td>\n",
       "      <td>4007.000000</td>\n",
       "      <td>3997.000000</td>\n",
       "      <td>3994.000000</td>\n",
       "      <td>4013.000000</td>\n",
       "    </tr>\n",
       "    <tr>\n",
       "      <th>mean</th>\n",
       "      <td>2499.500000</td>\n",
       "      <td>3.381991</td>\n",
       "      <td>549.405928</td>\n",
       "      <td>1098.928489</td>\n",
       "      <td>1132.226045</td>\n",
       "      <td>96.815596</td>\n",
       "      <td>317.470895</td>\n",
       "      <td>181.863769</td>\n",
       "      <td>31.487374</td>\n",
       "      <td>5.294088</td>\n",
       "      <td>...</td>\n",
       "      <td>-1.149372</td>\n",
       "      <td>1.825813</td>\n",
       "      <td>-1.761865</td>\n",
       "      <td>-2.344378</td>\n",
       "      <td>0.089435</td>\n",
       "      <td>-0.008925</td>\n",
       "      <td>0.478526</td>\n",
       "      <td>-1.675647</td>\n",
       "      <td>0.003504</td>\n",
       "      <td>1.574187</td>\n",
       "    </tr>\n",
       "    <tr>\n",
       "      <th>std</th>\n",
       "      <td>1443.520003</td>\n",
       "      <td>1.288455</td>\n",
       "      <td>153.996262</td>\n",
       "      <td>307.480015</td>\n",
       "      <td>308.366982</td>\n",
       "      <td>53.501290</td>\n",
       "      <td>1377.813535</td>\n",
       "      <td>106.141554</td>\n",
       "      <td>26.035730</td>\n",
       "      <td>4.512556</td>\n",
       "      <td>...</td>\n",
       "      <td>75.038751</td>\n",
       "      <td>1.511126</td>\n",
       "      <td>149.316939</td>\n",
       "      <td>4.982812</td>\n",
       "      <td>1.237787</td>\n",
       "      <td>0.695519</td>\n",
       "      <td>59.962162</td>\n",
       "      <td>122.569795</td>\n",
       "      <td>1.321364</td>\n",
       "      <td>181.560410</td>\n",
       "    </tr>\n",
       "    <tr>\n",
       "      <th>min</th>\n",
       "      <td>0.000000</td>\n",
       "      <td>0.000000</td>\n",
       "      <td>111.094470</td>\n",
       "      <td>261.258274</td>\n",
       "      <td>151.752961</td>\n",
       "      <td>3.454840</td>\n",
       "      <td>0.000000</td>\n",
       "      <td>0.381134</td>\n",
       "      <td>13.743743</td>\n",
       "      <td>0.000000</td>\n",
       "      <td>...</td>\n",
       "      <td>-1705.948613</td>\n",
       "      <td>0.095814</td>\n",
       "      <td>-8244.852556</td>\n",
       "      <td>-23.531311</td>\n",
       "      <td>-4.488706</td>\n",
       "      <td>-2.069859</td>\n",
       "      <td>-1210.476970</td>\n",
       "      <td>-1778.165094</td>\n",
       "      <td>-3.827445</td>\n",
       "      <td>-7277.049917</td>\n",
       "    </tr>\n",
       "    <tr>\n",
       "      <th>25%</th>\n",
       "      <td>1249.750000</td>\n",
       "      <td>3.000000</td>\n",
       "      <td>448.729111</td>\n",
       "      <td>896.100259</td>\n",
       "      <td>946.953550</td>\n",
       "      <td>52.794697</td>\n",
       "      <td>90.801888</td>\n",
       "      <td>81.417359</td>\n",
       "      <td>26.274964</td>\n",
       "      <td>4.000000</td>\n",
       "      <td>...</td>\n",
       "      <td>-0.595670</td>\n",
       "      <td>0.963734</td>\n",
       "      <td>-0.463784</td>\n",
       "      <td>-3.310248</td>\n",
       "      <td>-0.743358</td>\n",
       "      <td>-0.400022</td>\n",
       "      <td>-0.531411</td>\n",
       "      <td>-1.017134</td>\n",
       "      <td>-1.021579</td>\n",
       "      <td>-0.237007</td>\n",
       "    </tr>\n",
       "    <tr>\n",
       "      <th>50%</th>\n",
       "      <td>2499.500000</td>\n",
       "      <td>3.000000</td>\n",
       "      <td>550.462355</td>\n",
       "      <td>1098.506937</td>\n",
       "      <td>1148.482082</td>\n",
       "      <td>91.702701</td>\n",
       "      <td>169.304540</td>\n",
       "      <td>174.718580</td>\n",
       "      <td>29.050447</td>\n",
       "      <td>5.000000</td>\n",
       "      <td>...</td>\n",
       "      <td>0.019251</td>\n",
       "      <td>1.487280</td>\n",
       "      <td>0.053357</td>\n",
       "      <td>-1.846350</td>\n",
       "      <td>0.103118</td>\n",
       "      <td>0.000417</td>\n",
       "      <td>0.024950</td>\n",
       "      <td>-0.438609</td>\n",
       "      <td>-0.028914</td>\n",
       "      <td>0.682175</td>\n",
       "    </tr>\n",
       "    <tr>\n",
       "      <th>75%</th>\n",
       "      <td>3749.250000</td>\n",
       "      <td>4.000000</td>\n",
       "      <td>662.935681</td>\n",
       "      <td>1328.336633</td>\n",
       "      <td>1350.691363</td>\n",
       "      <td>134.522951</td>\n",
       "      <td>268.200568</td>\n",
       "      <td>291.128458</td>\n",
       "      <td>31.921917</td>\n",
       "      <td>6.000000</td>\n",
       "      <td>...</td>\n",
       "      <td>0.746106</td>\n",
       "      <td>2.204465</td>\n",
       "      <td>0.522540</td>\n",
       "      <td>-0.911185</td>\n",
       "      <td>0.977648</td>\n",
       "      <td>0.391807</td>\n",
       "      <td>0.577947</td>\n",
       "      <td>0.993778</td>\n",
       "      <td>1.029911</td>\n",
       "      <td>1.594512</td>\n",
       "    </tr>\n",
       "    <tr>\n",
       "      <th>max</th>\n",
       "      <td>4999.000000</td>\n",
       "      <td>8.000000</td>\n",
       "      <td>977.077398</td>\n",
       "      <td>1893.719268</td>\n",
       "      <td>2142.216518</td>\n",
       "      <td>305.000513</td>\n",
       "      <td>18498.190238</td>\n",
       "      <td>360.000000</td>\n",
       "      <td>434.149846</td>\n",
       "      <td>80.000000</td>\n",
       "      <td>...</td>\n",
       "      <td>867.952501</td>\n",
       "      <td>19.150648</td>\n",
       "      <td>1562.045738</td>\n",
       "      <td>207.952829</td>\n",
       "      <td>4.698187</td>\n",
       "      <td>2.042337</td>\n",
       "      <td>1157.115485</td>\n",
       "      <td>1828.854713</td>\n",
       "      <td>3.512788</td>\n",
       "      <td>3897.157552</td>\n",
       "    </tr>\n",
       "  </tbody>\n",
       "</table>\n",
       "<p>8 rows × 31 columns</p>\n",
       "</div>"
      ],
      "text/plain": [
       "         PatientID     AgeGroup  AvgHouseholdExpenseOnPresents  \\\n",
       "count  5000.000000  3987.000000                    3970.000000   \n",
       "mean   2499.500000     3.381991                     549.405928   \n",
       "std    1443.520003     1.288455                     153.996262   \n",
       "min       0.000000     0.000000                     111.094470   \n",
       "25%    1249.750000     3.000000                     448.729111   \n",
       "50%    2499.500000     3.000000                     550.462355   \n",
       "75%    3749.250000     4.000000                     662.935681   \n",
       "max    4999.000000     8.000000                     977.077398   \n",
       "\n",
       "       AvgHouseholdExpenseOnSocialGames  \\\n",
       "count                       3989.000000   \n",
       "mean                        1098.928489   \n",
       "std                          307.480015   \n",
       "min                          261.258274   \n",
       "25%                          896.100259   \n",
       "50%                         1098.506937   \n",
       "75%                         1328.336633   \n",
       "max                         1893.719268   \n",
       "\n",
       "       AvgHouseholdExpenseParkingTicketsPerYear  AvgMinSportsPerDay  \\\n",
       "count                               3968.000000         4036.000000   \n",
       "mean                                1132.226045           96.815596   \n",
       "std                                  308.366982           53.501290   \n",
       "min                                  151.752961            3.454840   \n",
       "25%                                  946.953550           52.794697   \n",
       "50%                                 1148.482082           91.702701   \n",
       "75%                                 1350.691363          134.522951   \n",
       "max                                 2142.216518          305.000513   \n",
       "\n",
       "       AvgTimeOnSocialMedia  AvgTimeOnStuding          BMI  DisciplineScore  \\\n",
       "count            756.000000        750.000000  3983.000000      3975.000000   \n",
       "mean             317.470895        181.863769    31.487374         5.294088   \n",
       "std             1377.813535        106.141554    26.035730         4.512556   \n",
       "min                0.000000          0.381134    13.743743         0.000000   \n",
       "25%               90.801888         81.417359    26.274964         4.000000   \n",
       "50%              169.304540        174.718580    29.050447         5.000000   \n",
       "75%              268.200568        291.128458    31.921917         6.000000   \n",
       "max            18498.190238        360.000000   434.149846        80.000000   \n",
       "\n",
       "       ...  pcrResult15  pcrResult16   pcrResult2   pcrResult3   pcrResult4  \\\n",
       "count  ...  3976.000000  4033.000000  4017.000000  3994.000000  3971.000000   \n",
       "mean   ...    -1.149372     1.825813    -1.761865    -2.344378     0.089435   \n",
       "std    ...    75.038751     1.511126   149.316939     4.982812     1.237787   \n",
       "min    ... -1705.948613     0.095814 -8244.852556   -23.531311    -4.488706   \n",
       "25%    ...    -0.595670     0.963734    -0.463784    -3.310248    -0.743358   \n",
       "50%    ...     0.019251     1.487280     0.053357    -1.846350     0.103118   \n",
       "75%    ...     0.746106     2.204465     0.522540    -0.911185     0.977648   \n",
       "max    ...   867.952501    19.150648  1562.045738   207.952829     4.698187   \n",
       "\n",
       "        pcrResult5   pcrResult6   pcrResult7   pcrResult8   pcrResult9  \n",
       "count  3967.000000  4007.000000  3997.000000  3994.000000  4013.000000  \n",
       "mean     -0.008925     0.478526    -1.675647     0.003504     1.574187  \n",
       "std       0.695519    59.962162   122.569795     1.321364   181.560410  \n",
       "min      -2.069859 -1210.476970 -1778.165094    -3.827445 -7277.049917  \n",
       "25%      -0.400022    -0.531411    -1.017134    -1.021579    -0.237007  \n",
       "50%       0.000417     0.024950    -0.438609    -0.028914     0.682175  \n",
       "75%       0.391807     0.577947     0.993778     1.029911     1.594512  \n",
       "max       2.042337  1157.115485  1828.854713     3.512788  3897.157552  \n",
       "\n",
       "[8 rows x 31 columns]"
      ]
     },
     "execution_count": 440,
     "metadata": {},
     "output_type": "execute_result"
    }
   ],
   "source": [
    "virus_df.describe()"
   ]
  },
  {
   "cell_type": "code",
   "execution_count": 441,
   "metadata": {},
   "outputs": [
    {
     "data": {
      "text/plain": [
       "PatientID                                     int64\n",
       "Address                                      object\n",
       "AgeGroup                                    float64\n",
       "AvgHouseholdExpenseOnPresents               float64\n",
       "AvgHouseholdExpenseOnSocialGames            float64\n",
       "AvgHouseholdExpenseParkingTicketsPerYear    float64\n",
       "AvgMinSportsPerDay                          float64\n",
       "AvgTimeOnSocialMedia                        float64\n",
       "AvgTimeOnStuding                            float64\n",
       "BMI                                         float64\n",
       "BloodType                                    object\n",
       "CurrentLocation                              object\n",
       "DateOfPCRTest                                object\n",
       "DisciplineScore                             float64\n",
       "HappinessScore                              float64\n",
       "Job                                          object\n",
       "NrCousins                                   float64\n",
       "SelfDeclarationOfIllnessForm                 object\n",
       "Sex                                          object\n",
       "StepsPerYear                                float64\n",
       "SyndromeClass                               float64\n",
       "TimeOnSocialActivities                      float64\n",
       "pcrResult1                                  float64\n",
       "pcrResult10                                 float64\n",
       "pcrResult11                                 float64\n",
       "pcrResult12                                 float64\n",
       "pcrResult13                                 float64\n",
       "pcrResult14                                 float64\n",
       "pcrResult15                                 float64\n",
       "pcrResult16                                 float64\n",
       "pcrResult2                                  float64\n",
       "pcrResult3                                  float64\n",
       "pcrResult4                                  float64\n",
       "pcrResult5                                  float64\n",
       "pcrResult6                                  float64\n",
       "pcrResult7                                  float64\n",
       "pcrResult8                                  float64\n",
       "pcrResult9                                  float64\n",
       "TestResultsCode                              object\n",
       "dtype: object"
      ]
     },
     "execution_count": 441,
     "metadata": {},
     "output_type": "execute_result"
    }
   ],
   "source": [
    "virus_df.dtypes"
   ]
  },
  {
   "cell_type": "markdown",
   "metadata": {},
   "source": [
    "**all of the objects have to be changed whether to numerical int/float, of categorical**"
   ]
  },
  {
   "cell_type": "markdown",
   "metadata": {},
   "source": [
    "# 1. BMI\n",
    "**has outliers**"
   ]
  },
  {
   "cell_type": "code",
   "execution_count": 442,
   "metadata": {},
   "outputs": [
    {
     "data": {
      "image/png": "[encoded data removed]",
      "text/plain": [
       "<Figure size 432x288 with 1 Axes>"
      ]
     },
     "metadata": {
      "needs_background": "light"
     },
     "output_type": "display_data"
    }
   ],
   "source": [
    "null_obj_amount = ds_obj[\"train\"].BMI.isnull().sum()\n",
    "# 737 NaN\n",
    "\n",
    "_ = plt.hist(ds_obj[\"train\"].BMI, bins = 50)"
   ]
  },
  {
   "cell_type": "markdown",
   "metadata": {},
   "source": [
    "we can see outliers at around 270. BMI cannot be this big. max BMI is around 50 i would say. Every BMI above this would receive an average of the population, since I assume that the measurement is simply incorrect"
   ]
  },
  {
   "cell_type": "code",
   "execution_count": 443,
   "metadata": {},
   "outputs": [
    {
     "data": {
      "image/png": "[encoded data removed]",
      "text/plain": [
       "<Figure size 432x288 with 1 Axes>"
      ]
     },
     "metadata": {
      "needs_background": "light"
     },
     "output_type": "display_data"
    }
   ],
   "source": [
    "bmi_max_val = 50\n",
    "mean_train_BMI = np.mean(ds_obj[\"train\"].BMI)\n",
    "outlier_bmi_mask = ds_obj[\"train\"].BMI>bmi_max_val\n",
    "\n",
    "\n",
    "ds_obj[\"train\"].loc[outlier_bmi_mask, \"BMI\"] = mean_train_BMI\n",
    "\n",
    "_ = plt.hist(ds_obj[\"train\"].BMI, bins = 50)"
   ]
  },
  {
   "cell_type": "markdown",
   "metadata": {},
   "source": [
    "**TODO**:\n",
    "It would be better to take mean for the appropriating Age and Sex category, since those are physical parameters as well"
   ]
  },
  {
   "cell_type": "markdown",
   "metadata": {},
   "source": [
    "# 2. SEX\n",
    "**should be categorical**"
   ]
  },
  {
   "cell_type": "code",
   "execution_count": 444,
   "metadata": {},
   "outputs": [
    {
     "data": {
      "text/plain": [
       "729"
      ]
     },
     "execution_count": 444,
     "metadata": {},
     "output_type": "execute_result"
    }
   ],
   "source": [
    "# ds_obj[\"train\"].Sex = ds_obj[\"train\"].Sex.map( {'F':0, 'M':1}).astype(int)\n",
    "\n",
    "ds_obj[\"train\"].Sex.isnull().sum()"
   ]
  },
  {
   "cell_type": "markdown",
   "metadata": {},
   "source": [
    "what do i do with NaN?.... drop? need to find correlation with some other class"
   ]
  },
  {
   "cell_type": "code",
   "execution_count": null,
   "metadata": {},
   "outputs": [],
   "source": []
  },
  {
   "cell_type": "code",
   "execution_count": null,
   "metadata": {},
   "outputs": [],
   "source": []
  },
  {
   "cell_type": "code",
   "execution_count": null,
   "metadata": {},
   "outputs": [],
   "source": []
  },
  {
   "cell_type": "code",
   "execution_count": null,
   "metadata": {},
   "outputs": [],
   "source": []
  },
  {
   "cell_type": "code",
   "execution_count": null,
   "metadata": {},
   "outputs": [],
   "source": []
  },
  {
   "cell_type": "markdown",
   "metadata": {},
   "source": [
    "# 3. Expenses\n",
    "**continuous data**"
   ]
  },
  {
   "cell_type": "code",
   "execution_count": 445,
   "metadata": {},
   "outputs": [
    {
     "data": {
      "image/png": "[encoded data removed]",
      "text/plain": [
       "<Figure size 432x288 with 1 Axes>"
      ]
     },
     "metadata": {
      "needs_background": "light"
     },
     "output_type": "display_data"
    }
   ],
   "source": [
    "_ = plt.hist(ds_obj[\"train\"].AvgHouseholdExpenseOnPresents, bins = 50)\n",
    "_ = plt.hist(ds_obj[\"train\"].AvgHouseholdExpenseOnSocialGames, bins = 50)\n",
    "_ = plt.hist(ds_obj[\"train\"].AvgHouseholdExpenseParkingTicketsPerYear, bins = 50)"
   ]
  },
  {
   "cell_type": "code",
   "execution_count": null,
   "metadata": {},
   "outputs": [],
   "source": []
  },
  {
   "cell_type": "markdown",
   "metadata": {},
   "source": [
    "# 4. Age group\n",
    "**should be changed to int**\n"
   ]
  },
  {
   "cell_type": "code",
   "execution_count": 446,
   "metadata": {},
   "outputs": [],
   "source": [
    "ds_obj[\"train\"][\"AgeGroupInt\"] = \\\n",
    "ds_obj[\"train\"][\"AgeGroup\"].astype('Int64')"
   ]
  },
  {
   "cell_type": "code",
   "execution_count": 447,
   "metadata": {},
   "outputs": [],
   "source": [
    "ds_obj[\"train\"] = ds_obj[\"train\"].drop(['AgeGroup'], axis=1) "
   ]
  },
  {
   "cell_type": "code",
   "execution_count": null,
   "metadata": {},
   "outputs": [],
   "source": []
  },
  {
   "cell_type": "markdown",
   "metadata": {},
   "source": [
    "# 5. PCR results\n",
    "**let's see if there's correlation between those results. If so, some of those inputs can be dropped out**\n",
    "\n",
    "we will look at the correlation graphs and at the pearson coefficients"
   ]
  },
  {
   "cell_type": "code",
   "execution_count": 448,
   "metadata": {},
   "outputs": [
    {
     "data": {
      "text/plain": [
       "Text(0.5, 1.0, 'Correlation Matrix')"
      ]
     },
     "execution_count": 448,
     "metadata": {},
     "output_type": "execute_result"
    },
    {
     "data": {
      "image/png": "[encoded data removed]",
      "text/plain": [
       "<Figure size 432x288 with 2 Axes>"
      ]
     },
     "metadata": {
      "needs_background": "light"
     },
     "output_type": "display_data"
    }
   ],
   "source": [
    "relevant_fields = [\"pcrResult\" + str(i+1) for i in range(16)]  \n",
    "ticks_names = [str(i+1) for i in range(16)]  \n",
    "\n",
    "ds_obj_pcr = ds_obj[\"train\"][relevant_fields]\n",
    "corr_df = ds_obj_pcr.corr('pearson')\n",
    "\n",
    "# show as heatmap\n",
    "f = plt.figure()\n",
    "plt.matshow(corr_df, fignum=f.number)\n",
    "plt.xticks(range(16), ticks_names, fontsize=14, rotation = 'vertical')\n",
    "plt.yticks(range(16), ticks_names, fontsize=14)\n",
    "cb = plt.colorbar()\n",
    "cb.ax.tick_params(labelsize=14)\n",
    "plt.title('Correlation Matrix', fontsize=18)\n",
    "\n"
   ]
  },
  {
   "cell_type": "markdown",
   "metadata": {},
   "source": [
    "conclusions:\n",
    "1. pcr results 12, 13 are strongly correlated\n",
    "2. pcr results 3, 13 are strongly negatively correlated\n",
    "3. pcr results 3, 12 are strongly negatively correlated\n",
    "3. pcr results 16, 13 are strongly negatively correlated\n",
    "4. pcr results 16, 12 are strongly negatively correlated\n",
    "\n",
    "Conclusion:\n",
    "we can remove the following features: 3, 12, 16. They are strongly correlated with feature 13"
   ]
  },
  {
   "cell_type": "markdown",
   "metadata": {},
   "source": [
    "# Mutual information on the categorical data"
   ]
  },
  {
   "cell_type": "markdown",
   "metadata": {},
   "source": [
    "Checking which data is categorical"
   ]
  },
  {
   "cell_type": "code",
   "execution_count": 449,
   "metadata": {},
   "outputs": [
    {
     "data": {
      "text/plain": [
       "PatientID                                     int64\n",
       "Address                                      object\n",
       "AgeGroup                                    float64\n",
       "AvgHouseholdExpenseOnPresents               float64\n",
       "AvgHouseholdExpenseOnSocialGames            float64\n",
       "AvgHouseholdExpenseParkingTicketsPerYear    float64\n",
       "AvgMinSportsPerDay                          float64\n",
       "AvgTimeOnSocialMedia                        float64\n",
       "AvgTimeOnStuding                            float64\n",
       "BMI                                         float64\n",
       "BloodType                                    object\n",
       "CurrentLocation                              object\n",
       "DateOfPCRTest                                object\n",
       "DisciplineScore                             float64\n",
       "HappinessScore                              float64\n",
       "Job                                          object\n",
       "NrCousins                                   float64\n",
       "SelfDeclarationOfIllnessForm                 object\n",
       "Sex                                          object\n",
       "StepsPerYear                                float64\n",
       "SyndromeClass                               float64\n",
       "TimeOnSocialActivities                      float64\n",
       "pcrResult1                                  float64\n",
       "pcrResult10                                 float64\n",
       "pcrResult11                                 float64\n",
       "pcrResult12                                 float64\n",
       "pcrResult13                                 float64\n",
       "pcrResult14                                 float64\n",
       "pcrResult15                                 float64\n",
       "pcrResult16                                 float64\n",
       "pcrResult2                                  float64\n",
       "pcrResult3                                  float64\n",
       "pcrResult4                                  float64\n",
       "pcrResult5                                  float64\n",
       "pcrResult6                                  float64\n",
       "pcrResult7                                  float64\n",
       "pcrResult8                                  float64\n",
       "pcrResult9                                  float64\n",
       "TestResultsCode                              object\n",
       "dtype: object"
      ]
     },
     "execution_count": 449,
     "metadata": {},
     "output_type": "execute_result"
    }
   ],
   "source": [
    "virus_df.dtypes"
   ]
  },
  {
   "cell_type": "markdown",
   "metadata": {},
   "source": [
    "# 1. Blood type"
   ]
  },
  {
   "cell_type": "code",
   "execution_count": 450,
   "metadata": {},
   "outputs": [
    {
     "name": "stdout",
     "output_type": "stream",
     "text": [
      "[nan 'AB+' 'O+' 'A-' 'B+' 'B-' 'A+' 'O-' 'AB-']\n",
      "There are 9 types\n"
     ]
    }
   ],
   "source": [
    "print(virus_df.BloodType.unique())\n",
    "print(f\"There are {len(virus_df.BloodType.unique())} types\")"
   ]
  },
  {
   "cell_type": "markdown",
   "metadata": {},
   "source": [
    "it's obvious that those are the categories. First convert the NaN into new category - Unknown"
   ]
  },
  {
   "cell_type": "code",
   "execution_count": 451,
   "metadata": {},
   "outputs": [],
   "source": [
    "virus_df.BloodType = virus_df.BloodType.astype('category')\n",
    "virus_df.BloodType = virus_df.BloodType.cat.add_categories(\"Unknown\")\n",
    "virus_df.BloodType = virus_df.BloodType.fillna(\"Unknown\")\n",
    "\n"
   ]
  },
  {
   "cell_type": "code",
   "execution_count": 452,
   "metadata": {},
   "outputs": [],
   "source": [
    "virus_df[\"BloodTypeInt\"] = virus_df.BloodType.cat.rename_categories(range(virus_df.BloodType.nunique())).astype(int)\n",
    "virus_df = virus_df.drop(columns=\"BloodType\")"
   ]
  },
  {
   "cell_type": "markdown",
   "metadata": {},
   "source": [
    "# 2. Job"
   ]
  },
  {
   "cell_type": "code",
   "execution_count": 453,
   "metadata": {},
   "outputs": [
    {
     "name": "stdout",
     "output_type": "stream",
     "text": [
      "There are 632 Job types\n"
     ]
    }
   ],
   "source": [
    "print(f\"There are {len(virus_df.Job.unique())} Job types\")"
   ]
  },
  {
   "cell_type": "markdown",
   "metadata": {},
   "source": [
    "That's too many categories. I think we should drop this one"
   ]
  },
  {
   "cell_type": "code",
   "execution_count": null,
   "metadata": {},
   "outputs": [],
   "source": []
  },
  {
   "cell_type": "code",
   "execution_count": null,
   "metadata": {},
   "outputs": [],
   "source": []
  },
  {
   "cell_type": "markdown",
   "metadata": {},
   "source": [
    "# 3. Sex"
   ]
  },
  {
   "cell_type": "code",
   "execution_count": 454,
   "metadata": {},
   "outputs": [
    {
     "name": "stdout",
     "output_type": "stream",
     "text": [
      "['F' 'M' nan]\n",
      "There are 3 Sex types\n",
      "\n",
      "F : 2048/5000 \n",
      "M : 1984/5000 \n",
      "nan : 968/5000\n"
     ]
    }
   ],
   "source": [
    "print(virus_df.Sex.unique())\n",
    "print(f\"There are {len(virus_df.Sex.unique())} Sex types\")\n",
    "\n",
    "total = virus_df.shape[0]\n",
    "F_size = sum(virus_df.Sex == \"F\")\n",
    "M_size = sum(virus_df.Sex == \"M\")\n",
    "nan_size = total - F_size - M_size\n",
    "print(\"\")\n",
    "print(f\"F : {F_size}/{total} \")\n",
    "print(f\"M : {M_size}/{total} \")\n",
    "print(f\"nan : {nan_size}/{total}\")"
   ]
  },
  {
   "cell_type": "markdown",
   "metadata": {},
   "source": [
    "Filling the NaN with another class - No Gender"
   ]
  },
  {
   "cell_type": "code",
   "execution_count": 455,
   "metadata": {},
   "outputs": [],
   "source": [
    "virus_df.Sex = virus_df.Sex.astype('category')\n",
    "virus_df.Sex = virus_df.Sex.cat.add_categories(\"No Gender\")\n",
    "virus_df.Sex = virus_df.Sex.fillna(\"No Gender\")"
   ]
  },
  {
   "cell_type": "code",
   "execution_count": 456,
   "metadata": {},
   "outputs": [],
   "source": [
    "virus_df[\"SexInt\"] = virus_df.Sex.cat.rename_categories(range(virus_df.Sex.nunique())).astype(int)\n",
    "virus_df = virus_df.drop(columns=\"Sex\")"
   ]
  },
  {
   "cell_type": "markdown",
   "metadata": {},
   "source": [
    "# 4. Syndrome Class"
   ]
  },
  {
   "cell_type": "code",
   "execution_count": 457,
   "metadata": {},
   "outputs": [
    {
     "name": "stdout",
     "output_type": "stream",
     "text": [
      "There are 5 Syndrome Class\n"
     ]
    },
    {
     "data": {
      "text/plain": [
       "array([ 2.,  3.,  1., nan,  4.])"
      ]
     },
     "execution_count": 457,
     "metadata": {},
     "output_type": "execute_result"
    }
   ],
   "source": [
    "print(f\"There are {len(virus_df.SyndromeClass.unique())} Syndrome Class\")\n",
    "virus_df.SyndromeClass.unique()"
   ]
  },
  {
   "cell_type": "code",
   "execution_count": 458,
   "metadata": {},
   "outputs": [
    {
     "name": "stdout",
     "output_type": "stream",
     "text": [
      "There are 990 nan syndrome classes\n"
     ]
    }
   ],
   "source": [
    "nan_sum = sum(virus_df.SyndromeClass.isnull())\n",
    "print(f\"There are {nan_sum} nan syndrome classes\")"
   ]
  },
  {
   "cell_type": "code",
   "execution_count": null,
   "metadata": {},
   "outputs": [],
   "source": []
  },
  {
   "cell_type": "code",
   "execution_count": 459,
   "metadata": {},
   "outputs": [
    {
     "data": {
      "text/plain": [
       "array([ 2.,  3.,  1., nan,  4.])"
      ]
     },
     "execution_count": 459,
     "metadata": {},
     "output_type": "execute_result"
    }
   ],
   "source": [
    "virus_df.SyndromeClass.unique()"
   ]
  },
  {
   "cell_type": "markdown",
   "metadata": {},
   "source": [
    "Have to check the correlation between the syndromes and the test results to understand if that's category or not"
   ]
  },
  {
   "cell_type": "code",
   "execution_count": null,
   "metadata": {},
   "outputs": [],
   "source": []
  },
  {
   "cell_type": "code",
   "execution_count": null,
   "metadata": {},
   "outputs": [],
   "source": []
  },
  {
   "cell_type": "markdown",
   "metadata": {},
   "source": [
    "# 5. SelfDeclataion"
   ]
  },
  {
   "cell_type": "code",
   "execution_count": 460,
   "metadata": {},
   "outputs": [
    {
     "name": "stdout",
     "output_type": "stream",
     "text": [
      "There are 435 SelfDeclarationOfIllnessForm types\n"
     ]
    }
   ],
   "source": [
    "print(f\"There are {len(virus_df.SelfDeclarationOfIllnessForm.unique())} SelfDeclarationOfIllnessForm types\")"
   ]
  },
  {
   "cell_type": "markdown",
   "metadata": {},
   "source": [
    "Important metric  - first derive unique classes"
   ]
  },
  {
   "cell_type": "code",
   "execution_count": 461,
   "metadata": {},
   "outputs": [
    {
     "data": {
      "text/plain": [
       "['Diarrhea',\n",
       " 'Nausea_or_vomiting',\n",
       " 'Shortness_of_breath',\n",
       " 'Congestion_or_runny nose',\n",
       " 'Headache',\n",
       " 'Fatigue',\n",
       " 'Muscle_or_body_aches',\n",
       " 'Chills',\n",
       " 'Skin_redness',\n",
       " 'New_loss_of_taste_or_smell',\n",
       " 'Sore_throat']"
      ]
     },
     "execution_count": 461,
     "metadata": {},
     "output_type": "execute_result"
    }
   ],
   "source": [
    "unique_self_declaracion_classes = []\n",
    "\n",
    "def parse_syndromes(syndromes_str : str) -> list:\n",
    "    syndromes_list = []\n",
    "    syndromes_str = syndromes_str.split(sep = \";\")\n",
    "    \n",
    "    for syndrome in syndromes_str:\n",
    "        syndrome = syndrome.strip()\n",
    "        syndromes_list.append(syndrome)\n",
    "        \n",
    "    return syndromes_list\n",
    "\n",
    "for syndromes_list in virus_df.SelfDeclarationOfIllnessForm.unique():\n",
    "    if not isinstance(syndromes_list, str):\n",
    "        continue\n",
    "      \n",
    "    syndromes = parse_syndromes(syndromes_list)\n",
    "    for syndrome in syndromes:\n",
    "        if syndrome not in unique_self_declaracion_classes:\n",
    "            unique_self_declaracion_classes.append(syndrome)\n",
    "\n",
    "unique_self_declaracion_classes            "
   ]
  },
  {
   "cell_type": "markdown",
   "metadata": {},
   "source": [
    "Good! Now for each syndrome, we create a new category, which will be binary category (0, 1)\n",
    "Let's say we go over all of our training dataset.\n",
    "I will use loop since we have to parse each self declaration for each sample"
   ]
  },
  {
   "cell_type": "code",
   "execution_count": 462,
   "metadata": {},
   "outputs": [
    {
     "data": {
      "text/plain": [
       "PatientID                                     int64\n",
       "Address                                      object\n",
       "AgeGroup                                    float64\n",
       "AvgHouseholdExpenseOnPresents               float64\n",
       "AvgHouseholdExpenseOnSocialGames            float64\n",
       "AvgHouseholdExpenseParkingTicketsPerYear    float64\n",
       "AvgMinSportsPerDay                          float64\n",
       "AvgTimeOnSocialMedia                        float64\n",
       "AvgTimeOnStuding                            float64\n",
       "BMI                                         float64\n",
       "CurrentLocation                              object\n",
       "DateOfPCRTest                                object\n",
       "DisciplineScore                             float64\n",
       "HappinessScore                              float64\n",
       "Job                                          object\n",
       "NrCousins                                   float64\n",
       "SelfDeclarationOfIllnessForm                 object\n",
       "StepsPerYear                                float64\n",
       "SyndromeClass                               float64\n",
       "TimeOnSocialActivities                      float64\n",
       "pcrResult1                                  float64\n",
       "pcrResult10                                 float64\n",
       "pcrResult11                                 float64\n",
       "pcrResult12                                 float64\n",
       "pcrResult13                                 float64\n",
       "pcrResult14                                 float64\n",
       "pcrResult15                                 float64\n",
       "pcrResult16                                 float64\n",
       "pcrResult2                                  float64\n",
       "pcrResult3                                  float64\n",
       "pcrResult4                                  float64\n",
       "pcrResult5                                  float64\n",
       "pcrResult6                                  float64\n",
       "pcrResult7                                  float64\n",
       "pcrResult8                                  float64\n",
       "pcrResult9                                  float64\n",
       "TestResultsCode                              object\n",
       "BloodTypeInt                                  int32\n",
       "SexInt                                        int32\n",
       "DiarrheaInt                                   int32\n",
       "Nausea_or_vomitingInt                         int32\n",
       "Shortness_of_breathInt                        int32\n",
       "Congestion_or_runny noseInt                   int32\n",
       "HeadacheInt                                   int32\n",
       "FatigueInt                                    int32\n",
       "Muscle_or_body_achesInt                       int32\n",
       "ChillsInt                                     int32\n",
       "Skin_rednessInt                               int32\n",
       "New_loss_of_taste_or_smellInt                 int32\n",
       "Sore_throatInt                                int32\n",
       "dtype: object"
      ]
     },
     "execution_count": 462,
     "metadata": {},
     "output_type": "execute_result"
    }
   ],
   "source": [
    "def add_syndrom_categories(virus_df, syndromes_classes) -> pd.DataFrame:\n",
    "    # parse each sample of syndromes_df\n",
    "    # and set True for specific category\n",
    "    \n",
    "    syndromes_dict = {}\n",
    "    \n",
    "    for syndrom in syndromes_classes:\n",
    "        syndromes_dict[syndrom] = np.zeros(virus_df.shape[0])\n",
    "    \n",
    "        \n",
    "    \n",
    "    for idx, sample in enumerate(virus_df.SelfDeclarationOfIllnessForm):\n",
    "        if not isinstance(sample, str):\n",
    "            continue\n",
    "        syndromes_list = parse_syndromes(sample)\n",
    "        \n",
    "        for syndrome in syndromes_list:\n",
    "            syndromes_dict[syndrome][idx] = 1\n",
    "        \n",
    "    return syndromes_dict\n",
    "\n",
    "\n",
    "# dict for each symptom, list of booleans\n",
    "syndromes_dict = add_syndrom_categories(virus_df, unique_self_declaracion_classes)\n",
    "syndromes_list = []\n",
    "\n",
    "# change each to category in the dataset\n",
    "for key in syndromes_dict.keys():\n",
    "    virus_df[key] = syndromes_dict[key]\n",
    "    virus_df[key] = virus_df[key].astype('category')\n",
    "    \n",
    "    # create the binary equivalent\n",
    "    virus_df[f\"{key}Int\"] = virus_df[key].cat.rename_categories(range(virus_df[key].nunique())).astype(int)\n",
    "    virus_df = virus_df.drop(columns=key)\n",
    "    syndromes_list.append(f\"{key}Int\")\n",
    "    \n",
    "\n",
    "virus_df.drop(columns=['SelfDeclarationOfIllnessForm'])\n",
    "\n",
    "\n",
    "virus_df.dtypes\n"
   ]
  },
  {
   "cell_type": "markdown",
   "metadata": {},
   "source": [
    "### Checking the Mutual Information with the TestResultsCode"
   ]
  },
  {
   "cell_type": "markdown",
   "metadata": {},
   "source": [
    "#### creating the labels encoding"
   ]
  },
  {
   "cell_type": "code",
   "execution_count": 463,
   "metadata": {},
   "outputs": [
    {
     "data": {
      "text/plain": [
       "[['flue', 'Spreader', 'NotatRisk'],\n",
       " ['measles', 'NotSpreader', 'NotatRisk'],\n",
       " ['notdetected', 'NotSpreader', 'atRisk'],\n",
       " ['covid', 'Spreader', 'NotatRisk'],\n",
       " ['covid', 'Spreader', 'NotatRisk'],\n",
       " ['flue', 'Spreader', 'atRisk'],\n",
       " ['covid', 'NotSpreader', 'atRisk'],\n",
       " ['notdetected', 'Spreader', 'atRisk'],\n",
       " ['notdetected', 'Spreader', 'NotatRisk'],\n",
       " ['cold', 'NotSpreader', 'atRisk'],\n",
       " ['cold', 'NotSpreader', 'atRisk'],\n",
       " ['measles', 'NotSpreader', 'atRisk'],\n",
       " ['measles', 'NotSpreader', 'NotatRisk'],\n",
       " ['covid', 'Spreader', 'NotatRisk'],\n",
       " ['covid', 'NotSpreader', 'atRisk'],\n",
       " ['flue', 'Spreader', 'NotatRisk'],\n",
       " ['cold', 'Spreader', 'NotatRisk'],\n",
       " ['notdetected', 'NotSpreader', 'atRisk'],\n",
       " ['flue', 'Spreader', 'atRisk'],\n",
       " ['cold', 'NotSpreader', 'atRisk']]"
      ]
     },
     "execution_count": 463,
     "metadata": {},
     "output_type": "execute_result"
    }
   ],
   "source": [
    "#test result classified by labels\n",
    "li = virus_df.TestResultsCode.tolist()\n",
    "labels =  [ item.split('_') for item in li ] \n",
    "for item in labels:\n",
    "    if len(item)==4:\n",
    "        add =  item[0]+item[1]     \n",
    "        item = item.insert( 0, add  )\n",
    "for item in labels:\n",
    "    if 'not' in item:\n",
    "        item.remove('not')\n",
    "    if 'detected' in item:\n",
    "        item.remove('detected')\n",
    "        \n",
    "labels[0:20]"
   ]
  },
  {
   "cell_type": "code",
   "execution_count": 464,
   "metadata": {},
   "outputs": [
    {
     "data": {
      "text/html": [
       "<div>\n",
       "<style scoped>\n",
       "    .dataframe tbody tr th:only-of-type {\n",
       "        vertical-align: middle;\n",
       "    }\n",
       "\n",
       "    .dataframe tbody tr th {\n",
       "        vertical-align: top;\n",
       "    }\n",
       "\n",
       "    .dataframe thead th {\n",
       "        text-align: right;\n",
       "    }\n",
       "</style>\n",
       "<table border=\"1\" class=\"dataframe\">\n",
       "  <thead>\n",
       "    <tr style=\"text-align: right;\">\n",
       "      <th></th>\n",
       "      <th>NotatRisk</th>\n",
       "      <th>atRisk</th>\n",
       "    </tr>\n",
       "  </thead>\n",
       "  <tbody>\n",
       "    <tr>\n",
       "      <th>0</th>\n",
       "      <td>1</td>\n",
       "      <td>0</td>\n",
       "    </tr>\n",
       "    <tr>\n",
       "      <th>1</th>\n",
       "      <td>1</td>\n",
       "      <td>0</td>\n",
       "    </tr>\n",
       "    <tr>\n",
       "      <th>2</th>\n",
       "      <td>0</td>\n",
       "      <td>1</td>\n",
       "    </tr>\n",
       "  </tbody>\n",
       "</table>\n",
       "</div>"
      ],
      "text/plain": [
       "   NotatRisk  atRisk\n",
       "0          1       0\n",
       "1          1       0\n",
       "2          0       1"
      ]
     },
     "execution_count": 464,
     "metadata": {},
     "output_type": "execute_result"
    }
   ],
   "source": [
    "#one-hot encode the test results\n",
    "disease = [ la[0] for la in labels ]\n",
    "spread = [  la[1] for la in labels  ]\n",
    "risk = [  la[2] for la in labels  ]\n",
    "\n",
    "disease_encode = pd.Series( disease  ).str.get_dummies()\n",
    "spread_encode = pd.Series( spread  ).str.get_dummies()\n",
    "risk_encode = pd.Series( risk  ).str.get_dummies()\n",
    "risk_encode.head(3)"
   ]
  },
  {
   "cell_type": "code",
   "execution_count": 465,
   "metadata": {},
   "outputs": [],
   "source": [
    "#interate one hot encoding of test results back to df\n",
    "virus_df = virus_df.drop(columns = 'TestResultsCode')"
   ]
  },
  {
   "cell_type": "code",
   "execution_count": 466,
   "metadata": {},
   "outputs": [
    {
     "name": "stdout",
     "output_type": "stream",
     "text": [
      "All posible labels are : ['cmv', 'cold', 'covid', 'flue', 'measles', 'notdetected', 'Spreader', 'atRisk']\n"
     ]
    }
   ],
   "source": [
    "\n",
    "future_labels = (list(disease_encode.columns))\n",
    "future_labels.append(spread_encode.columns[1])\n",
    "future_labels.append(risk_encode.columns[1])\n",
    "print(f\"All posible labels are : {future_labels}\")"
   ]
  },
  {
   "cell_type": "markdown",
   "metadata": {},
   "source": [
    "### Concatenate all the labels with the dataset"
   ]
  },
  {
   "cell_type": "code",
   "execution_count": 467,
   "metadata": {},
   "outputs": [
    {
     "data": {
      "text/plain": [
       "(5000, 57)"
      ]
     },
     "execution_count": 467,
     "metadata": {},
     "output_type": "execute_result"
    }
   ],
   "source": [
    "spread_encode = spread_encode.drop(['NotSpreader'], axis=1) \n",
    "risk_encode = risk_encode.drop(['NotatRisk'], axis=1) \n",
    "\n",
    "frames = [virus_df, disease_encode, spread_encode, risk_encode]\n",
    "df_total = pd.concat(frames, axis=1)\n",
    "df_total.shape"
   ]
  },
  {
   "cell_type": "code",
   "execution_count": 468,
   "metadata": {},
   "outputs": [
    {
     "data": {
      "text/html": [
       "<div>\n",
       "<style scoped>\n",
       "    .dataframe tbody tr th:only-of-type {\n",
       "        vertical-align: middle;\n",
       "    }\n",
       "\n",
       "    .dataframe tbody tr th {\n",
       "        vertical-align: top;\n",
       "    }\n",
       "\n",
       "    .dataframe thead th {\n",
       "        text-align: right;\n",
       "    }\n",
       "</style>\n",
       "<table border=\"1\" class=\"dataframe\">\n",
       "  <thead>\n",
       "    <tr style=\"text-align: right;\">\n",
       "      <th></th>\n",
       "      <th>PatientID</th>\n",
       "      <th>Address</th>\n",
       "      <th>AgeGroup</th>\n",
       "      <th>AvgHouseholdExpenseOnPresents</th>\n",
       "      <th>AvgHouseholdExpenseOnSocialGames</th>\n",
       "      <th>AvgHouseholdExpenseParkingTicketsPerYear</th>\n",
       "      <th>AvgMinSportsPerDay</th>\n",
       "      <th>AvgTimeOnSocialMedia</th>\n",
       "      <th>AvgTimeOnStuding</th>\n",
       "      <th>BMI</th>\n",
       "      <th>...</th>\n",
       "      <th>New_loss_of_taste_or_smellInt</th>\n",
       "      <th>Sore_throatInt</th>\n",
       "      <th>cmv</th>\n",
       "      <th>cold</th>\n",
       "      <th>covid</th>\n",
       "      <th>flue</th>\n",
       "      <th>measles</th>\n",
       "      <th>notdetected</th>\n",
       "      <th>Spreader</th>\n",
       "      <th>atRisk</th>\n",
       "    </tr>\n",
       "  </thead>\n",
       "  <tbody>\n",
       "    <tr>\n",
       "      <th>0</th>\n",
       "      <td>0</td>\n",
       "      <td>8520 Dougherty Common Apt. 318\\nLake Annamouth...</td>\n",
       "      <td>3.0</td>\n",
       "      <td>719.607334</td>\n",
       "      <td>NaN</td>\n",
       "      <td>NaN</td>\n",
       "      <td>NaN</td>\n",
       "      <td>NaN</td>\n",
       "      <td>NaN</td>\n",
       "      <td>34.357918</td>\n",
       "      <td>...</td>\n",
       "      <td>0</td>\n",
       "      <td>0</td>\n",
       "      <td>0</td>\n",
       "      <td>0</td>\n",
       "      <td>0</td>\n",
       "      <td>1</td>\n",
       "      <td>0</td>\n",
       "      <td>0</td>\n",
       "      <td>1</td>\n",
       "      <td>0</td>\n",
       "    </tr>\n",
       "    <tr>\n",
       "      <th>1</th>\n",
       "      <td>1</td>\n",
       "      <td>9338 Griffin Route\\nThorntonshire, WY 36917</td>\n",
       "      <td>NaN</td>\n",
       "      <td>NaN</td>\n",
       "      <td>NaN</td>\n",
       "      <td>NaN</td>\n",
       "      <td>103.402401</td>\n",
       "      <td>NaN</td>\n",
       "      <td>NaN</td>\n",
       "      <td>NaN</td>\n",
       "      <td>...</td>\n",
       "      <td>0</td>\n",
       "      <td>0</td>\n",
       "      <td>0</td>\n",
       "      <td>0</td>\n",
       "      <td>0</td>\n",
       "      <td>0</td>\n",
       "      <td>1</td>\n",
       "      <td>0</td>\n",
       "      <td>0</td>\n",
       "      <td>0</td>\n",
       "    </tr>\n",
       "    <tr>\n",
       "      <th>2</th>\n",
       "      <td>2</td>\n",
       "      <td>8350 Adam Streets\\nLake Angelaberg, MS 13029</td>\n",
       "      <td>NaN</td>\n",
       "      <td>270.970619</td>\n",
       "      <td>562.33635</td>\n",
       "      <td>1151.389973</td>\n",
       "      <td>NaN</td>\n",
       "      <td>NaN</td>\n",
       "      <td>NaN</td>\n",
       "      <td>NaN</td>\n",
       "      <td>...</td>\n",
       "      <td>0</td>\n",
       "      <td>0</td>\n",
       "      <td>0</td>\n",
       "      <td>0</td>\n",
       "      <td>0</td>\n",
       "      <td>0</td>\n",
       "      <td>0</td>\n",
       "      <td>1</td>\n",
       "      <td>0</td>\n",
       "      <td>1</td>\n",
       "    </tr>\n",
       "  </tbody>\n",
       "</table>\n",
       "<p>3 rows × 57 columns</p>\n",
       "</div>"
      ],
      "text/plain": [
       "   PatientID                                            Address  AgeGroup  \\\n",
       "0          0  8520 Dougherty Common Apt. 318\\nLake Annamouth...       3.0   \n",
       "1          1        9338 Griffin Route\\nThorntonshire, WY 36917       NaN   \n",
       "2          2       8350 Adam Streets\\nLake Angelaberg, MS 13029       NaN   \n",
       "\n",
       "   AvgHouseholdExpenseOnPresents  AvgHouseholdExpenseOnSocialGames  \\\n",
       "0                     719.607334                               NaN   \n",
       "1                            NaN                               NaN   \n",
       "2                     270.970619                         562.33635   \n",
       "\n",
       "   AvgHouseholdExpenseParkingTicketsPerYear  AvgMinSportsPerDay  \\\n",
       "0                                       NaN                 NaN   \n",
       "1                                       NaN          103.402401   \n",
       "2                               1151.389973                 NaN   \n",
       "\n",
       "   AvgTimeOnSocialMedia  AvgTimeOnStuding        BMI  ...  \\\n",
       "0                   NaN               NaN  34.357918  ...   \n",
       "1                   NaN               NaN        NaN  ...   \n",
       "2                   NaN               NaN        NaN  ...   \n",
       "\n",
       "  New_loss_of_taste_or_smellInt Sore_throatInt  cmv  cold covid  flue measles  \\\n",
       "0                             0              0    0     0     0     1       0   \n",
       "1                             0              0    0     0     0     0       1   \n",
       "2                             0              0    0     0     0     0       0   \n",
       "\n",
       "   notdetected  Spreader  atRisk  \n",
       "0            0         1       0  \n",
       "1            0         0       0  \n",
       "2            1         0       1  \n",
       "\n",
       "[3 rows x 57 columns]"
      ]
     },
     "execution_count": 468,
     "metadata": {},
     "output_type": "execute_result"
    }
   ],
   "source": [
    "df_total.head(3)"
   ]
  },
  {
   "cell_type": "markdown",
   "metadata": {},
   "source": [
    "For each of the categorical features that we have, we check the Mutual Information and the Correlation with each of the labels.\n",
    "Actually, we'll create kind of a table and see the most relevant features (or their permutations) to each of the label (7 labels)"
   ]
  },
  {
   "cell_type": "code",
   "execution_count": 469,
   "metadata": {},
   "outputs": [],
   "source": [
    "from sklearn.feature_selection import mutual_info_classif"
   ]
  },
  {
   "cell_type": "markdown",
   "metadata": {},
   "source": [
    "Create a dataframe from syndromes and for each target label separately"
   ]
  },
  {
   "cell_type": "code",
   "execution_count": 470,
   "metadata": {},
   "outputs": [
    {
     "data": {
      "text/plain": [
       "['DiarrheaInt',\n",
       " 'Nausea_or_vomitingInt',\n",
       " 'Shortness_of_breathInt',\n",
       " 'Congestion_or_runny noseInt',\n",
       " 'HeadacheInt',\n",
       " 'FatigueInt',\n",
       " 'Muscle_or_body_achesInt',\n",
       " 'ChillsInt',\n",
       " 'Skin_rednessInt',\n",
       " 'New_loss_of_taste_or_smellInt',\n",
       " 'Sore_throatInt']"
      ]
     },
     "execution_count": 470,
     "metadata": {},
     "output_type": "execute_result"
    }
   ],
   "source": [
    "syndromes_list"
   ]
  },
  {
   "cell_type": "code",
   "execution_count": 471,
   "metadata": {},
   "outputs": [],
   "source": [
    "df_syndromes = df_total[syndromes_list]"
   ]
  },
  {
   "cell_type": "code",
   "execution_count": 472,
   "metadata": {},
   "outputs": [],
   "source": [
    "MI_arr = np.zeros([len(future_labels), len(syndromes_list)])\n",
    "\n",
    "for idx, label in enumerate(future_labels):\n",
    "    df_label = df_total[label]\n",
    "    MI = mutual_info_classif(X = df_syndromes.values, y = df_label.values)\n",
    "    MI_arr[idx, :] = MI\n"
   ]
  },
  {
   "cell_type": "code",
   "execution_count": 473,
   "metadata": {},
   "outputs": [
    {
     "data": {
      "text/plain": [
       "Text(0.5, 1.0, 'Mutual Information Matrix')"
      ]
     },
     "execution_count": 473,
     "metadata": {},
     "output_type": "execute_result"
    },
    {
     "data": {
      "image/png": "[encoded data removed]",
      "text/plain": [
       "<Figure size 432x288 with 2 Axes>"
      ]
     },
     "metadata": {
      "needs_background": "light"
     },
     "output_type": "display_data"
    }
   ],
   "source": [
    "# show as heatmap\n",
    "f = plt.figure()\n",
    "plt.matshow(MI_arr, fignum=f.number)\n",
    "plt.xticks(range(len(syndromes_list)), syndromes_list, fontsize=14, rotation = 'vertical')\n",
    "plt.yticks(range(len(future_labels)), future_labels, fontsize=14)\n",
    "cb = plt.colorbar()\n",
    "cb.ax.tick_params(labelsize=14)\n",
    "plt.title('Mutual Information Matrix', fontsize=18)"
   ]
  },
  {
   "cell_type": "code",
   "execution_count": 474,
   "metadata": {},
   "outputs": [
    {
     "data": {
      "text/plain": [
       "PatientID                                     int64\n",
       "Address                                      object\n",
       "AgeGroup                                    float64\n",
       "AvgHouseholdExpenseOnPresents               float64\n",
       "AvgHouseholdExpenseOnSocialGames            float64\n",
       "AvgHouseholdExpenseParkingTicketsPerYear    float64\n",
       "AvgMinSportsPerDay                          float64\n",
       "AvgTimeOnSocialMedia                        float64\n",
       "AvgTimeOnStuding                            float64\n",
       "BMI                                         float64\n",
       "CurrentLocation                              object\n",
       "DateOfPCRTest                                object\n",
       "DisciplineScore                             float64\n",
       "HappinessScore                              float64\n",
       "Job                                          object\n",
       "NrCousins                                   float64\n",
       "SelfDeclarationOfIllnessForm                 object\n",
       "StepsPerYear                                float64\n",
       "SyndromeClass                               float64\n",
       "TimeOnSocialActivities                      float64\n",
       "pcrResult1                                  float64\n",
       "pcrResult10                                 float64\n",
       "pcrResult11                                 float64\n",
       "pcrResult12                                 float64\n",
       "pcrResult13                                 float64\n",
       "pcrResult14                                 float64\n",
       "pcrResult15                                 float64\n",
       "pcrResult16                                 float64\n",
       "pcrResult2                                  float64\n",
       "pcrResult3                                  float64\n",
       "pcrResult4                                  float64\n",
       "pcrResult5                                  float64\n",
       "pcrResult6                                  float64\n",
       "pcrResult7                                  float64\n",
       "pcrResult8                                  float64\n",
       "pcrResult9                                  float64\n",
       "BloodTypeInt                                  int32\n",
       "SexInt                                        int32\n",
       "DiarrheaInt                                   int32\n",
       "Nausea_or_vomitingInt                         int32\n",
       "Shortness_of_breathInt                        int32\n",
       "Congestion_or_runny noseInt                   int32\n",
       "HeadacheInt                                   int32\n",
       "FatigueInt                                    int32\n",
       "Muscle_or_body_achesInt                       int32\n",
       "ChillsInt                                     int32\n",
       "Skin_rednessInt                               int32\n",
       "New_loss_of_taste_or_smellInt                 int32\n",
       "Sore_throatInt                                int32\n",
       "cmv                                           int64\n",
       "cold                                          int64\n",
       "covid                                         int64\n",
       "flue                                          int64\n",
       "measles                                       int64\n",
       "notdetected                                   int64\n",
       "Spreader                                      int64\n",
       "atRisk                                        int64\n",
       "dtype: object"
      ]
     },
     "execution_count": 474,
     "metadata": {},
     "output_type": "execute_result"
    }
   ],
   "source": [
    "df_total.dtypes"
   ]
  },
  {
   "cell_type": "code",
   "execution_count": null,
   "metadata": {},
   "outputs": [],
   "source": []
  },
  {
   "cell_type": "code",
   "execution_count": null,
   "metadata": {},
   "outputs": [],
   "source": []
  }
 ],
 "metadata": {
  "kernelspec": {
   "display_name": "Python 3",
   "language": "python",
   "name": "python3"
  },
  "language_info": {
   "codemirror_mode": {
    "name": "ipython",
    "version": 3
   },
   "file_extension": ".py",
   "mimetype": "text/x-python",
   "name": "python",
   "nbconvert_exporter": "python",
   "pygments_lexer": "ipython3",
   "version": "3.8.6"
  }
 },
 "nbformat": 4,
 "nbformat_minor": 4
}
