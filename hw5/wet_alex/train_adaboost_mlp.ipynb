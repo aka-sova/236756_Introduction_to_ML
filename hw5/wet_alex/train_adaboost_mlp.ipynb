{
 "cells": [
  {
   "cell_type": "code",
   "execution_count": 2,
   "id": "southwest-denial",
   "metadata": {},
   "outputs": [],
   "source": [
    "import pandas as pd # data analysis and manipulation tool\n",
    "import numpy as np # Numerical computing tools\n",
    "import seaborn as sns  # visualization library\n",
    "import matplotlib.pyplot as plt  # another visualization library\n"
   ]
  },
  {
   "cell_type": "code",
   "execution_count": 3,
   "id": "hundred-adelaide",
   "metadata": {},
   "outputs": [],
   "source": [
    "df = pd.read_csv('input_ds_ready/features_rdy_smote.csv', sep=',', header=0)"
   ]
  },
  {
   "cell_type": "code",
   "execution_count": 4,
   "id": "finished-passenger",
   "metadata": {},
   "outputs": [],
   "source": [
    "\n",
    "X = df.drop(['Disease'], axis=1).values\n",
    "y = list(df[\"Disease\"])"
   ]
  },
  {
   "cell_type": "markdown",
   "id": "tamil-church",
   "metadata": {},
   "source": [
    "# Adaboost"
   ]
  },
  {
   "cell_type": "code",
   "execution_count": 5,
   "id": "horizontal-article",
   "metadata": {},
   "outputs": [
    {
     "data": {
      "text/plain": [
       "AdaBoostClassifier(algorithm='SAMME',\n",
       "                   base_estimator=DecisionTreeClassifier(max_depth=4),\n",
       "                   learning_rate=0.07, n_estimators=700, random_state=0)"
      ]
     },
     "execution_count": 5,
     "metadata": {},
     "output_type": "execute_result"
    }
   ],
   "source": [
    "from sklearn.ensemble import AdaBoostClassifier\n",
    "from sklearn.tree import DecisionTreeClassifier\n",
    "from sklearn.metrics import accuracy_score\n",
    "from sklearn.model_selection import train_test_split\n",
    "\n",
    "X_res_train, X_res_test, y_res_train, y_res_test = train_test_split(X, y, test_size=0.15, random_state=42)\n",
    "\n",
    "\n",
    "clf = AdaBoostClassifier(n_estimators=700, \n",
    "                         learning_rate=0.07,\n",
    "                         random_state=0,\n",
    "                         algorithm = 'SAMME',\n",
    "                         base_estimator = DecisionTreeClassifier(max_depth=4))\n",
    "clf.fit(X_res_train, y_res_train)"
   ]
  },
  {
   "cell_type": "code",
   "execution_count": 6,
   "id": "national-beaver",
   "metadata": {},
   "outputs": [
    {
     "name": "stdout",
     "output_type": "stream",
     "text": [
      "Train score : 0.87619376366356\n",
      "Test score : 0.8552803129074316\n"
     ]
    }
   ],
   "source": [
    "score_train_res = clf.score(X_res_train, y_res_train)\n",
    "score_test_res = clf.score(X_res_test, y_res_test)\n",
    "\n",
    "print(f\"Train score : {score_train_res}\")\n",
    "print(f\"Test score : {score_test_res}\")"
   ]
  },
  {
   "cell_type": "code",
   "execution_count": null,
   "id": "reasonable-parameter",
   "metadata": {},
   "outputs": [],
   "source": []
  },
  {
   "cell_type": "markdown",
   "id": "substantial-investigation",
   "metadata": {},
   "source": [
    "# MLP"
   ]
  },
  {
   "cell_type": "code",
   "execution_count": 10,
   "id": "equipped-andrew",
   "metadata": {},
   "outputs": [
    {
     "name": "stdout",
     "output_type": "stream",
     "text": [
      "Iteration 1, loss = 1.03706763\n",
      "Validation score: 0.684301\n",
      "Iteration 2, loss = 0.75783474\n",
      "Validation score: 0.715929\n",
      "Iteration 3, loss = 0.67250740\n",
      "Validation score: 0.742956\n",
      "Iteration 4, loss = 0.60852190\n",
      "Validation score: 0.776883\n",
      "Iteration 5, loss = 0.54896939\n",
      "Validation score: 0.781484\n",
      "Iteration 6, loss = 0.49672943\n",
      "Validation score: 0.799885\n",
      "Iteration 7, loss = 0.44759037\n",
      "Validation score: 0.801035\n",
      "Iteration 8, loss = 0.40239825\n",
      "Validation score: 0.814261\n",
      "Iteration 9, loss = 0.38501193\n",
      "Validation score: 0.827487\n",
      "Iteration 10, loss = 0.35687367\n",
      "Validation score: 0.835538\n",
      "Iteration 11, loss = 0.32073956\n",
      "Validation score: 0.840713\n",
      "Iteration 12, loss = 0.29650189\n",
      "Validation score: 0.850489\n",
      "Iteration 13, loss = 0.28424956\n",
      "Validation score: 0.840713\n",
      "Iteration 14, loss = 0.25362617\n",
      "Validation score: 0.855664\n",
      "Iteration 15, loss = 0.22535661\n",
      "Validation score: 0.834388\n",
      "Iteration 16, loss = 0.22248994\n",
      "Validation score: 0.853364\n",
      "Iteration 17, loss = 0.19420939\n",
      "Validation score: 0.866590\n",
      "Iteration 18, loss = 0.18124881\n",
      "Validation score: 0.860265\n",
      "Iteration 19, loss = 0.18570906\n",
      "Validation score: 0.849914\n",
      "Iteration 20, loss = 0.17415590\n",
      "Validation score: 0.866590\n",
      "Iteration 21, loss = 0.13740274\n",
      "Validation score: 0.860840\n",
      "Iteration 22, loss = 0.11445505\n",
      "Validation score: 0.866590\n",
      "Iteration 23, loss = 0.12469093\n",
      "Validation score: 0.852789\n",
      "Iteration 24, loss = 0.10916389\n",
      "Validation score: 0.878666\n",
      "Iteration 25, loss = 0.08892535\n",
      "Validation score: 0.876366\n",
      "Iteration 26, loss = 0.07372639\n",
      "Validation score: 0.876366\n",
      "Iteration 27, loss = 0.07186318\n",
      "Validation score: 0.873491\n",
      "Iteration 28, loss = 0.07384704\n",
      "Validation score: 0.882116\n",
      "Iteration 29, loss = 0.06269286\n",
      "Validation score: 0.877516\n",
      "Iteration 30, loss = 0.04391305\n",
      "Validation score: 0.878091\n",
      "Iteration 31, loss = 0.06524489\n",
      "Validation score: 0.873491\n",
      "Iteration 32, loss = 0.06489652\n",
      "Validation score: 0.878091\n",
      "Iteration 33, loss = 0.06782225\n",
      "Validation score: 0.878091\n",
      "Iteration 34, loss = 0.07605672\n",
      "Validation score: 0.870615\n",
      "Iteration 35, loss = 0.05070401\n",
      "Validation score: 0.879241\n",
      "Iteration 36, loss = 0.02461054\n",
      "Validation score: 0.890167\n",
      "Iteration 37, loss = 0.01505105\n",
      "Validation score: 0.888442\n",
      "Iteration 38, loss = 0.01205635\n",
      "Validation score: 0.884416\n",
      "Iteration 39, loss = 0.01007670\n",
      "Validation score: 0.882116\n",
      "Iteration 40, loss = 0.01213941\n",
      "Validation score: 0.892467\n",
      "Iteration 41, loss = 0.00814348\n",
      "Validation score: 0.885566\n",
      "Iteration 42, loss = 0.00616927\n",
      "Validation score: 0.888442\n",
      "Iteration 43, loss = 0.00883649\n",
      "Validation score: 0.884416\n",
      "Iteration 44, loss = 0.04483336\n",
      "Validation score: 0.855664\n",
      "Iteration 45, loss = 0.15729621\n",
      "Validation score: 0.873491\n",
      "Iteration 46, loss = 0.06180391\n",
      "Validation score: 0.883841\n",
      "Iteration 47, loss = 0.02931859\n",
      "Validation score: 0.882691\n",
      "Iteration 48, loss = 0.04943956\n",
      "Validation score: 0.880391\n",
      "Iteration 49, loss = 0.03203602\n",
      "Validation score: 0.891892\n",
      "Iteration 50, loss = 0.01994745\n",
      "Validation score: 0.891892\n",
      "Iteration 51, loss = 0.01317178\n",
      "Validation score: 0.889592\n",
      "Validation score did not improve more than tol=0.000100 for 10 consecutive epochs. Stopping.\n"
     ]
    },
    {
     "data": {
      "text/plain": [
       "MLPClassifier(alpha=0.0005, early_stopping=True,\n",
       "              hidden_layer_sizes=(100, 500, 500, 100), max_iter=5000,\n",
       "              random_state=1, verbose=True)"
      ]
     },
     "execution_count": 10,
     "metadata": {},
     "output_type": "execute_result"
    }
   ],
   "source": [
    "from sklearn.neural_network import MLPClassifier\n",
    "\n",
    "clf = MLPClassifier(random_state=1, \n",
    "                    activation='relu', \n",
    "                    solver = 'adam', \n",
    "                    hidden_layer_sizes = (100, 500, 500, 100),\n",
    "                    learning_rate_init=0.001,\n",
    "                    alpha=0.0005,\n",
    "                    shuffle=True,\n",
    "                    early_stopping = True,\n",
    "                    verbose=True,\n",
    "                    max_iter=5000)\n",
    "\n",
    "clf.fit(X_res_train, y_res_train)"
   ]
  },
  {
   "cell_type": "code",
   "execution_count": 11,
   "id": "realistic-navigation",
   "metadata": {},
   "outputs": [
    {
     "name": "stdout",
     "output_type": "stream",
     "text": [
      "Train score : 0.9891842135542516\n",
      "Test score : 0.8953715775749674\n"
     ]
    }
   ],
   "source": [
    "score_train_mlp = clf.score(X_res_train, y_res_train)\n",
    "score_test_mlp = clf.score(X_res_test, y_res_test)\n",
    "\n",
    "print(f\"Train score : {score_train_mlp}\")\n",
    "print(f\"Test score : {score_test_mlp}\")"
   ]
  },
  {
   "cell_type": "code",
   "execution_count": 12,
   "id": "cooperative-coral",
   "metadata": {},
   "outputs": [
    {
     "data": {
      "image/png": "[encoded data removed]",
      "text/plain": [
       "<Figure size 432x288 with 1 Axes>"
      ]
     },
     "metadata": {
      "needs_background": "light"
     },
     "output_type": "display_data"
    }
   ],
   "source": [
    "plt.plot(clf.loss_curve_)\n",
    "plt.show()"
   ]
  },
  {
   "cell_type": "code",
   "execution_count": null,
   "id": "complimentary-exchange",
   "metadata": {},
   "outputs": [],
   "source": []
  }
 ],
 "metadata": {
  "kernelspec": {
   "display_name": "Python 3",
   "language": "python",
   "name": "python3"
  },
  "language_info": {
   "codemirror_mode": {
    "name": "ipython",
    "version": 3
   },
   "file_extension": ".py",
   "mimetype": "text/x-python",
   "name": "python",
   "nbconvert_exporter": "python",
   "pygments_lexer": "ipython3",
   "version": "3.8.6"
  }
 },
 "nbformat": 4,
 "nbformat_minor": 5
}
