{
 "cells": [
  {
   "cell_type": "code",
   "execution_count": 3,
   "id": "adaptive-bruce",
   "metadata": {},
   "outputs": [],
   "source": [
    "import pandas as pd # data analysis and manipulation tool\n",
    "import numpy as np # Numerical computing tools\n",
    "import seaborn as sns  # visualization library\n",
    "import matplotlib.pyplot as plt  # another visualization library\n"
   ]
  },
  {
   "cell_type": "code",
   "execution_count": 12,
   "id": "passing-letter",
   "metadata": {},
   "outputs": [],
   "source": [
    "df = pd.read_csv('input_ds_ready/features_rdy_smote.csv', sep=',', header=0)"
   ]
  },
  {
   "cell_type": "code",
   "execution_count": 16,
   "id": "played-volume",
   "metadata": {},
   "outputs": [],
   "source": [
    "\n",
    "X = df.drop(['Disease'], axis=1).values\n",
    "y = list(df[\"Disease\"])"
   ]
  },
  {
   "cell_type": "markdown",
   "id": "handmade-dominant",
   "metadata": {},
   "source": [
    "# Adaboost"
   ]
  },
  {
   "cell_type": "code",
   "execution_count": 17,
   "id": "lightweight-metallic",
   "metadata": {},
   "outputs": [
    {
     "data": {
      "text/plain": [
       "AdaBoostClassifier(algorithm='SAMME',\n",
       "                   base_estimator=DecisionTreeClassifier(max_depth=4),\n",
       "                   learning_rate=0.07, n_estimators=700, random_state=0)"
      ]
     },
     "execution_count": 17,
     "metadata": {},
     "output_type": "execute_result"
    }
   ],
   "source": [
    "from sklearn.ensemble import AdaBoostClassifier\n",
    "from sklearn.tree import DecisionTreeClassifier\n",
    "from sklearn.metrics import accuracy_score\n",
    "from sklearn.model_selection import train_test_split\n",
    "\n",
    "X_res_train, X_res_test, y_res_train, y_res_test = train_test_split(X, y, test_size=0.15, random_state=42)\n",
    "\n",
    "\n",
    "clf = AdaBoostClassifier(n_estimators=700, \n",
    "                         learning_rate=0.07,\n",
    "                         random_state=0,\n",
    "                         algorithm = 'SAMME',\n",
    "                         base_estimator = DecisionTreeClassifier(max_depth=4))\n",
    "clf.fit(X_res_train, y_res_train)"
   ]
  },
  {
   "cell_type": "code",
   "execution_count": 18,
   "id": "adverse-breed",
   "metadata": {},
   "outputs": [
    {
     "name": "stdout",
     "output_type": "stream",
     "text": [
      "Train score : 0.87619376366356\n",
      "Test score : 0.8552803129074316\n"
     ]
    }
   ],
   "source": [
    "score_train_res = clf.score(X_res_train, y_res_train)\n",
    "score_test_res = clf.score(X_res_test, y_res_test)\n",
    "\n",
    "print(f\"Train score : {score_train_res}\")\n",
    "print(f\"Test score : {score_test_res}\")"
   ]
  },
  {
   "cell_type": "code",
   "execution_count": null,
   "id": "immediate-tracy",
   "metadata": {},
   "outputs": [],
   "source": []
  },
  {
   "cell_type": "markdown",
   "id": "grand-sweden",
   "metadata": {},
   "source": [
    "# MLP"
   ]
  },
  {
   "cell_type": "code",
   "execution_count": 34,
   "id": "traditional-house",
   "metadata": {},
   "outputs": [
    {
     "name": "stdout",
     "output_type": "stream",
     "text": [
      "Iteration 1, loss = 1.11777608\n",
      "Validation score: 0.665900\n",
      "Iteration 2, loss = 0.81481701\n",
      "Validation score: 0.712478\n",
      "Iteration 3, loss = 0.73458678\n",
      "Validation score: 0.740081\n",
      "Iteration 4, loss = 0.67899231\n",
      "Validation score: 0.749856\n",
      "Iteration 5, loss = 0.63525582\n",
      "Validation score: 0.767683\n",
      "Iteration 6, loss = 0.58001831\n",
      "Validation score: 0.766532\n",
      "Iteration 7, loss = 0.53494445\n",
      "Validation score: 0.795860\n",
      "Iteration 8, loss = 0.49584672\n",
      "Validation score: 0.811961\n",
      "Iteration 9, loss = 0.47614594\n",
      "Validation score: 0.812536\n",
      "Iteration 10, loss = 0.44322324\n",
      "Validation score: 0.821737\n",
      "Iteration 11, loss = 0.41311956\n",
      "Validation score: 0.838413\n",
      "Iteration 12, loss = 0.38458236\n",
      "Validation score: 0.847614\n",
      "Iteration 13, loss = 0.36473208\n",
      "Validation score: 0.848189\n",
      "Iteration 14, loss = 0.34758340\n",
      "Validation score: 0.851639\n",
      "Iteration 15, loss = 0.33359290\n",
      "Validation score: 0.842438\n",
      "Iteration 16, loss = 0.32426997\n",
      "Validation score: 0.857389\n",
      "Iteration 17, loss = 0.30229337\n",
      "Validation score: 0.844163\n",
      "Iteration 18, loss = 0.29920001\n",
      "Validation score: 0.844738\n",
      "Iteration 19, loss = 0.27325301\n",
      "Validation score: 0.860265\n",
      "Iteration 20, loss = 0.27147985\n",
      "Validation score: 0.859689\n",
      "Iteration 21, loss = 0.25626872\n",
      "Validation score: 0.874066\n",
      "Iteration 22, loss = 0.23861894\n",
      "Validation score: 0.867740\n",
      "Iteration 23, loss = 0.22439311\n",
      "Validation score: 0.873491\n",
      "Iteration 24, loss = 0.22763965\n",
      "Validation score: 0.855089\n",
      "Iteration 25, loss = 0.20815914\n",
      "Validation score: 0.868890\n",
      "Iteration 26, loss = 0.18964223\n",
      "Validation score: 0.870040\n",
      "Iteration 27, loss = 0.18610196\n",
      "Validation score: 0.867740\n",
      "Iteration 28, loss = 0.18374874\n",
      "Validation score: 0.848764\n",
      "Iteration 29, loss = 0.18136089\n",
      "Validation score: 0.873491\n",
      "Iteration 30, loss = 0.16330372\n",
      "Validation score: 0.872340\n",
      "Iteration 31, loss = 0.16405767\n",
      "Validation score: 0.878666\n",
      "Iteration 32, loss = 0.14297583\n",
      "Validation score: 0.879816\n",
      "Iteration 33, loss = 0.15112403\n",
      "Validation score: 0.852214\n",
      "Iteration 34, loss = 0.12571842\n",
      "Validation score: 0.877516\n",
      "Iteration 35, loss = 0.13343450\n",
      "Validation score: 0.887867\n",
      "Iteration 36, loss = 0.12034396\n",
      "Validation score: 0.879241\n",
      "Iteration 37, loss = 0.10801532\n",
      "Validation score: 0.879816\n",
      "Iteration 38, loss = 0.12861227\n",
      "Validation score: 0.880966\n",
      "Iteration 39, loss = 0.10042087\n",
      "Validation score: 0.874066\n",
      "Iteration 40, loss = 0.08393559\n",
      "Validation score: 0.880966\n",
      "Iteration 41, loss = 0.08314670\n",
      "Validation score: 0.874066\n",
      "Iteration 42, loss = 0.09304639\n",
      "Validation score: 0.875216\n",
      "Iteration 43, loss = 0.09143044\n",
      "Validation score: 0.887867\n",
      "Iteration 44, loss = 0.07343982\n",
      "Validation score: 0.879241\n",
      "Iteration 45, loss = 0.05887663\n",
      "Validation score: 0.872915\n",
      "Iteration 46, loss = 0.05116821\n",
      "Validation score: 0.877516\n",
      "Validation score did not improve more than tol=0.000100 for 10 consecutive epochs. Stopping.\n"
     ]
    },
    {
     "data": {
      "text/plain": [
       "MLPClassifier(early_stopping=True, hidden_layer_sizes=(100, 200, 200, 100),\n",
       "              max_iter=5000, random_state=1, verbose=True)"
      ]
     },
     "execution_count": 34,
     "metadata": {},
     "output_type": "execute_result"
    }
   ],
   "source": [
    "from sklearn.neural_network import MLPClassifier\n",
    "\n",
    "clf = MLPClassifier(random_state=1, \n",
    "                    activation='relu', \n",
    "                    solver = 'adam', \n",
    "                    hidden_layer_sizes = (100, 200, 200, 100),\n",
    "                    learning_rate_init=0.001,\n",
    "                    shuffle=True,\n",
    "                    early_stopping = True,\n",
    "                    verbose=True,\n",
    "                    max_iter=5000)\n",
    "\n",
    "clf.fit(X_res_train, y_res_train)"
   ]
  },
  {
   "cell_type": "code",
   "execution_count": 35,
   "id": "monthly-indication",
   "metadata": {},
   "outputs": [
    {
     "name": "stdout",
     "output_type": "stream",
     "text": [
      "Train score : 0.9637556092509493\n",
      "Test score : 0.8842894393741851\n"
     ]
    }
   ],
   "source": [
    "score_train_mlp = clf.score(X_res_train, y_res_train)\n",
    "score_test_mlp = clf.score(X_res_test, y_res_test)\n",
    "\n",
    "print(f\"Train score : {score_train_mlp}\")\n",
    "print(f\"Test score : {score_test_mlp}\")"
   ]
  },
  {
   "cell_type": "code",
   "execution_count": 38,
   "id": "twelve-wilson",
   "metadata": {},
   "outputs": [
    {
     "data": {
      "image/png": "[encoded data removed]",
      "text/plain": [
       "<Figure size 432x288 with 1 Axes>"
      ]
     },
     "metadata": {
      "needs_background": "light"
     },
     "output_type": "display_data"
    }
   ],
   "source": [
    "plt.plot(clf.loss_curve_)\n",
    "plt.show()"
   ]
  },
  {
   "cell_type": "code",
   "execution_count": null,
   "id": "polished-vanilla",
   "metadata": {},
   "outputs": [],
   "source": []
  }
 ],
 "metadata": {
  "kernelspec": {
   "display_name": "Python 3",
   "language": "python",
   "name": "python3"
  },
  "language_info": {
   "codemirror_mode": {
    "name": "ipython",
    "version": 3
   },
   "file_extension": ".py",
   "mimetype": "text/x-python",
   "name": "python",
   "nbconvert_exporter": "python",
   "pygments_lexer": "ipython3",
   "version": "3.8.6"
  }
 },
 "nbformat": 4,
 "nbformat_minor": 5
}
