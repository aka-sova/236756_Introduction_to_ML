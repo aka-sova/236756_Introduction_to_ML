{
 "cells": [
  {
   "cell_type": "code",
   "execution_count": 2,
   "metadata": {
    "id": "JJEHfQUonqH2"
   },
   "outputs": [],
   "source": [
    "import pandas as pd # data analysis and manipulation tool\n",
    "import numpy as np # Numerical computing tools\n",
    "import seaborn as sns  # visualization library\n",
    "import matplotlib.pyplot as plt  # another visualization library\n",
    "from sklearn.metrics import roc_auc_score\n",
    "from sklearn.ensemble import AdaBoostClassifier\n",
    "from sklearn.tree import DecisionTreeClassifier\n",
    "from sklearn.metrics import accuracy_score\n",
    "from sklearn.model_selection import train_test_split\n",
    "from collections import Counter\n"
   ]
  },
  {
   "cell_type": "code",
   "execution_count": 3,
   "metadata": {},
   "outputs": [],
   "source": [
    "df = pd.read_csv('input_ds_ready/features_rdy.csv', sep=',', header=0)\n",
    "X = df.drop(['Disease'], axis=1).values\n",
    "labels_true = list(df[\"Disease\"])\n",
    "\n",
    "X_res_train, X_res_test, y_res_train, y_res_test = train_test_split(X, labels_true, test_size=0.15, random_state=42)"
   ]
  },
  {
   "cell_type": "markdown",
   "metadata": {
    "id": "fo80vCj8i5qO"
   },
   "source": [
    "# Binary Classification\r\n",
    "## NO/YES virus"
   ]
  },
  {
   "cell_type": "code",
   "execution_count": 4,
   "metadata": {
    "colab": {
     "base_uri": "https://localhost:8080/"
    },
    "id": "0IX4uwN3jAOv",
    "outputId": "cbf92b6f-648a-444d-c733-4a57325dd412"
   },
   "outputs": [
    {
     "name": "stdout",
     "output_type": "stream",
     "text": [
      "Resampled dataset shape Counter({5.0: 3455, 3.0: 1849, 0.0: 1486, 1.0: 1388, 2.0: 467, 4.0: 355})\n"
     ]
    }
   ],
   "source": [
    "print('Resampled dataset shape %s' % Counter(labels_true))"
   ]
  },
  {
   "cell_type": "code",
   "execution_count": 5,
   "metadata": {
    "colab": {
     "base_uri": "https://localhost:8080/"
    },
    "id": "9IOQmI-yjwWO",
    "outputId": "ca5e04b9-58ad-41ba-e71c-6306062e72ef"
   },
   "outputs": [
    {
     "name": "stdout",
     "output_type": "stream",
     "text": [
      "Resampled dataset shape Counter({0: 5545, 1: 3455})\n"
     ]
    }
   ],
   "source": [
    "labels_bin = [ 0 if label<5 else 1 for label in labels_true ]\r\n",
    "print('Resampled dataset shape %s' % Counter(labels_bin))"
   ]
  },
  {
   "cell_type": "code",
   "execution_count": 6,
   "metadata": {
    "id": "eRSlbb10k3Cd"
   },
   "outputs": [],
   "source": [
    "X_bin, y_bin = X, labels_bin #binary dataset\r\n"
   ]
  },
  {
   "cell_type": "code",
   "execution_count": 7,
   "metadata": {
    "colab": {
     "base_uri": "https://localhost:8080/"
    },
    "id": "2tLR9DujkbsP",
    "outputId": "bc0e7aee-57a8-4726-dc01-44fefd8df437"
   },
   "outputs": [],
   "source": [
    "from imblearn.combine import SMOTETomek \r\n",
    "from collections import Counter\r\n",
    "from sklearn.model_selection import train_test_split\r\n",
    "\r\n",
    "\r\n",
    "sm = SMOTETomek(random_state=42)\r\n",
    "\r\n",
    "X_bin_res, y_bin_res = sm.fit_resample(X, labels_bin) #up-sample\r\n",
    "X_bin_train, X_bin_test, y_bin_train, y_bin_test = train_test_split(X_bin_res, y_bin_res, test_size=0.2, random_state=42) #train test split\r\n"
   ]
  },
  {
   "cell_type": "code",
   "execution_count": 8,
   "metadata": {
    "colab": {
     "base_uri": "https://localhost:8080/"
    },
    "id": "4Z0SfqR8kq-W",
    "outputId": "0a9cc00d-3f3c-47a4-9ac8-ecdc2fbea64d"
   },
   "outputs": [
    {
     "name": "stdout",
     "output_type": "stream",
     "text": [
      "Resampled dataset shape Counter({0: 5265, 1: 5265})\n"
     ]
    }
   ],
   "source": [
    "print('Resampled dataset shape %s' % Counter(y_bin_res))"
   ]
  },
  {
   "cell_type": "code",
   "execution_count": 9,
   "metadata": {
    "colab": {
     "base_uri": "https://localhost:8080/"
    },
    "id": "zCSevgsXj8FC",
    "outputId": "5f4cb0f9-0562-44e1-9c1c-e3af9db6e0af"
   },
   "outputs": [
    {
     "data": {
      "text/plain": [
       "AdaBoostClassifier(base_estimator=DecisionTreeClassifier(max_depth=4),\n",
       "                   learning_rate=0.09, n_estimators=1000)"
      ]
     },
     "execution_count": 9,
     "metadata": {},
     "output_type": "execute_result"
    }
   ],
   "source": [
    "from sklearn.ensemble import AdaBoostClassifier\r\n",
    "from sklearn.tree import DecisionTreeClassifier\r\n",
    "from sklearn.metrics import accuracy_score\r\n",
    "\r\n",
    "\r\n",
    "bdt = AdaBoostClassifier(\r\n",
    "    DecisionTreeClassifier(max_depth=4),\r\n",
    "    n_estimators=1000,\r\n",
    "    learning_rate=.09)\r\n",
    "bdt.fit(X_bin_train, y_bin_train)"
   ]
  },
  {
   "cell_type": "code",
   "execution_count": 10,
   "metadata": {
    "id": "Q5fAVqL84VGO"
   },
   "outputs": [],
   "source": [
    "y_true, y_pred = y_bin_test, bdt.predict(X_bin_test)"
   ]
  },
  {
   "cell_type": "markdown",
   "metadata": {
    "id": "bo3T4W--mGgi"
   },
   "source": [
    "## **Classification Report**"
   ]
  },
  {
   "cell_type": "code",
   "execution_count": 11,
   "metadata": {
    "colab": {
     "base_uri": "https://localhost:8080/"
    },
    "id": "AcuOF0Wqkvx5",
    "outputId": "f474cc18-5876-4d67-f48b-04d60e20c248"
   },
   "outputs": [
    {
     "name": "stdout",
     "output_type": "stream",
     "text": [
      "              precision    recall  f1-score   support\n",
      "\n",
      "           0       0.91      0.89      0.90      1054\n",
      "           1       0.89      0.91      0.90      1052\n",
      "\n",
      "    accuracy                           0.90      2106\n",
      "   macro avg       0.90      0.90      0.90      2106\n",
      "weighted avg       0.90      0.90      0.90      2106\n",
      "\n"
     ]
    }
   ],
   "source": [
    "from sklearn.metrics import classification_report\r\n",
    "print(classification_report(y_true, y_pred, target_names=['0','1']))\r\n"
   ]
  },
  {
   "cell_type": "code",
   "execution_count": 12,
   "metadata": {
    "colab": {
     "base_uri": "https://localhost:8080/"
    },
    "id": "ly4ksto-mC57",
    "outputId": "f8312ed8-c3db-4147-fb6f-db8f6b83230e"
   },
   "outputs": [
    {
     "data": {
      "text/plain": [
       "0.961855433943478"
      ]
     },
     "execution_count": 12,
     "metadata": {},
     "output_type": "execute_result"
    }
   ],
   "source": [
    "from sklearn.metrics import roc_auc_score\r\n",
    "roc_auc_score(y_true, bdt.predict_proba(X_bin_test)[:, 1])"
   ]
  },
  {
   "cell_type": "markdown",
   "metadata": {
    "id": "NhVHR9oW7c4G"
   },
   "source": [
    "## Ensemble for Binary Classification"
   ]
  },
  {
   "cell_type": "code",
   "execution_count": 15,
   "metadata": {},
   "outputs": [],
   "source": [
    "import numpy as np\n",
    "from sklearn.linear_model import LogisticRegression\n",
    "from sklearn.naive_bayes import GaussianNB\n",
    "from sklearn.ensemble import RandomForestClassifier, VotingClassifier\n",
    "from sklearn.neural_network import MLPClassifier\n",
    "\n",
    "clf1 = AdaBoostClassifier(\n",
    "    DecisionTreeClassifier(max_depth=4),\n",
    "    n_estimators=1000,\n",
    "    learning_rate=.09)\n",
    "clf2 = MLPClassifier(random_state=1, hidden_layer_sizes=(25),max_iter=5000)\n",
    "clf3 = GaussianNB()\n",
    "\n",
    "eclf1 = VotingClassifier(estimators=[\n",
    "        ('lr', clf1), ('rf', clf2), ('gnb', clf3)], voting='hard')\n",
    "eclf1 = eclf1.fit(X_bin_train, y_bin_train)\n",
    "\n",
    "\n",
    "eclf2 = VotingClassifier(estimators=[\n",
    "        ('lr', clf1), ('rf', clf2), ('gnb', clf3)],\n",
    "        voting='soft')\n",
    "eclf2 = eclf2.fit(X_bin_train, y_bin_train)\n",
    "\n",
    "eclf3 = VotingClassifier(estimators=[\n",
    "       ('lr', clf1), ('rf', clf2), ('gnb', clf3)],\n",
    "       voting='soft', weights=[2,1,1],\n",
    "       flatten_transform=True)\n",
    "eclf3 = eclf3.fit(X_bin_train, y_bin_train)\n"
   ]
  },
  {
   "cell_type": "code",
   "execution_count": 16,
   "metadata": {
    "colab": {
     "base_uri": "https://localhost:8080/",
     "height": 328
    },
    "id": "xPQ6DMokHz0E",
    "outputId": "f1182b0d-d153-4bcd-f8f6-b1f5407d1208"
   },
   "outputs": [
    {
     "name": "stdout",
     "output_type": "stream",
     "text": [
      "              precision    recall  f1-score   support\n",
      "\n",
      "           0       0.88      0.66      0.75      1054\n",
      "           1       0.73      0.91      0.81      1052\n",
      "\n",
      "    accuracy                           0.78      2106\n",
      "   macro avg       0.80      0.78      0.78      2106\n",
      "weighted avg       0.80      0.78      0.78      2106\n",
      "\n"
     ]
    }
   ],
   "source": [
    "from sklearn.metrics import classification_report\r\n",
    "print(classification_report(y_bin_test, eclf1.predict(X_bin_test), target_names=['0','1']))"
   ]
  },
  {
   "cell_type": "code",
   "execution_count": null,
   "metadata": {
    "colab": {
     "base_uri": "https://localhost:8080/"
    },
    "id": "3KykWyiJQu_F",
    "outputId": "4af41f39-89fa-4b0c-ba2f-b34e6dce1112"
   },
   "outputs": [
    {
     "data": {
      "text/plain": [
       "array([0, 0, 0, ..., 1, 1, 0])"
      ]
     },
     "execution_count": 155,
     "metadata": {
      "tags": []
     },
     "output_type": "execute_result"
    }
   ],
   "source": []
  },
  {
   "cell_type": "code",
   "execution_count": null,
   "metadata": {
    "id": "XLquNj48JsSo"
   },
   "outputs": [],
   "source": []
  },
  {
   "cell_type": "markdown",
   "metadata": {
    "id": "YbpzvUU7QCHK"
   },
   "source": [
    "#Transfer Learning"
   ]
  },
  {
   "cell_type": "code",
   "execution_count": 409,
   "metadata": {
    "id": "IFEAqX1cQF4H"
   },
   "outputs": [],
   "source": [
    "import tensorflow as tf\r\n",
    "from tensorflow import keras\r\n",
    "from tensorflow.keras import layers\r\n"
   ]
  },
  {
   "cell_type": "code",
   "execution_count": 410,
   "metadata": {
    "id": "Cqf93E__RfZa"
   },
   "outputs": [],
   "source": [
    "model = keras.Sequential(\r\n",
    "    [\r\n",
    "    layers.Dense(11, activation=\"relu\", name=\"layer_1\",input_shape=(11,)),\r\n",
    "    layers.Dense(150, activation=\"relu\", name=\"layer_2\"),\r\n",
    "    layers.Dense(100, activation=\"relu\", name=\"layer_3\"),\r\n",
    "    layers.Dense(100, activation=\"relu\", name=\"layer_4\"),\r\n",
    "    layers.Dense(100, activation=\"relu\", name=\"layer_5\"),\r\n",
    "    layers.Dense(50, activation=\"relu\", name=\"layer_6\"),\r\n",
    "    layers.Dense(1, name=\"layer_7\")\r\n",
    "    ]\r\n",
    ")\r\n",
    "\r\n"
   ]
  },
  {
   "cell_type": "markdown",
   "metadata": {
    "id": "SPuLBXu9K4Gn"
   },
   "source": [
    "Its layers are accessible via the `layers` attribute:"
   ]
  },
  {
   "cell_type": "code",
   "execution_count": 411,
   "metadata": {
    "colab": {
     "base_uri": "https://localhost:8080/"
    },
    "id": "fOE0RXnqK4Gn",
    "outputId": "4b34e29d-386e-494e-bc26-e75e45136ed2"
   },
   "outputs": [
    {
     "data": {
      "text/plain": [
       "[<tensorflow.python.keras.layers.core.Dense at 0x7f32badcee10>,\n",
       " <tensorflow.python.keras.layers.core.Dense at 0x7f32c4952860>,\n",
       " <tensorflow.python.keras.layers.core.Dense at 0x7f32bd85b240>,\n",
       " <tensorflow.python.keras.layers.core.Dense at 0x7f32bd85b5f8>,\n",
       " <tensorflow.python.keras.layers.core.Dense at 0x7f32bd85bb38>,\n",
       " <tensorflow.python.keras.layers.core.Dense at 0x7f32bd886828>,\n",
       " <tensorflow.python.keras.layers.core.Dense at 0x7f32bd886c88>]"
      ]
     },
     "execution_count": 411,
     "metadata": {
      "tags": []
     },
     "output_type": "execute_result"
    }
   ],
   "source": [
    "model.layers"
   ]
  },
  {
   "cell_type": "code",
   "execution_count": 412,
   "metadata": {
    "id": "DpcgL9_zTffc"
   },
   "outputs": [],
   "source": [
    "#model.weights"
   ]
  },
  {
   "cell_type": "code",
   "execution_count": 413,
   "metadata": {
    "colab": {
     "base_uri": "https://localhost:8080/"
    },
    "id": "-pTJ1IkATSzI",
    "outputId": "9b91d9ea-4b87-4c3d-906f-07ef6aa08105"
   },
   "outputs": [
    {
     "name": "stdout",
     "output_type": "stream",
     "text": [
      "Number of weights after calling the model: 14\n"
     ]
    }
   ],
   "source": [
    "print(\"Number of weights after calling the model:\", len(model.weights))  # 6"
   ]
  },
  {
   "cell_type": "code",
   "execution_count": 414,
   "metadata": {
    "colab": {
     "base_uri": "https://localhost:8080/"
    },
    "id": "acLI28NfTcK_",
    "outputId": "aeef05e6-f1d0-4422-cdc4-b97723245f2e"
   },
   "outputs": [
    {
     "name": "stdout",
     "output_type": "stream",
     "text": [
      "Model: \"sequential_38\"\n",
      "_________________________________________________________________\n",
      "Layer (type)                 Output Shape              Param #   \n",
      "=================================================================\n",
      "layer_1 (Dense)              (None, 11)                132       \n",
      "_________________________________________________________________\n",
      "layer_2 (Dense)              (None, 150)               1800      \n",
      "_________________________________________________________________\n",
      "layer_3 (Dense)              (None, 100)               15100     \n",
      "_________________________________________________________________\n",
      "layer_4 (Dense)              (None, 100)               10100     \n",
      "_________________________________________________________________\n",
      "layer_5 (Dense)              (None, 100)               10100     \n",
      "_________________________________________________________________\n",
      "layer_6 (Dense)              (None, 50)                5050      \n",
      "_________________________________________________________________\n",
      "layer_7 (Dense)              (None, 1)                 51        \n",
      "=================================================================\n",
      "Total params: 42,333\n",
      "Trainable params: 42,333\n",
      "Non-trainable params: 0\n",
      "_________________________________________________________________\n"
     ]
    }
   ],
   "source": [
    "model.summary()"
   ]
  },
  {
   "cell_type": "markdown",
   "metadata": {
    "id": "12m4w-poe8DD"
   },
   "source": [
    "###Save Model"
   ]
  },
  {
   "cell_type": "code",
   "execution_count": 415,
   "metadata": {
    "colab": {
     "base_uri": "https://localhost:8080/"
    },
    "id": "nrutzqf3T4zo",
    "outputId": "879d7896-502f-4229-a84f-a6f9a0b8d9de"
   },
   "outputs": [
    {
     "name": "stdout",
     "output_type": "stream",
     "text": [
      "WARNING:tensorflow:No training configuration found in the save file, so the model was *not* compiled. Compile it manually.\n"
     ]
    }
   ],
   "source": [
    "from keras.models import load_model\r\n",
    "\r\n",
    "model.save('my_model.h5')  # creates a HDF5 file 'my_model.h5'\r\n",
    "del model  # deletes the existing model\r\n",
    "\r\n",
    "# returns a compiled model\r\n",
    "# identical to the previous one\r\n",
    "model = load_model('my_model.h5')"
   ]
  },
  {
   "cell_type": "markdown",
   "metadata": {
    "id": "6wDth_GZfWVO"
   },
   "source": [
    "###Transfer Learning Workflow"
   ]
  },
  {
   "cell_type": "markdown",
   "metadata": {
    "id": "peeEfxFafaH3"
   },
   "source": [
    "The most common incarnation of transfer learning in the context of deep learning is the following worfklow:\r\n",
    "\r\n",
    "\r\n",
    "1.   Take layers from a previously trained model.\r\n",
    "2.   Freeze them, so as to avoid destroying any of the information they contain during future training rounds.\r\n",
    "3. Add some new, trainable layers on top of the frozen layers. They will learn to turn the old features into predictions on a new dataset.\r\n",
    "4.Train the new layers on your dataset.\r\n",
    "\r\n",
    "A last, optional step, is fine-tuning, which consists of unfreezing the entire model you obtained above (or part of it), and re-training it on the new data with a very low learning rate. This can potentially achieve meaningful improvements, by incrementally adapting the pretrained features to the new data.\r\n",
    "\r\n"
   ]
  },
  {
   "cell_type": "code",
   "execution_count": 416,
   "metadata": {
    "id": "6Pd84fP2mSxn"
   },
   "outputs": [],
   "source": [
    "from keras import backend as K\r\n",
    "\r\n",
    "def recall_m(y_true, y_pred):\r\n",
    "    true_positives = K.sum(K.round(K.clip(y_true * y_pred, 0, 1)))\r\n",
    "    possible_positives = K.sum(K.round(K.clip(y_true, 0, 1)))\r\n",
    "    recall = true_positives / (possible_positives + K.epsilon())\r\n",
    "    return recall"
   ]
  },
  {
   "cell_type": "code",
   "execution_count": 417,
   "metadata": {
    "colab": {
     "base_uri": "https://localhost:8080/"
    },
    "id": "DJwJzS7zfA36",
    "outputId": "c2daf17e-b1de-4139-8963-4193284210c2"
   },
   "outputs": [
    {
     "name": "stdout",
     "output_type": "stream",
     "text": [
      "Epoch 1/200\n",
      "264/264 [==============================] - 2s 4ms/step - loss: 0.6703 - binary_accuracy: 0.5137 - recall_m: 0.0676 - val_loss: 0.6292 - val_binary_accuracy: 0.5783 - val_recall_m: 0.2366\n",
      "Epoch 2/200\n",
      "264/264 [==============================] - 1s 3ms/step - loss: 0.6228 - binary_accuracy: 0.5943 - recall_m: 0.2837 - val_loss: 0.5987 - val_binary_accuracy: 0.6187 - val_recall_m: 0.3421\n",
      "Epoch 3/200\n",
      "264/264 [==============================] - 1s 3ms/step - loss: 0.5939 - binary_accuracy: 0.6174 - recall_m: 0.3199 - val_loss: 0.5846 - val_binary_accuracy: 0.6111 - val_recall_m: 0.2608\n",
      "Epoch 4/200\n",
      "264/264 [==============================] - 1s 3ms/step - loss: 0.5642 - binary_accuracy: 0.6250 - recall_m: 0.3064 - val_loss: 0.5664 - val_binary_accuracy: 0.6429 - val_recall_m: 0.3764\n",
      "Epoch 5/200\n",
      "264/264 [==============================] - 1s 3ms/step - loss: 0.5558 - binary_accuracy: 0.6498 - recall_m: 0.4346 - val_loss: 0.5511 - val_binary_accuracy: 0.6719 - val_recall_m: 0.4679\n",
      "Epoch 6/200\n",
      "264/264 [==============================] - 1s 3ms/step - loss: 0.5277 - binary_accuracy: 0.6899 - recall_m: 0.5141 - val_loss: 0.5428 - val_binary_accuracy: 0.6885 - val_recall_m: 0.5636\n",
      "Epoch 7/200\n",
      "264/264 [==============================] - 1s 3ms/step - loss: 0.5021 - binary_accuracy: 0.7172 - recall_m: 0.5783 - val_loss: 0.5227 - val_binary_accuracy: 0.6942 - val_recall_m: 0.5909\n",
      "Epoch 8/200\n",
      "264/264 [==============================] - 1s 3ms/step - loss: 0.4889 - binary_accuracy: 0.7303 - recall_m: 0.6044 - val_loss: 0.5166 - val_binary_accuracy: 0.6895 - val_recall_m: 0.5105\n",
      "Epoch 9/200\n",
      "264/264 [==============================] - 1s 3ms/step - loss: 0.4790 - binary_accuracy: 0.7313 - recall_m: 0.6035 - val_loss: 0.5144 - val_binary_accuracy: 0.7118 - val_recall_m: 0.6514\n",
      "Epoch 10/200\n",
      "264/264 [==============================] - 1s 3ms/step - loss: 0.4486 - binary_accuracy: 0.7694 - recall_m: 0.6864 - val_loss: 0.5201 - val_binary_accuracy: 0.7175 - val_recall_m: 0.6350\n",
      "Epoch 11/200\n",
      "264/264 [==============================] - 1s 3ms/step - loss: 0.4435 - binary_accuracy: 0.7665 - recall_m: 0.6942 - val_loss: 0.5128 - val_binary_accuracy: 0.7056 - val_recall_m: 0.5816\n",
      "Epoch 12/200\n",
      "264/264 [==============================] - 1s 3ms/step - loss: 0.4334 - binary_accuracy: 0.7769 - recall_m: 0.6895 - val_loss: 0.5144 - val_binary_accuracy: 0.7194 - val_recall_m: 0.6291\n",
      "Epoch 13/200\n",
      "264/264 [==============================] - 1s 3ms/step - loss: 0.4167 - binary_accuracy: 0.7908 - recall_m: 0.7103 - val_loss: 0.5303 - val_binary_accuracy: 0.7270 - val_recall_m: 0.6174\n",
      "Epoch 14/200\n",
      "264/264 [==============================] - 1s 3ms/step - loss: 0.4230 - binary_accuracy: 0.7816 - recall_m: 0.7080 - val_loss: 0.5170 - val_binary_accuracy: 0.7232 - val_recall_m: 0.6199\n",
      "Epoch 15/200\n",
      "264/264 [==============================] - 1s 3ms/step - loss: 0.4051 - binary_accuracy: 0.8014 - recall_m: 0.7242 - val_loss: 0.5127 - val_binary_accuracy: 0.7241 - val_recall_m: 0.6179\n",
      "Epoch 16/200\n",
      "264/264 [==============================] - 1s 3ms/step - loss: 0.3836 - binary_accuracy: 0.8092 - recall_m: 0.7328 - val_loss: 0.5109 - val_binary_accuracy: 0.7241 - val_recall_m: 0.6138\n",
      "Epoch 17/200\n",
      "264/264 [==============================] - 1s 3ms/step - loss: 0.3863 - binary_accuracy: 0.8099 - recall_m: 0.7471 - val_loss: 0.5042 - val_binary_accuracy: 0.7369 - val_recall_m: 0.6557\n",
      "Epoch 18/200\n",
      "264/264 [==============================] - 1s 3ms/step - loss: 0.3736 - binary_accuracy: 0.8150 - recall_m: 0.7376 - val_loss: 0.5208 - val_binary_accuracy: 0.7317 - val_recall_m: 0.6449\n",
      "Epoch 19/200\n",
      "264/264 [==============================] - 1s 3ms/step - loss: 0.3593 - binary_accuracy: 0.8276 - recall_m: 0.7684 - val_loss: 0.5307 - val_binary_accuracy: 0.7336 - val_recall_m: 0.6461\n",
      "Epoch 20/200\n",
      "264/264 [==============================] - 1s 3ms/step - loss: 0.3471 - binary_accuracy: 0.8302 - recall_m: 0.7713 - val_loss: 0.5621 - val_binary_accuracy: 0.7369 - val_recall_m: 0.7089\n",
      "Epoch 21/200\n",
      "264/264 [==============================] - 1s 3ms/step - loss: 0.3356 - binary_accuracy: 0.8424 - recall_m: 0.7800 - val_loss: 0.5327 - val_binary_accuracy: 0.7184 - val_recall_m: 0.6342\n",
      "Epoch 22/200\n",
      "264/264 [==============================] - 1s 3ms/step - loss: 0.3301 - binary_accuracy: 0.8417 - recall_m: 0.7813 - val_loss: 0.5504 - val_binary_accuracy: 0.7270 - val_recall_m: 0.6665\n",
      "Epoch 23/200\n",
      "264/264 [==============================] - 1s 3ms/step - loss: 0.3182 - binary_accuracy: 0.8467 - recall_m: 0.7932 - val_loss: 0.5310 - val_binary_accuracy: 0.7469 - val_recall_m: 0.6767\n",
      "Epoch 24/200\n",
      "264/264 [==============================] - 1s 3ms/step - loss: 0.3125 - binary_accuracy: 0.8581 - recall_m: 0.8093 - val_loss: 0.5582 - val_binary_accuracy: 0.7365 - val_recall_m: 0.6952\n",
      "Epoch 25/200\n",
      "264/264 [==============================] - 1s 3ms/step - loss: 0.3059 - binary_accuracy: 0.8581 - recall_m: 0.8061 - val_loss: 0.5914 - val_binary_accuracy: 0.7431 - val_recall_m: 0.7021\n",
      "Epoch 26/200\n",
      "264/264 [==============================] - 1s 3ms/step - loss: 0.2958 - binary_accuracy: 0.8647 - recall_m: 0.8208 - val_loss: 0.5687 - val_binary_accuracy: 0.7417 - val_recall_m: 0.6935\n",
      "Epoch 27/200\n",
      "264/264 [==============================] - 1s 3ms/step - loss: 0.2855 - binary_accuracy: 0.8674 - recall_m: 0.8168 - val_loss: 0.6080 - val_binary_accuracy: 0.7407 - val_recall_m: 0.7227\n",
      "Epoch 28/200\n",
      "264/264 [==============================] - 1s 3ms/step - loss: 0.2826 - binary_accuracy: 0.8722 - recall_m: 0.8242 - val_loss: 0.6021 - val_binary_accuracy: 0.7512 - val_recall_m: 0.7176\n",
      "Epoch 29/200\n",
      "264/264 [==============================] - 1s 3ms/step - loss: 0.2582 - binary_accuracy: 0.8851 - recall_m: 0.8468 - val_loss: 0.6251 - val_binary_accuracy: 0.7384 - val_recall_m: 0.6820\n",
      "Epoch 30/200\n",
      "264/264 [==============================] - 1s 3ms/step - loss: 0.2482 - binary_accuracy: 0.8902 - recall_m: 0.8550 - val_loss: 0.5978 - val_binary_accuracy: 0.7536 - val_recall_m: 0.7463\n",
      "Epoch 31/200\n",
      "264/264 [==============================] - 1s 3ms/step - loss: 0.2531 - binary_accuracy: 0.8850 - recall_m: 0.8555 - val_loss: 0.6561 - val_binary_accuracy: 0.7455 - val_recall_m: 0.7262\n",
      "Epoch 32/200\n",
      "264/264 [==============================] - 1s 3ms/step - loss: 0.2311 - binary_accuracy: 0.8946 - recall_m: 0.8548 - val_loss: 0.6490 - val_binary_accuracy: 0.7564 - val_recall_m: 0.7807\n",
      "Epoch 33/200\n",
      "264/264 [==============================] - 1s 3ms/step - loss: 0.2323 - binary_accuracy: 0.9003 - recall_m: 0.8695 - val_loss: 0.6631 - val_binary_accuracy: 0.7403 - val_recall_m: 0.6941\n",
      "Epoch 34/200\n",
      "264/264 [==============================] - 1s 3ms/step - loss: 0.2122 - binary_accuracy: 0.9078 - recall_m: 0.8741 - val_loss: 0.6434 - val_binary_accuracy: 0.7607 - val_recall_m: 0.7487\n",
      "Epoch 35/200\n",
      "264/264 [==============================] - 1s 3ms/step - loss: 0.2060 - binary_accuracy: 0.9115 - recall_m: 0.8815 - val_loss: 0.7046 - val_binary_accuracy: 0.7512 - val_recall_m: 0.7507\n",
      "Epoch 36/200\n",
      "264/264 [==============================] - 1s 3ms/step - loss: 0.2028 - binary_accuracy: 0.9104 - recall_m: 0.8812 - val_loss: 0.6935 - val_binary_accuracy: 0.7569 - val_recall_m: 0.7170\n",
      "Epoch 37/200\n",
      "264/264 [==============================] - 1s 3ms/step - loss: 0.1886 - binary_accuracy: 0.9234 - recall_m: 0.8981 - val_loss: 0.7400 - val_binary_accuracy: 0.7360 - val_recall_m: 0.6799\n",
      "Epoch 38/200\n",
      "264/264 [==============================] - 1s 3ms/step - loss: 0.2028 - binary_accuracy: 0.9104 - recall_m: 0.8745 - val_loss: 0.7526 - val_binary_accuracy: 0.7469 - val_recall_m: 0.7493\n",
      "Epoch 39/200\n",
      "264/264 [==============================] - 1s 3ms/step - loss: 0.1710 - binary_accuracy: 0.9249 - recall_m: 0.9015 - val_loss: 0.7820 - val_binary_accuracy: 0.7669 - val_recall_m: 0.7608\n",
      "Epoch 40/200\n",
      "264/264 [==============================] - 1s 3ms/step - loss: 0.1769 - binary_accuracy: 0.9221 - recall_m: 0.8955 - val_loss: 0.8080 - val_binary_accuracy: 0.7455 - val_recall_m: 0.6910\n",
      "Epoch 41/200\n",
      "264/264 [==============================] - 1s 3ms/step - loss: 0.1594 - binary_accuracy: 0.9298 - recall_m: 0.8993 - val_loss: 0.7917 - val_binary_accuracy: 0.7517 - val_recall_m: 0.7081\n",
      "Epoch 42/200\n",
      "264/264 [==============================] - 1s 3ms/step - loss: 0.1645 - binary_accuracy: 0.9332 - recall_m: 0.9095 - val_loss: 0.8082 - val_binary_accuracy: 0.7597 - val_recall_m: 0.7605\n",
      "Epoch 43/200\n",
      "264/264 [==============================] - 1s 3ms/step - loss: 0.1536 - binary_accuracy: 0.9348 - recall_m: 0.9075 - val_loss: 0.8338 - val_binary_accuracy: 0.7531 - val_recall_m: 0.7464\n",
      "Epoch 44/200\n",
      "264/264 [==============================] - 1s 3ms/step - loss: 0.1450 - binary_accuracy: 0.9334 - recall_m: 0.9027 - val_loss: 0.7944 - val_binary_accuracy: 0.7540 - val_recall_m: 0.7071\n",
      "Epoch 45/200\n",
      "264/264 [==============================] - 1s 3ms/step - loss: 0.1455 - binary_accuracy: 0.9381 - recall_m: 0.9170 - val_loss: 0.8763 - val_binary_accuracy: 0.7602 - val_recall_m: 0.7459\n",
      "Epoch 46/200\n",
      "264/264 [==============================] - 1s 3ms/step - loss: 0.1313 - binary_accuracy: 0.9417 - recall_m: 0.9207 - val_loss: 0.8861 - val_binary_accuracy: 0.7569 - val_recall_m: 0.7269\n",
      "Epoch 47/200\n",
      "264/264 [==============================] - 1s 3ms/step - loss: 0.1295 - binary_accuracy: 0.9489 - recall_m: 0.9269 - val_loss: 0.8834 - val_binary_accuracy: 0.7621 - val_recall_m: 0.7751\n",
      "Epoch 48/200\n",
      "264/264 [==============================] - 1s 3ms/step - loss: 0.1308 - binary_accuracy: 0.9433 - recall_m: 0.9233 - val_loss: 0.9057 - val_binary_accuracy: 0.7659 - val_recall_m: 0.7578\n",
      "Epoch 49/200\n",
      "264/264 [==============================] - 1s 3ms/step - loss: 0.1279 - binary_accuracy: 0.9448 - recall_m: 0.9233 - val_loss: 0.9507 - val_binary_accuracy: 0.7441 - val_recall_m: 0.7207\n",
      "Epoch 50/200\n",
      "264/264 [==============================] - 1s 3ms/step - loss: 0.1199 - binary_accuracy: 0.9468 - recall_m: 0.9322 - val_loss: 0.8894 - val_binary_accuracy: 0.7550 - val_recall_m: 0.7378\n",
      "Epoch 51/200\n",
      "264/264 [==============================] - 1s 3ms/step - loss: 0.1216 - binary_accuracy: 0.9497 - recall_m: 0.9331 - val_loss: 0.9374 - val_binary_accuracy: 0.7626 - val_recall_m: 0.8192\n",
      "Epoch 52/200\n",
      "264/264 [==============================] - 1s 3ms/step - loss: 0.1372 - binary_accuracy: 0.9440 - recall_m: 0.9300 - val_loss: 0.9777 - val_binary_accuracy: 0.7479 - val_recall_m: 0.7698\n",
      "Epoch 53/200\n",
      "264/264 [==============================] - 1s 3ms/step - loss: 0.0997 - binary_accuracy: 0.9567 - recall_m: 0.9449 - val_loss: 0.9157 - val_binary_accuracy: 0.7545 - val_recall_m: 0.7479\n",
      "Epoch 54/200\n",
      "264/264 [==============================] - 1s 3ms/step - loss: 0.1053 - binary_accuracy: 0.9572 - recall_m: 0.9421 - val_loss: 1.1228 - val_binary_accuracy: 0.7574 - val_recall_m: 0.7904\n",
      "Epoch 55/200\n",
      "264/264 [==============================] - 1s 3ms/step - loss: 0.1117 - binary_accuracy: 0.9522 - recall_m: 0.9400 - val_loss: 1.0420 - val_binary_accuracy: 0.7650 - val_recall_m: 0.7951\n",
      "Epoch 56/200\n",
      "264/264 [==============================] - 1s 3ms/step - loss: 0.0973 - binary_accuracy: 0.9610 - recall_m: 0.9458 - val_loss: 1.0608 - val_binary_accuracy: 0.7574 - val_recall_m: 0.7836\n",
      "Epoch 57/200\n",
      "264/264 [==============================] - 1s 3ms/step - loss: 0.0871 - binary_accuracy: 0.9623 - recall_m: 0.9485 - val_loss: 1.0345 - val_binary_accuracy: 0.7612 - val_recall_m: 0.7745\n",
      "Epoch 58/200\n",
      "264/264 [==============================] - 1s 3ms/step - loss: 0.1107 - binary_accuracy: 0.9565 - recall_m: 0.9441 - val_loss: 1.0708 - val_binary_accuracy: 0.7502 - val_recall_m: 0.7321\n",
      "Epoch 59/200\n",
      "264/264 [==============================] - 1s 3ms/step - loss: 0.0979 - binary_accuracy: 0.9593 - recall_m: 0.9440 - val_loss: 1.0648 - val_binary_accuracy: 0.7602 - val_recall_m: 0.7686\n",
      "Epoch 60/200\n",
      "264/264 [==============================] - 1s 3ms/step - loss: 0.1348 - binary_accuracy: 0.9525 - recall_m: 0.9394 - val_loss: 0.9847 - val_binary_accuracy: 0.7555 - val_recall_m: 0.7626\n",
      "Epoch 61/200\n",
      "264/264 [==============================] - 1s 3ms/step - loss: 0.1119 - binary_accuracy: 0.9558 - recall_m: 0.9350 - val_loss: 1.1363 - val_binary_accuracy: 0.7559 - val_recall_m: 0.7821\n",
      "Epoch 62/200\n",
      "264/264 [==============================] - 1s 3ms/step - loss: 0.0931 - binary_accuracy: 0.9643 - recall_m: 0.9540 - val_loss: 1.1207 - val_binary_accuracy: 0.7645 - val_recall_m: 0.7643\n",
      "Epoch 63/200\n",
      "264/264 [==============================] - 1s 3ms/step - loss: 0.0867 - binary_accuracy: 0.9655 - recall_m: 0.9565 - val_loss: 1.1815 - val_binary_accuracy: 0.7588 - val_recall_m: 0.8026\n",
      "Epoch 64/200\n",
      "264/264 [==============================] - 1s 3ms/step - loss: 0.0836 - binary_accuracy: 0.9677 - recall_m: 0.9592 - val_loss: 1.1102 - val_binary_accuracy: 0.7702 - val_recall_m: 0.7906\n",
      "Epoch 65/200\n",
      "264/264 [==============================] - 1s 3ms/step - loss: 0.0633 - binary_accuracy: 0.9757 - recall_m: 0.9675 - val_loss: 1.1755 - val_binary_accuracy: 0.7607 - val_recall_m: 0.7988\n",
      "Epoch 66/200\n",
      "264/264 [==============================] - 1s 3ms/step - loss: 0.0882 - binary_accuracy: 0.9648 - recall_m: 0.9556 - val_loss: 1.1907 - val_binary_accuracy: 0.7621 - val_recall_m: 0.7692\n",
      "Epoch 67/200\n",
      "264/264 [==============================] - 1s 3ms/step - loss: 0.0874 - binary_accuracy: 0.9658 - recall_m: 0.9546 - val_loss: 1.1353 - val_binary_accuracy: 0.7673 - val_recall_m: 0.7699\n",
      "Epoch 68/200\n",
      "264/264 [==============================] - 1s 3ms/step - loss: 0.0794 - binary_accuracy: 0.9665 - recall_m: 0.9580 - val_loss: 1.1557 - val_binary_accuracy: 0.7555 - val_recall_m: 0.7736\n",
      "Epoch 69/200\n",
      "264/264 [==============================] - 1s 3ms/step - loss: 0.0655 - binary_accuracy: 0.9728 - recall_m: 0.9641 - val_loss: 1.2071 - val_binary_accuracy: 0.7521 - val_recall_m: 0.7763\n",
      "Epoch 70/200\n",
      "264/264 [==============================] - 1s 3ms/step - loss: 0.0804 - binary_accuracy: 0.9681 - recall_m: 0.9592 - val_loss: 1.2338 - val_binary_accuracy: 0.7403 - val_recall_m: 0.7370\n",
      "Epoch 71/200\n",
      "264/264 [==============================] - 1s 3ms/step - loss: 0.0682 - binary_accuracy: 0.9714 - recall_m: 0.9582 - val_loss: 1.2857 - val_binary_accuracy: 0.7502 - val_recall_m: 0.7723\n",
      "Epoch 72/200\n",
      "264/264 [==============================] - 1s 3ms/step - loss: 0.0597 - binary_accuracy: 0.9763 - recall_m: 0.9668 - val_loss: 1.1653 - val_binary_accuracy: 0.7564 - val_recall_m: 0.7482\n",
      "Epoch 73/200\n",
      "264/264 [==============================] - 1s 3ms/step - loss: 0.0795 - binary_accuracy: 0.9655 - recall_m: 0.9561 - val_loss: 1.1870 - val_binary_accuracy: 0.7555 - val_recall_m: 0.7746\n",
      "Epoch 74/200\n",
      "264/264 [==============================] - 1s 3ms/step - loss: 0.0681 - binary_accuracy: 0.9725 - recall_m: 0.9643 - val_loss: 1.1485 - val_binary_accuracy: 0.7578 - val_recall_m: 0.7620\n",
      "Epoch 75/200\n",
      "264/264 [==============================] - 1s 3ms/step - loss: 0.0686 - binary_accuracy: 0.9746 - recall_m: 0.9692 - val_loss: 1.1970 - val_binary_accuracy: 0.7659 - val_recall_m: 0.8036\n",
      "Epoch 76/200\n",
      "264/264 [==============================] - 1s 3ms/step - loss: 0.0747 - binary_accuracy: 0.9716 - recall_m: 0.9659 - val_loss: 1.3145 - val_binary_accuracy: 0.7607 - val_recall_m: 0.7831\n",
      "Epoch 77/200\n",
      "264/264 [==============================] - 1s 3ms/step - loss: 0.0837 - binary_accuracy: 0.9674 - recall_m: 0.9587 - val_loss: 1.2765 - val_binary_accuracy: 0.7498 - val_recall_m: 0.7322\n",
      "Epoch 78/200\n",
      "264/264 [==============================] - 1s 3ms/step - loss: 0.0788 - binary_accuracy: 0.9706 - recall_m: 0.9632 - val_loss: 1.1677 - val_binary_accuracy: 0.7574 - val_recall_m: 0.7922\n",
      "Epoch 79/200\n",
      "264/264 [==============================] - 1s 3ms/step - loss: 0.0720 - binary_accuracy: 0.9720 - recall_m: 0.9674 - val_loss: 1.2465 - val_binary_accuracy: 0.7493 - val_recall_m: 0.7863\n",
      "Epoch 80/200\n",
      "264/264 [==============================] - 1s 3ms/step - loss: 0.0629 - binary_accuracy: 0.9779 - recall_m: 0.9726 - val_loss: 1.2849 - val_binary_accuracy: 0.7602 - val_recall_m: 0.7714\n",
      "Epoch 81/200\n",
      "264/264 [==============================] - 1s 3ms/step - loss: 0.0654 - binary_accuracy: 0.9737 - recall_m: 0.9647 - val_loss: 1.2163 - val_binary_accuracy: 0.7626 - val_recall_m: 0.7804\n",
      "Epoch 82/200\n",
      "264/264 [==============================] - 1s 3ms/step - loss: 0.0722 - binary_accuracy: 0.9747 - recall_m: 0.9673 - val_loss: 1.2070 - val_binary_accuracy: 0.7626 - val_recall_m: 0.8069\n",
      "Epoch 83/200\n",
      "264/264 [==============================] - 1s 3ms/step - loss: 0.0494 - binary_accuracy: 0.9817 - recall_m: 0.9768 - val_loss: 1.2885 - val_binary_accuracy: 0.7702 - val_recall_m: 0.7899\n",
      "Epoch 84/200\n",
      "264/264 [==============================] - 1s 3ms/step - loss: 0.0592 - binary_accuracy: 0.9790 - recall_m: 0.9703 - val_loss: 1.3400 - val_binary_accuracy: 0.7464 - val_recall_m: 0.7847\n",
      "Epoch 85/200\n",
      "264/264 [==============================] - 1s 3ms/step - loss: 0.0913 - binary_accuracy: 0.9637 - recall_m: 0.9559 - val_loss: 1.2962 - val_binary_accuracy: 0.7559 - val_recall_m: 0.7670\n",
      "Epoch 86/200\n",
      "264/264 [==============================] - 1s 3ms/step - loss: 0.0592 - binary_accuracy: 0.9766 - recall_m: 0.9706 - val_loss: 1.3822 - val_binary_accuracy: 0.7593 - val_recall_m: 0.7811\n",
      "Epoch 87/200\n",
      "264/264 [==============================] - 1s 3ms/step - loss: 0.0622 - binary_accuracy: 0.9800 - recall_m: 0.9754 - val_loss: 1.3150 - val_binary_accuracy: 0.7602 - val_recall_m: 0.7743\n",
      "Epoch 88/200\n",
      "264/264 [==============================] - 1s 3ms/step - loss: 0.0525 - binary_accuracy: 0.9808 - recall_m: 0.9779 - val_loss: 1.3150 - val_binary_accuracy: 0.7664 - val_recall_m: 0.8044\n",
      "Epoch 89/200\n",
      "264/264 [==============================] - 1s 3ms/step - loss: 0.0703 - binary_accuracy: 0.9723 - recall_m: 0.9686 - val_loss: 1.2748 - val_binary_accuracy: 0.7635 - val_recall_m: 0.7831\n",
      "Epoch 90/200\n",
      "264/264 [==============================] - 1s 3ms/step - loss: 0.0482 - binary_accuracy: 0.9839 - recall_m: 0.9828 - val_loss: 1.3068 - val_binary_accuracy: 0.7688 - val_recall_m: 0.7798\n",
      "Epoch 91/200\n",
      "264/264 [==============================] - 1s 3ms/step - loss: 0.0708 - binary_accuracy: 0.9731 - recall_m: 0.9654 - val_loss: 1.3096 - val_binary_accuracy: 0.7678 - val_recall_m: 0.7776\n",
      "Epoch 92/200\n",
      "264/264 [==============================] - 1s 3ms/step - loss: 0.0759 - binary_accuracy: 0.9759 - recall_m: 0.9714 - val_loss: 1.3954 - val_binary_accuracy: 0.7778 - val_recall_m: 0.7925\n",
      "Epoch 93/200\n",
      "264/264 [==============================] - 1s 3ms/step - loss: 0.0298 - binary_accuracy: 0.9904 - recall_m: 0.9892 - val_loss: 1.3983 - val_binary_accuracy: 0.7607 - val_recall_m: 0.7645\n",
      "Epoch 94/200\n",
      "264/264 [==============================] - 1s 3ms/step - loss: 0.0728 - binary_accuracy: 0.9738 - recall_m: 0.9703 - val_loss: 1.2213 - val_binary_accuracy: 0.7635 - val_recall_m: 0.7985\n",
      "Epoch 95/200\n",
      "264/264 [==============================] - 1s 3ms/step - loss: 0.0464 - binary_accuracy: 0.9821 - recall_m: 0.9747 - val_loss: 1.3191 - val_binary_accuracy: 0.7616 - val_recall_m: 0.7701\n",
      "Epoch 96/200\n",
      "264/264 [==============================] - 1s 3ms/step - loss: 0.0462 - binary_accuracy: 0.9811 - recall_m: 0.9750 - val_loss: 1.4287 - val_binary_accuracy: 0.7654 - val_recall_m: 0.7791\n",
      "Epoch 97/200\n",
      "264/264 [==============================] - 1s 3ms/step - loss: 0.0531 - binary_accuracy: 0.9818 - recall_m: 0.9782 - val_loss: 1.2206 - val_binary_accuracy: 0.7645 - val_recall_m: 0.7916\n",
      "Epoch 98/200\n",
      "264/264 [==============================] - 1s 3ms/step - loss: 0.0489 - binary_accuracy: 0.9842 - recall_m: 0.9786 - val_loss: 1.3530 - val_binary_accuracy: 0.7749 - val_recall_m: 0.7944\n",
      "Epoch 99/200\n",
      "264/264 [==============================] - 1s 3ms/step - loss: 0.0348 - binary_accuracy: 0.9883 - recall_m: 0.9847 - val_loss: 1.3409 - val_binary_accuracy: 0.7664 - val_recall_m: 0.7891\n",
      "Epoch 100/200\n",
      "264/264 [==============================] - 1s 3ms/step - loss: 0.0800 - binary_accuracy: 0.9735 - recall_m: 0.9690 - val_loss: 1.1627 - val_binary_accuracy: 0.7721 - val_recall_m: 0.7907\n",
      "Epoch 101/200\n",
      "264/264 [==============================] - 1s 3ms/step - loss: 0.0334 - binary_accuracy: 0.9877 - recall_m: 0.9831 - val_loss: 1.4243 - val_binary_accuracy: 0.7707 - val_recall_m: 0.7767\n",
      "Epoch 102/200\n",
      "264/264 [==============================] - 1s 3ms/step - loss: 0.0454 - binary_accuracy: 0.9845 - recall_m: 0.9809 - val_loss: 1.3697 - val_binary_accuracy: 0.7531 - val_recall_m: 0.7439\n",
      "Epoch 103/200\n",
      "264/264 [==============================] - 1s 3ms/step - loss: 0.0565 - binary_accuracy: 0.9807 - recall_m: 0.9760 - val_loss: 1.2787 - val_binary_accuracy: 0.7673 - val_recall_m: 0.8062\n",
      "Epoch 104/200\n",
      "264/264 [==============================] - 1s 3ms/step - loss: 0.0410 - binary_accuracy: 0.9856 - recall_m: 0.9819 - val_loss: 1.2961 - val_binary_accuracy: 0.7778 - val_recall_m: 0.7934\n",
      "Epoch 105/200\n",
      "264/264 [==============================] - 1s 3ms/step - loss: 0.0611 - binary_accuracy: 0.9786 - recall_m: 0.9751 - val_loss: 1.3501 - val_binary_accuracy: 0.7612 - val_recall_m: 0.7788\n",
      "Epoch 106/200\n",
      "264/264 [==============================] - 1s 3ms/step - loss: 0.0517 - binary_accuracy: 0.9815 - recall_m: 0.9771 - val_loss: 1.2819 - val_binary_accuracy: 0.7507 - val_recall_m: 0.7261\n",
      "Epoch 107/200\n",
      "264/264 [==============================] - 1s 3ms/step - loss: 0.0536 - binary_accuracy: 0.9805 - recall_m: 0.9731 - val_loss: 1.4234 - val_binary_accuracy: 0.7602 - val_recall_m: 0.7854\n",
      "Epoch 108/200\n",
      "264/264 [==============================] - 1s 3ms/step - loss: 0.0219 - binary_accuracy: 0.9932 - recall_m: 0.9915 - val_loss: 1.3720 - val_binary_accuracy: 0.7678 - val_recall_m: 0.7909\n",
      "Epoch 109/200\n",
      "264/264 [==============================] - 1s 3ms/step - loss: 0.0820 - binary_accuracy: 0.9683 - recall_m: 0.9646 - val_loss: 1.3189 - val_binary_accuracy: 0.7707 - val_recall_m: 0.7978\n",
      "Epoch 110/200\n",
      "264/264 [==============================] - 1s 3ms/step - loss: 0.0436 - binary_accuracy: 0.9841 - recall_m: 0.9802 - val_loss: 1.2983 - val_binary_accuracy: 0.7640 - val_recall_m: 0.8039\n",
      "Epoch 111/200\n",
      "264/264 [==============================] - 1s 3ms/step - loss: 0.0341 - binary_accuracy: 0.9877 - recall_m: 0.9840 - val_loss: 1.4258 - val_binary_accuracy: 0.7593 - val_recall_m: 0.8092\n",
      "Epoch 112/200\n",
      "264/264 [==============================] - 1s 3ms/step - loss: 0.0475 - binary_accuracy: 0.9840 - recall_m: 0.9830 - val_loss: 1.4050 - val_binary_accuracy: 0.7678 - val_recall_m: 0.8020\n",
      "Epoch 113/200\n",
      "264/264 [==============================] - 1s 3ms/step - loss: 0.0569 - binary_accuracy: 0.9819 - recall_m: 0.9800 - val_loss: 1.2295 - val_binary_accuracy: 0.7669 - val_recall_m: 0.7783\n",
      "Epoch 114/200\n",
      "264/264 [==============================] - 1s 3ms/step - loss: 0.0299 - binary_accuracy: 0.9901 - recall_m: 0.9850 - val_loss: 1.4768 - val_binary_accuracy: 0.7702 - val_recall_m: 0.7802\n",
      "Epoch 115/200\n",
      "264/264 [==============================] - 1s 3ms/step - loss: 0.0294 - binary_accuracy: 0.9880 - recall_m: 0.9853 - val_loss: 1.3912 - val_binary_accuracy: 0.7759 - val_recall_m: 0.8250\n",
      "Epoch 116/200\n",
      "264/264 [==============================] - 1s 3ms/step - loss: 0.0506 - binary_accuracy: 0.9836 - recall_m: 0.9814 - val_loss: 1.3596 - val_binary_accuracy: 0.7536 - val_recall_m: 0.7693\n",
      "Epoch 117/200\n",
      "264/264 [==============================] - 1s 3ms/step - loss: 0.0408 - binary_accuracy: 0.9880 - recall_m: 0.9845 - val_loss: 1.3746 - val_binary_accuracy: 0.7593 - val_recall_m: 0.7764\n",
      "Epoch 118/200\n",
      "264/264 [==============================] - 1s 3ms/step - loss: 0.0627 - binary_accuracy: 0.9785 - recall_m: 0.9739 - val_loss: 1.3259 - val_binary_accuracy: 0.7730 - val_recall_m: 0.8383\n",
      "Epoch 119/200\n",
      "264/264 [==============================] - 1s 3ms/step - loss: 0.0449 - binary_accuracy: 0.9837 - recall_m: 0.9786 - val_loss: 1.3125 - val_binary_accuracy: 0.7754 - val_recall_m: 0.7640\n",
      "Epoch 120/200\n",
      "264/264 [==============================] - 1s 3ms/step - loss: 0.0463 - binary_accuracy: 0.9856 - recall_m: 0.9814 - val_loss: 1.3760 - val_binary_accuracy: 0.7692 - val_recall_m: 0.7773\n",
      "Epoch 121/200\n",
      "264/264 [==============================] - 1s 3ms/step - loss: 0.0454 - binary_accuracy: 0.9861 - recall_m: 0.9833 - val_loss: 1.3687 - val_binary_accuracy: 0.7650 - val_recall_m: 0.8090\n",
      "Epoch 122/200\n",
      "264/264 [==============================] - 1s 3ms/step - loss: 0.0519 - binary_accuracy: 0.9820 - recall_m: 0.9788 - val_loss: 1.3761 - val_binary_accuracy: 0.7678 - val_recall_m: 0.7853\n",
      "Epoch 123/200\n",
      "264/264 [==============================] - 1s 3ms/step - loss: 0.0317 - binary_accuracy: 0.9883 - recall_m: 0.9853 - val_loss: 1.5099 - val_binary_accuracy: 0.7749 - val_recall_m: 0.8090\n",
      "Epoch 124/200\n",
      "264/264 [==============================] - 1s 3ms/step - loss: 0.0179 - binary_accuracy: 0.9942 - recall_m: 0.9927 - val_loss: 1.5822 - val_binary_accuracy: 0.7569 - val_recall_m: 0.7823\n",
      "Epoch 125/200\n",
      "264/264 [==============================] - 1s 3ms/step - loss: 0.0418 - binary_accuracy: 0.9843 - recall_m: 0.9802 - val_loss: 1.4115 - val_binary_accuracy: 0.7640 - val_recall_m: 0.7875\n",
      "Epoch 126/200\n",
      "264/264 [==============================] - 1s 3ms/step - loss: 0.0417 - binary_accuracy: 0.9857 - recall_m: 0.9826 - val_loss: 1.4151 - val_binary_accuracy: 0.7631 - val_recall_m: 0.7871\n",
      "Epoch 127/200\n",
      "264/264 [==============================] - 1s 3ms/step - loss: 0.0519 - binary_accuracy: 0.9824 - recall_m: 0.9812 - val_loss: 1.3782 - val_binary_accuracy: 0.7759 - val_recall_m: 0.7990\n",
      "Epoch 128/200\n",
      "264/264 [==============================] - 1s 4ms/step - loss: 0.0368 - binary_accuracy: 0.9872 - recall_m: 0.9829 - val_loss: 1.2618 - val_binary_accuracy: 0.7749 - val_recall_m: 0.7864\n",
      "Epoch 129/200\n",
      "264/264 [==============================] - 1s 3ms/step - loss: 0.0345 - binary_accuracy: 0.9881 - recall_m: 0.9842 - val_loss: 1.4179 - val_binary_accuracy: 0.7773 - val_recall_m: 0.7928\n",
      "Epoch 130/200\n",
      "264/264 [==============================] - 1s 3ms/step - loss: 0.0403 - binary_accuracy: 0.9871 - recall_m: 0.9851 - val_loss: 1.2912 - val_binary_accuracy: 0.7621 - val_recall_m: 0.7950\n",
      "Epoch 131/200\n",
      "264/264 [==============================] - 1s 3ms/step - loss: 0.0312 - binary_accuracy: 0.9902 - recall_m: 0.9877 - val_loss: 1.2719 - val_binary_accuracy: 0.7616 - val_recall_m: 0.7615\n",
      "Epoch 132/200\n",
      "264/264 [==============================] - 1s 3ms/step - loss: 0.0395 - binary_accuracy: 0.9871 - recall_m: 0.9807 - val_loss: 1.3594 - val_binary_accuracy: 0.7711 - val_recall_m: 0.7890\n",
      "Epoch 133/200\n",
      "264/264 [==============================] - 1s 3ms/step - loss: 0.0270 - binary_accuracy: 0.9918 - recall_m: 0.9908 - val_loss: 1.5022 - val_binary_accuracy: 0.7631 - val_recall_m: 0.7810\n",
      "Epoch 134/200\n",
      "264/264 [==============================] - 1s 3ms/step - loss: 0.0417 - binary_accuracy: 0.9851 - recall_m: 0.9810 - val_loss: 1.2842 - val_binary_accuracy: 0.7702 - val_recall_m: 0.7746\n",
      "Epoch 135/200\n",
      "264/264 [==============================] - 1s 3ms/step - loss: 0.0425 - binary_accuracy: 0.9846 - recall_m: 0.9814 - val_loss: 1.4176 - val_binary_accuracy: 0.7654 - val_recall_m: 0.7863\n",
      "Epoch 136/200\n",
      "264/264 [==============================] - 1s 3ms/step - loss: 0.0545 - binary_accuracy: 0.9808 - recall_m: 0.9788 - val_loss: 1.2204 - val_binary_accuracy: 0.7616 - val_recall_m: 0.7532\n",
      "Epoch 137/200\n",
      "264/264 [==============================] - 1s 3ms/step - loss: 0.0409 - binary_accuracy: 0.9878 - recall_m: 0.9849 - val_loss: 1.3998 - val_binary_accuracy: 0.7683 - val_recall_m: 0.8015\n",
      "Epoch 138/200\n",
      "264/264 [==============================] - 1s 3ms/step - loss: 0.0155 - binary_accuracy: 0.9948 - recall_m: 0.9923 - val_loss: 1.5077 - val_binary_accuracy: 0.7735 - val_recall_m: 0.7779\n",
      "Epoch 139/200\n",
      "264/264 [==============================] - 1s 3ms/step - loss: 0.0498 - binary_accuracy: 0.9844 - recall_m: 0.9817 - val_loss: 1.3887 - val_binary_accuracy: 0.7730 - val_recall_m: 0.7836\n",
      "Epoch 140/200\n",
      "264/264 [==============================] - 1s 3ms/step - loss: 0.0402 - binary_accuracy: 0.9859 - recall_m: 0.9821 - val_loss: 1.3826 - val_binary_accuracy: 0.7631 - val_recall_m: 0.7922\n",
      "Epoch 141/200\n",
      "264/264 [==============================] - 1s 3ms/step - loss: 0.0341 - binary_accuracy: 0.9872 - recall_m: 0.9847 - val_loss: 1.4101 - val_binary_accuracy: 0.7816 - val_recall_m: 0.8017\n",
      "Epoch 142/200\n",
      "264/264 [==============================] - 1s 3ms/step - loss: 0.0390 - binary_accuracy: 0.9867 - recall_m: 0.9837 - val_loss: 1.2721 - val_binary_accuracy: 0.7673 - val_recall_m: 0.7845\n",
      "Epoch 143/200\n",
      "264/264 [==============================] - 1s 3ms/step - loss: 0.0338 - binary_accuracy: 0.9889 - recall_m: 0.9877 - val_loss: 1.4603 - val_binary_accuracy: 0.7588 - val_recall_m: 0.8170\n",
      "Epoch 144/200\n",
      "264/264 [==============================] - 1s 3ms/step - loss: 0.0464 - binary_accuracy: 0.9855 - recall_m: 0.9838 - val_loss: 1.3358 - val_binary_accuracy: 0.7783 - val_recall_m: 0.7846\n",
      "Epoch 145/200\n",
      "264/264 [==============================] - 1s 3ms/step - loss: 0.0194 - binary_accuracy: 0.9925 - recall_m: 0.9898 - val_loss: 1.5338 - val_binary_accuracy: 0.7654 - val_recall_m: 0.8098\n",
      "Epoch 146/200\n",
      "264/264 [==============================] - 1s 3ms/step - loss: 0.0362 - binary_accuracy: 0.9883 - recall_m: 0.9871 - val_loss: 1.1694 - val_binary_accuracy: 0.7640 - val_recall_m: 0.7719\n",
      "Epoch 147/200\n",
      "264/264 [==============================] - 1s 3ms/step - loss: 0.0394 - binary_accuracy: 0.9861 - recall_m: 0.9851 - val_loss: 1.2833 - val_binary_accuracy: 0.7730 - val_recall_m: 0.8081\n",
      "Epoch 148/200\n",
      "264/264 [==============================] - 1s 3ms/step - loss: 0.0344 - binary_accuracy: 0.9889 - recall_m: 0.9853 - val_loss: 1.3252 - val_binary_accuracy: 0.7635 - val_recall_m: 0.7764\n",
      "Epoch 149/200\n",
      "264/264 [==============================] - 1s 3ms/step - loss: 0.0376 - binary_accuracy: 0.9887 - recall_m: 0.9862 - val_loss: 1.3880 - val_binary_accuracy: 0.7650 - val_recall_m: 0.7829\n",
      "Epoch 150/200\n",
      "264/264 [==============================] - 1s 3ms/step - loss: 0.0399 - binary_accuracy: 0.9856 - recall_m: 0.9835 - val_loss: 1.2935 - val_binary_accuracy: 0.7583 - val_recall_m: 0.7744\n",
      "Epoch 151/200\n",
      "264/264 [==============================] - 1s 3ms/step - loss: 0.0235 - binary_accuracy: 0.9912 - recall_m: 0.9880 - val_loss: 1.4671 - val_binary_accuracy: 0.7721 - val_recall_m: 0.7746\n",
      "Epoch 152/200\n",
      "264/264 [==============================] - 1s 3ms/step - loss: 0.0191 - binary_accuracy: 0.9930 - recall_m: 0.9906 - val_loss: 1.4835 - val_binary_accuracy: 0.7683 - val_recall_m: 0.7772\n",
      "Epoch 153/200\n",
      "264/264 [==============================] - 1s 3ms/step - loss: 0.0216 - binary_accuracy: 0.9924 - recall_m: 0.9896 - val_loss: 1.6599 - val_binary_accuracy: 0.7574 - val_recall_m: 0.8271\n",
      "Epoch 154/200\n",
      "264/264 [==============================] - 1s 3ms/step - loss: 0.0431 - binary_accuracy: 0.9860 - recall_m: 0.9842 - val_loss: 1.2335 - val_binary_accuracy: 0.7669 - val_recall_m: 0.7791\n",
      "Epoch 155/200\n",
      "264/264 [==============================] - 1s 3ms/step - loss: 0.0361 - binary_accuracy: 0.9879 - recall_m: 0.9857 - val_loss: 1.3210 - val_binary_accuracy: 0.7802 - val_recall_m: 0.7941\n",
      "Epoch 156/200\n",
      "264/264 [==============================] - 1s 3ms/step - loss: 0.0135 - binary_accuracy: 0.9951 - recall_m: 0.9927 - val_loss: 1.5904 - val_binary_accuracy: 0.7683 - val_recall_m: 0.8330\n",
      "Epoch 157/200\n",
      "264/264 [==============================] - 1s 3ms/step - loss: 0.0476 - binary_accuracy: 0.9846 - recall_m: 0.9817 - val_loss: 1.3004 - val_binary_accuracy: 0.7745 - val_recall_m: 0.7871\n",
      "Epoch 158/200\n",
      "264/264 [==============================] - 1s 3ms/step - loss: 0.0354 - binary_accuracy: 0.9888 - recall_m: 0.9877 - val_loss: 1.3269 - val_binary_accuracy: 0.7740 - val_recall_m: 0.7843\n",
      "Epoch 159/200\n",
      "264/264 [==============================] - 1s 3ms/step - loss: 0.0211 - binary_accuracy: 0.9925 - recall_m: 0.9900 - val_loss: 1.3616 - val_binary_accuracy: 0.7607 - val_recall_m: 0.7727\n",
      "Epoch 160/200\n",
      "264/264 [==============================] - 1s 3ms/step - loss: 0.0385 - binary_accuracy: 0.9883 - recall_m: 0.9870 - val_loss: 1.2959 - val_binary_accuracy: 0.7764 - val_recall_m: 0.8204\n",
      "Epoch 161/200\n",
      "264/264 [==============================] - 1s 3ms/step - loss: 0.0273 - binary_accuracy: 0.9913 - recall_m: 0.9881 - val_loss: 1.4549 - val_binary_accuracy: 0.7730 - val_recall_m: 0.8028\n",
      "Epoch 162/200\n",
      "264/264 [==============================] - 1s 3ms/step - loss: 0.0310 - binary_accuracy: 0.9902 - recall_m: 0.9874 - val_loss: 1.4841 - val_binary_accuracy: 0.7726 - val_recall_m: 0.8254\n",
      "Epoch 163/200\n",
      "264/264 [==============================] - 1s 3ms/step - loss: 0.0188 - binary_accuracy: 0.9944 - recall_m: 0.9931 - val_loss: 1.4632 - val_binary_accuracy: 0.7635 - val_recall_m: 0.7821\n",
      "Epoch 164/200\n",
      "264/264 [==============================] - 1s 3ms/step - loss: 0.0514 - binary_accuracy: 0.9830 - recall_m: 0.9799 - val_loss: 1.3026 - val_binary_accuracy: 0.7654 - val_recall_m: 0.7716\n",
      "Epoch 165/200\n",
      "264/264 [==============================] - 1s 3ms/step - loss: 0.0288 - binary_accuracy: 0.9908 - recall_m: 0.9894 - val_loss: 1.2975 - val_binary_accuracy: 0.7778 - val_recall_m: 0.7853\n",
      "Epoch 166/200\n",
      "264/264 [==============================] - 1s 3ms/step - loss: 0.0272 - binary_accuracy: 0.9915 - recall_m: 0.9891 - val_loss: 1.3995 - val_binary_accuracy: 0.7640 - val_recall_m: 0.8026\n",
      "Epoch 167/200\n",
      "264/264 [==============================] - 1s 3ms/step - loss: 0.0222 - binary_accuracy: 0.9917 - recall_m: 0.9891 - val_loss: 1.3815 - val_binary_accuracy: 0.7778 - val_recall_m: 0.7900\n",
      "Epoch 168/200\n",
      "264/264 [==============================] - 1s 3ms/step - loss: 0.0354 - binary_accuracy: 0.9888 - recall_m: 0.9856 - val_loss: 1.4304 - val_binary_accuracy: 0.7659 - val_recall_m: 0.7706\n",
      "Epoch 169/200\n",
      "264/264 [==============================] - 1s 3ms/step - loss: 0.0439 - binary_accuracy: 0.9861 - recall_m: 0.9817 - val_loss: 1.3949 - val_binary_accuracy: 0.7716 - val_recall_m: 0.8041\n",
      "Epoch 170/200\n",
      "264/264 [==============================] - 1s 3ms/step - loss: 0.0264 - binary_accuracy: 0.9912 - recall_m: 0.9916 - val_loss: 1.3918 - val_binary_accuracy: 0.7830 - val_recall_m: 0.8027\n",
      "Epoch 171/200\n",
      "264/264 [==============================] - 1s 3ms/step - loss: 0.0190 - binary_accuracy: 0.9943 - recall_m: 0.9922 - val_loss: 1.4580 - val_binary_accuracy: 0.7678 - val_recall_m: 0.8083\n",
      "Epoch 172/200\n",
      "264/264 [==============================] - 1s 3ms/step - loss: 0.0300 - binary_accuracy: 0.9905 - recall_m: 0.9874 - val_loss: 1.5241 - val_binary_accuracy: 0.7778 - val_recall_m: 0.8083\n",
      "Epoch 173/200\n",
      "264/264 [==============================] - 1s 3ms/step - loss: 0.0333 - binary_accuracy: 0.9896 - recall_m: 0.9873 - val_loss: 1.4099 - val_binary_accuracy: 0.7764 - val_recall_m: 0.8118\n",
      "Epoch 174/200\n",
      "264/264 [==============================] - 1s 3ms/step - loss: 0.0217 - binary_accuracy: 0.9929 - recall_m: 0.9908 - val_loss: 1.4847 - val_binary_accuracy: 0.7669 - val_recall_m: 0.7754\n",
      "Epoch 175/200\n",
      "264/264 [==============================] - 1s 3ms/step - loss: 0.0503 - binary_accuracy: 0.9830 - recall_m: 0.9794 - val_loss: 1.3929 - val_binary_accuracy: 0.7707 - val_recall_m: 0.7898\n",
      "Epoch 176/200\n",
      "264/264 [==============================] - 1s 3ms/step - loss: 0.0245 - binary_accuracy: 0.9930 - recall_m: 0.9927 - val_loss: 1.3608 - val_binary_accuracy: 0.7669 - val_recall_m: 0.7929\n",
      "Epoch 177/200\n",
      "264/264 [==============================] - 1s 3ms/step - loss: 0.0387 - binary_accuracy: 0.9896 - recall_m: 0.9891 - val_loss: 1.4402 - val_binary_accuracy: 0.7768 - val_recall_m: 0.8172\n",
      "Epoch 178/200\n",
      "264/264 [==============================] - 1s 4ms/step - loss: 0.0416 - binary_accuracy: 0.9865 - recall_m: 0.9820 - val_loss: 1.3045 - val_binary_accuracy: 0.7740 - val_recall_m: 0.7850\n",
      "Epoch 179/200\n",
      "264/264 [==============================] - 1s 3ms/step - loss: 0.0218 - binary_accuracy: 0.9933 - recall_m: 0.9919 - val_loss: 1.5150 - val_binary_accuracy: 0.7821 - val_recall_m: 0.8131\n",
      "Epoch 180/200\n",
      "264/264 [==============================] - 1s 3ms/step - loss: 0.0446 - binary_accuracy: 0.9852 - recall_m: 0.9830 - val_loss: 1.3945 - val_binary_accuracy: 0.7645 - val_recall_m: 0.8005\n",
      "Epoch 181/200\n",
      "264/264 [==============================] - 1s 3ms/step - loss: 0.0234 - binary_accuracy: 0.9922 - recall_m: 0.9917 - val_loss: 1.5406 - val_binary_accuracy: 0.7764 - val_recall_m: 0.8123\n",
      "Epoch 182/200\n",
      "264/264 [==============================] - 1s 3ms/step - loss: 0.0194 - binary_accuracy: 0.9932 - recall_m: 0.9912 - val_loss: 1.4440 - val_binary_accuracy: 0.7749 - val_recall_m: 0.8152\n",
      "Epoch 183/200\n",
      "264/264 [==============================] - 1s 3ms/step - loss: 0.0433 - binary_accuracy: 0.9854 - recall_m: 0.9854 - val_loss: 1.4092 - val_binary_accuracy: 0.7802 - val_recall_m: 0.8069\n",
      "Epoch 184/200\n",
      "264/264 [==============================] - 1s 3ms/step - loss: 0.0363 - binary_accuracy: 0.9876 - recall_m: 0.9853 - val_loss: 1.3445 - val_binary_accuracy: 0.7778 - val_recall_m: 0.7892\n",
      "Epoch 185/200\n",
      "264/264 [==============================] - 1s 3ms/step - loss: 0.0103 - binary_accuracy: 0.9959 - recall_m: 0.9953 - val_loss: 1.4895 - val_binary_accuracy: 0.7740 - val_recall_m: 0.8065\n",
      "Epoch 186/200\n",
      "264/264 [==============================] - 1s 3ms/step - loss: 0.0243 - binary_accuracy: 0.9915 - recall_m: 0.9896 - val_loss: 1.4326 - val_binary_accuracy: 0.7716 - val_recall_m: 0.7749\n",
      "Epoch 187/200\n",
      "264/264 [==============================] - 1s 3ms/step - loss: 0.0308 - binary_accuracy: 0.9890 - recall_m: 0.9856 - val_loss: 1.3831 - val_binary_accuracy: 0.7692 - val_recall_m: 0.7908\n",
      "Epoch 188/200\n",
      "264/264 [==============================] - 1s 3ms/step - loss: 0.0319 - binary_accuracy: 0.9895 - recall_m: 0.9849 - val_loss: 1.5300 - val_binary_accuracy: 0.7740 - val_recall_m: 0.8109\n",
      "Epoch 189/200\n",
      "264/264 [==============================] - 1s 3ms/step - loss: 0.0232 - binary_accuracy: 0.9926 - recall_m: 0.9906 - val_loss: 1.4881 - val_binary_accuracy: 0.7754 - val_recall_m: 0.8020\n",
      "Epoch 190/200\n",
      "264/264 [==============================] - 1s 3ms/step - loss: 0.0306 - binary_accuracy: 0.9890 - recall_m: 0.9864 - val_loss: 1.2189 - val_binary_accuracy: 0.7735 - val_recall_m: 0.8003\n",
      "Epoch 191/200\n",
      "264/264 [==============================] - 1s 3ms/step - loss: 0.0344 - binary_accuracy: 0.9869 - recall_m: 0.9809 - val_loss: 1.4393 - val_binary_accuracy: 0.7716 - val_recall_m: 0.8328\n",
      "Epoch 192/200\n",
      "264/264 [==============================] - 1s 3ms/step - loss: 0.0254 - binary_accuracy: 0.9917 - recall_m: 0.9919 - val_loss: 1.4801 - val_binary_accuracy: 0.7806 - val_recall_m: 0.8192\n",
      "Epoch 193/200\n",
      "264/264 [==============================] - 1s 3ms/step - loss: 0.0129 - binary_accuracy: 0.9958 - recall_m: 0.9944 - val_loss: 1.5634 - val_binary_accuracy: 0.7669 - val_recall_m: 0.7972\n",
      "Epoch 194/200\n",
      "264/264 [==============================] - 1s 3ms/step - loss: 0.0147 - binary_accuracy: 0.9954 - recall_m: 0.9941 - val_loss: 1.5133 - val_binary_accuracy: 0.7749 - val_recall_m: 0.8058\n",
      "Epoch 195/200\n",
      "264/264 [==============================] - 1s 3ms/step - loss: 0.0443 - binary_accuracy: 0.9847 - recall_m: 0.9816 - val_loss: 1.3495 - val_binary_accuracy: 0.7559 - val_recall_m: 0.7874\n",
      "Epoch 196/200\n",
      "264/264 [==============================] - 1s 3ms/step - loss: 0.0257 - binary_accuracy: 0.9924 - recall_m: 0.9912 - val_loss: 1.5007 - val_binary_accuracy: 0.7787 - val_recall_m: 0.7987\n",
      "Epoch 197/200\n",
      "264/264 [==============================] - 1s 3ms/step - loss: 0.0168 - binary_accuracy: 0.9943 - recall_m: 0.9920 - val_loss: 1.5390 - val_binary_accuracy: 0.7654 - val_recall_m: 0.7749\n",
      "Epoch 198/200\n",
      "264/264 [==============================] - 1s 3ms/step - loss: 0.0357 - binary_accuracy: 0.9881 - recall_m: 0.9866 - val_loss: 1.4163 - val_binary_accuracy: 0.7711 - val_recall_m: 0.7824\n",
      "Epoch 199/200\n",
      "264/264 [==============================] - 1s 3ms/step - loss: 0.0401 - binary_accuracy: 0.9863 - recall_m: 0.9802 - val_loss: 1.4590 - val_binary_accuracy: 0.7645 - val_recall_m: 0.8197\n",
      "Epoch 200/200\n",
      "264/264 [==============================] - 1s 3ms/step - loss: 0.0165 - binary_accuracy: 0.9947 - recall_m: 0.9940 - val_loss: 1.4720 - val_binary_accuracy: 0.7730 - val_recall_m: 0.7788\n"
     ]
    },
    {
     "data": {
      "text/plain": [
       "<tensorflow.python.keras.callbacks.History at 0x7f32bd7f4320>"
      ]
     },
     "execution_count": 417,
     "metadata": {
      "tags": []
     },
     "output_type": "execute_result"
    }
   ],
   "source": [
    "model.compile(\r\n",
    "    optimizer=keras.optimizers.Adam(),\r\n",
    "    loss=keras.losses.BinaryCrossentropy(from_logits=True),\r\n",
    "    metrics=[keras.metrics.BinaryAccuracy(), recall_m],\r\n",
    ")\r\n",
    "\r\n",
    "epochs = 200\r\n",
    "model.fit(x=np.array(X_bin_train),y=np.array(y_bin_train), epochs=epochs, validation_data=(np.array(X_bin_test), np.array(y_bin_test)))\r\n"
   ]
  },
  {
   "cell_type": "code",
   "execution_count": 418,
   "metadata": {
    "id": "k-vMy_jrvkcs"
   },
   "outputs": [],
   "source": [
    "#save weights for later re-use\r\n",
    "model.save_weights('my_weights.h5', overwrite=True)\r\n"
   ]
  },
  {
   "cell_type": "code",
   "execution_count": 419,
   "metadata": {
    "id": "UbVJ_ajiJdMv"
   },
   "outputs": [],
   "source": [
    "#define model that fits weights\r\n",
    "model = keras.Sequential(\r\n",
    "    [\r\n",
    "    layers.Dense(11, activation=\"relu\", name=\"layer_1\",input_shape=(11,)),\r\n",
    "    layers.Dense(150, activation=\"relu\", name=\"layer_2\"),\r\n",
    "    layers.Dense(100, activation=\"relu\", name=\"layer_3\"),\r\n",
    "    layers.Dense(100, activation=\"relu\", name=\"layer_4\"),\r\n",
    "    layers.Dense(100, activation=\"relu\", name=\"layer_5\"),\r\n",
    "    layers.Dense(50, activation=\"relu\", name=\"layer_6\"),\r\n",
    "    layers.Dense(1, name=\"layer_7\")\r\n",
    "    ]\r\n",
    ")\r\n",
    "\r\n",
    "\r\n",
    "\r\n",
    "# Presumably you would want to first load pre-trained weights.\r\n",
    "model.load_weights('my_weights.h5')\r\n",
    "\r\n"
   ]
  },
  {
   "cell_type": "code",
   "execution_count": 420,
   "metadata": {
    "id": "RnHAtG3Cm2Zi"
   },
   "outputs": [],
   "source": [
    "#copy to another model\r\n",
    "t_model = keras.Sequential()\r\n",
    "for layer in model.layers[:-4]: # exclude some last layers\r\n",
    "  t_model.add(layer)\r\n",
    "for layer in t_model.layers:\r\n",
    "  layer.trainable = False\r\n",
    "t_model.add(layers.Dense(100, activation=\"relu\", name=\"layer_8\"))\r\n",
    "t_model.add(layers.Dense(100, activation=\"relu\", name=\"layer_20\"))\r\n",
    "t_model.add(layers.Dense(10, activation=\"relu\", name=\"layer_9\"))\r\n",
    "t_model.add(layers.Dense(6, activation='softmax',name=\"layer_10\"))\r\n"
   ]
  },
  {
   "cell_type": "code",
   "execution_count": 421,
   "metadata": {
    "colab": {
     "base_uri": "https://localhost:8080/"
    },
    "id": "uOYd3m7NFLh9",
    "outputId": "af08c7a1-8aaa-4aa8-cc0c-64cdab2cf1e0"
   },
   "outputs": [
    {
     "name": "stdout",
     "output_type": "stream",
     "text": [
      "Model: \"sequential_40\"\n",
      "_________________________________________________________________\n",
      "Layer (type)                 Output Shape              Param #   \n",
      "=================================================================\n",
      "layer_1 (Dense)              (None, 11)                132       \n",
      "_________________________________________________________________\n",
      "layer_2 (Dense)              (None, 150)               1800      \n",
      "_________________________________________________________________\n",
      "layer_3 (Dense)              (None, 100)               15100     \n",
      "_________________________________________________________________\n",
      "layer_8 (Dense)              (None, 100)               10100     \n",
      "_________________________________________________________________\n",
      "layer_20 (Dense)             (None, 100)               10100     \n",
      "_________________________________________________________________\n",
      "layer_9 (Dense)              (None, 10)                1010      \n",
      "_________________________________________________________________\n",
      "layer_10 (Dense)             (None, 6)                 66        \n",
      "=================================================================\n",
      "Total params: 38,308\n",
      "Trainable params: 21,276\n",
      "Non-trainable params: 17,032\n",
      "_________________________________________________________________\n"
     ]
    }
   ],
   "source": [
    "t_model.summary()"
   ]
  },
  {
   "cell_type": "code",
   "execution_count": 422,
   "metadata": {
    "id": "JDC4ngg4MTPY"
   },
   "outputs": [],
   "source": [
    "from sklearn.preprocessing import OneHotEncoder #one-hot encode \r\n",
    "enc = OneHotEncoder(handle_unknown='ignore')\r\n",
    "enc.fit(np.array(y_res_train).reshape(-1,1))\r\n",
    "y_train_enc = enc.transform(np.array(y_res_train).reshape(-1,1)).toarray()\r\n",
    "y_test_enc = enc.transform(np.array(y_test).reshape(-1,1)).toarray()"
   ]
  },
  {
   "cell_type": "code",
   "execution_count": 423,
   "metadata": {
    "colab": {
     "base_uri": "https://localhost:8080/"
    },
    "id": "WpxzThtUFBNY",
    "outputId": "17861921-e4df-4d2a-f7b3-237cc89a6401"
   },
   "outputs": [
    {
     "name": "stdout",
     "output_type": "stream",
     "text": [
      "Epoch 1/250\n",
      "512/512 [==============================] - 2s 2ms/step - loss: 1.0959 - categorical_accuracy: 0.5688 - recall_m: 0.3710 - val_loss: 0.9337 - val_categorical_accuracy: 0.6350 - val_recall_m: 0.4879\n",
      "Epoch 2/250\n",
      "512/512 [==============================] - 1s 2ms/step - loss: 0.7687 - categorical_accuracy: 0.7135 - recall_m: 0.5838 - val_loss: 0.8981 - val_categorical_accuracy: 0.6528 - val_recall_m: 0.5203\n",
      "Epoch 3/250\n",
      "512/512 [==============================] - 1s 2ms/step - loss: 0.7270 - categorical_accuracy: 0.7226 - recall_m: 0.6006 - val_loss: 0.8510 - val_categorical_accuracy: 0.6667 - val_recall_m: 0.5636\n",
      "Epoch 4/250\n",
      "512/512 [==============================] - 1s 2ms/step - loss: 0.6887 - categorical_accuracy: 0.7437 - recall_m: 0.6317 - val_loss: 0.8321 - val_categorical_accuracy: 0.6678 - val_recall_m: 0.5609\n",
      "Epoch 5/250\n",
      "512/512 [==============================] - 1s 2ms/step - loss: 0.6680 - categorical_accuracy: 0.7451 - recall_m: 0.6449 - val_loss: 0.8109 - val_categorical_accuracy: 0.6778 - val_recall_m: 0.5938\n",
      "Epoch 6/250\n",
      "512/512 [==============================] - 1s 2ms/step - loss: 0.6197 - categorical_accuracy: 0.7685 - recall_m: 0.6783 - val_loss: 0.8177 - val_categorical_accuracy: 0.6817 - val_recall_m: 0.5800\n",
      "Epoch 7/250\n",
      "512/512 [==============================] - 1s 2ms/step - loss: 0.6041 - categorical_accuracy: 0.7708 - recall_m: 0.6807 - val_loss: 0.7498 - val_categorical_accuracy: 0.7089 - val_recall_m: 0.6332\n",
      "Epoch 8/250\n",
      "512/512 [==============================] - 1s 2ms/step - loss: 0.5835 - categorical_accuracy: 0.7818 - recall_m: 0.7004 - val_loss: 0.6991 - val_categorical_accuracy: 0.7417 - val_recall_m: 0.6771\n",
      "Epoch 9/250\n",
      "512/512 [==============================] - 1s 2ms/step - loss: 0.5623 - categorical_accuracy: 0.7859 - recall_m: 0.7119 - val_loss: 0.7191 - val_categorical_accuracy: 0.7250 - val_recall_m: 0.6546\n",
      "Epoch 10/250\n",
      "512/512 [==============================] - 1s 2ms/step - loss: 0.5325 - categorical_accuracy: 0.8022 - recall_m: 0.7340 - val_loss: 0.7375 - val_categorical_accuracy: 0.7244 - val_recall_m: 0.6584\n",
      "Epoch 11/250\n",
      "512/512 [==============================] - 1s 2ms/step - loss: 0.5105 - categorical_accuracy: 0.8121 - recall_m: 0.7475 - val_loss: 0.6525 - val_categorical_accuracy: 0.7556 - val_recall_m: 0.6930\n",
      "Epoch 12/250\n",
      "512/512 [==============================] - 1s 2ms/step - loss: 0.4834 - categorical_accuracy: 0.8261 - recall_m: 0.7687 - val_loss: 0.6522 - val_categorical_accuracy: 0.7633 - val_recall_m: 0.7029\n",
      "Epoch 13/250\n",
      "512/512 [==============================] - 1s 2ms/step - loss: 0.4793 - categorical_accuracy: 0.8218 - recall_m: 0.7688 - val_loss: 0.6418 - val_categorical_accuracy: 0.7583 - val_recall_m: 0.7050\n",
      "Epoch 14/250\n",
      "512/512 [==============================] - 1s 2ms/step - loss: 0.4583 - categorical_accuracy: 0.8319 - recall_m: 0.7838 - val_loss: 0.6539 - val_categorical_accuracy: 0.7628 - val_recall_m: 0.7127\n",
      "Epoch 15/250\n",
      "512/512 [==============================] - 1s 2ms/step - loss: 0.4546 - categorical_accuracy: 0.8365 - recall_m: 0.7839 - val_loss: 0.6432 - val_categorical_accuracy: 0.7628 - val_recall_m: 0.7253\n",
      "Epoch 16/250\n",
      "512/512 [==============================] - 1s 2ms/step - loss: 0.4297 - categorical_accuracy: 0.8430 - recall_m: 0.7975 - val_loss: 0.6449 - val_categorical_accuracy: 0.7667 - val_recall_m: 0.7198\n",
      "Epoch 17/250\n",
      "512/512 [==============================] - 1s 2ms/step - loss: 0.4221 - categorical_accuracy: 0.8510 - recall_m: 0.8038 - val_loss: 0.5973 - val_categorical_accuracy: 0.7928 - val_recall_m: 0.7429\n",
      "Epoch 18/250\n",
      "512/512 [==============================] - 1s 2ms/step - loss: 0.3909 - categorical_accuracy: 0.8615 - recall_m: 0.8198 - val_loss: 0.5945 - val_categorical_accuracy: 0.7789 - val_recall_m: 0.7516\n",
      "Epoch 19/250\n",
      "512/512 [==============================] - 1s 2ms/step - loss: 0.4062 - categorical_accuracy: 0.8564 - recall_m: 0.8177 - val_loss: 0.5986 - val_categorical_accuracy: 0.7883 - val_recall_m: 0.7500\n",
      "Epoch 20/250\n",
      "512/512 [==============================] - 1s 2ms/step - loss: 0.3635 - categorical_accuracy: 0.8694 - recall_m: 0.8348 - val_loss: 0.6045 - val_categorical_accuracy: 0.7861 - val_recall_m: 0.7505\n",
      "Epoch 21/250\n",
      "512/512 [==============================] - 1s 2ms/step - loss: 0.3491 - categorical_accuracy: 0.8756 - recall_m: 0.8451 - val_loss: 0.6076 - val_categorical_accuracy: 0.7939 - val_recall_m: 0.7643\n",
      "Epoch 22/250\n",
      "512/512 [==============================] - 1s 2ms/step - loss: 0.3465 - categorical_accuracy: 0.8767 - recall_m: 0.8468 - val_loss: 0.5891 - val_categorical_accuracy: 0.8128 - val_recall_m: 0.7780\n",
      "Epoch 23/250\n",
      "512/512 [==============================] - 1s 2ms/step - loss: 0.3247 - categorical_accuracy: 0.8862 - recall_m: 0.8575 - val_loss: 0.6201 - val_categorical_accuracy: 0.7989 - val_recall_m: 0.7648\n",
      "Epoch 24/250\n",
      "512/512 [==============================] - 1s 2ms/step - loss: 0.3258 - categorical_accuracy: 0.8836 - recall_m: 0.8548 - val_loss: 0.5653 - val_categorical_accuracy: 0.8083 - val_recall_m: 0.7829\n",
      "Epoch 25/250\n",
      "512/512 [==============================] - 1s 2ms/step - loss: 0.3179 - categorical_accuracy: 0.8880 - recall_m: 0.8576 - val_loss: 0.5988 - val_categorical_accuracy: 0.8122 - val_recall_m: 0.7906\n",
      "Epoch 26/250\n",
      "512/512 [==============================] - 1s 2ms/step - loss: 0.2980 - categorical_accuracy: 0.8980 - recall_m: 0.8737 - val_loss: 0.5500 - val_categorical_accuracy: 0.8333 - val_recall_m: 0.8070\n",
      "Epoch 27/250\n",
      "512/512 [==============================] - 1s 2ms/step - loss: 0.2943 - categorical_accuracy: 0.8941 - recall_m: 0.8720 - val_loss: 0.5350 - val_categorical_accuracy: 0.8361 - val_recall_m: 0.8092\n",
      "Epoch 28/250\n",
      "512/512 [==============================] - 1s 2ms/step - loss: 0.2812 - categorical_accuracy: 0.8997 - recall_m: 0.8783 - val_loss: 0.5984 - val_categorical_accuracy: 0.8144 - val_recall_m: 0.7889\n",
      "Epoch 29/250\n",
      "512/512 [==============================] - 1s 2ms/step - loss: 0.2729 - categorical_accuracy: 0.9063 - recall_m: 0.8832 - val_loss: 0.5559 - val_categorical_accuracy: 0.8311 - val_recall_m: 0.8109\n",
      "Epoch 30/250\n",
      "512/512 [==============================] - 1s 2ms/step - loss: 0.2675 - categorical_accuracy: 0.9096 - recall_m: 0.8888 - val_loss: 0.5613 - val_categorical_accuracy: 0.8328 - val_recall_m: 0.8059\n",
      "Epoch 31/250\n",
      "512/512 [==============================] - 1s 2ms/step - loss: 0.2534 - categorical_accuracy: 0.9124 - recall_m: 0.8947 - val_loss: 0.5233 - val_categorical_accuracy: 0.8494 - val_recall_m: 0.8284\n",
      "Epoch 32/250\n",
      "512/512 [==============================] - 1s 2ms/step - loss: 0.2444 - categorical_accuracy: 0.9158 - recall_m: 0.8954 - val_loss: 0.5196 - val_categorical_accuracy: 0.8489 - val_recall_m: 0.8289\n",
      "Epoch 33/250\n",
      "512/512 [==============================] - 1s 2ms/step - loss: 0.2367 - categorical_accuracy: 0.9214 - recall_m: 0.9029 - val_loss: 0.5838 - val_categorical_accuracy: 0.8400 - val_recall_m: 0.8163\n",
      "Epoch 34/250\n",
      "512/512 [==============================] - 1s 2ms/step - loss: 0.2380 - categorical_accuracy: 0.9170 - recall_m: 0.8977 - val_loss: 0.5284 - val_categorical_accuracy: 0.8483 - val_recall_m: 0.8361\n",
      "Epoch 35/250\n",
      "512/512 [==============================] - 1s 2ms/step - loss: 0.2354 - categorical_accuracy: 0.9193 - recall_m: 0.9032 - val_loss: 0.5638 - val_categorical_accuracy: 0.8472 - val_recall_m: 0.8279\n",
      "Epoch 36/250\n",
      "512/512 [==============================] - 1s 2ms/step - loss: 0.2161 - categorical_accuracy: 0.9258 - recall_m: 0.9091 - val_loss: 0.5234 - val_categorical_accuracy: 0.8594 - val_recall_m: 0.8366\n",
      "Epoch 37/250\n",
      "512/512 [==============================] - 1s 2ms/step - loss: 0.2246 - categorical_accuracy: 0.9193 - recall_m: 0.9031 - val_loss: 0.5591 - val_categorical_accuracy: 0.8567 - val_recall_m: 0.8405\n",
      "Epoch 38/250\n",
      "512/512 [==============================] - 1s 2ms/step - loss: 0.2074 - categorical_accuracy: 0.9299 - recall_m: 0.9137 - val_loss: 0.6101 - val_categorical_accuracy: 0.8356 - val_recall_m: 0.8213\n",
      "Epoch 39/250\n",
      "512/512 [==============================] - 1s 2ms/step - loss: 0.2025 - categorical_accuracy: 0.9333 - recall_m: 0.9193 - val_loss: 0.5199 - val_categorical_accuracy: 0.8661 - val_recall_m: 0.8564\n",
      "Epoch 40/250\n",
      "512/512 [==============================] - 1s 2ms/step - loss: 0.1959 - categorical_accuracy: 0.9331 - recall_m: 0.9206 - val_loss: 0.6022 - val_categorical_accuracy: 0.8517 - val_recall_m: 0.8394\n",
      "Epoch 41/250\n",
      "512/512 [==============================] - 1s 2ms/step - loss: 0.1922 - categorical_accuracy: 0.9360 - recall_m: 0.9230 - val_loss: 0.5773 - val_categorical_accuracy: 0.8539 - val_recall_m: 0.8443\n",
      "Epoch 42/250\n",
      "512/512 [==============================] - 1s 2ms/step - loss: 0.1791 - categorical_accuracy: 0.9381 - recall_m: 0.9258 - val_loss: 0.5701 - val_categorical_accuracy: 0.8611 - val_recall_m: 0.8459\n",
      "Epoch 43/250\n",
      "512/512 [==============================] - 1s 2ms/step - loss: 0.1838 - categorical_accuracy: 0.9384 - recall_m: 0.9278 - val_loss: 0.5390 - val_categorical_accuracy: 0.8667 - val_recall_m: 0.8569\n",
      "Epoch 44/250\n",
      "512/512 [==============================] - 1s 2ms/step - loss: 0.1715 - categorical_accuracy: 0.9419 - recall_m: 0.9300 - val_loss: 0.5851 - val_categorical_accuracy: 0.8572 - val_recall_m: 0.8465\n",
      "Epoch 45/250\n",
      "512/512 [==============================] - 1s 2ms/step - loss: 0.1660 - categorical_accuracy: 0.9418 - recall_m: 0.9326 - val_loss: 0.5582 - val_categorical_accuracy: 0.8689 - val_recall_m: 0.8618\n",
      "Epoch 46/250\n",
      "512/512 [==============================] - 1s 2ms/step - loss: 0.1632 - categorical_accuracy: 0.9434 - recall_m: 0.9339 - val_loss: 0.5474 - val_categorical_accuracy: 0.8728 - val_recall_m: 0.8607\n",
      "Epoch 47/250\n",
      "512/512 [==============================] - 1s 2ms/step - loss: 0.1555 - categorical_accuracy: 0.9463 - recall_m: 0.9374 - val_loss: 0.5976 - val_categorical_accuracy: 0.8700 - val_recall_m: 0.8602\n",
      "Epoch 48/250\n",
      "512/512 [==============================] - 1s 2ms/step - loss: 0.1507 - categorical_accuracy: 0.9486 - recall_m: 0.9390 - val_loss: 0.5772 - val_categorical_accuracy: 0.8733 - val_recall_m: 0.8651\n",
      "Epoch 49/250\n",
      "512/512 [==============================] - 1s 2ms/step - loss: 0.1452 - categorical_accuracy: 0.9507 - recall_m: 0.9431 - val_loss: 0.6275 - val_categorical_accuracy: 0.8600 - val_recall_m: 0.8503\n",
      "Epoch 50/250\n",
      "512/512 [==============================] - 1s 2ms/step - loss: 0.1534 - categorical_accuracy: 0.9463 - recall_m: 0.9381 - val_loss: 0.5940 - val_categorical_accuracy: 0.8761 - val_recall_m: 0.8651\n",
      "Epoch 51/250\n",
      "512/512 [==============================] - 1s 2ms/step - loss: 0.1349 - categorical_accuracy: 0.9561 - recall_m: 0.9483 - val_loss: 0.6080 - val_categorical_accuracy: 0.8744 - val_recall_m: 0.8662\n",
      "Epoch 52/250\n",
      "512/512 [==============================] - 1s 2ms/step - loss: 0.1399 - categorical_accuracy: 0.9549 - recall_m: 0.9473 - val_loss: 0.5933 - val_categorical_accuracy: 0.8806 - val_recall_m: 0.8712\n",
      "Epoch 53/250\n",
      "512/512 [==============================] - 1s 2ms/step - loss: 0.1536 - categorical_accuracy: 0.9479 - recall_m: 0.9417 - val_loss: 0.5914 - val_categorical_accuracy: 0.8822 - val_recall_m: 0.8761\n",
      "Epoch 54/250\n",
      "512/512 [==============================] - 1s 2ms/step - loss: 0.1503 - categorical_accuracy: 0.9506 - recall_m: 0.9420 - val_loss: 0.6263 - val_categorical_accuracy: 0.8683 - val_recall_m: 0.8618\n",
      "Epoch 55/250\n",
      "512/512 [==============================] - 1s 2ms/step - loss: 0.1289 - categorical_accuracy: 0.9576 - recall_m: 0.9512 - val_loss: 0.5746 - val_categorical_accuracy: 0.8939 - val_recall_m: 0.8865\n",
      "Epoch 56/250\n",
      "512/512 [==============================] - 1s 2ms/step - loss: 0.1294 - categorical_accuracy: 0.9533 - recall_m: 0.9466 - val_loss: 0.6601 - val_categorical_accuracy: 0.8767 - val_recall_m: 0.8701\n",
      "Epoch 57/250\n",
      "512/512 [==============================] - 1s 2ms/step - loss: 0.1197 - categorical_accuracy: 0.9603 - recall_m: 0.9536 - val_loss: 0.6504 - val_categorical_accuracy: 0.8767 - val_recall_m: 0.8706\n",
      "Epoch 58/250\n",
      "512/512 [==============================] - 1s 2ms/step - loss: 0.1175 - categorical_accuracy: 0.9617 - recall_m: 0.9558 - val_loss: 0.6536 - val_categorical_accuracy: 0.8789 - val_recall_m: 0.8695\n",
      "Epoch 59/250\n",
      "512/512 [==============================] - 1s 2ms/step - loss: 0.1278 - categorical_accuracy: 0.9560 - recall_m: 0.9492 - val_loss: 0.6547 - val_categorical_accuracy: 0.8750 - val_recall_m: 0.8695\n",
      "Epoch 60/250\n",
      "512/512 [==============================] - 1s 2ms/step - loss: 0.1195 - categorical_accuracy: 0.9630 - recall_m: 0.9568 - val_loss: 0.6219 - val_categorical_accuracy: 0.8911 - val_recall_m: 0.8854\n",
      "Epoch 61/250\n",
      "512/512 [==============================] - 1s 2ms/step - loss: 0.1137 - categorical_accuracy: 0.9621 - recall_m: 0.9567 - val_loss: 0.6693 - val_categorical_accuracy: 0.8872 - val_recall_m: 0.8827\n",
      "Epoch 62/250\n",
      "512/512 [==============================] - 1s 2ms/step - loss: 0.1193 - categorical_accuracy: 0.9626 - recall_m: 0.9570 - val_loss: 0.5628 - val_categorical_accuracy: 0.8967 - val_recall_m: 0.8947\n",
      "Epoch 63/250\n",
      "512/512 [==============================] - 1s 2ms/step - loss: 0.1065 - categorical_accuracy: 0.9661 - recall_m: 0.9616 - val_loss: 0.5881 - val_categorical_accuracy: 0.9056 - val_recall_m: 0.9019\n",
      "Epoch 64/250\n",
      "512/512 [==============================] - 1s 2ms/step - loss: 0.0903 - categorical_accuracy: 0.9713 - recall_m: 0.9664 - val_loss: 0.6829 - val_categorical_accuracy: 0.8789 - val_recall_m: 0.8712\n",
      "Epoch 65/250\n",
      "512/512 [==============================] - 1s 2ms/step - loss: 0.1056 - categorical_accuracy: 0.9647 - recall_m: 0.9602 - val_loss: 0.6876 - val_categorical_accuracy: 0.8806 - val_recall_m: 0.8750\n",
      "Epoch 66/250\n",
      "512/512 [==============================] - 1s 2ms/step - loss: 0.1104 - categorical_accuracy: 0.9634 - recall_m: 0.9593 - val_loss: 0.6873 - val_categorical_accuracy: 0.8861 - val_recall_m: 0.8827\n",
      "Epoch 67/250\n",
      "512/512 [==============================] - 1s 2ms/step - loss: 0.0982 - categorical_accuracy: 0.9698 - recall_m: 0.9651 - val_loss: 0.6623 - val_categorical_accuracy: 0.8994 - val_recall_m: 0.8953\n",
      "Epoch 68/250\n",
      "512/512 [==============================] - 1s 2ms/step - loss: 0.0934 - categorical_accuracy: 0.9713 - recall_m: 0.9672 - val_loss: 0.6889 - val_categorical_accuracy: 0.8911 - val_recall_m: 0.8860\n",
      "Epoch 69/250\n",
      "512/512 [==============================] - 1s 2ms/step - loss: 0.1022 - categorical_accuracy: 0.9674 - recall_m: 0.9626 - val_loss: 0.6670 - val_categorical_accuracy: 0.8944 - val_recall_m: 0.8925\n",
      "Epoch 70/250\n",
      "512/512 [==============================] - 1s 2ms/step - loss: 0.0881 - categorical_accuracy: 0.9705 - recall_m: 0.9671 - val_loss: 0.6245 - val_categorical_accuracy: 0.9106 - val_recall_m: 0.9073\n",
      "Epoch 71/250\n",
      "512/512 [==============================] - 1s 2ms/step - loss: 0.0737 - categorical_accuracy: 0.9779 - recall_m: 0.9753 - val_loss: 0.7068 - val_categorical_accuracy: 0.8928 - val_recall_m: 0.8860\n",
      "Epoch 72/250\n",
      "512/512 [==============================] - 1s 2ms/step - loss: 0.1278 - categorical_accuracy: 0.9567 - recall_m: 0.9523 - val_loss: 0.6619 - val_categorical_accuracy: 0.9056 - val_recall_m: 0.8997\n",
      "Epoch 73/250\n",
      "512/512 [==============================] - 1s 2ms/step - loss: 0.0898 - categorical_accuracy: 0.9717 - recall_m: 0.9697 - val_loss: 0.6607 - val_categorical_accuracy: 0.9072 - val_recall_m: 0.9030\n",
      "Epoch 74/250\n",
      "512/512 [==============================] - 1s 2ms/step - loss: 0.0793 - categorical_accuracy: 0.9743 - recall_m: 0.9701 - val_loss: 0.7073 - val_categorical_accuracy: 0.9039 - val_recall_m: 0.8991\n",
      "Epoch 75/250\n",
      "512/512 [==============================] - 1s 2ms/step - loss: 0.0750 - categorical_accuracy: 0.9758 - recall_m: 0.9726 - val_loss: 0.6453 - val_categorical_accuracy: 0.9083 - val_recall_m: 0.9057\n",
      "Epoch 76/250\n",
      "512/512 [==============================] - 1s 2ms/step - loss: 0.0806 - categorical_accuracy: 0.9723 - recall_m: 0.9690 - val_loss: 0.7137 - val_categorical_accuracy: 0.9000 - val_recall_m: 0.8953\n",
      "Epoch 77/250\n",
      "512/512 [==============================] - 1s 2ms/step - loss: 0.1027 - categorical_accuracy: 0.9664 - recall_m: 0.9609 - val_loss: 0.7941 - val_categorical_accuracy: 0.8833 - val_recall_m: 0.8788\n",
      "Epoch 78/250\n",
      "512/512 [==============================] - 1s 2ms/step - loss: 0.0932 - categorical_accuracy: 0.9706 - recall_m: 0.9674 - val_loss: 0.6914 - val_categorical_accuracy: 0.9044 - val_recall_m: 0.8997\n",
      "Epoch 79/250\n",
      "512/512 [==============================] - 1s 2ms/step - loss: 0.0715 - categorical_accuracy: 0.9768 - recall_m: 0.9736 - val_loss: 0.8090 - val_categorical_accuracy: 0.8922 - val_recall_m: 0.8882\n",
      "Epoch 80/250\n",
      "512/512 [==============================] - 1s 2ms/step - loss: 0.0721 - categorical_accuracy: 0.9779 - recall_m: 0.9752 - val_loss: 0.7057 - val_categorical_accuracy: 0.9089 - val_recall_m: 0.9052\n",
      "Epoch 81/250\n",
      "512/512 [==============================] - 1s 2ms/step - loss: 0.0710 - categorical_accuracy: 0.9777 - recall_m: 0.9751 - val_loss: 0.7024 - val_categorical_accuracy: 0.9028 - val_recall_m: 0.8997\n",
      "Epoch 82/250\n",
      "512/512 [==============================] - 1s 2ms/step - loss: 0.0823 - categorical_accuracy: 0.9746 - recall_m: 0.9721 - val_loss: 0.7020 - val_categorical_accuracy: 0.9039 - val_recall_m: 0.8991\n",
      "Epoch 83/250\n",
      "512/512 [==============================] - 1s 2ms/step - loss: 0.1018 - categorical_accuracy: 0.9684 - recall_m: 0.9652 - val_loss: 0.7217 - val_categorical_accuracy: 0.9000 - val_recall_m: 0.8975\n",
      "Epoch 84/250\n",
      "512/512 [==============================] - 1s 2ms/step - loss: 0.0740 - categorical_accuracy: 0.9765 - recall_m: 0.9741 - val_loss: 0.7927 - val_categorical_accuracy: 0.8939 - val_recall_m: 0.8920\n",
      "Epoch 85/250\n",
      "512/512 [==============================] - 1s 2ms/step - loss: 0.0605 - categorical_accuracy: 0.9803 - recall_m: 0.9783 - val_loss: 0.7473 - val_categorical_accuracy: 0.9039 - val_recall_m: 0.9002\n",
      "Epoch 86/250\n",
      "512/512 [==============================] - 1s 2ms/step - loss: 0.0748 - categorical_accuracy: 0.9748 - recall_m: 0.9727 - val_loss: 0.7403 - val_categorical_accuracy: 0.9089 - val_recall_m: 0.9057\n",
      "Epoch 87/250\n",
      "512/512 [==============================] - 1s 2ms/step - loss: 0.0642 - categorical_accuracy: 0.9794 - recall_m: 0.9770 - val_loss: 0.7613 - val_categorical_accuracy: 0.9056 - val_recall_m: 0.9035\n",
      "Epoch 88/250\n",
      "512/512 [==============================] - 1s 2ms/step - loss: 0.0688 - categorical_accuracy: 0.9772 - recall_m: 0.9745 - val_loss: 0.8341 - val_categorical_accuracy: 0.8917 - val_recall_m: 0.8898\n",
      "Epoch 89/250\n",
      "512/512 [==============================] - 1s 2ms/step - loss: 0.0712 - categorical_accuracy: 0.9767 - recall_m: 0.9748 - val_loss: 0.8347 - val_categorical_accuracy: 0.8928 - val_recall_m: 0.8893\n",
      "Epoch 90/250\n",
      "512/512 [==============================] - 1s 2ms/step - loss: 0.0801 - categorical_accuracy: 0.9724 - recall_m: 0.9695 - val_loss: 0.7577 - val_categorical_accuracy: 0.9111 - val_recall_m: 0.9079\n",
      "Epoch 91/250\n",
      "512/512 [==============================] - 1s 2ms/step - loss: 0.0517 - categorical_accuracy: 0.9845 - recall_m: 0.9810 - val_loss: 0.8212 - val_categorical_accuracy: 0.9028 - val_recall_m: 0.8997\n",
      "Epoch 92/250\n",
      "512/512 [==============================] - 1s 2ms/step - loss: 0.0508 - categorical_accuracy: 0.9840 - recall_m: 0.9822 - val_loss: 0.8009 - val_categorical_accuracy: 0.9017 - val_recall_m: 0.9008\n",
      "Epoch 93/250\n",
      "512/512 [==============================] - 1s 2ms/step - loss: 0.0715 - categorical_accuracy: 0.9768 - recall_m: 0.9743 - val_loss: 0.9523 - val_categorical_accuracy: 0.8744 - val_recall_m: 0.8712\n",
      "Epoch 94/250\n",
      "512/512 [==============================] - 1s 2ms/step - loss: 0.0902 - categorical_accuracy: 0.9727 - recall_m: 0.9701 - val_loss: 0.8093 - val_categorical_accuracy: 0.9072 - val_recall_m: 0.9052\n",
      "Epoch 95/250\n",
      "512/512 [==============================] - 1s 2ms/step - loss: 0.0590 - categorical_accuracy: 0.9821 - recall_m: 0.9810 - val_loss: 0.7989 - val_categorical_accuracy: 0.9094 - val_recall_m: 0.9068\n",
      "Epoch 96/250\n",
      "512/512 [==============================] - 1s 2ms/step - loss: 0.0463 - categorical_accuracy: 0.9862 - recall_m: 0.9843 - val_loss: 0.8211 - val_categorical_accuracy: 0.9056 - val_recall_m: 0.9041\n",
      "Epoch 97/250\n",
      "512/512 [==============================] - 1s 2ms/step - loss: 0.0712 - categorical_accuracy: 0.9793 - recall_m: 0.9767 - val_loss: 0.8940 - val_categorical_accuracy: 0.8950 - val_recall_m: 0.8925\n",
      "Epoch 98/250\n",
      "512/512 [==============================] - 1s 2ms/step - loss: 0.0711 - categorical_accuracy: 0.9795 - recall_m: 0.9775 - val_loss: 0.8975 - val_categorical_accuracy: 0.8822 - val_recall_m: 0.8794\n",
      "Epoch 99/250\n",
      "512/512 [==============================] - 1s 2ms/step - loss: 0.0598 - categorical_accuracy: 0.9811 - recall_m: 0.9791 - val_loss: 0.8573 - val_categorical_accuracy: 0.9011 - val_recall_m: 0.8997\n",
      "Epoch 100/250\n",
      "512/512 [==============================] - 1s 2ms/step - loss: 0.0461 - categorical_accuracy: 0.9865 - recall_m: 0.9853 - val_loss: 1.0022 - val_categorical_accuracy: 0.8861 - val_recall_m: 0.8827\n",
      "Epoch 101/250\n",
      "512/512 [==============================] - 1s 2ms/step - loss: 0.0642 - categorical_accuracy: 0.9798 - recall_m: 0.9778 - val_loss: 1.2190 - val_categorical_accuracy: 0.8906 - val_recall_m: 0.8887\n",
      "Epoch 102/250\n",
      "512/512 [==============================] - 1s 2ms/step - loss: 0.1362 - categorical_accuracy: 0.9692 - recall_m: 0.9668 - val_loss: 0.8822 - val_categorical_accuracy: 0.9028 - val_recall_m: 0.9019\n",
      "Epoch 103/250\n",
      "512/512 [==============================] - 1s 2ms/step - loss: 0.0475 - categorical_accuracy: 0.9849 - recall_m: 0.9833 - val_loss: 0.8765 - val_categorical_accuracy: 0.9056 - val_recall_m: 0.9035\n",
      "Epoch 104/250\n",
      "512/512 [==============================] - 1s 2ms/step - loss: 0.0356 - categorical_accuracy: 0.9902 - recall_m: 0.9883 - val_loss: 0.8925 - val_categorical_accuracy: 0.9122 - val_recall_m: 0.9090\n",
      "Epoch 105/250\n",
      "512/512 [==============================] - 1s 2ms/step - loss: 0.0396 - categorical_accuracy: 0.9879 - recall_m: 0.9872 - val_loss: 0.8811 - val_categorical_accuracy: 0.9044 - val_recall_m: 0.9035\n",
      "Epoch 106/250\n",
      "512/512 [==============================] - 1s 2ms/step - loss: 0.0640 - categorical_accuracy: 0.9798 - recall_m: 0.9773 - val_loss: 0.8537 - val_categorical_accuracy: 0.9056 - val_recall_m: 0.9019\n",
      "Epoch 107/250\n",
      "512/512 [==============================] - 1s 2ms/step - loss: 0.0592 - categorical_accuracy: 0.9815 - recall_m: 0.9793 - val_loss: 0.8216 - val_categorical_accuracy: 0.9028 - val_recall_m: 0.8997\n",
      "Epoch 108/250\n",
      "512/512 [==============================] - 1s 2ms/step - loss: 0.0601 - categorical_accuracy: 0.9803 - recall_m: 0.9792 - val_loss: 0.8334 - val_categorical_accuracy: 0.9106 - val_recall_m: 0.9062\n",
      "Epoch 109/250\n",
      "512/512 [==============================] - 1s 2ms/step - loss: 0.0365 - categorical_accuracy: 0.9895 - recall_m: 0.9886 - val_loss: 0.8495 - val_categorical_accuracy: 0.9128 - val_recall_m: 0.9084\n",
      "Epoch 110/250\n",
      "512/512 [==============================] - 1s 2ms/step - loss: 0.0490 - categorical_accuracy: 0.9843 - recall_m: 0.9824 - val_loss: 0.9693 - val_categorical_accuracy: 0.8933 - val_recall_m: 0.8904\n",
      "Epoch 111/250\n",
      "512/512 [==============================] - 1s 2ms/step - loss: 0.0633 - categorical_accuracy: 0.9790 - recall_m: 0.9771 - val_loss: 0.9747 - val_categorical_accuracy: 0.8906 - val_recall_m: 0.8893\n",
      "Epoch 112/250\n",
      "512/512 [==============================] - 1s 2ms/step - loss: 0.0777 - categorical_accuracy: 0.9755 - recall_m: 0.9737 - val_loss: 0.9185 - val_categorical_accuracy: 0.9156 - val_recall_m: 0.9117\n",
      "Epoch 113/250\n",
      "512/512 [==============================] - 1s 2ms/step - loss: 0.0424 - categorical_accuracy: 0.9866 - recall_m: 0.9856 - val_loss: 0.8740 - val_categorical_accuracy: 0.9111 - val_recall_m: 0.9095\n",
      "Epoch 114/250\n",
      "512/512 [==============================] - 1s 2ms/step - loss: 0.0462 - categorical_accuracy: 0.9866 - recall_m: 0.9854 - val_loss: 0.8813 - val_categorical_accuracy: 0.8983 - val_recall_m: 0.8958\n",
      "Epoch 115/250\n",
      "512/512 [==============================] - 1s 2ms/step - loss: 0.0412 - categorical_accuracy: 0.9871 - recall_m: 0.9858 - val_loss: 1.0099 - val_categorical_accuracy: 0.8894 - val_recall_m: 0.8838\n",
      "Epoch 116/250\n",
      "512/512 [==============================] - 1s 2ms/step - loss: 0.0513 - categorical_accuracy: 0.9822 - recall_m: 0.9812 - val_loss: 0.9357 - val_categorical_accuracy: 0.9083 - val_recall_m: 0.9068\n",
      "Epoch 117/250\n",
      "512/512 [==============================] - 1s 2ms/step - loss: 0.0440 - categorical_accuracy: 0.9866 - recall_m: 0.9855 - val_loss: 0.9119 - val_categorical_accuracy: 0.9117 - val_recall_m: 0.9101\n",
      "Epoch 118/250\n",
      "512/512 [==============================] - 1s 2ms/step - loss: 0.0451 - categorical_accuracy: 0.9876 - recall_m: 0.9865 - val_loss: 1.1164 - val_categorical_accuracy: 0.8878 - val_recall_m: 0.8854\n",
      "Epoch 119/250\n",
      "512/512 [==============================] - 1s 2ms/step - loss: 0.0630 - categorical_accuracy: 0.9808 - recall_m: 0.9800 - val_loss: 0.9439 - val_categorical_accuracy: 0.9072 - val_recall_m: 0.9057\n",
      "Epoch 120/250\n",
      "512/512 [==============================] - 1s 2ms/step - loss: 0.0432 - categorical_accuracy: 0.9856 - recall_m: 0.9836 - val_loss: 0.9062 - val_categorical_accuracy: 0.9139 - val_recall_m: 0.9106\n",
      "Epoch 121/250\n",
      "512/512 [==============================] - 1s 2ms/step - loss: 0.0503 - categorical_accuracy: 0.9841 - recall_m: 0.9830 - val_loss: 0.8881 - val_categorical_accuracy: 0.9139 - val_recall_m: 0.9106\n",
      "Epoch 122/250\n",
      "512/512 [==============================] - 1s 2ms/step - loss: 0.0403 - categorical_accuracy: 0.9865 - recall_m: 0.9851 - val_loss: 0.9509 - val_categorical_accuracy: 0.9122 - val_recall_m: 0.9112\n",
      "Epoch 123/250\n",
      "512/512 [==============================] - 1s 2ms/step - loss: 0.0347 - categorical_accuracy: 0.9887 - recall_m: 0.9878 - val_loss: 0.9719 - val_categorical_accuracy: 0.9117 - val_recall_m: 0.9090\n",
      "Epoch 124/250\n",
      "512/512 [==============================] - 1s 2ms/step - loss: 0.0409 - categorical_accuracy: 0.9875 - recall_m: 0.9871 - val_loss: 0.9850 - val_categorical_accuracy: 0.8983 - val_recall_m: 0.8964\n",
      "Epoch 125/250\n",
      "512/512 [==============================] - 1s 2ms/step - loss: 0.0577 - categorical_accuracy: 0.9808 - recall_m: 0.9791 - val_loss: 1.0361 - val_categorical_accuracy: 0.8989 - val_recall_m: 0.8964\n",
      "Epoch 126/250\n",
      "512/512 [==============================] - 1s 2ms/step - loss: 0.0647 - categorical_accuracy: 0.9817 - recall_m: 0.9810 - val_loss: 0.9911 - val_categorical_accuracy: 0.9083 - val_recall_m: 0.9068\n",
      "Epoch 127/250\n",
      "512/512 [==============================] - 1s 2ms/step - loss: 0.0401 - categorical_accuracy: 0.9879 - recall_m: 0.9874 - val_loss: 1.0251 - val_categorical_accuracy: 0.9144 - val_recall_m: 0.9117\n",
      "Epoch 128/250\n",
      "512/512 [==============================] - 1s 2ms/step - loss: 0.0382 - categorical_accuracy: 0.9899 - recall_m: 0.9886 - val_loss: 1.0005 - val_categorical_accuracy: 0.9106 - val_recall_m: 0.9090\n",
      "Epoch 129/250\n",
      "512/512 [==============================] - 1s 2ms/step - loss: 0.0352 - categorical_accuracy: 0.9896 - recall_m: 0.9886 - val_loss: 0.9972 - val_categorical_accuracy: 0.9167 - val_recall_m: 0.9150\n",
      "Epoch 130/250\n",
      "512/512 [==============================] - 1s 2ms/step - loss: 0.0478 - categorical_accuracy: 0.9851 - recall_m: 0.9835 - val_loss: 1.0016 - val_categorical_accuracy: 0.9172 - val_recall_m: 0.9134\n",
      "Epoch 131/250\n",
      "512/512 [==============================] - 1s 2ms/step - loss: 0.0683 - categorical_accuracy: 0.9791 - recall_m: 0.9779 - val_loss: 0.9786 - val_categorical_accuracy: 0.9161 - val_recall_m: 0.9156\n",
      "Epoch 132/250\n",
      "512/512 [==============================] - 1s 2ms/step - loss: 0.0360 - categorical_accuracy: 0.9877 - recall_m: 0.9870 - val_loss: 1.0466 - val_categorical_accuracy: 0.9067 - val_recall_m: 0.9057\n",
      "Epoch 133/250\n",
      "512/512 [==============================] - 1s 2ms/step - loss: 0.0395 - categorical_accuracy: 0.9887 - recall_m: 0.9869 - val_loss: 0.9909 - val_categorical_accuracy: 0.9100 - val_recall_m: 0.9090\n",
      "Epoch 134/250\n",
      "512/512 [==============================] - 1s 2ms/step - loss: 0.0439 - categorical_accuracy: 0.9882 - recall_m: 0.9875 - val_loss: 0.9636 - val_categorical_accuracy: 0.9122 - val_recall_m: 0.9090\n",
      "Epoch 135/250\n",
      "512/512 [==============================] - 1s 2ms/step - loss: 0.0516 - categorical_accuracy: 0.9853 - recall_m: 0.9845 - val_loss: 1.0061 - val_categorical_accuracy: 0.9117 - val_recall_m: 0.9101\n",
      "Epoch 136/250\n",
      "512/512 [==============================] - 1s 2ms/step - loss: 0.0406 - categorical_accuracy: 0.9879 - recall_m: 0.9870 - val_loss: 0.9529 - val_categorical_accuracy: 0.9128 - val_recall_m: 0.9112\n",
      "Epoch 137/250\n",
      "512/512 [==============================] - 1s 2ms/step - loss: 0.0556 - categorical_accuracy: 0.9817 - recall_m: 0.9804 - val_loss: 1.1531 - val_categorical_accuracy: 0.8989 - val_recall_m: 0.8980\n",
      "Epoch 138/250\n",
      "512/512 [==============================] - 1s 2ms/step - loss: 0.0658 - categorical_accuracy: 0.9809 - recall_m: 0.9801 - val_loss: 0.9808 - val_categorical_accuracy: 0.9161 - val_recall_m: 0.9139\n",
      "Epoch 139/250\n",
      "512/512 [==============================] - 1s 2ms/step - loss: 0.0242 - categorical_accuracy: 0.9923 - recall_m: 0.9919 - val_loss: 1.0091 - val_categorical_accuracy: 0.9167 - val_recall_m: 0.9156\n",
      "Epoch 140/250\n",
      "512/512 [==============================] - 1s 2ms/step - loss: 0.0327 - categorical_accuracy: 0.9909 - recall_m: 0.9902 - val_loss: 1.0221 - val_categorical_accuracy: 0.9139 - val_recall_m: 0.9134\n",
      "Epoch 141/250\n",
      "512/512 [==============================] - 1s 2ms/step - loss: 0.0577 - categorical_accuracy: 0.9847 - recall_m: 0.9843 - val_loss: 1.0453 - val_categorical_accuracy: 0.9111 - val_recall_m: 0.9095\n",
      "Epoch 142/250\n",
      "512/512 [==============================] - 1s 2ms/step - loss: 0.0273 - categorical_accuracy: 0.9914 - recall_m: 0.9910 - val_loss: 1.0438 - val_categorical_accuracy: 0.9139 - val_recall_m: 0.9128\n",
      "Epoch 143/250\n",
      "512/512 [==============================] - 1s 2ms/step - loss: 0.0498 - categorical_accuracy: 0.9857 - recall_m: 0.9846 - val_loss: 0.9768 - val_categorical_accuracy: 0.9228 - val_recall_m: 0.9211\n",
      "Epoch 144/250\n",
      "512/512 [==============================] - 1s 2ms/step - loss: 0.0322 - categorical_accuracy: 0.9899 - recall_m: 0.9892 - val_loss: 1.0627 - val_categorical_accuracy: 0.9144 - val_recall_m: 0.9123\n",
      "Epoch 145/250\n",
      "512/512 [==============================] - 1s 2ms/step - loss: 0.0499 - categorical_accuracy: 0.9863 - recall_m: 0.9856 - val_loss: 1.0311 - val_categorical_accuracy: 0.9078 - val_recall_m: 0.9057\n",
      "Epoch 146/250\n",
      "512/512 [==============================] - 1s 2ms/step - loss: 0.0489 - categorical_accuracy: 0.9842 - recall_m: 0.9836 - val_loss: 0.9960 - val_categorical_accuracy: 0.9144 - val_recall_m: 0.9139\n",
      "Epoch 147/250\n",
      "512/512 [==============================] - 1s 2ms/step - loss: 0.0268 - categorical_accuracy: 0.9912 - recall_m: 0.9906 - val_loss: 1.0310 - val_categorical_accuracy: 0.9211 - val_recall_m: 0.9194\n",
      "Epoch 148/250\n",
      "512/512 [==============================] - 1s 2ms/step - loss: 0.0308 - categorical_accuracy: 0.9904 - recall_m: 0.9897 - val_loss: 1.0564 - val_categorical_accuracy: 0.9083 - val_recall_m: 0.9052\n",
      "Epoch 149/250\n",
      "512/512 [==============================] - 1s 2ms/step - loss: 0.0563 - categorical_accuracy: 0.9850 - recall_m: 0.9843 - val_loss: 1.0637 - val_categorical_accuracy: 0.9133 - val_recall_m: 0.9128\n",
      "Epoch 150/250\n",
      "512/512 [==============================] - 1s 2ms/step - loss: 0.0434 - categorical_accuracy: 0.9865 - recall_m: 0.9854 - val_loss: 1.0454 - val_categorical_accuracy: 0.9189 - val_recall_m: 0.9161\n",
      "Epoch 151/250\n",
      "512/512 [==============================] - 1s 2ms/step - loss: 0.0237 - categorical_accuracy: 0.9933 - recall_m: 0.9932 - val_loss: 1.1280 - val_categorical_accuracy: 0.9089 - val_recall_m: 0.9079\n",
      "Epoch 152/250\n",
      "512/512 [==============================] - 1s 2ms/step - loss: 0.0377 - categorical_accuracy: 0.9893 - recall_m: 0.9882 - val_loss: 1.1131 - val_categorical_accuracy: 0.9106 - val_recall_m: 0.9090\n",
      "Epoch 153/250\n",
      "512/512 [==============================] - 1s 2ms/step - loss: 0.0367 - categorical_accuracy: 0.9876 - recall_m: 0.9865 - val_loss: 1.1085 - val_categorical_accuracy: 0.8994 - val_recall_m: 0.8980\n",
      "Epoch 154/250\n",
      "512/512 [==============================] - 1s 2ms/step - loss: 0.0462 - categorical_accuracy: 0.9854 - recall_m: 0.9846 - val_loss: 1.1616 - val_categorical_accuracy: 0.9028 - val_recall_m: 0.9024\n",
      "Epoch 155/250\n",
      "512/512 [==============================] - 1s 2ms/step - loss: 0.0414 - categorical_accuracy: 0.9885 - recall_m: 0.9880 - val_loss: 1.1165 - val_categorical_accuracy: 0.9044 - val_recall_m: 0.9024\n",
      "Epoch 156/250\n",
      "512/512 [==============================] - 1s 2ms/step - loss: 0.0233 - categorical_accuracy: 0.9934 - recall_m: 0.9926 - val_loss: 1.0116 - val_categorical_accuracy: 0.9244 - val_recall_m: 0.9238\n",
      "Epoch 157/250\n",
      "512/512 [==============================] - 1s 2ms/step - loss: 0.0113 - categorical_accuracy: 0.9973 - recall_m: 0.9972 - val_loss: 1.0488 - val_categorical_accuracy: 0.9189 - val_recall_m: 0.9156\n",
      "Epoch 158/250\n",
      "512/512 [==============================] - 1s 2ms/step - loss: 0.0485 - categorical_accuracy: 0.9850 - recall_m: 0.9846 - val_loss: 1.1403 - val_categorical_accuracy: 0.8956 - val_recall_m: 0.8936\n",
      "Epoch 159/250\n",
      "512/512 [==============================] - 1s 2ms/step - loss: 0.0750 - categorical_accuracy: 0.9804 - recall_m: 0.9788 - val_loss: 1.0807 - val_categorical_accuracy: 0.9156 - val_recall_m: 0.9128\n",
      "Epoch 160/250\n",
      "512/512 [==============================] - 1s 2ms/step - loss: 0.0298 - categorical_accuracy: 0.9917 - recall_m: 0.9911 - val_loss: 1.0396 - val_categorical_accuracy: 0.9139 - val_recall_m: 0.9117\n",
      "Epoch 161/250\n",
      "512/512 [==============================] - 1s 2ms/step - loss: 0.0275 - categorical_accuracy: 0.9914 - recall_m: 0.9911 - val_loss: 1.0620 - val_categorical_accuracy: 0.9139 - val_recall_m: 0.9128\n",
      "Epoch 162/250\n",
      "512/512 [==============================] - 1s 2ms/step - loss: 0.0523 - categorical_accuracy: 0.9830 - recall_m: 0.9818 - val_loss: 1.1296 - val_categorical_accuracy: 0.9100 - val_recall_m: 0.9095\n",
      "Epoch 163/250\n",
      "512/512 [==============================] - 1s 2ms/step - loss: 0.0434 - categorical_accuracy: 0.9867 - recall_m: 0.9862 - val_loss: 1.0572 - val_categorical_accuracy: 0.9189 - val_recall_m: 0.9183\n",
      "Epoch 164/250\n",
      "512/512 [==============================] - 1s 2ms/step - loss: 0.0627 - categorical_accuracy: 0.9818 - recall_m: 0.9812 - val_loss: 1.1424 - val_categorical_accuracy: 0.9094 - val_recall_m: 0.9090\n",
      "Epoch 165/250\n",
      "512/512 [==============================] - 1s 2ms/step - loss: 0.0362 - categorical_accuracy: 0.9902 - recall_m: 0.9896 - val_loss: 1.0462 - val_categorical_accuracy: 0.9261 - val_recall_m: 0.9254\n",
      "Epoch 166/250\n",
      "512/512 [==============================] - 1s 2ms/step - loss: 0.0174 - categorical_accuracy: 0.9958 - recall_m: 0.9957 - val_loss: 1.0881 - val_categorical_accuracy: 0.9194 - val_recall_m: 0.9178\n",
      "Epoch 167/250\n",
      "512/512 [==============================] - 1s 2ms/step - loss: 0.0126 - categorical_accuracy: 0.9971 - recall_m: 0.9965 - val_loss: 1.0831 - val_categorical_accuracy: 0.9167 - val_recall_m: 0.9156\n",
      "Epoch 168/250\n",
      "512/512 [==============================] - 1s 2ms/step - loss: 0.0715 - categorical_accuracy: 0.9811 - recall_m: 0.9799 - val_loss: 1.1138 - val_categorical_accuracy: 0.9022 - val_recall_m: 0.8997\n",
      "Epoch 169/250\n",
      "512/512 [==============================] - 1s 2ms/step - loss: 0.0626 - categorical_accuracy: 0.9799 - recall_m: 0.9790 - val_loss: 1.1692 - val_categorical_accuracy: 0.9089 - val_recall_m: 0.9079\n",
      "Epoch 170/250\n",
      "512/512 [==============================] - 1s 2ms/step - loss: 0.0211 - categorical_accuracy: 0.9945 - recall_m: 0.9943 - val_loss: 1.1283 - val_categorical_accuracy: 0.9094 - val_recall_m: 0.9079\n",
      "Epoch 171/250\n",
      "512/512 [==============================] - 1s 2ms/step - loss: 0.0499 - categorical_accuracy: 0.9870 - recall_m: 0.9862 - val_loss: 1.1424 - val_categorical_accuracy: 0.9139 - val_recall_m: 0.9134\n",
      "Epoch 172/250\n",
      "512/512 [==============================] - 1s 2ms/step - loss: 0.0195 - categorical_accuracy: 0.9948 - recall_m: 0.9941 - val_loss: 1.1522 - val_categorical_accuracy: 0.9178 - val_recall_m: 0.9172\n",
      "Epoch 173/250\n",
      "512/512 [==============================] - 1s 2ms/step - loss: 0.0096 - categorical_accuracy: 0.9975 - recall_m: 0.9973 - val_loss: 1.2552 - val_categorical_accuracy: 0.9083 - val_recall_m: 0.9073\n",
      "Epoch 174/250\n",
      "512/512 [==============================] - 1s 2ms/step - loss: 0.0492 - categorical_accuracy: 0.9830 - recall_m: 0.9826 - val_loss: 1.1677 - val_categorical_accuracy: 0.9061 - val_recall_m: 0.9052\n",
      "Epoch 175/250\n",
      "512/512 [==============================] - 1s 2ms/step - loss: 0.0473 - categorical_accuracy: 0.9879 - recall_m: 0.9869 - val_loss: 1.1006 - val_categorical_accuracy: 0.9156 - val_recall_m: 0.9150\n",
      "Epoch 176/250\n",
      "512/512 [==============================] - 1s 2ms/step - loss: 0.0307 - categorical_accuracy: 0.9908 - recall_m: 0.9905 - val_loss: 1.1816 - val_categorical_accuracy: 0.9133 - val_recall_m: 0.9117\n",
      "Epoch 177/250\n",
      "512/512 [==============================] - 1s 2ms/step - loss: 0.0172 - categorical_accuracy: 0.9950 - recall_m: 0.9945 - val_loss: 1.0848 - val_categorical_accuracy: 0.9217 - val_recall_m: 0.9211\n",
      "Epoch 178/250\n",
      "512/512 [==============================] - 1s 2ms/step - loss: 0.0110 - categorical_accuracy: 0.9972 - recall_m: 0.9970 - val_loss: 1.1198 - val_categorical_accuracy: 0.9067 - val_recall_m: 0.9057\n",
      "Epoch 179/250\n",
      "512/512 [==============================] - 1s 2ms/step - loss: 0.0555 - categorical_accuracy: 0.9836 - recall_m: 0.9830 - val_loss: 1.0805 - val_categorical_accuracy: 0.9233 - val_recall_m: 0.9216\n",
      "Epoch 180/250\n",
      "512/512 [==============================] - 1s 2ms/step - loss: 0.0427 - categorical_accuracy: 0.9879 - recall_m: 0.9876 - val_loss: 1.1573 - val_categorical_accuracy: 0.9189 - val_recall_m: 0.9167\n",
      "Epoch 181/250\n",
      "512/512 [==============================] - 1s 2ms/step - loss: 0.0220 - categorical_accuracy: 0.9937 - recall_m: 0.9937 - val_loss: 1.1143 - val_categorical_accuracy: 0.9117 - val_recall_m: 0.9112\n",
      "Epoch 182/250\n",
      "512/512 [==============================] - 1s 2ms/step - loss: 0.0317 - categorical_accuracy: 0.9895 - recall_m: 0.9892 - val_loss: 1.2127 - val_categorical_accuracy: 0.9039 - val_recall_m: 0.9030\n",
      "Epoch 183/250\n",
      "512/512 [==============================] - 1s 2ms/step - loss: 0.0278 - categorical_accuracy: 0.9914 - recall_m: 0.9906 - val_loss: 1.1536 - val_categorical_accuracy: 0.9167 - val_recall_m: 0.9161\n",
      "Epoch 184/250\n",
      "512/512 [==============================] - 1s 2ms/step - loss: 0.0367 - categorical_accuracy: 0.9889 - recall_m: 0.9886 - val_loss: 1.1883 - val_categorical_accuracy: 0.9150 - val_recall_m: 0.9145\n",
      "Epoch 185/250\n",
      "512/512 [==============================] - 1s 2ms/step - loss: 0.0398 - categorical_accuracy: 0.9893 - recall_m: 0.9887 - val_loss: 1.2241 - val_categorical_accuracy: 0.9144 - val_recall_m: 0.9139\n",
      "Epoch 186/250\n",
      "512/512 [==============================] - 1s 2ms/step - loss: 0.0313 - categorical_accuracy: 0.9912 - recall_m: 0.9909 - val_loss: 1.2407 - val_categorical_accuracy: 0.9150 - val_recall_m: 0.9128\n",
      "Epoch 187/250\n",
      "512/512 [==============================] - 1s 2ms/step - loss: 0.0195 - categorical_accuracy: 0.9948 - recall_m: 0.9946 - val_loss: 1.2830 - val_categorical_accuracy: 0.9156 - val_recall_m: 0.9150\n",
      "Epoch 188/250\n",
      "512/512 [==============================] - 1s 2ms/step - loss: 0.0376 - categorical_accuracy: 0.9893 - recall_m: 0.9887 - val_loss: 1.2251 - val_categorical_accuracy: 0.9139 - val_recall_m: 0.9128\n",
      "Epoch 189/250\n",
      "512/512 [==============================] - 1s 2ms/step - loss: 0.0455 - categorical_accuracy: 0.9859 - recall_m: 0.9852 - val_loss: 1.2493 - val_categorical_accuracy: 0.9161 - val_recall_m: 0.9134\n",
      "Epoch 190/250\n",
      "512/512 [==============================] - 1s 2ms/step - loss: 0.0321 - categorical_accuracy: 0.9923 - recall_m: 0.9918 - val_loss: 1.2035 - val_categorical_accuracy: 0.9144 - val_recall_m: 0.9139\n",
      "Epoch 191/250\n",
      "512/512 [==============================] - 1s 2ms/step - loss: 0.0184 - categorical_accuracy: 0.9938 - recall_m: 0.9936 - val_loss: 1.2997 - val_categorical_accuracy: 0.9067 - val_recall_m: 0.9057\n",
      "Epoch 192/250\n",
      "512/512 [==============================] - 1s 2ms/step - loss: 0.0532 - categorical_accuracy: 0.9860 - recall_m: 0.9852 - val_loss: 1.3289 - val_categorical_accuracy: 0.8933 - val_recall_m: 0.8920\n",
      "Epoch 193/250\n",
      "512/512 [==============================] - 1s 2ms/step - loss: 0.0370 - categorical_accuracy: 0.9889 - recall_m: 0.9886 - val_loss: 1.1862 - val_categorical_accuracy: 0.9178 - val_recall_m: 0.9167\n",
      "Epoch 194/250\n",
      "512/512 [==============================] - 1s 2ms/step - loss: 0.0244 - categorical_accuracy: 0.9945 - recall_m: 0.9941 - val_loss: 1.1659 - val_categorical_accuracy: 0.9172 - val_recall_m: 0.9150\n",
      "Epoch 195/250\n",
      "512/512 [==============================] - 1s 2ms/step - loss: 0.0172 - categorical_accuracy: 0.9956 - recall_m: 0.9953 - val_loss: 1.1911 - val_categorical_accuracy: 0.9217 - val_recall_m: 0.9200\n",
      "Epoch 196/250\n",
      "512/512 [==============================] - 1s 2ms/step - loss: 0.0148 - categorical_accuracy: 0.9969 - recall_m: 0.9966 - val_loss: 1.3206 - val_categorical_accuracy: 0.8928 - val_recall_m: 0.8920\n",
      "Epoch 197/250\n",
      "512/512 [==============================] - 1s 2ms/step - loss: 0.0984 - categorical_accuracy: 0.9730 - recall_m: 0.9728 - val_loss: 1.2402 - val_categorical_accuracy: 0.9056 - val_recall_m: 0.9052\n",
      "Epoch 198/250\n",
      "512/512 [==============================] - 1s 2ms/step - loss: 0.0427 - categorical_accuracy: 0.9904 - recall_m: 0.9904 - val_loss: 1.2484 - val_categorical_accuracy: 0.9128 - val_recall_m: 0.9106\n",
      "Epoch 199/250\n",
      "512/512 [==============================] - 1s 2ms/step - loss: 0.0194 - categorical_accuracy: 0.9948 - recall_m: 0.9946 - val_loss: 1.2696 - val_categorical_accuracy: 0.9089 - val_recall_m: 0.9079\n",
      "Epoch 200/250\n",
      "512/512 [==============================] - 1s 2ms/step - loss: 0.0368 - categorical_accuracy: 0.9890 - recall_m: 0.9883 - val_loss: 1.2439 - val_categorical_accuracy: 0.9161 - val_recall_m: 0.9150\n",
      "Epoch 201/250\n",
      "512/512 [==============================] - 1s 2ms/step - loss: 0.0185 - categorical_accuracy: 0.9956 - recall_m: 0.9954 - val_loss: 1.2693 - val_categorical_accuracy: 0.9156 - val_recall_m: 0.9139\n",
      "Epoch 202/250\n",
      "512/512 [==============================] - 1s 2ms/step - loss: 0.0303 - categorical_accuracy: 0.9910 - recall_m: 0.9905 - val_loss: 1.1801 - val_categorical_accuracy: 0.9200 - val_recall_m: 0.9194\n",
      "Epoch 203/250\n",
      "512/512 [==============================] - 1s 2ms/step - loss: 0.0148 - categorical_accuracy: 0.9961 - recall_m: 0.9959 - val_loss: 1.3475 - val_categorical_accuracy: 0.9089 - val_recall_m: 0.9068\n",
      "Epoch 204/250\n",
      "512/512 [==============================] - 1s 2ms/step - loss: 0.0340 - categorical_accuracy: 0.9910 - recall_m: 0.9906 - val_loss: 1.2914 - val_categorical_accuracy: 0.9011 - val_recall_m: 0.8958\n",
      "Epoch 205/250\n",
      "512/512 [==============================] - 1s 2ms/step - loss: 0.0446 - categorical_accuracy: 0.9886 - recall_m: 0.9884 - val_loss: 1.2856 - val_categorical_accuracy: 0.9150 - val_recall_m: 0.9139\n",
      "Epoch 206/250\n",
      "512/512 [==============================] - 1s 2ms/step - loss: 0.0211 - categorical_accuracy: 0.9926 - recall_m: 0.9921 - val_loss: 1.2890 - val_categorical_accuracy: 0.9111 - val_recall_m: 0.9101\n",
      "Epoch 207/250\n",
      "512/512 [==============================] - 1s 2ms/step - loss: 0.0179 - categorical_accuracy: 0.9952 - recall_m: 0.9952 - val_loss: 1.2460 - val_categorical_accuracy: 0.9156 - val_recall_m: 0.9139\n",
      "Epoch 208/250\n",
      "512/512 [==============================] - 1s 2ms/step - loss: 0.0283 - categorical_accuracy: 0.9925 - recall_m: 0.9921 - val_loss: 1.3192 - val_categorical_accuracy: 0.9011 - val_recall_m: 0.9008\n",
      "Epoch 209/250\n",
      "512/512 [==============================] - 1s 2ms/step - loss: 0.0467 - categorical_accuracy: 0.9868 - recall_m: 0.9866 - val_loss: 1.3182 - val_categorical_accuracy: 0.9128 - val_recall_m: 0.9101\n",
      "Epoch 210/250\n",
      "512/512 [==============================] - 1s 2ms/step - loss: 0.0365 - categorical_accuracy: 0.9901 - recall_m: 0.9901 - val_loss: 1.2383 - val_categorical_accuracy: 0.9183 - val_recall_m: 0.9172\n",
      "Epoch 211/250\n",
      "512/512 [==============================] - 1s 2ms/step - loss: 0.0158 - categorical_accuracy: 0.9949 - recall_m: 0.9949 - val_loss: 1.2749 - val_categorical_accuracy: 0.9172 - val_recall_m: 0.9156\n",
      "Epoch 212/250\n",
      "512/512 [==============================] - 1s 2ms/step - loss: 0.0219 - categorical_accuracy: 0.9935 - recall_m: 0.9931 - val_loss: 1.3302 - val_categorical_accuracy: 0.9144 - val_recall_m: 0.9134\n",
      "Epoch 213/250\n",
      "512/512 [==============================] - 1s 2ms/step - loss: 0.0251 - categorical_accuracy: 0.9939 - recall_m: 0.9938 - val_loss: 1.3614 - val_categorical_accuracy: 0.8994 - val_recall_m: 0.8980\n",
      "Epoch 214/250\n",
      "512/512 [==============================] - 1s 2ms/step - loss: 0.0416 - categorical_accuracy: 0.9876 - recall_m: 0.9872 - val_loss: 1.3936 - val_categorical_accuracy: 0.9078 - val_recall_m: 0.9068\n",
      "Epoch 215/250\n",
      "512/512 [==============================] - 1s 2ms/step - loss: 0.0276 - categorical_accuracy: 0.9918 - recall_m: 0.9916 - val_loss: 1.3072 - val_categorical_accuracy: 0.9189 - val_recall_m: 0.9178\n",
      "Epoch 216/250\n",
      "512/512 [==============================] - 1s 2ms/step - loss: 0.0084 - categorical_accuracy: 0.9986 - recall_m: 0.9983 - val_loss: 1.3399 - val_categorical_accuracy: 0.9194 - val_recall_m: 0.9167\n",
      "Epoch 217/250\n",
      "512/512 [==============================] - 1s 2ms/step - loss: 0.0229 - categorical_accuracy: 0.9943 - recall_m: 0.9941 - val_loss: 1.3770 - val_categorical_accuracy: 0.8950 - val_recall_m: 0.8947\n",
      "Epoch 218/250\n",
      "512/512 [==============================] - 1s 2ms/step - loss: 0.0578 - categorical_accuracy: 0.9840 - recall_m: 0.9835 - val_loss: 1.2690 - val_categorical_accuracy: 0.9172 - val_recall_m: 0.9167\n",
      "Epoch 219/250\n",
      "512/512 [==============================] - 1s 2ms/step - loss: 0.0302 - categorical_accuracy: 0.9919 - recall_m: 0.9916 - val_loss: 1.3145 - val_categorical_accuracy: 0.9144 - val_recall_m: 0.9134\n",
      "Epoch 220/250\n",
      "512/512 [==============================] - 1s 2ms/step - loss: 0.0217 - categorical_accuracy: 0.9948 - recall_m: 0.9947 - val_loss: 1.3622 - val_categorical_accuracy: 0.9128 - val_recall_m: 0.9106\n",
      "Epoch 221/250\n",
      "512/512 [==============================] - 1s 2ms/step - loss: 0.0309 - categorical_accuracy: 0.9917 - recall_m: 0.9914 - val_loss: 1.1864 - val_categorical_accuracy: 0.9178 - val_recall_m: 0.9172\n",
      "Epoch 222/250\n",
      "512/512 [==============================] - 1s 2ms/step - loss: 0.0191 - categorical_accuracy: 0.9945 - recall_m: 0.9943 - val_loss: 1.2720 - val_categorical_accuracy: 0.9156 - val_recall_m: 0.9150\n",
      "Epoch 223/250\n",
      "512/512 [==============================] - 1s 3ms/step - loss: 0.0150 - categorical_accuracy: 0.9963 - recall_m: 0.9961 - val_loss: 1.3222 - val_categorical_accuracy: 0.9200 - val_recall_m: 0.9183\n",
      "Epoch 224/250\n",
      "512/512 [==============================] - 1s 2ms/step - loss: 0.0313 - categorical_accuracy: 0.9919 - recall_m: 0.9918 - val_loss: 1.2946 - val_categorical_accuracy: 0.9111 - val_recall_m: 0.9101\n",
      "Epoch 225/250\n",
      "512/512 [==============================] - 1s 2ms/step - loss: 0.0900 - categorical_accuracy: 0.9764 - recall_m: 0.9758 - val_loss: 1.2524 - val_categorical_accuracy: 0.9194 - val_recall_m: 0.9156\n",
      "Epoch 226/250\n",
      "512/512 [==============================] - 1s 2ms/step - loss: 0.0211 - categorical_accuracy: 0.9937 - recall_m: 0.9929 - val_loss: 1.2900 - val_categorical_accuracy: 0.9222 - val_recall_m: 0.9216\n",
      "Epoch 227/250\n",
      "512/512 [==============================] - 1s 2ms/step - loss: 0.0104 - categorical_accuracy: 0.9977 - recall_m: 0.9977 - val_loss: 1.2689 - val_categorical_accuracy: 0.9206 - val_recall_m: 0.9194\n",
      "Epoch 228/250\n",
      "512/512 [==============================] - 1s 2ms/step - loss: 0.0097 - categorical_accuracy: 0.9984 - recall_m: 0.9983 - val_loss: 1.2399 - val_categorical_accuracy: 0.9239 - val_recall_m: 0.9232\n",
      "Epoch 229/250\n",
      "512/512 [==============================] - 1s 2ms/step - loss: 0.0045 - categorical_accuracy: 0.9993 - recall_m: 0.9993 - val_loss: 1.2952 - val_categorical_accuracy: 0.9150 - val_recall_m: 0.9145\n",
      "Epoch 230/250\n",
      "512/512 [==============================] - 1s 2ms/step - loss: 0.0723 - categorical_accuracy: 0.9796 - recall_m: 0.9789 - val_loss: 1.4457 - val_categorical_accuracy: 0.9000 - val_recall_m: 0.8980\n",
      "Epoch 231/250\n",
      "512/512 [==============================] - 1s 2ms/step - loss: 0.0570 - categorical_accuracy: 0.9838 - recall_m: 0.9833 - val_loss: 1.2719 - val_categorical_accuracy: 0.9161 - val_recall_m: 0.9156\n",
      "Epoch 232/250\n",
      "512/512 [==============================] - 1s 2ms/step - loss: 0.0284 - categorical_accuracy: 0.9938 - recall_m: 0.9930 - val_loss: 1.2185 - val_categorical_accuracy: 0.9250 - val_recall_m: 0.9243\n",
      "Epoch 233/250\n",
      "512/512 [==============================] - 1s 2ms/step - loss: 0.0038 - categorical_accuracy: 0.9994 - recall_m: 0.9994 - val_loss: 1.2320 - val_categorical_accuracy: 0.9228 - val_recall_m: 0.9221\n",
      "Epoch 234/250\n",
      "512/512 [==============================] - 1s 2ms/step - loss: 0.0030 - categorical_accuracy: 0.9997 - recall_m: 0.9996 - val_loss: 1.2433 - val_categorical_accuracy: 0.9233 - val_recall_m: 0.9211\n",
      "Epoch 235/250\n",
      "512/512 [==============================] - 1s 2ms/step - loss: 0.0673 - categorical_accuracy: 0.9822 - recall_m: 0.9815 - val_loss: 1.2710 - val_categorical_accuracy: 0.9206 - val_recall_m: 0.9183\n",
      "Epoch 236/250\n",
      "512/512 [==============================] - 1s 2ms/step - loss: 0.0320 - categorical_accuracy: 0.9892 - recall_m: 0.9887 - val_loss: 1.2190 - val_categorical_accuracy: 0.9228 - val_recall_m: 0.9221\n",
      "Epoch 237/250\n",
      "512/512 [==============================] - 1s 2ms/step - loss: 0.0120 - categorical_accuracy: 0.9972 - recall_m: 0.9972 - val_loss: 1.2646 - val_categorical_accuracy: 0.9239 - val_recall_m: 0.9227\n",
      "Epoch 238/250\n",
      "512/512 [==============================] - 1s 2ms/step - loss: 0.0201 - categorical_accuracy: 0.9952 - recall_m: 0.9951 - val_loss: 1.2219 - val_categorical_accuracy: 0.9194 - val_recall_m: 0.9189\n",
      "Epoch 239/250\n",
      "512/512 [==============================] - 1s 2ms/step - loss: 0.0419 - categorical_accuracy: 0.9892 - recall_m: 0.9888 - val_loss: 1.2671 - val_categorical_accuracy: 0.9211 - val_recall_m: 0.9200\n",
      "Epoch 240/250\n",
      "512/512 [==============================] - 1s 2ms/step - loss: 0.0200 - categorical_accuracy: 0.9939 - recall_m: 0.9931 - val_loss: 1.2456 - val_categorical_accuracy: 0.9178 - val_recall_m: 0.9172\n",
      "Epoch 241/250\n",
      "512/512 [==============================] - 1s 2ms/step - loss: 0.0178 - categorical_accuracy: 0.9955 - recall_m: 0.9954 - val_loss: 1.2910 - val_categorical_accuracy: 0.9178 - val_recall_m: 0.9150\n",
      "Epoch 242/250\n",
      "512/512 [==============================] - 1s 2ms/step - loss: 0.0077 - categorical_accuracy: 0.9985 - recall_m: 0.9984 - val_loss: 1.2928 - val_categorical_accuracy: 0.9200 - val_recall_m: 0.9183\n",
      "Epoch 243/250\n",
      "512/512 [==============================] - 1s 2ms/step - loss: 0.0377 - categorical_accuracy: 0.9893 - recall_m: 0.9891 - val_loss: 1.2398 - val_categorical_accuracy: 0.9206 - val_recall_m: 0.9200\n",
      "Epoch 244/250\n",
      "512/512 [==============================] - 1s 2ms/step - loss: 0.0272 - categorical_accuracy: 0.9925 - recall_m: 0.9925 - val_loss: 1.3120 - val_categorical_accuracy: 0.9133 - val_recall_m: 0.9128\n",
      "Epoch 245/250\n",
      "512/512 [==============================] - 1s 2ms/step - loss: 0.0380 - categorical_accuracy: 0.9890 - recall_m: 0.9887 - val_loss: 1.3340 - val_categorical_accuracy: 0.9150 - val_recall_m: 0.9139\n",
      "Epoch 246/250\n",
      "512/512 [==============================] - 1s 2ms/step - loss: 0.0186 - categorical_accuracy: 0.9945 - recall_m: 0.9943 - val_loss: 1.2928 - val_categorical_accuracy: 0.9194 - val_recall_m: 0.9183\n",
      "Epoch 247/250\n",
      "512/512 [==============================] - 1s 2ms/step - loss: 0.0335 - categorical_accuracy: 0.9931 - recall_m: 0.9925 - val_loss: 1.3683 - val_categorical_accuracy: 0.9106 - val_recall_m: 0.9101\n",
      "Epoch 248/250\n",
      "512/512 [==============================] - 1s 2ms/step - loss: 0.0296 - categorical_accuracy: 0.9916 - recall_m: 0.9912 - val_loss: 1.3476 - val_categorical_accuracy: 0.9139 - val_recall_m: 0.9134\n",
      "Epoch 249/250\n",
      "512/512 [==============================] - 1s 2ms/step - loss: 0.0162 - categorical_accuracy: 0.9958 - recall_m: 0.9957 - val_loss: 1.2943 - val_categorical_accuracy: 0.9206 - val_recall_m: 0.9200\n",
      "Epoch 250/250\n",
      "512/512 [==============================] - 1s 2ms/step - loss: 0.0061 - categorical_accuracy: 0.9989 - recall_m: 0.9987 - val_loss: 1.3427 - val_categorical_accuracy: 0.9222 - val_recall_m: 0.9211\n"
     ]
    }
   ],
   "source": [
    "# Recompile and train (this will only update the weights of non-first layers.\r\n",
    "t_model.compile(\r\n",
    "    optimizer=keras.optimizers.Adam(),\r\n",
    "    loss=keras.losses.CategoricalCrossentropy(),\r\n",
    "    metrics=[keras.metrics.CategoricalAccuracy(), recall_m],\r\n",
    ")\r\n",
    "\r\n",
    "epochs = 250\r\n",
    "history2 = t_model.fit(x=np.array(X_res_train),y=np.array(y_train_enc), epochs=epochs, validation_data=(np.array(X_test), np.array(y_test_enc)))\r\n"
   ]
  },
  {
   "cell_type": "code",
   "execution_count": 424,
   "metadata": {
    "colab": {
     "base_uri": "https://localhost:8080/",
     "height": 573
    },
    "id": "_EVXyTnhMDxW",
    "outputId": "0da0e5c0-0e93-49c6-c4a6-4bd5ee3a2857"
   },
   "outputs": [
    {
     "data": {
      "image/png": "[encoded data removed]",
      "text/plain": [
       "<Figure size 432x288 with 1 Axes>"
      ]
     },
     "metadata": {
      "needs_background": "light",
      "tags": []
     },
     "output_type": "display_data"
    },
    {
     "data": {
      "image/png": "[encoded data removed]",
      "text/plain": [
       "<Figure size 432x288 with 1 Axes>"
      ]
     },
     "metadata": {
      "needs_background": "light",
      "tags": []
     },
     "output_type": "display_data"
    }
   ],
   "source": [
    "  # summarize history for accuracy\r\n",
    "plt.plot(history2.history['categorical_accuracy'])\r\n",
    "plt.plot(history2.history['val_categorical_accuracy'])\r\n",
    "plt.title('model accuracy')\r\n",
    "plt.ylabel('accuracy')\r\n",
    "plt.xlabel('epoch')\r\n",
    "plt.legend(['train', 'test'], loc='upper left')\r\n",
    "plt.show()\r\n",
    "# summarize history for loss\r\n",
    "plt.plot(history2.history['loss'])\r\n",
    "plt.plot(history2.history['val_loss'])\r\n",
    "plt.title('model loss')\r\n",
    "plt.ylabel('loss')\r\n",
    "plt.xlabel('epoch')\r\n",
    "plt.legend(['train', 'test'], loc='upper left')\r\n",
    "plt.show()"
   ]
  },
  {
   "cell_type": "code",
   "execution_count": null,
   "metadata": {
    "id": "nJ1Xq8l6Wu24"
   },
   "outputs": [],
   "source": []
  }
 ],
 "metadata": {
  "colab": {
   "collapsed_sections": [],
   "name": "clusters_analysis_snir.ipynb",
   "provenance": []
  },
  "kernelspec": {
   "display_name": "Python 3",
   "language": "python",
   "name": "python3"
  },
  "language_info": {
   "codemirror_mode": {
    "name": "ipython",
    "version": 3
   },
   "file_extension": ".py",
   "mimetype": "text/x-python",
   "name": "python",
   "nbconvert_exporter": "python",
   "pygments_lexer": "ipython3",
   "version": "3.8.6"
  }
 },
 "nbformat": 4,
 "nbformat_minor": 4
}
